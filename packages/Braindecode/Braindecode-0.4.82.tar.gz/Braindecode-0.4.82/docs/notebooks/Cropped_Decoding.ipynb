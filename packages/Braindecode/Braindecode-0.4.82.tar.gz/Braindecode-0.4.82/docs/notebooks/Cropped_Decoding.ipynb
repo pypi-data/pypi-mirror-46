{
 "cells": [
  {
   "cell_type": "code",
   "execution_count": 1,
   "metadata": {
    "collapsed": true,
    "nbsphinx": "hidden"
   },
   "outputs": [],
   "source": [
    "%load_ext autoreload\n",
    "%autoreload 2\n",
    "import os\n",
    "os.sys.path.insert(0, '/home/schirrmr/braindecode/code/braindecode/')"
   ]
  },
  {
   "cell_type": "markdown",
   "metadata": {},
   "source": [
    "# Cropped Decoding"
   ]
  },
  {
   "cell_type": "markdown",
   "metadata": {},
   "source": [
    "Now we will use cropped decoding. Cropped decoding means the ConvNet is trained on time windows/time crops within the trials. We will explain this visually by comparing trialwise to cropped decoding.\n",
    "\n"
   ]
  },
  {
   "cell_type": "markdown",
   "metadata": {},
   "source": [
    "Trialwise Decoding | Cropped Decoding\n",
    "- | - \n",
    "![Trialwise Decoding](./trialwise_explanation.png \"Trialwise Decoding\") | ![Cropped Decoding](./cropped_explanation.png \"Cropped Decoding\")"
   ]
  },
  {
   "cell_type": "markdown",
   "metadata": {},
   "source": [
    "On the left, you see trialwise decoding:\n",
    "\n",
    "1. A complete trial is pushed through the network\n",
    "2. The network produces a prediction\n",
    "3. The prediction is compared to the target (label) for that trial to compute the loss\n"
   ]
  },
  {
   "cell_type": "markdown",
   "metadata": {},
   "source": [
    "On the right, you see cropped decoding:\n",
    "\n",
    "1. Instead of a complete trial, windows within the trial, here called *crops*, are pushed through the network\n",
    "2. For computational efficiency, multiple neighbouring crops are pushed through the network simultaneously (these neighbouring crops are called a *supercrop*)\n",
    "3. Therefore, the network produces multiple predictions (one per crop in the supercrop)\n",
    "4. The individual crop predictions are averaged before computing the loss function\n"
   ]
  },
  {
   "cell_type": "markdown",
   "metadata": {},
   "source": [
    "Notes:\n",
    "\n",
    "* The network architecture implicitly defines the crop size (it is the receptive field size, i.e., the number of timesteps the network uses to make a single prediction)\n",
    "* The supercrop size is a user-defined hyperparameter, called `input_time_length` in Braindecode. It mostly affects runtime (larger supercrop sizes should be faster). As a rule of thumb, you can set it to two times the crop size.\n",
    "* Crop size and supercrop size together define how many predictions the network makes per supercrop:  $\\mathrm{\\#supercrop}-\\mathrm{\\#crop}+1=\\mathrm{\\#predictions}$"
   ]
  },
  {
   "cell_type": "markdown",
   "metadata": {},
   "source": [
    "For cropped decoding, the above training setup is mathematically identical to sampling crops in your dataset, pushing them through the network and training directly on the individual crops. At the same time, the above training setup is much faster as it avoids redundant computations by using dilated convolutions, see our paper [Deep learning with convolutional neural networks for EEG decoding and visualization](https://arxiv.org/abs/1703.05051). However, the two setups are only mathematically identical in case (1) your network does not use any padding and (2) your loss function leads to the same gradients when using the averaged output. The first is true for our shallow and deep ConvNet models and the second is true for the log-softmax outputs and negative log likelihood loss that is typically used for classification in PyTorch."
   ]
  },
  {
   "cell_type": "markdown",
   "metadata": {},
   "source": [
    "Most of the code for cropped decoding is identical to the [Trialwise Decoding Tutorial](Trialwise_Decoding.html), differences are explained in the text."
   ]
  },
  {
   "cell_type": "markdown",
   "metadata": {},
   "source": [
    "## Enable logging"
   ]
  },
  {
   "cell_type": "code",
   "execution_count": 2,
   "metadata": {
    "collapsed": true
   },
   "outputs": [],
   "source": [
    "import logging\n",
    "import importlib\n",
    "importlib.reload(logging) # see https://stackoverflow.com/a/21475297/1469195\n",
    "log = logging.getLogger()\n",
    "log.setLevel('INFO')\n",
    "import sys\n",
    "logging.basicConfig(format='%(asctime)s %(levelname)s : %(message)s',\n",
    "                     level=logging.INFO, stream=sys.stdout)"
   ]
  },
  {
   "cell_type": "markdown",
   "metadata": {},
   "source": [
    "## Load data"
   ]
  },
  {
   "cell_type": "code",
   "execution_count": 3,
   "metadata": {
    "collapsed": true
   },
   "outputs": [],
   "source": [
    "import mne\n",
    "from mne.io import concatenate_raws\n",
    "\n",
    "# 5,6,7,10,13,14 are codes for executed and imagined hands/feet\n",
    "subject_id = 22\n",
    "event_codes = [5,6,9,10,13,14]\n",
    "#event_codes = [3,4,5,6,7,8,9,10,11,12,13,14]\n",
    "\n",
    "# This will download the files if you don't have them yet,\n",
    "# and then return the paths to the files.\n",
    "physionet_paths = mne.datasets.eegbci.load_data(subject_id, event_codes)\n",
    "\n",
    "# Load each of the files\n",
    "parts = [mne.io.read_raw_edf(path, preload=True,stim_channel='auto', verbose='WARNING')\n",
    "         for path in physionet_paths]\n",
    "\n",
    "# Concatenate them\n",
    "raw = concatenate_raws(parts)\n",
    "\n",
    "# Find the events in this dataset\n",
    "events = mne.find_events(raw, shortest_event=0, stim_channel='STI 014')\n",
    "\n",
    "# Use only EEG channels\n",
    "eeg_channel_inds = mne.pick_types(raw.info, meg=False, eeg=True, stim=False, eog=False,\n",
    "                   exclude='bads')\n",
    "\n",
    "# Extract trials, only using EEG channels\n",
    "epoched = mne.Epochs(raw, events, dict(hands_or_left=2, feet_or_right=3), tmin=1, tmax=4.1, proj=False, picks=eeg_channel_inds,\n",
    "                baseline=None, preload=True)"
   ]
  },
  {
   "cell_type": "markdown",
   "metadata": {},
   "source": [
    "## Convert data to Braindecode format"
   ]
  },
  {
   "cell_type": "code",
   "execution_count": 4,
   "metadata": {
    "collapsed": true
   },
   "outputs": [],
   "source": [
    "import numpy as np\n",
    "# Convert data from volt to millivolt\n",
    "# Pytorch expects float32 for input and int64 for labels.\n",
    "X = (epoched.get_data() * 1e6).astype(np.float32)\n",
    "y = (epoched.events[:,2] - 2).astype(np.int64) #2,3 -> 0,1"
   ]
  },
  {
   "cell_type": "code",
   "execution_count": 5,
   "metadata": {
    "collapsed": true
   },
   "outputs": [],
   "source": [
    "from braindecode.datautil.signal_target import SignalAndTarget\n",
    "\n",
    "train_set = SignalAndTarget(X[:40], y=y[:40])\n",
    "valid_set = SignalAndTarget(X[40:70], y=y[40:70])\n"
   ]
  },
  {
   "cell_type": "markdown",
   "metadata": {},
   "source": [
    "## Create the model"
   ]
  },
  {
   "cell_type": "markdown",
   "metadata": {},
   "source": [
    "<div class=\"alert alert-info\">\n",
    "\n",
    "As in the trialwise decoding tutorial, we will use the Braindecode model class directly to perform the training in a few lines of code. If you instead want to use your own training loop, have a look at the [Cropped Manual Training Loop Tutorial](./Cropped_Manual_Training_Loop.html).\n",
    "</div>"
   ]
  },
  {
   "cell_type": "markdown",
   "metadata": {},
   "source": [
    "For cropped decoding, we now transform the model into a model that outputs a dense time series of predictions.\n",
    "For this, we manually set the length of the final convolution layer to some length that makes the receptive field of the ConvNet smaller than the number of samples in a trial (see `final_conv_length=12` in the model definition). "
   ]
  },
  {
   "cell_type": "code",
   "execution_count": 6,
   "metadata": {
    "scrolled": false
   },
   "outputs": [],
   "source": [
    "from braindecode.models.shallow_fbcsp import ShallowFBCSPNet\n",
    "from torch import nn\n",
    "from braindecode.torch_ext.util import set_random_seeds\n",
    "\n",
    "# Set if you want to use GPU\n",
    "# You can also use torch.cuda.is_available() to determine if cuda is available on your machine.\n",
    "cuda = False\n",
    "set_random_seeds(seed=20170629, cuda=cuda)\n",
    "n_classes = 2\n",
    "in_chans = train_set.X.shape[1]\n",
    "\n",
    "model = ShallowFBCSPNet(in_chans=in_chans, n_classes=n_classes,\n",
    "                        input_time_length=None,\n",
    "                        final_conv_length=12)\n",
    "if cuda:\n",
    "    model.cuda()\n"
   ]
  },
  {
   "cell_type": "markdown",
   "metadata": {},
   "source": [
    "Now we supply `cropped=True` to our compile function "
   ]
  },
  {
   "cell_type": "code",
   "execution_count": 7,
   "metadata": {
    "collapsed": true
   },
   "outputs": [],
   "source": [
    "from braindecode.torch_ext.optimizers import AdamW\n",
    "import torch.nn.functional as F\n",
    "#optimizer = AdamW(model.parameters(), lr=1*0.01, weight_decay=0.5*0.001) # these are good values for the deep model\n",
    "optimizer = AdamW(model.parameters(), lr=0.0625 * 0.01, weight_decay=0)\n",
    "model.compile(loss=F.nll_loss, optimizer=optimizer,  iterator_seed=1, cropped=True)"
   ]
  },
  {
   "cell_type": "markdown",
   "metadata": {},
   "source": [
    "## Run the training"
   ]
  },
  {
   "cell_type": "markdown",
   "metadata": {},
   "source": [
    "For fitting, we must supply the super crop size. Here, we it to 450 by setting `input_time_length = 450`."
   ]
  },
  {
   "cell_type": "code",
   "execution_count": 8,
   "metadata": {},
   "outputs": [
    {
     "name": "stdout",
     "output_type": "stream",
     "text": [
      "2019-05-06 18:43:33,022 INFO : Run until first stop...\n",
      "2019-05-06 18:43:34,356 INFO : Epoch 0\n",
      "2019-05-06 18:43:34,358 INFO : train_loss                16.71894\n",
      "2019-05-06 18:43:34,360 INFO : valid_loss                16.03879\n",
      "2019-05-06 18:43:34,361 INFO : train_misclass            0.52500\n",
      "2019-05-06 18:43:34,363 INFO : valid_misclass            0.53333\n",
      "2019-05-06 18:43:34,364 INFO : runtime                   0.00000\n",
      "2019-05-06 18:43:34,366 INFO : \n",
      "2019-05-06 18:43:35,966 INFO : Time only for training updates: 1.59s\n",
      "2019-05-06 18:43:37,218 INFO : Epoch 1\n",
      "2019-05-06 18:43:37,221 INFO : train_loss                5.75667\n",
      "2019-05-06 18:43:37,222 INFO : valid_loss                5.05206\n",
      "2019-05-06 18:43:37,224 INFO : train_misclass            0.52500\n",
      "2019-05-06 18:43:37,225 INFO : valid_misclass            0.53333\n",
      "2019-05-06 18:43:37,227 INFO : runtime                   2.94392\n",
      "2019-05-06 18:43:37,229 INFO : \n",
      "2019-05-06 18:43:38,712 INFO : Time only for training updates: 1.48s\n",
      "2019-05-06 18:43:39,969 INFO : Epoch 2\n",
      "2019-05-06 18:43:39,972 INFO : train_loss                3.64768\n",
      "2019-05-06 18:43:39,973 INFO : valid_loss                3.01622\n",
      "2019-05-06 18:43:39,975 INFO : train_misclass            0.50000\n",
      "2019-05-06 18:43:39,976 INFO : valid_misclass            0.53333\n",
      "2019-05-06 18:43:39,978 INFO : runtime                   2.74518\n",
      "2019-05-06 18:43:39,979 INFO : \n",
      "2019-05-06 18:43:41,451 INFO : Time only for training updates: 1.47s\n",
      "2019-05-06 18:43:42,712 INFO : Epoch 3\n",
      "2019-05-06 18:43:42,714 INFO : train_loss                2.34256\n",
      "2019-05-06 18:43:42,716 INFO : valid_loss                1.90962\n",
      "2019-05-06 18:43:42,717 INFO : train_misclass            0.50000\n",
      "2019-05-06 18:43:42,719 INFO : valid_misclass            0.53333\n",
      "2019-05-06 18:43:42,720 INFO : runtime                   2.73884\n",
      "2019-05-06 18:43:42,722 INFO : \n",
      "2019-05-06 18:43:44,169 INFO : Time only for training updates: 1.44s\n",
      "2019-05-06 18:43:45,444 INFO : Epoch 4\n",
      "2019-05-06 18:43:45,446 INFO : train_loss                1.50676\n",
      "2019-05-06 18:43:45,448 INFO : valid_loss                1.29046\n",
      "2019-05-06 18:43:45,449 INFO : train_misclass            0.47500\n",
      "2019-05-06 18:43:45,451 INFO : valid_misclass            0.50000\n",
      "2019-05-06 18:43:45,452 INFO : runtime                   2.71939\n",
      "2019-05-06 18:43:45,454 INFO : \n",
      "2019-05-06 18:43:46,943 INFO : Time only for training updates: 1.48s\n",
      "2019-05-06 18:43:48,275 INFO : Epoch 5\n",
      "2019-05-06 18:43:48,277 INFO : train_loss                1.01924\n",
      "2019-05-06 18:43:48,279 INFO : valid_loss                0.96845\n",
      "2019-05-06 18:43:48,280 INFO : train_misclass            0.40000\n",
      "2019-05-06 18:43:48,282 INFO : valid_misclass            0.43333\n",
      "2019-05-06 18:43:48,283 INFO : runtime                   2.77173\n",
      "2019-05-06 18:43:48,285 INFO : \n",
      "2019-05-06 18:43:49,749 INFO : Time only for training updates: 1.46s\n",
      "2019-05-06 18:43:50,993 INFO : Epoch 6\n",
      "2019-05-06 18:43:50,996 INFO : train_loss                0.75856\n",
      "2019-05-06 18:43:50,998 INFO : valid_loss                0.82128\n",
      "2019-05-06 18:43:50,999 INFO : train_misclass            0.35000\n",
      "2019-05-06 18:43:51,001 INFO : valid_misclass            0.43333\n",
      "2019-05-06 18:43:51,002 INFO : runtime                   2.80694\n",
      "2019-05-06 18:43:51,004 INFO : \n",
      "2019-05-06 18:43:52,441 INFO : Time only for training updates: 1.43s\n",
      "2019-05-06 18:43:53,691 INFO : Epoch 7\n",
      "2019-05-06 18:43:53,693 INFO : train_loss                0.61156\n",
      "2019-05-06 18:43:53,695 INFO : valid_loss                0.75855\n",
      "2019-05-06 18:43:53,696 INFO : train_misclass            0.30000\n",
      "2019-05-06 18:43:53,698 INFO : valid_misclass            0.43333\n",
      "2019-05-06 18:43:53,700 INFO : runtime                   2.69271\n",
      "2019-05-06 18:43:53,701 INFO : \n",
      "2019-05-06 18:43:55,206 INFO : Time only for training updates: 1.50s\n",
      "2019-05-06 18:43:56,470 INFO : Epoch 8\n",
      "2019-05-06 18:43:56,472 INFO : train_loss                0.51892\n",
      "2019-05-06 18:43:56,474 INFO : valid_loss                0.74045\n",
      "2019-05-06 18:43:56,476 INFO : train_misclass            0.25000\n",
      "2019-05-06 18:43:56,477 INFO : valid_misclass            0.36667\n",
      "2019-05-06 18:43:56,479 INFO : runtime                   2.76417\n",
      "2019-05-06 18:43:56,480 INFO : \n",
      "2019-05-06 18:43:57,902 INFO : Time only for training updates: 1.42s\n",
      "2019-05-06 18:43:59,144 INFO : Epoch 9\n",
      "2019-05-06 18:43:59,147 INFO : train_loss                0.43383\n",
      "2019-05-06 18:43:59,148 INFO : valid_loss                0.71042\n",
      "2019-05-06 18:43:59,150 INFO : train_misclass            0.20000\n",
      "2019-05-06 18:43:59,151 INFO : valid_misclass            0.30000\n",
      "2019-05-06 18:43:59,153 INFO : runtime                   2.69646\n",
      "2019-05-06 18:43:59,154 INFO : \n",
      "2019-05-06 18:44:00,599 INFO : Time only for training updates: 1.44s\n",
      "2019-05-06 18:44:01,852 INFO : Epoch 10\n",
      "2019-05-06 18:44:01,854 INFO : train_loss                0.34278\n",
      "2019-05-06 18:44:01,856 INFO : valid_loss                0.65221\n",
      "2019-05-06 18:44:01,857 INFO : train_misclass            0.17500\n",
      "2019-05-06 18:44:01,859 INFO : valid_misclass            0.26667\n",
      "2019-05-06 18:44:01,860 INFO : runtime                   2.69681\n",
      "2019-05-06 18:44:01,862 INFO : \n",
      "2019-05-06 18:44:03,322 INFO : Time only for training updates: 1.45s\n",
      "2019-05-06 18:44:04,562 INFO : Epoch 11\n",
      "2019-05-06 18:44:04,564 INFO : train_loss                0.27082\n",
      "2019-05-06 18:44:04,566 INFO : valid_loss                0.60061\n",
      "2019-05-06 18:44:04,567 INFO : train_misclass            0.15000\n",
      "2019-05-06 18:44:04,569 INFO : valid_misclass            0.26667\n",
      "2019-05-06 18:44:04,570 INFO : runtime                   2.72283\n",
      "2019-05-06 18:44:04,572 INFO : \n",
      "2019-05-06 18:44:06,016 INFO : Time only for training updates: 1.44s\n",
      "2019-05-06 18:44:07,267 INFO : Epoch 12\n",
      "2019-05-06 18:44:07,270 INFO : train_loss                0.21861\n",
      "2019-05-06 18:44:07,271 INFO : valid_loss                0.56317\n",
      "2019-05-06 18:44:07,273 INFO : train_misclass            0.02500\n",
      "2019-05-06 18:44:07,274 INFO : valid_misclass            0.26667\n",
      "2019-05-06 18:44:07,276 INFO : runtime                   2.69385\n",
      "2019-05-06 18:44:07,278 INFO : \n",
      "2019-05-06 18:44:08,783 INFO : Time only for training updates: 1.50s\n",
      "2019-05-06 18:44:10,077 INFO : Epoch 13\n",
      "2019-05-06 18:44:10,080 INFO : train_loss                0.18199\n",
      "2019-05-06 18:44:10,081 INFO : valid_loss                0.53569\n",
      "2019-05-06 18:44:10,083 INFO : train_misclass            0.00000\n",
      "2019-05-06 18:44:10,084 INFO : valid_misclass            0.23333\n",
      "2019-05-06 18:44:10,086 INFO : runtime                   2.76789\n",
      "2019-05-06 18:44:10,088 INFO : \n",
      "2019-05-06 18:44:11,504 INFO : Time only for training updates: 1.41s\n",
      "2019-05-06 18:44:12,761 INFO : Epoch 14\n",
      "2019-05-06 18:44:12,764 INFO : train_loss                0.15484\n",
      "2019-05-06 18:44:12,765 INFO : valid_loss                0.50841\n",
      "2019-05-06 18:44:12,767 INFO : train_misclass            0.00000\n",
      "2019-05-06 18:44:12,768 INFO : valid_misclass            0.20000\n",
      "2019-05-06 18:44:12,770 INFO : runtime                   2.72054\n",
      "2019-05-06 18:44:12,771 INFO : \n",
      "2019-05-06 18:44:14,253 INFO : Time only for training updates: 1.48s\n",
      "2019-05-06 18:44:15,515 INFO : Epoch 15\n",
      "2019-05-06 18:44:15,517 INFO : train_loss                0.13389\n",
      "2019-05-06 18:44:15,519 INFO : valid_loss                0.48080\n",
      "2019-05-06 18:44:15,520 INFO : train_misclass            0.00000\n",
      "2019-05-06 18:44:15,522 INFO : valid_misclass            0.16667\n",
      "2019-05-06 18:44:15,524 INFO : runtime                   2.74884\n",
      "2019-05-06 18:44:15,525 INFO : \n",
      "2019-05-06 18:44:16,996 INFO : Time only for training updates: 1.47s\n",
      "2019-05-06 18:44:18,239 INFO : Epoch 16\n",
      "2019-05-06 18:44:18,242 INFO : train_loss                0.11739\n",
      "2019-05-06 18:44:18,244 INFO : valid_loss                0.45401\n",
      "2019-05-06 18:44:18,245 INFO : train_misclass            0.00000\n",
      "2019-05-06 18:44:18,247 INFO : valid_misclass            0.13333\n",
      "2019-05-06 18:44:18,248 INFO : runtime                   2.74341\n",
      "2019-05-06 18:44:18,250 INFO : \n",
      "2019-05-06 18:44:19,700 INFO : Time only for training updates: 1.44s\n",
      "2019-05-06 18:44:20,949 INFO : Epoch 17\n",
      "2019-05-06 18:44:20,951 INFO : train_loss                0.10472\n",
      "2019-05-06 18:44:20,953 INFO : valid_loss                0.43017\n",
      "2019-05-06 18:44:20,954 INFO : train_misclass            0.00000\n"
     ]
    },
    {
     "name": "stdout",
     "output_type": "stream",
     "text": [
      "2019-05-06 18:44:20,956 INFO : valid_misclass            0.16667\n",
      "2019-05-06 18:44:20,957 INFO : runtime                   2.70337\n",
      "2019-05-06 18:44:20,959 INFO : \n",
      "2019-05-06 18:44:22,418 INFO : Time only for training updates: 1.45s\n",
      "2019-05-06 18:44:23,670 INFO : Epoch 18\n",
      "2019-05-06 18:44:23,672 INFO : train_loss                0.09406\n",
      "2019-05-06 18:44:23,674 INFO : valid_loss                0.40693\n",
      "2019-05-06 18:44:23,676 INFO : train_misclass            0.00000\n",
      "2019-05-06 18:44:23,677 INFO : valid_misclass            0.16667\n",
      "2019-05-06 18:44:23,679 INFO : runtime                   2.71854\n",
      "2019-05-06 18:44:23,680 INFO : \n",
      "2019-05-06 18:44:25,230 INFO : Time only for training updates: 1.54s\n",
      "2019-05-06 18:44:26,478 INFO : Epoch 19\n",
      "2019-05-06 18:44:26,481 INFO : train_loss                0.08521\n",
      "2019-05-06 18:44:26,483 INFO : valid_loss                0.38600\n",
      "2019-05-06 18:44:26,484 INFO : train_misclass            0.00000\n",
      "2019-05-06 18:44:26,486 INFO : valid_misclass            0.13333\n",
      "2019-05-06 18:44:26,487 INFO : runtime                   2.81249\n",
      "2019-05-06 18:44:26,489 INFO : \n",
      "2019-05-06 18:44:27,978 INFO : Time only for training updates: 1.48s\n",
      "2019-05-06 18:44:29,236 INFO : Epoch 20\n",
      "2019-05-06 18:44:29,239 INFO : train_loss                0.07795\n",
      "2019-05-06 18:44:29,240 INFO : valid_loss                0.36742\n",
      "2019-05-06 18:44:29,242 INFO : train_misclass            0.00000\n",
      "2019-05-06 18:44:29,244 INFO : valid_misclass            0.13333\n",
      "2019-05-06 18:44:29,245 INFO : runtime                   2.74756\n",
      "2019-05-06 18:44:29,247 INFO : \n",
      "2019-05-06 18:44:30,693 INFO : Time only for training updates: 1.44s\n",
      "2019-05-06 18:44:31,933 INFO : Epoch 21\n",
      "2019-05-06 18:44:31,935 INFO : train_loss                0.07171\n",
      "2019-05-06 18:44:31,937 INFO : valid_loss                0.35085\n",
      "2019-05-06 18:44:31,938 INFO : train_misclass            0.00000\n",
      "2019-05-06 18:44:31,940 INFO : valid_misclass            0.10000\n",
      "2019-05-06 18:44:31,941 INFO : runtime                   2.71460\n",
      "2019-05-06 18:44:31,943 INFO : \n",
      "2019-05-06 18:44:33,376 INFO : Time only for training updates: 1.43s\n",
      "2019-05-06 18:44:34,626 INFO : Epoch 22\n",
      "2019-05-06 18:44:34,629 INFO : train_loss                0.06681\n",
      "2019-05-06 18:44:34,630 INFO : valid_loss                0.33726\n",
      "2019-05-06 18:44:34,632 INFO : train_misclass            0.00000\n",
      "2019-05-06 18:44:34,633 INFO : valid_misclass            0.10000\n",
      "2019-05-06 18:44:34,635 INFO : runtime                   2.68363\n",
      "2019-05-06 18:44:34,637 INFO : \n",
      "2019-05-06 18:44:36,082 INFO : Time only for training updates: 1.44s\n",
      "2019-05-06 18:44:37,340 INFO : Epoch 23\n",
      "2019-05-06 18:44:37,342 INFO : train_loss                0.06289\n",
      "2019-05-06 18:44:37,344 INFO : valid_loss                0.32600\n",
      "2019-05-06 18:44:37,345 INFO : train_misclass            0.00000\n",
      "2019-05-06 18:44:37,347 INFO : valid_misclass            0.10000\n",
      "2019-05-06 18:44:37,349 INFO : runtime                   2.70583\n",
      "2019-05-06 18:44:37,350 INFO : \n",
      "2019-05-06 18:44:38,829 INFO : Time only for training updates: 1.47s\n",
      "2019-05-06 18:44:40,187 INFO : Epoch 24\n",
      "2019-05-06 18:44:40,189 INFO : train_loss                0.05999\n",
      "2019-05-06 18:44:40,190 INFO : valid_loss                0.31735\n",
      "2019-05-06 18:44:40,192 INFO : train_misclass            0.00000\n",
      "2019-05-06 18:44:40,193 INFO : valid_misclass            0.10000\n",
      "2019-05-06 18:44:40,195 INFO : runtime                   2.74651\n",
      "2019-05-06 18:44:40,197 INFO : \n",
      "2019-05-06 18:44:41,639 INFO : Time only for training updates: 1.44s\n",
      "2019-05-06 18:44:42,896 INFO : Epoch 25\n",
      "2019-05-06 18:44:42,899 INFO : train_loss                0.05785\n",
      "2019-05-06 18:44:42,900 INFO : valid_loss                0.31063\n",
      "2019-05-06 18:44:42,902 INFO : train_misclass            0.00000\n",
      "2019-05-06 18:44:42,903 INFO : valid_misclass            0.10000\n",
      "2019-05-06 18:44:42,905 INFO : runtime                   2.80972\n",
      "2019-05-06 18:44:42,906 INFO : \n",
      "2019-05-06 18:44:44,350 INFO : Time only for training updates: 1.44s\n",
      "2019-05-06 18:44:45,595 INFO : Epoch 26\n",
      "2019-05-06 18:44:45,598 INFO : train_loss                0.05635\n",
      "2019-05-06 18:44:45,599 INFO : valid_loss                0.30562\n",
      "2019-05-06 18:44:45,601 INFO : train_misclass            0.00000\n",
      "2019-05-06 18:44:45,603 INFO : valid_misclass            0.10000\n",
      "2019-05-06 18:44:45,604 INFO : runtime                   2.71147\n",
      "2019-05-06 18:44:45,606 INFO : \n",
      "2019-05-06 18:44:47,042 INFO : Time only for training updates: 1.43s\n",
      "2019-05-06 18:44:48,290 INFO : Epoch 27\n",
      "2019-05-06 18:44:48,293 INFO : train_loss                0.05532\n",
      "2019-05-06 18:44:48,294 INFO : valid_loss                0.30180\n",
      "2019-05-06 18:44:48,296 INFO : train_misclass            0.00000\n",
      "2019-05-06 18:44:48,297 INFO : valid_misclass            0.10000\n",
      "2019-05-06 18:44:48,299 INFO : runtime                   2.69155\n",
      "2019-05-06 18:44:48,300 INFO : \n",
      "2019-05-06 18:44:49,744 INFO : Time only for training updates: 1.44s\n",
      "2019-05-06 18:44:51,005 INFO : Epoch 28\n",
      "2019-05-06 18:44:51,007 INFO : train_loss                0.05461\n",
      "2019-05-06 18:44:51,009 INFO : valid_loss                0.29879\n",
      "2019-05-06 18:44:51,010 INFO : train_misclass            0.00000\n",
      "2019-05-06 18:44:51,012 INFO : valid_misclass            0.10000\n",
      "2019-05-06 18:44:51,013 INFO : runtime                   2.70213\n",
      "2019-05-06 18:44:51,015 INFO : \n",
      "2019-05-06 18:44:52,466 INFO : Time only for training updates: 1.45s\n",
      "2019-05-06 18:44:53,786 INFO : Epoch 29\n",
      "2019-05-06 18:44:53,789 INFO : train_loss                0.05415\n",
      "2019-05-06 18:44:53,790 INFO : valid_loss                0.29639\n",
      "2019-05-06 18:44:53,792 INFO : train_misclass            0.00000\n",
      "2019-05-06 18:44:53,793 INFO : valid_misclass            0.10000\n",
      "2019-05-06 18:44:53,795 INFO : runtime                   2.72244\n",
      "2019-05-06 18:44:53,796 INFO : \n",
      "2019-05-06 18:44:55,276 INFO : Time only for training updates: 1.47s\n",
      "2019-05-06 18:44:56,527 INFO : Epoch 30\n",
      "2019-05-06 18:44:56,530 INFO : train_loss                0.05384\n",
      "2019-05-06 18:44:56,531 INFO : valid_loss                0.29441\n",
      "2019-05-06 18:44:56,533 INFO : train_misclass            0.00000\n",
      "2019-05-06 18:44:56,534 INFO : valid_misclass            0.10000\n",
      "2019-05-06 18:44:56,536 INFO : runtime                   2.81010\n",
      "2019-05-06 18:44:56,537 INFO : \n"
     ]
    },
    {
     "data": {
      "text/plain": [
       "<braindecode.experiments.experiment.Experiment at 0x7f58917954a8>"
      ]
     },
     "execution_count": 8,
     "metadata": {},
     "output_type": "execute_result"
    }
   ],
   "source": [
    "input_time_length = 450\n",
    "model.fit(train_set.X, train_set.y, epochs=30, batch_size=64, scheduler='cosine',\n",
    "          input_time_length=input_time_length,\n",
    "         validation_data=(valid_set.X, valid_set.y),)"
   ]
  },
  {
   "cell_type": "code",
   "execution_count": 9,
   "metadata": {},
   "outputs": [
    {
     "data": {
      "text/html": [
       "<div>\n",
       "<style>\n",
       "    .dataframe thead tr:only-child th {\n",
       "        text-align: right;\n",
       "    }\n",
       "\n",
       "    .dataframe thead th {\n",
       "        text-align: left;\n",
       "    }\n",
       "\n",
       "    .dataframe tbody tr th {\n",
       "        vertical-align: top;\n",
       "    }\n",
       "</style>\n",
       "<table border=\"1\" class=\"dataframe\">\n",
       "  <thead>\n",
       "    <tr style=\"text-align: right;\">\n",
       "      <th></th>\n",
       "      <th>train_loss</th>\n",
       "      <th>valid_loss</th>\n",
       "      <th>train_misclass</th>\n",
       "      <th>valid_misclass</th>\n",
       "      <th>runtime</th>\n",
       "    </tr>\n",
       "  </thead>\n",
       "  <tbody>\n",
       "    <tr>\n",
       "      <th>0</th>\n",
       "      <td>16.718943</td>\n",
       "      <td>16.038786</td>\n",
       "      <td>0.525</td>\n",
       "      <td>0.533333</td>\n",
       "      <td>0.000000</td>\n",
       "    </tr>\n",
       "    <tr>\n",
       "      <th>1</th>\n",
       "      <td>5.756667</td>\n",
       "      <td>5.052063</td>\n",
       "      <td>0.525</td>\n",
       "      <td>0.533333</td>\n",
       "      <td>2.943918</td>\n",
       "    </tr>\n",
       "    <tr>\n",
       "      <th>2</th>\n",
       "      <td>3.647679</td>\n",
       "      <td>3.016216</td>\n",
       "      <td>0.500</td>\n",
       "      <td>0.533333</td>\n",
       "      <td>2.745180</td>\n",
       "    </tr>\n",
       "    <tr>\n",
       "      <th>3</th>\n",
       "      <td>2.342562</td>\n",
       "      <td>1.909615</td>\n",
       "      <td>0.500</td>\n",
       "      <td>0.533333</td>\n",
       "      <td>2.738843</td>\n",
       "    </tr>\n",
       "    <tr>\n",
       "      <th>4</th>\n",
       "      <td>1.506760</td>\n",
       "      <td>1.290459</td>\n",
       "      <td>0.475</td>\n",
       "      <td>0.500000</td>\n",
       "      <td>2.719385</td>\n",
       "    </tr>\n",
       "    <tr>\n",
       "      <th>5</th>\n",
       "      <td>1.019238</td>\n",
       "      <td>0.968447</td>\n",
       "      <td>0.400</td>\n",
       "      <td>0.433333</td>\n",
       "      <td>2.771735</td>\n",
       "    </tr>\n",
       "    <tr>\n",
       "      <th>6</th>\n",
       "      <td>0.758563</td>\n",
       "      <td>0.821284</td>\n",
       "      <td>0.350</td>\n",
       "      <td>0.433333</td>\n",
       "      <td>2.806943</td>\n",
       "    </tr>\n",
       "    <tr>\n",
       "      <th>7</th>\n",
       "      <td>0.611558</td>\n",
       "      <td>0.758546</td>\n",
       "      <td>0.300</td>\n",
       "      <td>0.433333</td>\n",
       "      <td>2.692709</td>\n",
       "    </tr>\n",
       "    <tr>\n",
       "      <th>8</th>\n",
       "      <td>0.518918</td>\n",
       "      <td>0.740453</td>\n",
       "      <td>0.250</td>\n",
       "      <td>0.366667</td>\n",
       "      <td>2.764175</td>\n",
       "    </tr>\n",
       "    <tr>\n",
       "      <th>9</th>\n",
       "      <td>0.433833</td>\n",
       "      <td>0.710417</td>\n",
       "      <td>0.200</td>\n",
       "      <td>0.300000</td>\n",
       "      <td>2.696464</td>\n",
       "    </tr>\n",
       "    <tr>\n",
       "      <th>10</th>\n",
       "      <td>0.342783</td>\n",
       "      <td>0.652212</td>\n",
       "      <td>0.175</td>\n",
       "      <td>0.266667</td>\n",
       "      <td>2.696805</td>\n",
       "    </tr>\n",
       "    <tr>\n",
       "      <th>11</th>\n",
       "      <td>0.270822</td>\n",
       "      <td>0.600610</td>\n",
       "      <td>0.150</td>\n",
       "      <td>0.266667</td>\n",
       "      <td>2.722833</td>\n",
       "    </tr>\n",
       "    <tr>\n",
       "      <th>12</th>\n",
       "      <td>0.218610</td>\n",
       "      <td>0.563165</td>\n",
       "      <td>0.025</td>\n",
       "      <td>0.266667</td>\n",
       "      <td>2.693852</td>\n",
       "    </tr>\n",
       "    <tr>\n",
       "      <th>13</th>\n",
       "      <td>0.181991</td>\n",
       "      <td>0.535692</td>\n",
       "      <td>0.000</td>\n",
       "      <td>0.233333</td>\n",
       "      <td>2.767891</td>\n",
       "    </tr>\n",
       "    <tr>\n",
       "      <th>14</th>\n",
       "      <td>0.154839</td>\n",
       "      <td>0.508406</td>\n",
       "      <td>0.000</td>\n",
       "      <td>0.200000</td>\n",
       "      <td>2.720542</td>\n",
       "    </tr>\n",
       "    <tr>\n",
       "      <th>15</th>\n",
       "      <td>0.133887</td>\n",
       "      <td>0.480797</td>\n",
       "      <td>0.000</td>\n",
       "      <td>0.166667</td>\n",
       "      <td>2.748844</td>\n",
       "    </tr>\n",
       "    <tr>\n",
       "      <th>16</th>\n",
       "      <td>0.117387</td>\n",
       "      <td>0.454011</td>\n",
       "      <td>0.000</td>\n",
       "      <td>0.133333</td>\n",
       "      <td>2.743407</td>\n",
       "    </tr>\n",
       "    <tr>\n",
       "      <th>17</th>\n",
       "      <td>0.104724</td>\n",
       "      <td>0.430166</td>\n",
       "      <td>0.000</td>\n",
       "      <td>0.166667</td>\n",
       "      <td>2.703368</td>\n",
       "    </tr>\n",
       "    <tr>\n",
       "      <th>18</th>\n",
       "      <td>0.094065</td>\n",
       "      <td>0.406926</td>\n",
       "      <td>0.000</td>\n",
       "      <td>0.166667</td>\n",
       "      <td>2.718539</td>\n",
       "    </tr>\n",
       "    <tr>\n",
       "      <th>19</th>\n",
       "      <td>0.085207</td>\n",
       "      <td>0.386002</td>\n",
       "      <td>0.000</td>\n",
       "      <td>0.133333</td>\n",
       "      <td>2.812494</td>\n",
       "    </tr>\n",
       "    <tr>\n",
       "      <th>20</th>\n",
       "      <td>0.077945</td>\n",
       "      <td>0.367422</td>\n",
       "      <td>0.000</td>\n",
       "      <td>0.133333</td>\n",
       "      <td>2.747559</td>\n",
       "    </tr>\n",
       "    <tr>\n",
       "      <th>21</th>\n",
       "      <td>0.071709</td>\n",
       "      <td>0.350847</td>\n",
       "      <td>0.000</td>\n",
       "      <td>0.100000</td>\n",
       "      <td>2.714596</td>\n",
       "    </tr>\n",
       "    <tr>\n",
       "      <th>22</th>\n",
       "      <td>0.066811</td>\n",
       "      <td>0.337260</td>\n",
       "      <td>0.000</td>\n",
       "      <td>0.100000</td>\n",
       "      <td>2.683630</td>\n",
       "    </tr>\n",
       "    <tr>\n",
       "      <th>23</th>\n",
       "      <td>0.062891</td>\n",
       "      <td>0.325995</td>\n",
       "      <td>0.000</td>\n",
       "      <td>0.100000</td>\n",
       "      <td>2.705835</td>\n",
       "    </tr>\n",
       "    <tr>\n",
       "      <th>24</th>\n",
       "      <td>0.059994</td>\n",
       "      <td>0.317353</td>\n",
       "      <td>0.000</td>\n",
       "      <td>0.100000</td>\n",
       "      <td>2.746507</td>\n",
       "    </tr>\n",
       "    <tr>\n",
       "      <th>25</th>\n",
       "      <td>0.057849</td>\n",
       "      <td>0.310632</td>\n",
       "      <td>0.000</td>\n",
       "      <td>0.100000</td>\n",
       "      <td>2.809724</td>\n",
       "    </tr>\n",
       "    <tr>\n",
       "      <th>26</th>\n",
       "      <td>0.056350</td>\n",
       "      <td>0.305617</td>\n",
       "      <td>0.000</td>\n",
       "      <td>0.100000</td>\n",
       "      <td>2.711475</td>\n",
       "    </tr>\n",
       "    <tr>\n",
       "      <th>27</th>\n",
       "      <td>0.055315</td>\n",
       "      <td>0.301796</td>\n",
       "      <td>0.000</td>\n",
       "      <td>0.100000</td>\n",
       "      <td>2.691547</td>\n",
       "    </tr>\n",
       "    <tr>\n",
       "      <th>28</th>\n",
       "      <td>0.054613</td>\n",
       "      <td>0.298791</td>\n",
       "      <td>0.000</td>\n",
       "      <td>0.100000</td>\n",
       "      <td>2.702129</td>\n",
       "    </tr>\n",
       "    <tr>\n",
       "      <th>29</th>\n",
       "      <td>0.054149</td>\n",
       "      <td>0.296388</td>\n",
       "      <td>0.000</td>\n",
       "      <td>0.100000</td>\n",
       "      <td>2.722437</td>\n",
       "    </tr>\n",
       "    <tr>\n",
       "      <th>30</th>\n",
       "      <td>0.053844</td>\n",
       "      <td>0.294413</td>\n",
       "      <td>0.000</td>\n",
       "      <td>0.100000</td>\n",
       "      <td>2.810098</td>\n",
       "    </tr>\n",
       "  </tbody>\n",
       "</table>\n",
       "</div>"
      ],
      "text/plain": [
       "    train_loss  valid_loss  train_misclass  valid_misclass   runtime\n",
       "0    16.718943   16.038786           0.525        0.533333  0.000000\n",
       "1     5.756667    5.052063           0.525        0.533333  2.943918\n",
       "2     3.647679    3.016216           0.500        0.533333  2.745180\n",
       "3     2.342562    1.909615           0.500        0.533333  2.738843\n",
       "4     1.506760    1.290459           0.475        0.500000  2.719385\n",
       "5     1.019238    0.968447           0.400        0.433333  2.771735\n",
       "6     0.758563    0.821284           0.350        0.433333  2.806943\n",
       "7     0.611558    0.758546           0.300        0.433333  2.692709\n",
       "8     0.518918    0.740453           0.250        0.366667  2.764175\n",
       "9     0.433833    0.710417           0.200        0.300000  2.696464\n",
       "10    0.342783    0.652212           0.175        0.266667  2.696805\n",
       "11    0.270822    0.600610           0.150        0.266667  2.722833\n",
       "12    0.218610    0.563165           0.025        0.266667  2.693852\n",
       "13    0.181991    0.535692           0.000        0.233333  2.767891\n",
       "14    0.154839    0.508406           0.000        0.200000  2.720542\n",
       "15    0.133887    0.480797           0.000        0.166667  2.748844\n",
       "16    0.117387    0.454011           0.000        0.133333  2.743407\n",
       "17    0.104724    0.430166           0.000        0.166667  2.703368\n",
       "18    0.094065    0.406926           0.000        0.166667  2.718539\n",
       "19    0.085207    0.386002           0.000        0.133333  2.812494\n",
       "20    0.077945    0.367422           0.000        0.133333  2.747559\n",
       "21    0.071709    0.350847           0.000        0.100000  2.714596\n",
       "22    0.066811    0.337260           0.000        0.100000  2.683630\n",
       "23    0.062891    0.325995           0.000        0.100000  2.705835\n",
       "24    0.059994    0.317353           0.000        0.100000  2.746507\n",
       "25    0.057849    0.310632           0.000        0.100000  2.809724\n",
       "26    0.056350    0.305617           0.000        0.100000  2.711475\n",
       "27    0.055315    0.301796           0.000        0.100000  2.691547\n",
       "28    0.054613    0.298791           0.000        0.100000  2.702129\n",
       "29    0.054149    0.296388           0.000        0.100000  2.722437\n",
       "30    0.053844    0.294413           0.000        0.100000  2.810098"
      ]
     },
     "execution_count": 9,
     "metadata": {},
     "output_type": "execute_result"
    }
   ],
   "source": [
    "model.epochs_df"
   ]
  },
  {
   "cell_type": "markdown",
   "metadata": {},
   "source": [
    "Eventually, we arrive at 90% accuracy, so 27 from 30 trials are correctly predicted."
   ]
  },
  {
   "cell_type": "markdown",
   "metadata": {},
   "source": [
    "## Evaluation"
   ]
  },
  {
   "cell_type": "code",
   "execution_count": 10,
   "metadata": {},
   "outputs": [
    {
     "data": {
      "text/plain": [
       "{'loss': 0.4238094687461853,\n",
       " 'misclass': 0.09999999999999998,\n",
       " 'runtime': 0.00026702880859375}"
      ]
     },
     "execution_count": 10,
     "metadata": {},
     "output_type": "execute_result"
    }
   ],
   "source": [
    "test_set = SignalAndTarget(X[70:], y=y[70:])\n",
    "\n",
    "model.evaluate(test_set.X, test_set.y)"
   ]
  },
  {
   "cell_type": "markdown",
   "metadata": {},
   "source": [
    "We can now predict entire trials as before or individual crops."
   ]
  },
  {
   "cell_type": "code",
   "execution_count": 11,
   "metadata": {},
   "outputs": [
    {
     "data": {
      "text/plain": [
       "array([1, 0, 1, 0, 0, 0, 1, 0, 0, 0, 1, 1, 0, 1, 0, 1, 1, 1, 0, 1])"
      ]
     },
     "execution_count": 11,
     "metadata": {},
     "output_type": "execute_result"
    }
   ],
   "source": [
    "model.predict_classes(test_set.X)"
   ]
  },
  {
   "cell_type": "code",
   "execution_count": 12,
   "metadata": {},
   "outputs": [
    {
     "data": {
      "text/plain": [
       "array([[-1.2750865e+00, -4.7210652e-01],\n",
       "       [-6.4165719e-02, -3.2849991e+00],\n",
       "       [-1.2179435e+00, -9.6833688e-01],\n",
       "       [-9.6924156e-02, -2.7711747e+00],\n",
       "       [-1.5608802e-02, -4.4860401e+00],\n",
       "       [-3.0281646e-03, -6.5692310e+00],\n",
       "       [-3.3592203e+00, -9.9474512e-02],\n",
       "       [-5.2215439e-01, -1.3793348e+00],\n",
       "       [-7.2297260e-02, -3.2223539e+00],\n",
       "       [-1.8260285e-01, -2.6842418e+00],\n",
       "       [-1.1441526e+00, -5.1276684e-01],\n",
       "       [-2.6686611e+00, -2.3943919e-01],\n",
       "       [-3.9805856e-01, -1.4446516e+00],\n",
       "       [-8.5448843e-01, -5.9342843e-01],\n",
       "       [-4.0538993e-01, -1.5777971e+00],\n",
       "       [-1.4246066e+00, -4.7016898e-01],\n",
       "       [-1.7791642e+00, -3.6660710e-01],\n",
       "       [-1.0101255e+00, -6.9896650e-01],\n",
       "       [-2.7277714e-01, -2.1119561e+00],\n",
       "       [-1.4588635e+00, -4.5223123e-01]], dtype=float32)"
      ]
     },
     "execution_count": 12,
     "metadata": {},
     "output_type": "execute_result"
    }
   ],
   "source": [
    "model.predict_outs(test_set.X)"
   ]
  },
  {
   "cell_type": "markdown",
   "metadata": {},
   "source": [
    "For individual crops, provide `individual_crops=True`. This for example can be useful to plot accuracies over time:"
   ]
  },
  {
   "cell_type": "code",
   "execution_count": 13,
   "metadata": {},
   "outputs": [
    {
     "data": {
      "text/plain": [
       "Text(0, 0.5, 'Accuracy [%]')"
      ]
     },
     "execution_count": 13,
     "metadata": {},
     "output_type": "execute_result"
    },
    {
     "data": {
      "image/png": "[encoded data removed]",
      "text/plain": [
       "<Figure size 576x216 with 1 Axes>"
      ]
     },
     "metadata": {},
     "output_type": "display_data"
    }
   ],
   "source": [
    "import matplotlib.pyplot as plt\n",
    "from matplotlib import cm\n",
    "import matplotlib\n",
    "%matplotlib inline\n",
    "matplotlib.style.use('seaborn')\n",
    "labels_per_trial_per_crop = model.predict_classes(test_set.X, individual_crops=True)\n",
    "accs_per_crop = [l == y for l,y in zip(labels_per_trial_per_crop, test_set.y)]\n",
    "accs_per_crop = np.mean(accs_per_crop, axis=0)\n",
    "plt.figure(figsize=(8,3))\n",
    "plt.plot(accs_per_crop * 100)\n",
    "plt.title(\"Accuracies per timestep\", fontsize=16)\n",
    "plt.xlabel('Timestep in trial', fontsize=14)\n",
    "plt.ylabel('Accuracy [%]', fontsize=14)"
   ]
  },
  {
   "cell_type": "markdown",
   "metadata": {},
   "source": [
    "Raw outputs could be used to visualize a prediction probability across a trial. Here we look at the first trial."
   ]
  },
  {
   "cell_type": "code",
   "execution_count": 14,
   "metadata": {},
   "outputs": [
    {
     "data": {
      "text/plain": [
       "Text(0, 0.5, 'Probabilities')"
      ]
     },
     "execution_count": 14,
     "metadata": {},
     "output_type": "execute_result"
    },
    {
     "data": {
      "image/png": "[encoded data removed]",
      "text/plain": [
       "<Figure size 576x216 with 1 Axes>"
      ]
     },
     "metadata": {},
     "output_type": "display_data"
    }
   ],
   "source": [
    "cropped_outs = model.predict_outs(test_set.X, individual_crops=True)\n",
    "i_trial = 0\n",
    "# log-softmax outputs need to be exponentiated to get probabilities\n",
    "cropped_probs = np.exp(cropped_outs[i_trial])\n",
    "plt.figure(figsize=(8,3))\n",
    "plt.plot(cropped_probs.T)\n",
    "plt.title(\"Network probabilities for trial {:d} of class {:d}\".format(\n",
    "    i_trial, test_set.y[i_trial]), fontsize=16)\n",
    "plt.legend((\"Class 0\", \"Class 1\"), fontsize=12)\n",
    "plt.xlabel(\"Timestep within trial\", fontsize=14)\n",
    "plt.ylabel(\"Probabilities\", fontsize=14)"
   ]
  },
  {
   "cell_type": "markdown",
   "metadata": {},
   "source": [
    "## Dataset references\n"
   ]
  },
  {
   "cell_type": "markdown",
   "metadata": {},
   "source": [
    " This dataset was created and contributed to PhysioNet by the developers of the [BCI2000](http://www.schalklab.org/research/bci2000) instrumentation system, which they used in making these recordings. The system is described in:\n",
    " \n",
    "     Schalk, G., McFarland, D.J., Hinterberger, T., Birbaumer, N., Wolpaw, J.R. (2004) BCI2000: A General-Purpose Brain-Computer Interface (BCI) System. IEEE TBME 51(6):1034-1043.\n",
    "\n",
    "[PhysioBank](https://physionet.org/physiobank/) is a large and growing archive of well-characterized digital recordings of physiologic signals and related data for use by the biomedical research community and further described in:\n",
    "\n",
    "    Goldberger AL, Amaral LAN, Glass L, Hausdorff JM, Ivanov PCh, Mark RG, Mietus JE, Moody GB, Peng C-K, Stanley HE. (2000) PhysioBank, PhysioToolkit, and PhysioNet: Components of a New Research Resource for Complex Physiologic Signals. Circulation 101(23):e215-e220."
   ]
  }
 ],
 "metadata": {
  "kernelspec": {
   "display_name": "Python 3",
   "language": "python",
   "name": "python3"
  },
  "language_info": {
   "codemirror_mode": {
    "name": "ipython",
    "version": 3
   },
   "file_extension": ".py",
   "mimetype": "text/x-python",
   "name": "python",
   "nbconvert_exporter": "python",
   "pygments_lexer": "ipython3",
   "version": "3.6.8"
  }
 },
 "nbformat": 4,
 "nbformat_minor": 2
}
