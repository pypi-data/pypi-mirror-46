{
  "cells": [
    {
      "cell_type": "markdown",
      "source": "# Asynchronous queries on BioMart using `apybiomart` \n",
      "metadata": {
        "pycharm": {
          "metadata": false
        }
      }
    },
    {
      "cell_type": "markdown",
      "source": "[BioMart](https://www.ensembl.org/biomart/martview) is a web-based tool that allows to retrieve and export datasets from Ensembl. It is one of the most useful resources for bioinformatics, because it makes easy to retrieve data and further analyse them or integrate them in downstream analyses. For these reasons, researchers have developed applications to perform BioMart queries from within R and Python programs, namely [biomaRt](https://bioconductor.org/packages/release/bioc/html/biomaRt.html) and [pybiomart](https://github.com/jrderuiter/pybiomart).  \n\nI\u0027ve been using both for different needs, and I was very happy with them. But lately I\u0027ve been working on a database that needs to access many different online resources, and thus performs asynchronous requests (exploiting the great `asyncio` Python library). Since the database was developed in Python, I tried to use `pybiomart` for these tasks, but unfortunately it was not suitable to perform async calls, so I decided to modify it to better suit my needs, and that\u0027s when `apybiomart` was born!  ",
      "metadata": {
        "pycharm": {
          "metadata": false
        }
      }
    },
    {
      "cell_type": "markdown",
      "source": "What this package does is simply modifying the original `pybiomart` behaviour to retain its basic capabilities, extending them to handle asynchronous requests to the BioMart service. As such, it is possible to perform multiple queries at the same time.  ",
      "metadata": {
        "pycharm": {
          "metadata": false
        }
      }
    },
    {
      "cell_type": "markdown",
      "source": "## Installation  \nApybiomart **only supports Python 3**, and can be installed through `pip`:  \n```bash\npip install apybiomart\n```",
      "metadata": {
        "pycharm": {
          "metadata": false
        }
      }
    },
    {
      "cell_type": "markdown",
      "source": "## Usage  \nAfter installation, apybiomart can be easily imported into Python:  ",
      "metadata": {
        "pycharm": {
          "metadata": false
        }
      }
    },
    {
      "cell_type": "code",
      "execution_count": 1,
      "outputs": [],
      "source": "import apybiomart",
      "metadata": {
        "pycharm": {
          "metadata": false,
          "name": "#%%\n",
          "is_executing": false
        }
      }
    },
    {
      "cell_type": "markdown",
      "source": "Now it is possible to use its functions:  \n\n* explore the list of available marts, datasets, attributes and filters using the synchronous `find_*()` functions;  \n* perform a single synchronous query using the `query()` function;  \n* perform multiple asynchronous queries using the `aquery()` function.  ",
      "metadata": {
        "pycharm": {
          "metadata": false
        }
      }
    },
    {
      "cell_type": "markdown",
      "source": "### Marts, datasets, attributes and filters  \n\nBioMart contains different databases, called *marts*, each of which in turn contains several *datasets*, each related to a particular species. These datasets can be queried and it is possible to restrict the amount of data returned to one or more particular types of information, namely *attributes*, and using *filters* that only retain data satisfying one or more specific criteria (more information on BioMart\u0027s [help page](https://www.ensembl.org/info/data/biomart/index.html).  ",
      "metadata": {
        "pycharm": {
          "metadata": false
        }
      }
    },
    {
      "cell_type": "markdown",
      "source": "#### Marts  \n\nIn order to view marts available on BioMart, use `find_marts()`; a dataframe with the available marts is returned, with their proper `name` and `display_name`:  ",
      "metadata": {
        "pycharm": {
          "metadata": false
        }
      }
    },
    {
      "cell_type": "code",
      "execution_count": 2,
      "outputs": [
        {
          "data": {
            "text/plain": "                    name           display_name\n0   ENSEMBL_MART_ENSEMBL       Ensembl Genes 96\n1     ENSEMBL_MART_MOUSE       Mouse strains 96\n2  ENSEMBL_MART_SEQUENCE               Sequence\n3  ENSEMBL_MART_ONTOLOGY               Ontology\n4   ENSEMBL_MART_GENOMIC    Genomic features 96\n5       ENSEMBL_MART_SNP   Ensembl Variation 96\n6   ENSEMBL_MART_FUNCGEN  Ensembl Regulation 96",
            "text/html": "\u003cdiv\u003e\n\u003cstyle scoped\u003e\n    .dataframe tbody tr th:only-of-type {\n        vertical-align: middle;\n    }\n\n    .dataframe tbody tr th {\n        vertical-align: top;\n    }\n\n    .dataframe thead th {\n        text-align: right;\n    }\n\u003c/style\u003e\n\u003ctable border\u003d\"1\" class\u003d\"dataframe\"\u003e\n  \u003cthead\u003e\n    \u003ctr style\u003d\"text-align: right;\"\u003e\n      \u003cth\u003e\u003c/th\u003e\n      \u003cth\u003ename\u003c/th\u003e\n      \u003cth\u003edisplay_name\u003c/th\u003e\n    \u003c/tr\u003e\n  \u003c/thead\u003e\n  \u003ctbody\u003e\n    \u003ctr\u003e\n      \u003cth\u003e0\u003c/th\u003e\n      \u003ctd\u003eENSEMBL_MART_ENSEMBL\u003c/td\u003e\n      \u003ctd\u003eEnsembl Genes 96\u003c/td\u003e\n    \u003c/tr\u003e\n    \u003ctr\u003e\n      \u003cth\u003e1\u003c/th\u003e\n      \u003ctd\u003eENSEMBL_MART_MOUSE\u003c/td\u003e\n      \u003ctd\u003eMouse strains 96\u003c/td\u003e\n    \u003c/tr\u003e\n    \u003ctr\u003e\n      \u003cth\u003e2\u003c/th\u003e\n      \u003ctd\u003eENSEMBL_MART_SEQUENCE\u003c/td\u003e\n      \u003ctd\u003eSequence\u003c/td\u003e\n    \u003c/tr\u003e\n    \u003ctr\u003e\n      \u003cth\u003e3\u003c/th\u003e\n      \u003ctd\u003eENSEMBL_MART_ONTOLOGY\u003c/td\u003e\n      \u003ctd\u003eOntology\u003c/td\u003e\n    \u003c/tr\u003e\n    \u003ctr\u003e\n      \u003cth\u003e4\u003c/th\u003e\n      \u003ctd\u003eENSEMBL_MART_GENOMIC\u003c/td\u003e\n      \u003ctd\u003eGenomic features 96\u003c/td\u003e\n    \u003c/tr\u003e\n    \u003ctr\u003e\n      \u003cth\u003e5\u003c/th\u003e\n      \u003ctd\u003eENSEMBL_MART_SNP\u003c/td\u003e\n      \u003ctd\u003eEnsembl Variation 96\u003c/td\u003e\n    \u003c/tr\u003e\n    \u003ctr\u003e\n      \u003cth\u003e6\u003c/th\u003e\n      \u003ctd\u003eENSEMBL_MART_FUNCGEN\u003c/td\u003e\n      \u003ctd\u003eEnsembl Regulation 96\u003c/td\u003e\n    \u003c/tr\u003e\n  \u003c/tbody\u003e\n\u003c/table\u003e\n\u003c/div\u003e"
          },
          "metadata": {},
          "output_type": "execute_result",
          "execution_count": 2
        }
      ],
      "source": "apybiomart.find_marts()",
      "metadata": {
        "pycharm": {
          "metadata": false,
          "name": "#%%\n",
          "is_executing": false
        }
      }
    },
    {
      "cell_type": "code",
      "execution_count": null,
      "outputs": [],
      "source": "\n",
      "metadata": {
        "pycharm": {
          "metadata": false,
          "name": "#%%\n"
        }
      }
    }
  ],
  "metadata": {
    "language_info": {
      "codemirror_mode": {
        "name": "ipython",
        "version": 2
      },
      "file_extension": ".py",
      "mimetype": "text/x-python",
      "name": "python",
      "nbconvert_exporter": "python",
      "pygments_lexer": "ipython2",
      "version": "2.7.6"
    },
    "kernelspec": {
      "name": "python3",
      "language": "python",
      "display_name": "Python 3"
    },
    "stem_cell": {
      "cell_type": "raw",
      "source": "",
      "metadata": {
        "pycharm": {
          "metadata": false
        }
      }
    }
  },
  "nbformat": 4,
  "nbformat_minor": 0
}