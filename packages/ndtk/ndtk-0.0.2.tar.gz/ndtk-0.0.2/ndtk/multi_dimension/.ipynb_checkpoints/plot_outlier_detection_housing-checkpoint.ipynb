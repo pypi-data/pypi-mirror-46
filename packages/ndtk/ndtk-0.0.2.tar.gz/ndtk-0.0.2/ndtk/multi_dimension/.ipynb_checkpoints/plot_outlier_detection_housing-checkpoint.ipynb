{
 "cells": [
  {
   "cell_type": "code",
   "execution_count": null,
   "metadata": {
    "collapsed": false
   },
   "outputs": [],
   "source": [
    "%matplotlib inline"
   ]
  },
  {
   "cell_type": "markdown",
   "metadata": {},
   "source": [
    "\n",
    "# Outlier detection on a real data set\n",
    "\n",
    "\n",
    "This example illustrates the need for robust covariance estimation\n",
    "on a real data set. It is useful both for outlier detection and for\n",
    "a better understanding of the data structure.\n",
    "\n",
    "We selected two sets of two variables from the Boston housing data set\n",
    "as an illustration of what kind of analysis can be done with several\n",
    "outlier detection tools. For the purpose of visualization, we are working\n",
    "with two-dimensional examples, but one should be aware that things are\n",
    "not so trivial in high-dimension, as it will be pointed out.\n",
    "\n",
    "In both examples below, the main result is that the empirical covariance\n",
    "estimate, as a non-robust one, is highly influenced by the heterogeneous\n",
    "structure of the observations. Although the robust covariance estimate is\n",
    "able to focus on the main mode of the data distribution, it sticks to the\n",
    "assumption that the data should be Gaussian distributed, yielding some biased\n",
    "estimation of the data structure, but yet accurate to some extent.\n",
    "The One-Class SVM does not assume any parametric form of the data distribution\n",
    "and can therefore model the complex shape of the data much better.\n",
    "\n",
    "First example\n",
    "-------------\n",
    "The first example illustrates how robust covariance estimation can help\n",
    "concentrating on a relevant cluster when another one exists. Here, many\n",
    "observations are confounded into one and break down the empirical covariance\n",
    "estimation.\n",
    "Of course, some screening tools would have pointed out the presence of two\n",
    "clusters (Support Vector Machines, Gaussian Mixture Models, univariate\n",
    "outlier detection, ...). But had it been a high-dimensional example, none\n",
    "of these could be applied that easily.\n",
    "\n",
    "Second example\n",
    "--------------\n",
    "The second example shows the ability of the Minimum Covariance Determinant\n",
    "robust estimator of covariance to concentrate on the main mode of the data\n",
    "distribution: the location seems to be well estimated, although the covariance\n",
    "is hard to estimate due to the banana-shaped distribution. Anyway, we can\n",
    "get rid of some outlying observations.\n",
    "The One-Class SVM is able to capture the real data structure, but the\n",
    "difficulty is to adjust its kernel bandwidth parameter so as to obtain\n",
    "a good compromise between the shape of the data scatter matrix and the\n",
    "risk of over-fitting the data.\n",
    "\n"
   ]
  },
  {
   "cell_type": "code",
   "execution_count": null,
   "metadata": {
    "collapsed": false
   },
   "outputs": [
    {
     "name": "stdout",
     "output_type": "stream",
     "text": [
      "Automatically created module for IPython interactive environment\n"
     ]
    }
   ],
   "source": [
    "print(__doc__)\n",
    "\n",
    "# Author: Virgile Fritsch <virgile.fritsch@inria.fr>\n",
    "# License: BSD 3 clause\n",
    "\n",
    "import numpy as np\n",
    "from sklearn.covariance import EllipticEnvelope\n",
    "from sklearn.svm import OneClassSVM\n",
    "import matplotlib.pyplot as plt\n",
    "import matplotlib.font_manager\n",
    "from sklearn.datasets import load_boston\n",
    "\n",
    "# Get data\n",
    "X1 = load_boston()['data'][:, [8, 10]]  # two clusters\n",
    "X2 = load_boston()['data'][:, [5, 12]]  # \"banana\"-shaped\n",
    "\n",
    "# Define \"classifiers\" to be used\n",
    "classifiers = {\n",
    "#    \"Empirical Covariance\": EllipticEnvelope(support_fraction=1.,\n",
    "#                                             contamination=0.261),\n",
    "#    \"Robust Covariance (Minimum Covariance Determinant)\":\n",
    "#    EllipticEnvelope(contamination=0.261),\n",
    "    \"OCSVM\": OneClassSVM(nu=0.261, gamma=0.05)}\n",
    "colors = ['m', 'g', 'b']\n",
    "legend1 = {}\n",
    "legend2 = {}\n",
    "\n",
    "# Learn a frontier for outlier detection with several classifiers\n",
    "xx1, yy1 = np.meshgrid(np.linspace(-8, 28, 500), np.linspace(3, 40, 500))\n",
    "xx2, yy2 = np.meshgrid(np.linspace(3, 10, 500), np.linspace(-5, 45, 500))\n",
    "for i, (clf_name, clf) in enumerate(classifiers.items()):\n",
    "    plt.figure(1)\n",
    "    clf.fit(X1)\n",
    "    Z1 = clf.decision_function(np.c_[xx1.ravel(), yy1.ravel()])\n",
    "    Z1 = Z1.reshape(xx1.shape)\n",
    "    legend1[clf_name] = plt.contour(\n",
    "        xx1, yy1, Z1, levels=[0], linewidths=2, colors=colors[i])\n",
    "    plt.figure(2)\n",
    "    clf.fit(X2)\n",
    "    Z2 = clf.decision_function(np.c_[xx2.ravel(), yy2.ravel()])\n",
    "    Z2 = Z2.reshape(xx2.shape)\n",
    "    legend2[clf_name] = plt.contour(\n",
    "        xx2, yy2, Z2, levels=[0], linewidths=2, colors=colors[i])\n",
    "\n",
    "legend1_values_list = list(legend1.values())\n",
    "legend1_keys_list = list(legend1.keys())\n",
    "\n",
    "# Plot the results (= shape of the data points cloud)\n",
    "plt.figure(1)  # two clusters\n",
    "plt.title(\"Outlier detection on a real data set (boston housing)\")\n",
    "plt.scatter(X1[:, 0], X1[:, 1], color='black')\n",
    "bbox_args = dict(boxstyle=\"round\", fc=\"0.8\")\n",
    "arrow_args = dict(arrowstyle=\"->\")\n",
    "plt.annotate(\"several confounded points\", xy=(24, 19),\n",
    "             xycoords=\"data\", textcoords=\"data\",\n",
    "             xytext=(13, 10), bbox=bbox_args, arrowprops=arrow_args)\n",
    "plt.xlim((xx1.min(), xx1.max()))\n",
    "plt.ylim((yy1.min(), yy1.max()))\n",
    "plt.legend((legend1_values_list[0].collections[0],\n",
    "            legend1_values_list[1].collections[0],\n",
    "            legend1_values_list[2].collections[0]),\n",
    "           (legend1_keys_list[0], legend1_keys_list[1], legend1_keys_list[2]),\n",
    "           loc=\"upper center\",\n",
    "           prop=matplotlib.font_manager.FontProperties(size=12))\n",
    "plt.ylabel(\"accessibility to radial highways\")\n",
    "plt.xlabel(\"pupil-teacher ratio by town\")\n",
    "\n",
    "legend2_values_list = list(legend2.values())\n",
    "legend2_keys_list = list(legend2.keys())\n",
    "\n",
    "plt.figure(2)  # \"banana\" shape\n",
    "plt.title(\"Outlier detection on a real data set (boston housing)\")\n",
    "plt.scatter(X2[:, 0], X2[:, 1], color='black')\n",
    "plt.xlim((xx2.min(), xx2.max()))\n",
    "plt.ylim((yy2.min(), yy2.max()))\n",
    "plt.legend((legend2_values_list[0].collections[0],\n",
    "            #legend2_values_list[1].collections[0],\n",
    "            #legend2_values_list[2].collections[0]),\n",
    "           ),\n",
    "#           (legend2_keys_list[0], legend2_keys_list[1], legend2_keys_list[2]),\n",
    "                      (legend2_keys_list[0],),\n",
    "           loc=\"upper center\",\n",
    "           prop=matplotlib.font_manager.FontProperties(size=12))\n",
    "plt.ylabel(\"% lower status of the population\")\n",
    "plt.xlabel(\"average number of rooms per dwelling\")\n",
    "\n",
    "plt.show()"
   ]
  },
  {
   "cell_type": "code",
   "execution_count": null,
   "metadata": {
    "collapsed": false
   },
   "outputs": [],
   "source": [
    "legend1['OCSVM']\n",
    "len(X1)"
   ]
  },
  {
   "cell_type": "code",
   "execution_count": null,
   "metadata": {
    "collapsed": false
   },
   "outputs": [],
   "source": [
    "Z2.shape"
   ]
  },
  {
   "cell_type": "code",
   "execution_count": null,
   "metadata": {
    "collapsed": false
   },
   "outputs": [],
   "source": [
    "((legend1_values_list[0].collections[0],\n",
    "            legend1_values_list[1].collections[0],\n",
    "            legend1_values_list[2].collections[0]),\n",
    "           (legend1_keys_list[0], legend1_keys_list[1], legend1_keys_list[2]),\n",
    ")"
   ]
  }
 ],
 "metadata": {
  "kernelspec": {
   "display_name": "Python [default]",
   "language": "python",
   "name": "python2"
  },
  "language_info": {
   "codemirror_mode": {
    "name": "ipython",
    "version": 2
   },
   "file_extension": ".py",
   "mimetype": "text/x-python",
   "name": "python",
   "nbconvert_exporter": "python",
   "pygments_lexer": "ipython2",
   "version": "2.7.12"
  }
 },
 "nbformat": 4,
 "nbformat_minor": 0
}
