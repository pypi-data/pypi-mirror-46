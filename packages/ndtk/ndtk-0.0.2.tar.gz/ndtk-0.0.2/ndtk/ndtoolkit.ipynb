{
 "cells": [
  {
   "cell_type": "code",
   "execution_count": 7,
   "metadata": {
    "collapsed": false
   },
   "outputs": [],
   "source": [
    "from control_chart.control_chart import *\n",
    "from multi_dimension.multi_dimension import *"
   ]
  },
  {
   "cell_type": "code",
   "execution_count": null,
   "metadata": {
    "collapsed": true
   },
   "outputs": [],
   "source": [
    "from optparse import OptionParser \n",
    "parser = OptionParser()\n",
    "\n",
    "parser.add_option(\"-p\", \"--pdbk\", action=\"store_true\", \n",
    "   dest=\"pdcl\", \n",
    "   default=False, \n",
    "   help=\"write pdbk data to oracle db\") \n",
    "parser.add_option(\"-z\", \"--zdbk\", action=\"store_true\", \n",
    "   dest=\"zdcl\", \n",
    "   default=False, \n",
    "   help=\"write zdbk data to oracle db\") \n",
    "(options, args) = parser.parse_args() \n",
    "if options.pdcl==True: \n",
    " print 'pdcl is true' \n",
    "if options.zdcl==True: \n",
    " print 'zdcl is true' \n"
   ]
  }
 ],
 "metadata": {
  "anaconda-cloud": {},
  "kernelspec": {
   "display_name": "Python [conda root]",
   "language": "python",
   "name": "conda-root-py"
  },
  "language_info": {
   "codemirror_mode": {
    "name": "ipython",
    "version": 2
   },
   "file_extension": ".py",
   "mimetype": "text/x-python",
   "name": "python",
   "nbconvert_exporter": "python",
   "pygments_lexer": "ipython2",
   "version": "2.7.12"
  }
 },
 "nbformat": 4,
 "nbformat_minor": 1
}
