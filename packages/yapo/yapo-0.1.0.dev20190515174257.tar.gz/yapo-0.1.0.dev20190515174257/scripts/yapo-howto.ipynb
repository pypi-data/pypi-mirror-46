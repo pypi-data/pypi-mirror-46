{
 "cells": [
  {
   "cell_type": "code",
   "execution_count": 1,
   "metadata": {},
   "outputs": [],
   "source": [
    "import yapo\n",
    "import itertools as it\n",
    "\n",
    "from IPython.core.interactiveshell import InteractiveShell\n",
    "InteractiveShell.ast_node_interactivity = \"all\""
   ]
  },
  {
   "cell_type": "markdown",
   "metadata": {},
   "source": [
    "Get all existing symbols names\n",
    "---"
   ]
  },
  {
   "cell_type": "code",
   "execution_count": 2,
   "metadata": {},
   "outputs": [
    {
     "data": {
      "text/plain": [
       "['cbr', 'index', 'infl', 'micex', 'mut_ru', 'ny']"
      ]
     },
     "execution_count": 2,
     "metadata": {},
     "output_type": "execute_result"
    }
   ],
   "source": [
    "yapo.available_names() # available namespaces"
   ]
  },
  {
   "cell_type": "code",
   "execution_count": 3,
   "metadata": {},
   "outputs": [
    {
     "data": {
      "text/plain": [
       "[{'fin_sym_id': micex/ABRD, 'short_name': 'АбрауДюрсо'},\n",
       " {'fin_sym_id': micex/ACKO, 'short_name': 'АСКО ао'},\n",
       " {'fin_sym_id': micex/AFKS, 'short_name': 'Система ао'},\n",
       " {'fin_sym_id': micex/AFLT, 'short_name': 'Аэрофлот'},\n",
       " {'fin_sym_id': micex/AKRN, 'short_name': 'Акрон'}]"
      ]
     },
     "execution_count": 3,
     "metadata": {},
     "output_type": "execute_result"
    }
   ],
   "source": [
    "yapo.available_names(namespace='micex')[:5] # get symbols in the namespace"
   ]
  },
  {
   "cell_type": "code",
   "execution_count": 4,
   "metadata": {},
   "outputs": [
    {
     "data": {
      "text/plain": [
       "[{'fin_sym_id': index/IMOEX, 'short_name': 'Индекс МосБиржи и Индекс РТС'},\n",
       " {'fin_sym_id': index/MCFTR,\n",
       "  'short_name': 'Индекс МосБиржи полной доходности \"брутто\"'},\n",
       " {'fin_sym_id': index/OKID10, 'short_name': 'OKID10'},\n",
       " {'fin_sym_id': index/^DJA, 'short_name': None},\n",
       " {'fin_sym_id': index/^FVX, 'short_name': None}]"
      ]
     },
     "execution_count": 4,
     "metadata": {},
     "output_type": "execute_result"
    }
   ],
   "source": [
    "yapo.available_names(namespace='index')[:5] # get symbols in the namespace"
   ]
  },
  {
   "cell_type": "code",
   "execution_count": 5,
   "metadata": {},
   "outputs": [
    {
     "data": {
      "text/plain": [
       "[{'fin_sym_id': infl/EUR, 'short_name': 'Инфляция ЕС'},\n",
       " {'fin_sym_id': infl/RUB, 'short_name': 'Инфляция РФ'},\n",
       " {'fin_sym_id': infl/USD, 'short_name': 'Инфляция США'},\n",
       " {'fin_sym_id': mut_ru/0007-45141428,\n",
       "  'short_name': 'Сбербанк – Фонд облигаций Илья Муромец'},\n",
       " {'fin_sym_id': mut_ru/0009-46349328, 'short_name': 'Атон - Петр Столыпин'},\n",
       " {'fin_sym_id': mut_ru/0011-46360962,\n",
       "  'short_name': 'Сбербанк – Фонд акций Добрыня Никитич'},\n",
       " {'fin_sym_id': mut_ru/0012-46539678, 'short_name': 'ВТБ — БРИК'}]"
      ]
     },
     "execution_count": 5,
     "metadata": {},
     "output_type": "execute_result"
    }
   ],
   "source": [
    "yapo.available_names(namespaces=['infl', 'mut_ru'])[:7] # get symbols in several namespaces"
   ]
  },
  {
   "cell_type": "markdown",
   "metadata": {},
   "source": [
    "Fetch financial symbols information\n",
    "---"
   ]
  },
  {
   "cell_type": "code",
   "execution_count": 6,
   "metadata": {},
   "outputs": [
    {
     "data": {
      "text/plain": [
       "TimeSeries(start_period=2017-10, end_period=2017-12, kind=TimeSeriesKind.VALUES, values=[251.05134724 258.72493694 261.85207573]"
      ]
     },
     "execution_count": 6,
     "metadata": {},
     "output_type": "execute_result"
    }
   ],
   "source": [
    "asset = yapo.portfolio_asset(name='ny/SPY', \n",
    "                             start_period='2017-10', end_period='2017-12', currency='usd')\n",
    "asset.close()"
   ]
  },
  {
   "cell_type": "code",
   "execution_count": 7,
   "metadata": {},
   "outputs": [
    {
     "data": {
      "text/plain": [
       "Portfolio(\n",
       "     assets: micex/FXRU,\n",
       "     currency: <yapo._portfolio.currency.PortfolioCurrency object at 0x1081d0f28>,\n",
       ")"
      ]
     },
     "execution_count": 7,
     "metadata": {},
     "output_type": "execute_result"
    }
   ],
   "source": [
    "yapo.portfolio(assets={'micex/FXRU': 1/3},\n",
    "               start_period='2017-1', end_period='2017-12',\n",
    "               currency='RUB')"
   ]
  },
  {
   "cell_type": "code",
   "execution_count": 8,
   "metadata": {},
   "outputs": [
    {
     "data": {
      "text/plain": [
       "['assets',\n",
       " 'compound_annual_growth_rate',\n",
       " 'currency',\n",
       " 'inflation',\n",
       " 'portfolio_currency_factory',\n",
       " 'rate_of_return',\n",
       " 'risk',\n",
       " 'weights']"
      ]
     },
     "execution_count": 8,
     "metadata": {},
     "output_type": "execute_result"
    }
   ],
   "source": [
    "port = yapo.portfolio(assets={'ny/SPY': .5, 'mut_ru/0890-94127385': .5},\n",
    "                      start_period='2017-10', end_period='2017-12', currency='USD')\n",
    "[m for m in dir(port) if m[:1] != '_']"
   ]
  },
  {
   "cell_type": "code",
   "execution_count": 9,
   "metadata": {},
   "outputs": [
    {
     "data": {
      "text/plain": [
       "ny/VNQ\n",
       "{'_FinancialSymbol__values_fetcher': <yapo.common.financial_symbol.ValuesFetcher object at 0x107ffc470>,\n",
       " 'adjusted_close': True,\n",
       " 'currency': <Currency.USD: 2>,\n",
       " 'end_period': Period('2019-02-15', 'D'),\n",
       " 'exchange': 'NYSE Arca',\n",
       " 'identifier': ny/VNQ,\n",
       " 'isin': None,\n",
       " 'long_name': None,\n",
       " 'period': <Period.DAY: 1>,\n",
       " 'security_type': <SecurityType.STOCK_ETF: 1>,\n",
       " 'short_name': 'Vanguard Real Estate',\n",
       " 'start_period': Period('2004-09-29', 'D')}"
      ]
     },
     "execution_count": 9,
     "metadata": {},
     "output_type": "execute_result"
    }
   ],
   "source": [
    "yapo.information(name='ny/VNQ')"
   ]
  },
  {
   "cell_type": "code",
   "execution_count": 10,
   "metadata": {},
   "outputs": [
    {
     "data": {
      "text/plain": [
       "['Сбербанк', 'Microsoft Corporation', 'Открытие – Индекс МосБиржи']"
      ]
     },
     "execution_count": 10,
     "metadata": {},
     "output_type": "execute_result"
    }
   ],
   "source": [
    "infos = yapo.information(names=['micex/SBER', 'ny/MSFT', 'mut_ru/0890-94127385'])\n",
    "[i.short_name for i in infos]"
   ]
  },
  {
   "cell_type": "markdown",
   "metadata": {},
   "source": [
    "## Inflation"
   ]
  },
  {
   "cell_type": "code",
   "execution_count": 11,
   "metadata": {},
   "outputs": [
    {
     "data": {
      "text/plain": [
       "TimeSeries(start_period=2015-05, end_period=2018-07, kind=TimeSeriesKind.DIFF, values=[ 0.0035  0.0019  0.008   0.0035  0.0057  0.0074  0.0075  0.0077  0.0096\n",
       "  0.0063  0.0046  0.0044  0.0041  0.0036  0.0054  0.0001  0.0017  0.0043\n",
       "  0.0044  0.004   0.0062  0.0022  0.0013  0.0033  0.0037  0.0061  0.0007\n",
       " -0.0054 -0.0015  0.002   0.0022  0.0042  0.0031  0.0021  0.0029  0.0038\n",
       "  0.0038  0.0049  0.0027]"
      ]
     },
     "execution_count": 11,
     "metadata": {},
     "output_type": "execute_result"
    },
    {
     "data": {
      "text/plain": [
       "TimeSeries(start_period=2013-08, end_period=2018-07, kind=TimeSeriesKind.DIFF, values=[ 0.0014  0.0021  0.0057  0.0056  0.0051  0.0059  0.007   0.0102  0.009\n",
       "  0.009   0.0062  0.0049  0.0024  0.0065  0.0082  0.0128  0.0262  0.0385\n",
       "  0.0222  0.0121  0.0046  0.0035  0.0019  0.008   0.0035  0.0057  0.0074\n",
       "  0.0075  0.0077  0.0096  0.0063  0.0046  0.0044  0.0041  0.0036  0.0054\n",
       "  0.0001  0.0017  0.0043  0.0044  0.004   0.0062  0.0022  0.0013  0.0033\n",
       "  0.0037  0.0061  0.0007 -0.0054 -0.0015  0.002   0.0022  0.0042  0.0031\n",
       "  0.0021  0.0029  0.0038  0.0038  0.0049  0.0027]"
      ]
     },
     "execution_count": 11,
     "metadata": {},
     "output_type": "execute_result"
    },
    {
     "data": {
      "text/plain": [
       "TimeSeries(start_period=2016-01, end_period=2017-01, kind=TimeSeriesKind.YTD, values=[0.05375142 0.02523063]"
      ]
     },
     "execution_count": 11,
     "metadata": {},
     "output_type": "execute_result"
    },
    {
     "data": {
      "text/plain": [
       "TimeSeries(start_period=2014-01, end_period=2017-01, kind=TimeSeriesKind.YTD, values=[0.11362345 0.12908165 0.05375142 0.02523063]"
      ]
     },
     "execution_count": 11,
     "metadata": {},
     "output_type": "execute_result"
    }
   ],
   "source": [
    "start_period = '2015-5'\n",
    "end_period = '2018-7'\n",
    "years_ago = 5\n",
    "\n",
    "yapo.inflation(currency='rub', kind='values', start_period=start_period, end_period=end_period)\n",
    "yapo.inflation(currency='rub', kind='values', end_period=end_period, years_ago=years_ago)\n",
    "yapo.inflation(currency='rub', kind='yoy', start_period=start_period, end_period=end_period)\n",
    "yapo.inflation(currency='rub', kind='yoy', end_period=end_period, years_ago=years_ago)"
   ]
  },
  {
   "cell_type": "markdown",
   "metadata": {},
   "source": [
    "Portfolio and Asset Interactions\n",
    "---"
   ]
  },
  {
   "cell_type": "code",
   "execution_count": 12,
   "metadata": {},
   "outputs": [],
   "source": [
    "asset = yapo.portfolio_asset(name='micex/SBER',\n",
    "                             start_period='2011-3', end_period='2015-5', currency='USD')\n",
    "portfolio = yapo.portfolio(assets={'ny/MSFT': .2,\n",
    "                                   'micex/SBER': .2,\n",
    "                                   'mut_ru/0890-94127385': .2,\n",
    "                                   'cbr/USD': .2, \n",
    "                                   'cbr/EUR': .2},\n",
    "                           start_period='2011-3', end_period='2015-5', currency='USD')"
   ]
  },
  {
   "cell_type": "code",
   "execution_count": 13,
   "metadata": {},
   "outputs": [
    {
     "data": {
      "text/plain": [
       "{'ny/MSFT': PortfolioAsset(\n",
       "      symbol: ny/MSFT,\n",
       "      currency: <yapo._portfolio.currency.PortfolioCurrency object at 0x109aa8fd0>,\n",
       "      period_min: 2011-11,\n",
       "      period_max: 2015-05\n",
       " ), 'micex/SBER': PortfolioAsset(\n",
       "      symbol: micex/SBER,\n",
       "      currency: <yapo._portfolio.currency.PortfolioCurrency object at 0x109aac2e8>,\n",
       "      period_min: 2011-11,\n",
       "      period_max: 2015-05\n",
       " ), 'mut_ru/0890-94127385': PortfolioAsset(\n",
       "      symbol: mut_ru/0890-94127385,\n",
       "      currency: <yapo._portfolio.currency.PortfolioCurrency object at 0x109aa8da0>,\n",
       "      period_min: 2011-11,\n",
       "      period_max: 2015-05\n",
       " ), 'cbr/USD': PortfolioAsset(\n",
       "      symbol: cbr/USD,\n",
       "      currency: <yapo._portfolio.currency.PortfolioCurrency object at 0x109aa8a58>,\n",
       "      period_min: 2011-11,\n",
       "      period_max: 2015-05\n",
       " ), 'cbr/EUR': PortfolioAsset(\n",
       "      symbol: cbr/EUR,\n",
       "      currency: <yapo._portfolio.currency.PortfolioCurrency object at 0x109aa8be0>,\n",
       "      period_min: 2011-11,\n",
       "      period_max: 2015-05\n",
       " )}"
      ]
     },
     "execution_count": 13,
     "metadata": {},
     "output_type": "execute_result"
    }
   ],
   "source": [
    "portfolio.assets"
   ]
  },
  {
   "cell_type": "code",
   "execution_count": 14,
   "metadata": {},
   "outputs": [
    {
     "data": {
      "text/plain": [
       "PortfolioAsset(\n",
       "     symbol: micex/SBER,\n",
       "     currency: <yapo._portfolio.currency.PortfolioCurrency object at 0x109aac2e8>,\n",
       "     period_min: 2011-11,\n",
       "     period_max: 2015-05\n",
       ")"
      ]
     },
     "execution_count": 14,
     "metadata": {},
     "output_type": "execute_result"
    },
    {
     "data": {
      "text/plain": [
       "Portfolio(\n",
       "     assets: ny/MSFT, micex/SBER, mut_ru/0890-94127385, cbr/USD, cbr/EUR,\n",
       "     currency: <yapo._portfolio.currency.PortfolioCurrency object at 0x109aa8710>,\n",
       ")"
      ]
     },
     "execution_count": 14,
     "metadata": {},
     "output_type": "execute_result"
    },
    {
     "data": {
      "text/plain": [
       "0.2"
      ]
     },
     "execution_count": 14,
     "metadata": {},
     "output_type": "execute_result"
    }
   ],
   "source": [
    "portfolio.assets['micex/SBER']\n",
    "portfolio.assets['micex/SBER'].portfolio\n",
    "portfolio.assets['micex/SBER'].weight"
   ]
  },
  {
   "cell_type": "code",
   "execution_count": 15,
   "metadata": {},
   "outputs": [
    {
     "data": {
      "text/plain": [
       "'ny/MSFT'"
      ]
     },
     "execution_count": 15,
     "metadata": {},
     "output_type": "execute_result"
    },
    {
     "data": {
      "text/plain": [
       "'micex/SBER'"
      ]
     },
     "execution_count": 15,
     "metadata": {},
     "output_type": "execute_result"
    },
    {
     "data": {
      "text/plain": [
       "'mut_ru/0890-94127385'"
      ]
     },
     "execution_count": 15,
     "metadata": {},
     "output_type": "execute_result"
    },
    {
     "data": {
      "text/plain": [
       "'cbr/USD'"
      ]
     },
     "execution_count": 15,
     "metadata": {},
     "output_type": "execute_result"
    },
    {
     "data": {
      "text/plain": [
       "'cbr/EUR'"
      ]
     },
     "execution_count": 15,
     "metadata": {},
     "output_type": "execute_result"
    }
   ],
   "source": [
    "for asset_name in portfolio.assets.keys():\n",
    "    asset_name"
   ]
  },
  {
   "cell_type": "code",
   "execution_count": 16,
   "metadata": {},
   "outputs": [
    {
     "data": {
      "text/plain": [
       "PortfolioAsset(\n",
       "     symbol: ny/MSFT,\n",
       "     currency: <yapo._portfolio.currency.PortfolioCurrency object at 0x109aa8fd0>,\n",
       "     period_min: 2011-11,\n",
       "     period_max: 2015-05\n",
       ")"
      ]
     },
     "execution_count": 16,
     "metadata": {},
     "output_type": "execute_result"
    },
    {
     "data": {
      "text/plain": [
       "PortfolioAsset(\n",
       "     symbol: micex/SBER,\n",
       "     currency: <yapo._portfolio.currency.PortfolioCurrency object at 0x109aac2e8>,\n",
       "     period_min: 2011-11,\n",
       "     period_max: 2015-05\n",
       ")"
      ]
     },
     "execution_count": 16,
     "metadata": {},
     "output_type": "execute_result"
    },
    {
     "data": {
      "text/plain": [
       "PortfolioAsset(\n",
       "     symbol: mut_ru/0890-94127385,\n",
       "     currency: <yapo._portfolio.currency.PortfolioCurrency object at 0x109aa8da0>,\n",
       "     period_min: 2011-11,\n",
       "     period_max: 2015-05\n",
       ")"
      ]
     },
     "execution_count": 16,
     "metadata": {},
     "output_type": "execute_result"
    },
    {
     "data": {
      "text/plain": [
       "PortfolioAsset(\n",
       "     symbol: cbr/USD,\n",
       "     currency: <yapo._portfolio.currency.PortfolioCurrency object at 0x109aa8a58>,\n",
       "     period_min: 2011-11,\n",
       "     period_max: 2015-05\n",
       ")"
      ]
     },
     "execution_count": 16,
     "metadata": {},
     "output_type": "execute_result"
    },
    {
     "data": {
      "text/plain": [
       "PortfolioAsset(\n",
       "     symbol: cbr/EUR,\n",
       "     currency: <yapo._portfolio.currency.PortfolioCurrency object at 0x109aa8be0>,\n",
       "     period_min: 2011-11,\n",
       "     period_max: 2015-05\n",
       ")"
      ]
     },
     "execution_count": 16,
     "metadata": {},
     "output_type": "execute_result"
    }
   ],
   "source": [
    "for asset in portfolio.assets.values():\n",
    "    asset"
   ]
  },
  {
   "cell_type": "markdown",
   "metadata": {},
   "source": [
    "### Asset Properties: Names, Exchange, Currency, Security Type"
   ]
  },
  {
   "cell_type": "code",
   "execution_count": 17,
   "metadata": {},
   "outputs": [
    {
     "data": {
      "text/plain": [
       "micex/SBER"
      ]
     },
     "execution_count": 17,
     "metadata": {},
     "output_type": "execute_result"
    },
    {
     "data": {
      "text/plain": [
       "'Сбербанк'"
      ]
     },
     "execution_count": 17,
     "metadata": {},
     "output_type": "execute_result"
    },
    {
     "data": {
      "text/plain": [
       "'Сбербанк России ПАО ао'"
      ]
     },
     "execution_count": 17,
     "metadata": {},
     "output_type": "execute_result"
    },
    {
     "data": {
      "text/plain": [
       "'RU0009029540'"
      ]
     },
     "execution_count": 17,
     "metadata": {},
     "output_type": "execute_result"
    },
    {
     "data": {
      "text/plain": [
       "'MICEX'"
      ]
     },
     "execution_count": 17,
     "metadata": {},
     "output_type": "execute_result"
    },
    {
     "data": {
      "text/plain": [
       "<Currency.RUB: 1>"
      ]
     },
     "execution_count": 17,
     "metadata": {},
     "output_type": "execute_result"
    },
    {
     "data": {
      "text/plain": [
       "<SecurityType.STOCK_ETF: 1>"
      ]
     },
     "execution_count": 17,
     "metadata": {},
     "output_type": "execute_result"
    },
    {
     "data": {
      "text/plain": [
       "<Period.DAY: 1>"
      ]
     },
     "execution_count": 17,
     "metadata": {},
     "output_type": "execute_result"
    }
   ],
   "source": [
    "sber_symbol = portfolio.assets['micex/SBER'].symbol\n",
    "\n",
    "sber_symbol.identifier\n",
    "sber_symbol.short_name\n",
    "sber_symbol.long_name\n",
    "sber_symbol.isin\n",
    "sber_symbol.exchange\n",
    "sber_symbol.currency\n",
    "sber_symbol.security_type\n",
    "sber_symbol.period"
   ]
  },
  {
   "cell_type": "markdown",
   "metadata": {},
   "source": [
    "### Period Bounds"
   ]
  },
  {
   "cell_type": "code",
   "execution_count": 18,
   "metadata": {},
   "outputs": [
    {
     "data": {
      "text/plain": [
       "Period('2011-12', 'M')"
      ]
     },
     "execution_count": 18,
     "metadata": {},
     "output_type": "execute_result"
    },
    {
     "data": {
      "text/plain": [
       "Period('2015-05', 'M')"
      ]
     },
     "execution_count": 18,
     "metadata": {},
     "output_type": "execute_result"
    },
    {
     "data": {
      "text/plain": [
       "[Period('2011-12', 'M'),\n",
       " Period('2012-01', 'M'),\n",
       " Period('2012-02', 'M'),\n",
       " Period('2012-03', 'M'),\n",
       " Period('2012-04', 'M')]"
      ]
     },
     "execution_count": 18,
     "metadata": {},
     "output_type": "execute_result"
    }
   ],
   "source": [
    "portfolio.rate_of_return().start_period\n",
    "portfolio.rate_of_return().end_period\n",
    "portfolio.rate_of_return().period_range()[:5]"
   ]
  },
  {
   "cell_type": "markdown",
   "metadata": {},
   "source": [
    "### Inflation"
   ]
  },
  {
   "cell_type": "code",
   "execution_count": 19,
   "metadata": {},
   "outputs": [
    {
     "data": {
      "text/plain": [
       "TimeSeries(start_period=2011-12, end_period=2015-05, kind=TimeSeriesKind.REDUCED_VALUE, values=[0.00119498]"
      ]
     },
     "execution_count": 19,
     "metadata": {},
     "output_type": "execute_result"
    },
    {
     "data": {
      "text/plain": [
       "TimeSeries(start_period=2011-12, end_period=2015-05, kind=TimeSeriesKind.REDUCED_VALUE, values=[0.0143594]"
      ]
     },
     "execution_count": 19,
     "metadata": {},
     "output_type": "execute_result"
    },
    {
     "data": {
      "text/plain": [
       "TimeSeries(start_period=2011-12, end_period=2015-05, kind=TimeSeriesKind.REDUCED_VALUE, values=[0.05116649]"
      ]
     },
     "execution_count": 19,
     "metadata": {},
     "output_type": "execute_result"
    },
    {
     "data": {
      "text/plain": [
       "TimeSeries(start_period=2014-06, end_period=2015-05, kind=TimeSeriesKind.REDUCED_VALUE, values=[-0.0003985]"
      ]
     },
     "execution_count": 19,
     "metadata": {},
     "output_type": "execute_result"
    },
    {
     "data": {
      "text/plain": [
       "TimeSeries(start_period=2011-12, end_period=2015-05, kind=TimeSeriesKind.DIFF, values=[-2.467e-03  4.400e-03  4.403e-03  7.595e-03  3.021e-03 -1.173e-03\n",
       " -1.466e-03 -1.630e-03  5.565e-03  4.462e-03 -3.890e-04 -4.738e-03\n",
       " -2.693e-03  2.957e-03  8.190e-03  2.615e-03 -1.040e-03  1.780e-03\n",
       "  2.400e-03  3.940e-04  1.203e-03  1.163e-03 -2.575e-03 -2.042e-03\n",
       " -8.600e-05  3.720e-03  3.698e-03  6.440e-03  3.297e-03  3.493e-03\n",
       "  1.862e-03 -3.900e-04 -1.671e-03  7.530e-04 -2.512e-03 -5.399e-03\n",
       " -5.670e-03 -4.706e-03  4.343e-03  5.952e-03  2.033e-03  5.097e-03]"
      ]
     },
     "execution_count": 19,
     "metadata": {},
     "output_type": "execute_result"
    },
    {
     "data": {
      "text/plain": [
       "TimeSeries(start_period=2014-06, end_period=2015-05, kind=TimeSeriesKind.DIFF, values=[ 0.001862 -0.00039  -0.001671  0.000753 -0.002512 -0.005399 -0.00567\n",
       " -0.004706  0.004343  0.005952  0.002033  0.005097]"
      ]
     },
     "execution_count": 19,
     "metadata": {},
     "output_type": "execute_result"
    }
   ],
   "source": [
    "asset.inflation(kind='a_mean')\n",
    "asset.inflation(kind='g_mean')\n",
    "asset.inflation(kind='accumulated')\n",
    "asset.inflation(kind='accumulated', years_ago=1)\n",
    "asset.inflation(kind='values')\n",
    "asset.inflation(kind='values', years_ago=1)"
   ]
  },
  {
   "cell_type": "code",
   "execution_count": 20,
   "metadata": {},
   "outputs": [
    {
     "data": {
      "text/plain": [
       "TimeSeries(start_period=2011-12, end_period=2015-05, kind=TimeSeriesKind.REDUCED_VALUE, values=[0.00119498]"
      ]
     },
     "execution_count": 20,
     "metadata": {},
     "output_type": "execute_result"
    },
    {
     "data": {
      "text/plain": [
       "TimeSeries(start_period=2011-12, end_period=2015-05, kind=TimeSeriesKind.REDUCED_VALUE, values=[0.0143594]"
      ]
     },
     "execution_count": 20,
     "metadata": {},
     "output_type": "execute_result"
    },
    {
     "data": {
      "text/plain": [
       "TimeSeries(start_period=2011-12, end_period=2015-05, kind=TimeSeriesKind.REDUCED_VALUE, values=[0.05116649]"
      ]
     },
     "execution_count": 20,
     "metadata": {},
     "output_type": "execute_result"
    },
    {
     "data": {
      "text/plain": [
       "TimeSeries(start_period=2014-06, end_period=2015-05, kind=TimeSeriesKind.REDUCED_VALUE, values=[-0.0003985]"
      ]
     },
     "execution_count": 20,
     "metadata": {},
     "output_type": "execute_result"
    },
    {
     "data": {
      "text/plain": [
       "TimeSeries(start_period=2011-12, end_period=2015-05, kind=TimeSeriesKind.DIFF, values=[-2.467e-03  4.400e-03  4.403e-03  7.595e-03  3.021e-03 -1.173e-03\n",
       " -1.466e-03 -1.630e-03  5.565e-03  4.462e-03 -3.890e-04 -4.738e-03\n",
       " -2.693e-03  2.957e-03  8.190e-03  2.615e-03 -1.040e-03  1.780e-03\n",
       "  2.400e-03  3.940e-04  1.203e-03  1.163e-03 -2.575e-03 -2.042e-03\n",
       " -8.600e-05  3.720e-03  3.698e-03  6.440e-03  3.297e-03  3.493e-03\n",
       "  1.862e-03 -3.900e-04 -1.671e-03  7.530e-04 -2.512e-03 -5.399e-03\n",
       " -5.670e-03 -4.706e-03  4.343e-03  5.952e-03  2.033e-03  5.097e-03]"
      ]
     },
     "execution_count": 20,
     "metadata": {},
     "output_type": "execute_result"
    },
    {
     "data": {
      "text/plain": [
       "TimeSeries(start_period=2014-06, end_period=2015-05, kind=TimeSeriesKind.DIFF, values=[ 0.001862 -0.00039  -0.001671  0.000753 -0.002512 -0.005399 -0.00567\n",
       " -0.004706  0.004343  0.005952  0.002033  0.005097]"
      ]
     },
     "execution_count": 20,
     "metadata": {},
     "output_type": "execute_result"
    }
   ],
   "source": [
    "portfolio.inflation(kind='a_mean')\n",
    "portfolio.inflation(kind='g_mean')\n",
    "portfolio.inflation(kind='accumulated')\n",
    "portfolio.inflation(kind='accumulated', years_ago=1)\n",
    "portfolio.inflation(kind='values')\n",
    "portfolio.inflation(kind='values', years_ago=1)"
   ]
  },
  {
   "cell_type": "markdown",
   "metadata": {},
   "source": [
    "### Rate of Return"
   ]
  },
  {
   "cell_type": "code",
   "execution_count": 21,
   "metadata": {},
   "outputs": [
    {
     "data": {
      "text/plain": [
       "TimeSeries(start_period=2011-11, end_period=2015-05, kind=TimeSeriesKind.VALUES, values=[1.33600135 1.29429962 1.31630149 1.34410006 1.3355985  1.3255014\n",
       " 1.24680055 1.25919877 1.22879884 1.25490038 1.2930986  1.29150013\n",
       " 1.29459855 1.32449865 1.3492009  1.30769884 1.2805002  1.30649893\n",
       " 1.29679987 1.30600141 1.3259005  1.32379976 1.34949962 1.3741988\n",
       " 1.36139867 1.37399936 1.3646013  1.36880064 1.37449947 1.38679993\n",
       " 1.36080115 1.36260132 1.34060139 1.31679916 1.26829937 1.25910085\n",
       " 1.24509955 1.21479992 1.13320064 1.1210002  1.08390077 1.09870046\n",
       " 1.09520007]"
      ]
     },
     "execution_count": 21,
     "metadata": {},
     "output_type": "execute_result"
    }
   ],
   "source": [
    "asset.close()"
   ]
  },
  {
   "cell_type": "code",
   "execution_count": 22,
   "metadata": {},
   "outputs": [
    {
     "data": {
      "text/plain": [
       "TimeSeries(start_period=2011-12, end_period=2015-05, kind=TimeSeriesKind.DIFF, values=[-0.03121384  0.01699906  0.02111869 -0.00632509 -0.00755998 -0.0593744\n",
       "  0.00994402 -0.02414228  0.02124151  0.03043924 -0.00123615  0.00239909\n",
       "  0.02309603  0.01865027 -0.03076048 -0.02079885  0.02030357 -0.00742371\n",
       "  0.00709557  0.01523665 -0.00158439  0.01941371  0.01830248 -0.00931462\n",
       "  0.0092557  -0.00683993  0.00307734  0.00416337  0.00894905 -0.01874732\n",
       "  0.00132288 -0.01614554 -0.01775489 -0.03683158 -0.00725264 -0.01112008\n",
       " -0.0243351  -0.06717097 -0.01076635 -0.03309493  0.0136541  -0.00318594]"
      ]
     },
     "execution_count": 22,
     "metadata": {},
     "output_type": "execute_result"
    },
    {
     "data": {
      "text/plain": [
       "TimeSeries(start_period=2011-12, end_period=2015-05, kind=TimeSeriesKind.DIFF, values=[-0.02881793  0.01254387  0.01664242 -0.01381517 -0.01054911 -0.05826975\n",
       "  0.01142678 -0.02254903  0.01558975  0.02586184 -0.00084748  0.00717106\n",
       "  0.02585867  0.015647   -0.03863407 -0.02335279  0.02136579 -0.00918736\n",
       "  0.00468433  0.01483681 -0.00278404  0.01822951  0.02093138 -0.0072875\n",
       "  0.0093425  -0.01052079 -0.00061838 -0.00226206  0.00563348 -0.02216291\n",
       " -0.00053812 -0.01576168 -0.01611081 -0.0375563  -0.00475258 -0.00575213\n",
       " -0.01877154 -0.06276032 -0.01504402 -0.0388159   0.01159752 -0.00824093]"
      ]
     },
     "execution_count": 22,
     "metadata": {},
     "output_type": "execute_result"
    },
    {
     "data": {
      "text/plain": [
       "TimeSeries(start_period=2011-12, end_period=2015-05, kind=TimeSeriesKind.DIFF, values=[-0.02881793  0.01254387  0.01664242 -0.01381517 -0.01054911 -0.05826975\n",
       "  0.01142678 -0.02254903  0.01558975  0.02586184 -0.00084748  0.00717106\n",
       "  0.02585867  0.015647   -0.03863407 -0.02335279  0.02136579 -0.00918736\n",
       "  0.00468433  0.01483681 -0.00278404  0.01822951  0.02093138 -0.0072875\n",
       "  0.0093425  -0.01052079 -0.00061838 -0.00226206  0.00563348 -0.02216291\n",
       " -0.00053812 -0.01576168 -0.01611081 -0.0375563  -0.00475258 -0.00575213\n",
       " -0.01877154 -0.06276032 -0.01504402 -0.0388159   0.01159752 -0.00824093]"
      ]
     },
     "execution_count": 22,
     "metadata": {},
     "output_type": "execute_result"
    },
    {
     "data": {
      "text/plain": [
       "TimeSeries(start_period=2011-12, end_period=2015-05, kind=TimeSeriesKind.DIFF, values=[-0.03121384  0.01699906  0.02111869 -0.00632509 -0.00755998 -0.0593744\n",
       "  0.00994402 -0.02414228  0.02124151  0.03043924 -0.00123615  0.00239909\n",
       "  0.02309603  0.01865027 -0.03076048 -0.02079885  0.02030357 -0.00742371\n",
       "  0.00709557  0.01523665 -0.00158439  0.01941371  0.01830248 -0.00931462\n",
       "  0.0092557  -0.00683993  0.00307734  0.00416337  0.00894905 -0.01874732\n",
       "  0.00132288 -0.01614554 -0.01775489 -0.03683158 -0.00725264 -0.01112008\n",
       " -0.0243351  -0.06717097 -0.01076635 -0.03309493  0.0136541  -0.00318594]"
      ]
     },
     "execution_count": 22,
     "metadata": {},
     "output_type": "execute_result"
    },
    {
     "data": {
      "text/plain": [
       "TimeSeries(start_period=2011-12, end_period=2015-05, kind=TimeSeriesKind.CUMULATIVE, values=[-0.02881793 -0.01663556 -0.00027    -0.01408144 -0.024482   -0.08132519\n",
       " -0.0708277  -0.09177964 -0.07762071 -0.05376628 -0.05456819 -0.04778844\n",
       " -0.02316551 -0.00788098 -0.04621057 -0.06848421 -0.04858164 -0.05732266\n",
       " -0.05290684 -0.038855   -0.04153087 -0.02405845 -0.00363065 -0.01089169\n",
       " -0.00165094 -0.01215437 -0.01276523 -0.01499841 -0.00944943 -0.03140291\n",
       " -0.03192413 -0.04718264 -0.06253329 -0.09774108 -0.10202913 -0.10719438\n",
       " -0.12395372 -0.17893466 -0.19128678 -0.22267771 -0.2136627  -0.22014285]"
      ]
     },
     "execution_count": 22,
     "metadata": {},
     "output_type": "execute_result"
    },
    {
     "data": {
      "text/plain": [
       "TimeSeries(start_period=2011-12, end_period=2015-05, kind=TimeSeriesKind.CUMULATIVE, values=[-0.03121384 -0.01474539  0.0060619  -0.00030154 -0.00785924 -0.066767\n",
       " -0.05748691 -0.08024132 -0.06070426 -0.03211281 -0.03330926 -0.03099009\n",
       " -0.0086098   0.00987989 -0.0211845  -0.04154274 -0.02208263 -0.0293424\n",
       " -0.02245503 -0.00756051 -0.00913292  0.01010348  0.02859087  0.01900995\n",
       "  0.0284416   0.02140713  0.02455034  0.02881593  0.03802285  0.0185627\n",
       "  0.01991014  0.00344314 -0.01437288 -0.05067509 -0.0575602  -0.0680402\n",
       " -0.09071954 -0.15179679 -0.16092884 -0.18869785 -0.17762025 -0.1802403 ]"
      ]
     },
     "execution_count": 22,
     "metadata": {},
     "output_type": "execute_result"
    },
    {
     "data": {
      "text/plain": [
       "TimeSeries(start_period=2012-01, end_period=2014-01, kind=TimeSeriesKind.YTD, values=[ 0.00582015  0.02202479 -0.12250502]"
      ]
     },
     "execution_count": 22,
     "metadata": {},
     "output_type": "execute_result"
    },
    {
     "data": {
      "text/plain": [
       "TimeSeries(start_period=2012-01, end_period=2014-01, kind=TimeSeriesKind.YTD, values=[ 0.02333233  0.03737317 -0.11586573]"
      ]
     },
     "execution_count": 22,
     "metadata": {},
     "output_type": "execute_result"
    }
   ],
   "source": [
    "asset.rate_of_return()\n",
    "asset.rate_of_return(real=True)\n",
    "\n",
    "for kind, real in it.product(['values', 'accumulated', 'ytd'],\n",
    "                             [True, False]):\n",
    "    asset.rate_of_return(kind=kind, real=real)"
   ]
  },
  {
   "cell_type": "code",
   "execution_count": 23,
   "metadata": {},
   "outputs": [
    {
     "data": {
      "text/plain": [
       "TimeSeries(start_period=2011-12, end_period=2015-05, kind=TimeSeriesKind.DIFF, values=[-0.04369816  0.10546889  0.0728419  -0.02371434 -0.01171928 -0.10920486\n",
       "  0.02697542  0.00940671  0.03783338  0.01662815 -0.01817523 -0.01093084\n",
       "  0.02908276  0.06725142 -0.02604663 -0.02269608  0.02416955  0.00179539\n",
       " -0.02989067 -0.00301795 -0.00751589  0.05102113  0.03589912 -0.00137969\n",
       "  0.00299008 -0.04170593 -0.01491151 -0.01000818 -0.03638115  0.06543452\n",
       "  0.02236428 -0.05164833 -0.00157424 -0.02244128 -0.02726542 -0.04891903\n",
       " -0.11728464 -0.06205822  0.13361558 -0.05444486  0.15299473 -0.02729916]"
      ]
     },
     "execution_count": 23,
     "metadata": {},
     "output_type": "execute_result"
    },
    {
     "data": {
      "text/plain": [
       "TimeSeries(start_period=2011-12, end_period=2015-05, kind=TimeSeriesKind.DIFF, values=[-4.13331290e-02  1.00626131e-01  6.81388806e-02 -3.10733400e-02\n",
       " -1.46958857e-02 -1.08158734e-01  2.84831783e-02  1.10547273e-02\n",
       "  3.20898038e-02  1.21121026e-02 -1.77931553e-02 -6.22231826e-03\n",
       "  3.18615652e-02  6.41048590e-02 -3.39585104e-02 -2.52450595e-02\n",
       "  2.52357937e-02  1.53673309e-05 -3.22133574e-02 -3.41060860e-03\n",
       " -8.70841173e-03  4.98002137e-02  3.85734495e-02  6.63661534e-04\n",
       "  3.07633978e-03 -4.52575670e-02 -1.85409484e-02 -1.63429305e-02\n",
       " -3.95477614e-02  6.17259146e-02  2.04641766e-02 -5.12783274e-02\n",
       "  9.69170296e-05 -2.31768280e-02 -2.48157550e-02 -4.37562653e-02\n",
       " -1.12251103e-01 -5.76233978e-02  1.28713577e-01 -6.00395093e-02\n",
       "  1.50655444e-01 -3.22318716e-02]"
      ]
     },
     "execution_count": 23,
     "metadata": {},
     "output_type": "execute_result"
    },
    {
     "data": {
      "text/plain": [
       "TimeSeries(start_period=2011-12, end_period=2015-05, kind=TimeSeriesKind.DIFF, values=[-4.13331290e-02  1.00626131e-01  6.81388806e-02 -3.10733400e-02\n",
       " -1.46958857e-02 -1.08158734e-01  2.84831783e-02  1.10547273e-02\n",
       "  3.20898038e-02  1.21121026e-02 -1.77931553e-02 -6.22231826e-03\n",
       "  3.18615652e-02  6.41048590e-02 -3.39585104e-02 -2.52450595e-02\n",
       "  2.52357937e-02  1.53673309e-05 -3.22133574e-02 -3.41060860e-03\n",
       " -8.70841173e-03  4.98002137e-02  3.85734495e-02  6.63661534e-04\n",
       "  3.07633978e-03 -4.52575670e-02 -1.85409484e-02 -1.63429305e-02\n",
       " -3.95477614e-02  6.17259146e-02  2.04641766e-02 -5.12783274e-02\n",
       "  9.69170296e-05 -2.31768280e-02 -2.48157550e-02 -4.37562653e-02\n",
       " -1.12251103e-01 -5.76233978e-02  1.28713577e-01 -6.00395093e-02\n",
       "  1.50655444e-01 -3.22318716e-02]"
      ]
     },
     "execution_count": 23,
     "metadata": {},
     "output_type": "execute_result"
    },
    {
     "data": {
      "text/plain": [
       "TimeSeries(start_period=2011-12, end_period=2015-05, kind=TimeSeriesKind.DIFF, values=[-0.04369816  0.10546889  0.0728419  -0.02371434 -0.01171928 -0.10920486\n",
       "  0.02697542  0.00940671  0.03783338  0.01662815 -0.01817523 -0.01093084\n",
       "  0.02908276  0.06725142 -0.02604663 -0.02269608  0.02416955  0.00179539\n",
       " -0.02989067 -0.00301795 -0.00751589  0.05102113  0.03589912 -0.00137969\n",
       "  0.00299008 -0.04170593 -0.01491151 -0.01000818 -0.03638115  0.06543452\n",
       "  0.02236428 -0.05164833 -0.00157424 -0.02244128 -0.02726542 -0.04891903\n",
       " -0.11728464 -0.06205822  0.13361558 -0.05444486  0.15299473 -0.02729916]"
      ]
     },
     "execution_count": 23,
     "metadata": {},
     "output_type": "execute_result"
    },
    {
     "data": {
      "text/plain": [
       "TimeSeries(start_period=2011-12, end_period=2015-05, kind=TimeSeriesKind.CUMULATIVE, values=[-0.04133313  0.05513381  0.12702945  0.09200888  0.07596084 -0.04041372\n",
       " -0.01308166 -0.00217154  0.02984858  0.04232221  0.02377601  0.01740575\n",
       "  0.04982189  0.11712057  0.07918482  0.05194074  0.07848729  0.07850387\n",
       "  0.04376164  0.04020178  0.03114327  0.08249442  0.12424997  0.12499609\n",
       "  0.12845696  0.07738574  0.05740999  0.04012881 -0.00100595  0.06065787\n",
       "  0.08236336  0.02686158  0.0269611   0.00315939 -0.02173476 -0.06454\n",
       " -0.16954641 -0.21739997 -0.11666872 -0.1697035  -0.04461481 -0.07540866]"
      ]
     },
     "execution_count": 23,
     "metadata": {},
     "output_type": "execute_result"
    },
    {
     "data": {
      "text/plain": [
       "TimeSeries(start_period=2011-12, end_period=2015-05, kind=TimeSeriesKind.CUMULATIVE, values=[-0.04369816  0.05716193  0.13416761  0.10727157  0.09429514 -0.02520721\n",
       "  0.00108824  0.01050518  0.04873601  0.06617455  0.04679658  0.03535421\n",
       "  0.06546517  0.13711922  0.10750109  0.08236517  0.10852544  0.11051568\n",
       "  0.07732163  0.07407032  0.06599773  0.12038614  0.16060702  0.15900574\n",
       "  0.16247125  0.11398931  0.09737805  0.08639529  0.04687098  0.11537248\n",
       "  0.14031699  0.08142152  0.0797191   0.05548882  0.02671047 -0.0235152\n",
       " -0.13804187 -0.19153346 -0.08350973 -0.13340792 -0.0008239  -0.02810057]"
      ]
     },
     "execution_count": 23,
     "metadata": {},
     "output_type": "execute_result"
    },
    {
     "data": {
      "text/plain": [
       "TimeSeries(start_period=2012-01, end_period=2014-01, kind=TimeSeriesKind.YTD, values=[ 0.08649767  0.07486979 -0.20153884]"
      ]
     },
     "execution_count": 23,
     "metadata": {},
     "output_type": "execute_result"
    },
    {
     "data": {
      "text/plain": [
       "TimeSeries(start_period=2012-01, end_period=2014-01, kind=TimeSeriesKind.YTD, values=[ 0.10541452  0.09101178 -0.19549753]"
      ]
     },
     "execution_count": 23,
     "metadata": {},
     "output_type": "execute_result"
    }
   ],
   "source": [
    "portfolio.rate_of_return()\n",
    "portfolio.rate_of_return(real=True)\n",
    "\n",
    "for kind, real in it.product(['values', 'accumulated', 'ytd'],\n",
    "                             [True, False]):\n",
    "    portfolio.rate_of_return(kind=kind, real=real)"
   ]
  },
  {
   "cell_type": "markdown",
   "metadata": {},
   "source": [
    "### Risk"
   ]
  },
  {
   "cell_type": "code",
   "execution_count": 24,
   "metadata": {},
   "outputs": [
    {
     "data": {
      "text/plain": [
       "TimeSeries(start_period=2011-12, end_period=2015-05, kind=TimeSeriesKind.REDUCED_VALUE, values=[0.07127686]"
      ]
     },
     "execution_count": 24,
     "metadata": {},
     "output_type": "execute_result"
    },
    {
     "data": {
      "text/plain": [
       "TimeSeries(start_period=2011-12, end_period=2015-05, kind=TimeSeriesKind.REDUCED_VALUE, values=[0.07127686]"
      ]
     },
     "execution_count": 24,
     "metadata": {},
     "output_type": "execute_result"
    },
    {
     "data": {
      "text/plain": [
       "TimeSeries(start_period=2011-12, end_period=2015-05, kind=TimeSeriesKind.REDUCED_VALUE, values=[0.02159057]"
      ]
     },
     "execution_count": 24,
     "metadata": {},
     "output_type": "execute_result"
    }
   ],
   "source": [
    "asset.risk()\n",
    "asset.risk(period='year')\n",
    "asset.risk(period='month')"
   ]
  },
  {
   "cell_type": "code",
   "execution_count": 25,
   "metadata": {},
   "outputs": [
    {
     "data": {
      "text/plain": [
       "TimeSeries(start_period=2011-12, end_period=2015-05, kind=TimeSeriesKind.REDUCED_VALUE, values=[0.19054657]"
      ]
     },
     "execution_count": 25,
     "metadata": {},
     "output_type": "execute_result"
    },
    {
     "data": {
      "text/plain": [
       "TimeSeries(start_period=2011-12, end_period=2015-05, kind=TimeSeriesKind.REDUCED_VALUE, values=[0.19054657]"
      ]
     },
     "execution_count": 25,
     "metadata": {},
     "output_type": "execute_result"
    },
    {
     "data": {
      "text/plain": [
       "TimeSeries(start_period=2011-12, end_period=2015-05, kind=TimeSeriesKind.REDUCED_VALUE, values=[0.05411186]"
      ]
     },
     "execution_count": 25,
     "metadata": {},
     "output_type": "execute_result"
    }
   ],
   "source": [
    "portfolio.risk()\n",
    "portfolio.risk(period='year')\n",
    "portfolio.risk(period='month')"
   ]
  },
  {
   "cell_type": "markdown",
   "metadata": {},
   "source": [
    "### Compound Annual Growth Rate"
   ]
  },
  {
   "cell_type": "code",
   "execution_count": 26,
   "metadata": {},
   "outputs": [
    {
     "data": {
      "text/plain": [
       "TimeSeries(start_period=2011-12, end_period=2015-05, kind=TimeSeriesKind.REDUCED_VALUE, values=[-0.0565095]"
      ]
     },
     "execution_count": 26,
     "metadata": {},
     "output_type": "execute_result"
    },
    {
     "data": {
      "text/plain": [
       "TimeSeries(start_period=2014-06, end_period=2015-05, kind=TimeSeriesKind.REDUCED_VALUE, values=[-0.19517993]"
      ]
     },
     "execution_count": 26,
     "metadata": {},
     "output_type": "execute_result"
    },
    {
     "data": {
      "text/plain": [
       "array([TimeSeries(start_period=2011-12, end_period=2015-05, kind=TimeSeriesKind.REDUCED_VALUE, values=[-0.0565095],\n",
       "       TimeSeries(start_period=2014-06, end_period=2015-05, kind=TimeSeriesKind.REDUCED_VALUE, values=[-0.19517993],\n",
       "       TimeSeries(start_period=2013-06, end_period=2015-05, kind=TimeSeriesKind.REDUCED_VALUE, values=[-0.08101113],\n",
       "       TimeSeries(start_period=2014-06, end_period=2015-05, kind=TimeSeriesKind.REDUCED_VALUE, values=[-0.19517993]],\n",
       "      dtype=object)"
      ]
     },
     "execution_count": 26,
     "metadata": {},
     "output_type": "execute_result"
    }
   ],
   "source": [
    "asset.compound_annual_growth_rate()\n",
    "asset.compound_annual_growth_rate(years_ago=1)\n",
    "asset.compound_annual_growth_rate(years_ago=[None, 1, 2, 1])"
   ]
  },
  {
   "cell_type": "code",
   "execution_count": 27,
   "metadata": {},
   "outputs": [
    {
     "data": {
      "text/plain": [
       "TimeSeries(start_period=2011-12, end_period=2015-05, kind=TimeSeriesKind.REDUCED_VALUE, values=[-0.07018906]"
      ]
     },
     "execution_count": 27,
     "metadata": {},
     "output_type": "execute_result"
    },
    {
     "data": {
      "text/plain": [
       "TimeSeries(start_period=2014-06, end_period=2015-05, kind=TimeSeriesKind.REDUCED_VALUE, values=[-0.19485909]"
      ]
     },
     "execution_count": 27,
     "metadata": {},
     "output_type": "execute_result"
    },
    {
     "data": {
      "text/plain": [
       "array([TimeSeries(start_period=2011-12, end_period=2015-05, kind=TimeSeriesKind.REDUCED_VALUE, values=[-0.07018906],\n",
       "       TimeSeries(start_period=2014-06, end_period=2015-05, kind=TimeSeriesKind.REDUCED_VALUE, values=[-0.19485909],\n",
       "       TimeSeries(start_period=2013-06, end_period=2015-05, kind=TimeSeriesKind.REDUCED_VALUE, values=[-0.09045123],\n",
       "       TimeSeries(start_period=2014-06, end_period=2015-05, kind=TimeSeriesKind.REDUCED_VALUE, values=[-0.19485909]],\n",
       "      dtype=object)"
      ]
     },
     "execution_count": 27,
     "metadata": {},
     "output_type": "execute_result"
    }
   ],
   "source": [
    "asset.compound_annual_growth_rate(real=True)\n",
    "asset.compound_annual_growth_rate(years_ago=1, real=True)\n",
    "asset.compound_annual_growth_rate(years_ago=[None, 1, 2, 1], real=True)"
   ]
  },
  {
   "cell_type": "code",
   "execution_count": null,
   "metadata": {},
   "outputs": [],
   "source": []
  }
 ],
 "metadata": {
  "kernelspec": {
   "display_name": "Python 3",
   "language": "python",
   "name": "python3"
  },
  "language_info": {
   "codemirror_mode": {
    "name": "ipython",
    "version": 3
   },
   "file_extension": ".py",
   "mimetype": "text/x-python",
   "name": "python",
   "nbconvert_exporter": "python",
   "pygments_lexer": "ipython3",
   "version": "3.6.5"
  },
  "varInspector": {
   "cols": {
    "lenName": 16,
    "lenType": 16,
    "lenVar": 40
   },
   "kernels_config": {
    "python": {
     "delete_cmd_postfix": "",
     "delete_cmd_prefix": "del ",
     "library": "var_list.py",
     "varRefreshCmd": "print(var_dic_list())"
    },
    "r": {
     "delete_cmd_postfix": ") ",
     "delete_cmd_prefix": "rm(",
     "library": "var_list.r",
     "varRefreshCmd": "cat(var_dic_list()) "
    }
   },
   "types_to_exclude": [
    "module",
    "function",
    "builtin_function_or_method",
    "instance",
    "_Feature"
   ],
   "window_display": false
  }
 },
 "nbformat": 4,
 "nbformat_minor": 2
}
