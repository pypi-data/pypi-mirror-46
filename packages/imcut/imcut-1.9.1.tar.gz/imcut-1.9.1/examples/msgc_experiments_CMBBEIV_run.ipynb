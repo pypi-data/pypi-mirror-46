{
 "cells": [
  {
   "cell_type": "code",
   "execution_count": 12,
   "metadata": {},
   "outputs": [
    {
     "name": "stdout",
     "output_type": "stream",
     "text": [
      "Populating the interactive namespace from numpy and matplotlib\n"
     ]
    }
   ],
   "source": [
    "%run ./msgc_experiments_CMBBEIV_init.ipynb\n",
    "# other imports can be skipped"
   ]
  },
  {
   "cell_type": "code",
   "execution_count": 13,
   "metadata": {},
   "outputs": [],
   "source": [
    "\n",
    "fname = \"exp062-multiscale3.csv\"\n",
    "fnamenew = \"msgc_experiment3.csv\"\n",
    "\n",
    "\n",
    "rnd_seed=1"
   ]
  },
  {
   "cell_type": "code",
   "execution_count": 14,
   "metadata": {},
   "outputs": [
    {
     "data": {
      "text/plain": [
       "'C:\\\\Users\\\\Jirik\\\\projects\\\\imcut\\\\examples'"
      ]
     },
     "execution_count": 14,
     "metadata": {},
     "output_type": "execute_result"
    }
   ],
   "source": [
    "%pwd"
   ]
  },
  {
   "cell_type": "markdown",
   "metadata": {},
   "source": [
    "# Rewrite files with tables"
   ]
  },
  {
   "cell_type": "code",
   "execution_count": 15,
   "metadata": {},
   "outputs": [],
   "source": [
    "#for par in it:\n",
    "#    print par\n",
    "i = 0\n",
    "force_rewrite = False\n",
    "# force_rewrite = True\n",
    "\n",
    "if op.exists(fname) and not force_rewrite:\n",
    "    df = pd.read_csv(fname)#, index_col=0)\n",
    "else:\n",
    "    df = pd.DataFrame([])\n",
    "    \n",
    "if op.exists(fnamenew) and not force_rewrite:\n",
    "    dfnew = pd.read_csv(fnamenew)#, index_col=0)\n",
    "else:\n",
    "    dfnew = pd.DataFrame([])"
   ]
  },
  {
   "cell_type": "markdown",
   "metadata": {},
   "source": [
    "## Experiment 1: Constant object size, various image size"
   ]
  },
  {
   "cell_type": "code",
   "execution_count": 16,
   "metadata": {},
   "outputs": [
    {
     "name": "stderr",
     "output_type": "stream",
     "text": [
      "C:\\Users\\Jirik\\Miniconda3\\envs\\lisa\\lib\\site-packages\\scipy\\ndimage\\interpolation.py:583: UserWarning: From scipy 0.13.0, the output shape of zoom() is calculated with round() instead of int() - for these inputs the size of the returned array has changed.\n",
      "  \"the returned array has changed.\", UserWarning)\n",
      "C:\\Users\\Jirik\\Miniconda3\\envs\\lisa\\lib\\site-packages\\scipy\\ndimage\\interpolation.py:583: UserWarning: From scipy 0.13.0, the output shape of zoom() is calculated with round() instead of int() - for these inputs the size of the returned array has changed.\n",
      "  \"the returned array has changed.\", UserWarning)\n",
      "C:\\Users\\Jirik\\Miniconda3\\envs\\lisa\\lib\\site-packages\\scipy\\ndimage\\interpolation.py:583: UserWarning: From scipy 0.13.0, the output shape of zoom() is calculated with round() instead of int() - for these inputs the size of the returned array has changed.\n",
      "  \"the returned array has changed.\", UserWarning)\n",
      "C:\\Users\\Jirik\\Miniconda3\\envs\\lisa\\lib\\site-packages\\scipy\\ndimage\\interpolation.py:583: UserWarning: From scipy 0.13.0, the output shape of zoom() is calculated with round() instead of int() - for these inputs the size of the returned array has changed.\n",
      "  \"the returned array has changed.\", UserWarning)\n"
     ]
    }
   ],
   "source": [
    "point_step = 3\n",
    "\n",
    "# i = 0\n",
    "np.random.seed(rnd_seed)\n",
    "experiment_label = \"image size\"\n",
    "# sh 155,160, r10, dpoff 3, seeds 3\n",
    "# dataparams_sh =  list(range(44, 210, point_step))\n",
    "dataparams_sh =  list(range(44, 180, point_step))\n",
    "# dataparams_sh =  list(range(44, 195, 1))\n",
    "# dataparams_sh =  range(44, 195, 50)\n",
    "dp_radius = [10]\n",
    "dp_offset = [\n",
    "#     0.03, 0.05,\n",
    "    0.04,\n",
    "]\n",
    "dp_seedsz = [3]\n",
    "\n",
    "\n",
    "it = itertools.product(dataparams_sh, dp_offset, dp_radius, dp_seedsz)\n",
    "for i, data_params in enumerate(it):\n",
    "    \n",
    "    df, dfnew = run_gc_3_times(data_params, segparamsTri, experiment_label, i, df, dfnew)\n",
    "#     i += 1\n"
   ]
  },
  {
   "cell_type": "code",
   "execution_count": 17,
   "metadata": {},
   "outputs": [],
   "source": [
    "# dfnew.to_csv(fnamenew, index=False)\n",
    "to_file(str(i), op.join(latex_dir, \"msgc_dataset_size.tex\"))"
   ]
  },
  {
   "cell_type": "markdown",
   "metadata": {},
   "source": [
    "## Experiment 2: constant image size, various object size"
   ]
  },
  {
   "cell_type": "code",
   "execution_count": 18,
   "metadata": {},
   "outputs": [],
   "source": [
    "point_step = 3\n",
    "# point_step = 10\n",
    "\n",
    "# i = 0\n",
    "np.random.seed(rnd_seed)\n",
    "experiment_label = \"object size\"\n",
    "# sh 155,160, r10, dpoff 3, seeds 3\n",
    "# dataparams_sh =  list(range(44, 195, 10))\n",
    "dataparams_sh = [200]\n",
    "# dataparams_sh =  list(range(44, 195, 1))\n",
    "# dataparams_sh =  range(44, 195, 50)\n",
    "# dp_radius = [10]\n",
    "dp_radius = list(range(5, 50, point_step))\n",
    "dp_offset = [0.03, 0.05]\n",
    "dp_seedsz = [3]\n",
    "\n",
    "skip2 = True\n",
    "\n",
    "if not skip2:\n",
    "    it = itertools.product(dataparams_sh, dp_offset, dp_radius, dp_seedsz)\n",
    "    for i, data_params in enumerate(it):\n",
    "        print(i)\n",
    "        df, dfnew = run_gc_3_times(data_params, segparamsTri, experiment_label, i, df, dfnew)\n",
    "#     i += 1\n"
   ]
  },
  {
   "cell_type": "code",
   "execution_count": 19,
   "metadata": {},
   "outputs": [
    {
     "name": "stdout",
     "output_type": "stream",
     "text": [
      "0\n",
      "1\n",
      "2\n",
      "3\n",
      "4\n",
      "5\n",
      "6\n",
      "7\n",
      "8\n",
      "9\n"
     ]
    }
   ],
   "source": [
    "point_step = 3\n",
    "point_step = 10\n",
    "\n",
    "# i = 0\n",
    "np.random.seed(rnd_seed)\n",
    "experiment_label = \"object size\"\n",
    "# sh 155,160, r10, dpoff 3, seeds 3\n",
    "# dataparams_sh =  list(range(44, 195, 10))\n",
    "dataparams_sh = [200]\n",
    "# dataparams_sh =  list(range(44, 195, 1))\n",
    "# dataparams_sh =  range(44, 195, 50)\n",
    "# dp_radius = [10]\n",
    "dp_radius = list(range(5, 50, point_step))\n",
    "dp_offset = [0.03, 0.05]\n",
    "dp_seedsz = [3]\n",
    "\n",
    "\n",
    "it = itertools.product(dataparams_sh, dp_offset, dp_radius, dp_seedsz)\n",
    "for i, data_params in enumerate(it):\n",
    "    print(i)\n",
    "    df, dfnew = run_gc_3_times(data_params, segparamsTri, experiment_label, i, df, dfnew)\n",
    "#     i += 1\n"
   ]
  },
  {
   "cell_type": "code",
   "execution_count": 20,
   "metadata": {},
   "outputs": [
    {
     "data": {
      "text/plain": [
       "[5, 15, 25, 35, 45]"
      ]
     },
     "execution_count": 20,
     "metadata": {},
     "output_type": "execute_result"
    }
   ],
   "source": [
    "dp_radius"
   ]
  },
  {
   "cell_type": "code",
   "execution_count": 21,
   "metadata": {},
   "outputs": [
    {
     "data": {
      "text/plain": [
       "10"
      ]
     },
     "execution_count": 21,
     "metadata": {},
     "output_type": "execute_result"
    }
   ],
   "source": [
    "len(list(itertools.product(dataparams_sh, dp_offset, dp_radius, dp_seedsz)))"
   ]
  }
 ],
 "metadata": {
  "kernelspec": {
   "display_name": "Python 3",
   "language": "python",
   "name": "python3"
  },
  "language_info": {
   "codemirror_mode": {
    "name": "ipython",
    "version": 3
   },
   "file_extension": ".py",
   "mimetype": "text/x-python",
   "name": "python",
   "nbconvert_exporter": "python",
   "pygments_lexer": "ipython3",
   "version": "3.6.6"
  },
  "toc": {
   "base_numbering": 1,
   "nav_menu": {
    "height": "487px",
    "width": "288px"
   },
   "number_sections": true,
   "sideBar": true,
   "skip_h1_title": false,
   "title_cell": "Table of Contents",
   "title_sidebar": "Contents",
   "toc_cell": false,
   "toc_position": {},
   "toc_section_display": true,
   "toc_window_display": false
  }
 },
 "nbformat": 4,
 "nbformat_minor": 1
}
