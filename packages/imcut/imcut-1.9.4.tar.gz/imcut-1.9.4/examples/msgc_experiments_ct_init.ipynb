{
 "cells": [
  {
   "cell_type": "code",
   "execution_count": 1,
   "metadata": {},
   "outputs": [
    {
     "name": "stdout",
     "output_type": "stream",
     "text": [
      "Populating the interactive namespace from numpy and matplotlib\n"
     ]
    }
   ],
   "source": [
    "%pylab inline\n",
    "\n",
    "import sys\n",
    "import os.path as op\n",
    "from pathlib import Path\n",
    "import shutil\n",
    "# sys.path.insert(0, \"/home/mjirik/projects/pyseg_base/\")\n",
    "sys.path.insert(0, op.abspath(\"../\"))\n",
    "import scipy\n",
    "import time\n",
    "import pandas as pd\n",
    "\n",
    "from imcut import pycut\n",
    "import sed3\n",
    "import itertools\n",
    "import data2tex as dtt\n",
    "import io3d\n",
    "import imma\n",
    "\n",
    "latex_dir = Path(\"../../papers/cmbbeiv19/tmp/\")\n",
    "dtt.set_output(latex_dir)\n",
    "\n",
    "# sh 155,160, r10, dpoff 3, seeds 3\n",
    "# dp_ircad_id = [1, 11]\n",
    "# dp_ircad_id = [1, 5, 6, 7]\n",
    "dp_ircad_id = [1, 5, 6, 7, 11, 20]\n",
    "# dp_ircad_id = [11, 20]\n",
    "# dp_ircad_id = [1]\n",
    "dp_keys = [\"left_kidney\"]\n",
    "\n",
    "working_voxelsize_mm = None\n",
    "# working_voxelsize_mm = [1.5, 1.5, 1.5]\n",
    "working_voxelsize_mm = [1.3, 1.3, 1.3]\n",
    "# working_voxelsize_mm = [1.7, 1.7, 1.7]\n",
    "# working_voxelsize_mm = \"orig*2\"\n",
    "# working_voxelsize_mm=[2, 2, 2]\n",
    "# working_voxelsize_mm=[2.2, 2.5, 2.5]\n",
    "\n",
    "fname = \"exp062-multiscale_delme.csv\"\n",
    "fnamenew = \"msgc_experiment_ct.csv\"\n",
    "\n",
    "rnd_seed=1\n",
    "\n",
    "dpi = 400"
   ]
  },
  {
   "cell_type": "code",
   "execution_count": null,
   "metadata": {},
   "outputs": [],
   "source": []
  },
  {
   "cell_type": "code",
   "execution_count": 2,
   "metadata": {},
   "outputs": [],
   "source": [
    "# dry_run = True\n",
    "dry_run = False\n",
    "force_rewrite = False\n",
    "# force_rewrite = True\n"
   ]
  },
  {
   "cell_type": "markdown",
   "metadata": {},
   "source": [
    "## Methods setup"
   ]
  },
  {
   "cell_type": "code",
   "execution_count": 4,
   "metadata": {},
   "outputs": [],
   "source": [
    "# block size bylo 10\n",
    "segparams0 = {\n",
    "    'method':'graphcut',\n",
    "#     'method':'multiscale_graphcut',\n",
    "    'use_boundary_penalties': True,\n",
    "    'boundary_dilatation_distance': 2,\n",
    "    'boundary_penalties_weight': 1,\n",
    "    'block_size': 10,\n",
    "    'tile_zoom_constant': 1\n",
    "    }\n",
    "\n",
    "segparams1 = {\n",
    "    # 'method':'graphcut',\n",
    "    'method':'multiscale_graphcut_hi2lo',\n",
    "    'use_boundary_penalties': True,\n",
    "    'boundary_dilatation_distance': 2,\n",
    "    'boundary_penalties_weight': 1,\n",
    "    'block_size': 10,\n",
    "    'tile_zoom_constant': 1\n",
    "    }\n",
    "\n",
    "segparams2 = {\n",
    "    # 'method':'graphcut',\n",
    "    'method':'multiscale_graphcut_lo2hi',\n",
    "    'use_boundary_penalties': True,\n",
    "    'boundary_dilatation_distance': 2,\n",
    "    'boundary_penalties_weight': 1,\n",
    "    'block_size': 10,\n",
    "    'tile_zoom_constant': 1\n",
    "    }\n",
    "\n",
    "\n",
    "labels = [\n",
    "    \"ssgc \",\n",
    "    \"msgc_hi2lo \",\n",
    "    \"msgc_lo2hi \",\n",
    "]\n",
    "\n"
   ]
  },
  {
   "cell_type": "code",
   "execution_count": 5,
   "metadata": {},
   "outputs": [
    {
     "data": {
      "text/plain": [
       "dict_keys(['series_number', 'datadir', 'voxelsize_mm', 'version', 'crinfo', 'segmentation', 'apriori', 'slab', 'orig_shape', 'vessel_tree', 'saved_seeds', 'processing_information', 'experiment_caption', 'lisa_operator_identifier', 'data3d'])"
      ]
     },
     "execution_count": 5,
     "metadata": {},
     "output_type": "execute_result"
    }
   ],
   "source": [
    "data_seeds_path = Path(io3d.datasets.join_path(\"medical\", \"orig\", \"ircad1b_seeds\", get_root=True)) \n",
    "d01_pth = data_seeds_path / \"ircadb1-01.pklz\"\n",
    "\n",
    "datap = io3d.read(d01_pth)\n",
    "datap\n",
    "str(d01_pth)\n",
    "datap.keys()\n"
   ]
  },
  {
   "cell_type": "code",
   "execution_count": 6,
   "metadata": {},
   "outputs": [],
   "source": [
    "# io3d.write(datap, data_seeds_path / \"ircad1b01.hdf5\")\n",
    "# io3d.read(data_seeds_path / \"ircad1b01.hdf5\")"
   ]
  },
  {
   "cell_type": "code",
   "execution_count": 7,
   "metadata": {},
   "outputs": [],
   "source": [
    "# datap['saved_seeds'][\"left_kidney\"]"
   ]
  },
  {
   "cell_type": "code",
   "execution_count": 8,
   "metadata": {},
   "outputs": [],
   "source": [
    "# pth_data3d = Path(io3d.datasets.join_path(\"medical\", \"orig\", \"3Dircadb1.{}\", \"PATIENT_DICOM\", get_root=True)) \n",
    "# pth_ground_true = Path(io3d.datasets.join_path(\"medical\", \"orig\", \"3Dircadb1.{}\", \"MASKS_DICOM\", \"{}\"  get_root=True)) \n",
    "# pth_seeds = Path(io3d.datasets.join_path(\"medical\", \"orig\", \"ircad1b_seeds\", \"ircad1b{:02d}.pklz\", get_root=True)) \n",
    "# print(pth_data3d)\n",
    "# print(pth_seeds)"
   ]
  },
  {
   "cell_type": "code",
   "execution_count": 9,
   "metadata": {},
   "outputs": [
    {
     "name": "stdout",
     "output_type": "stream",
     "text": [
      "Help on function resize_to_mm in module imma.image:\n",
      "\n",
      "resize_to_mm(data3d, voxelsize_mm, new_voxelsize_mm, mode='reflect', order=1)\n",
      "    Function can resize data3d or segmentation to specifed voxelsize_mm\n",
      "    :new_voxelsize_mm: requested voxelsize. List of 3 numbers, also\n",
      "        can be a string 'orig', 'orig*2' and 'orig*4'.\n",
      "    \n",
      "    :voxelsize_mm: size of voxel\n",
      "    :mode: default is 'edge'. Modes match the behaviour of numpy.pad\n",
      "\n"
     ]
    }
   ],
   "source": [
    "# import imma\n",
    "# help(imma.image_manipulation.resize_to_mm)"
   ]
  },
  {
   "cell_type": "code",
   "execution_count": 10,
   "metadata": {},
   "outputs": [],
   "source": [
    "def prepare_data(i, seeds_key):\n",
    "    ground_true_key = seeds_key.replace(\"_\", \"\")\n",
    "    pth_data3d = Path(io3d.datasets.join_path(\"medical\", \"orig\", \"3Dircadb1.{}\", \"PATIENT_DICOM\", get_root=True)) \n",
    "    pth_ground_true = Path(io3d.datasets.join_path(\"medical\", \"orig\", \"3Dircadb1.{}\", \"MASKS_DICOM\", \"{}\", get_root=True)) \n",
    "    pth_seeds = Path(io3d.datasets.join_path(\"medical\", \"orig\", \"ircad1b_seeds\", \"ircadb1-{:02d}.pklz\", get_root=True)) \n",
    "    pth_data3d = str(pth_data3d).format(i)\n",
    "    pth_seeds = str(pth_seeds).format(i)\n",
    "    pth_ground_true = str(pth_ground_true).format(i, ground_true_key)\n",
    "    print(pth_data3d)\n",
    "    print(pth_ground_true)\n",
    "    print(pth_seeds)\n",
    "    datap_data3d = io3d.read(pth_data3d)\n",
    "    datap_seeds = io3d.read(pth_seeds)\n",
    "    datap_ground_true = io3d.read(pth_ground_true)\n",
    "    seeds = datap_seeds[\"saved_seeds\"][seeds_key]\n",
    "    data3d = datap_data3d[\"data3d\"]\n",
    "    seg_true = datap_ground_true[\"data3d\"]\n",
    "    vs  = datap_data3d[\"voxelsize_mm\"]\n",
    "    if working_voxelsize_mm is not None:\n",
    "        if working_voxelsize_mm == \"orig*2\":\n",
    "            wvs = np.asarray(vs) * 2\n",
    "        else:\n",
    "            wvs = working_voxelsize_mm\n",
    "        data3d = imma.image_manipulation.resize_to_mm(data3d, vs, wvs)\n",
    "        seg_true = imma.image_manipulation.resize_to_mm(seg_true, vs,  wvs, order=0)\n",
    "        seeds = imma.image_manipulation.resize_to_mm(seeds, vs, wvs, order=0)\n",
    "    return data3d, seg_true, seeds, wvs, vs\n",
    "    \n",
    "    "
   ]
  },
  {
   "cell_type": "markdown",
   "metadata": {},
   "source": [
    "### LaTeX export functions"
   ]
  },
  {
   "cell_type": "code",
   "execution_count": 18,
   "metadata": {},
   "outputs": [],
   "source": [
    "def to_latex_file(df, fn):\n",
    "    with open(fn, \"w\") as f:\n",
    "        f.write(df.to_latex())\n",
    "        \n",
    "def latex_float(f, precision=4):\n",
    "    float_str = \"{0:.\" + str(int(precision)) + \"g}\"\n",
    "    float_str = float_str.format(f)\n",
    "    if \"e\" in float_str:\n",
    "        base, exponent = float_str.split(\"e\")\n",
    "        return r\"{0} \\times 10^{{{1}}}\".format(base, int(exponent))\n",
    "    else:\n",
    "        return float_str\n",
    "    \n",
    "def float_to_latex_file(fl, fn, precision=4):\n",
    "    string = latex_float(fl, precision=precision)\n",
    "    with open(fn, \"w\") as f:\n",
    "        f.write(string)\n",
    "\n",
    "def num2latex(num, filename=None, precision=4):\n",
    "    if type(num) is str:\n",
    "        float_str = num\n",
    "    else:\n",
    "        float_str = \"{0:.\" + str(int(precision)) + \"g}\"\n",
    "        float_str = float_str.format(num)\n",
    "        \n",
    "    if float_str[:4] == r\"\\num\":\n",
    "        pass\n",
    "    else:\n",
    "        float_str = \"\\\\num{\" + float_str + \"}\" \n",
    "    if filename is not None:\n",
    "        with open(filename, \"w\") as f:\n",
    "            f.write(float_str)\n",
    "    return float_str\n",
    "\n",
    "def to_file(text, fn):\n",
    "    with open(fn, \"w\") as f:\n",
    "        f.write(text)"
   ]
  },
  {
   "cell_type": "markdown",
   "metadata": {},
   "source": [
    "## CT data, opakovaný experiment"
   ]
  },
  {
   "cell_type": "code",
   "execution_count": 19,
   "metadata": {},
   "outputs": [],
   "source": [
    "def process_gc_stats(stats1, prefix=None):\n",
    "    if prefix is None:\n",
    "        prefix = \"\"\n",
    "    \n",
    "        \n",
    "    outstats = {}\n",
    "    for key in stats1:\n",
    "        outstats[prefix + key] = stats1[key]\n",
    "        \n",
    "    outstats[prefix + \"nlinks number\"] = np.sum(np.asarray(outstats[prefix + \"nlinks shape\"]), axis=0)[0]\n",
    "    outstats[prefix + \"tlinks number\"] = np.sum(np.asarray(outstats[prefix + \"tlinks shape\"]), axis=0)[0]\n",
    "    outstats.pop(prefix + \"tlinks shape\")\n",
    "    outstats.pop(prefix + \"nlinks shape\")\n",
    "    outstats[prefix + \"edge number\"] = outstats[prefix + \"nlinks number\"] + outstats[prefix + \"tlinks number\"]\n",
    "\n",
    "    return outstats\n",
    "\n",
    "    \n",
    "def merge_stats(stats0, stats1, stats2, labels=None):\n",
    "    if labels is None:\n",
    "        labels = [\"\"] * 3\n",
    "    \n",
    "   \n",
    "    stats0 = process_gc_stats(stats0, labels[0])\n",
    "    stats1 = process_gc_stats(stats1, labels[1])\n",
    "    stats2 = process_gc_stats(stats2, labels[2])\n",
    "    stats = {}\n",
    "    stats.update(stats0)\n",
    "    stats.update(stats1)\n",
    "    stats.update(stats2)\n",
    "\n",
    "    \n",
    "    return stats\n",
    "\n",
    "def run_gc_with_defined_setup(img, segparams, seeds, true_seg, dry_run=False):\n",
    "    \n",
    "    start = time.time()\n",
    "    gc = pycut.ImageGraphCut(img, segparams=segparams)\n",
    "    gc.set_seeds(seeds)\n",
    "    if dry_run:\n",
    "        thr = np.mean([np.min(img), np.max(img)])\n",
    "        sg1 = (img < thr).astype(np.uint8)\n",
    "        stats1 = {\"nlinks shape\": [[5, 5]], \"tlinks shape\": [[5, 5]]}\n",
    "    else:\n",
    "        gc.run()\n",
    "        sg1 = gc.segmentation\n",
    "        stats1 = gc.stats\n",
    "    elapsed1 = (time.time() - start)\n",
    "    err1 = np.sum(np.abs(true_seg - (1 - sg1)))\n",
    "    stats1[\"time\"] = elapsed1\n",
    "    stats1[\"error\"] = err1\n",
    "    stats1[\"data segmentation size px\"] = np.sum(sg1 > 0)\n",
    "    return stats1\n",
    "\n",
    "\n",
    "def add_data_and_algoritm_info(stats, data_params_dict, segparams, start, true_segmentation, voxelsize_mm, orig_vs_mm):\n",
    "    #     stats['msgc time'] = elapsed1\n",
    "#     stats['normal time'] = elapsed2\n",
    "#     stats['data id'] = data_params[0]\n",
    "#     stats['data offset'] = data_params[1]\n",
    "#     stats['target organ'] = data_params[1]\n",
    "#     stats['data radius'] = data_params[2]\n",
    "#     stats['data size'] = data_params[0]\n",
    "    stats.update(data_params_dict)\n",
    "    stats[\"data size 0\"] = true_segmentation.shape[0]\n",
    "    stats[\"data size 1\"] = true_segmentation.shape[1]\n",
    "    stats[\"data size 2\"] = true_segmentation.shape[2]\n",
    "    stats[\"data size px\"] = np.prod(true_segmentation.shape)\n",
    "    stats[\"data target size px\"] = np.sum(true_segmentation > 0)\n",
    "    stats[\"data voxesize mm^3\"] = np.prod(voxelsize_mm)\n",
    "    stats[\"data voxesize mm 0\"] = voxelsize_mm[0]\n",
    "    stats[\"data voxesize mm 1\"] = voxelsize_mm[1]\n",
    "    stats[\"data voxesize mm 2\"] = voxelsize_mm[2]\n",
    "    stats[\"data orig voxesize mm 0\"] = orig_vs_mm[0]\n",
    "    stats[\"data orig voxesize mm 1\"] = orig_vs_mm[1]\n",
    "    stats[\"data orig voxesize mm 2\"] = orig_vs_mm[2]\n",
    "    stats[\"block size\"] = segparams[\"block_size\"]\n",
    "#     stats[\"data seedsz\"] = data_params[3]\n",
    "#     stats[\"GC error\"] = err2\n",
    "#     stats[\"MSGC error\"] = err1\n",
    "    stats['machine hostname'] = machine_hostname\n",
    "    stats['experiment iteration start time'] = start\n",
    "    \n",
    "    return stats\n",
    "\n",
    "def add_data_seaborn(stats, data_params_dict, segparams, start, i, label, true_segmentation, voxelsize_mm, orig_vs_mm):\n",
    "    stats = process_gc_stats(stats, \"\")\n",
    "    stats = add_data_and_algoritm_info(stats, data_params_dict, segparams, start, true_segmentation, voxelsize_mm, orig_vs_mm)\n",
    "    stats[\"method\"] = label\n",
    "    dfinew = pd.DataFrame(stats, index=[i*3 + 0])\n",
    "    #dfnew = dfnew.append(dfinew, sort=True)\n",
    "    \n",
    "    return dfinew"
   ]
  }
 ],
 "metadata": {
  "kernelspec": {
   "display_name": "Python 3",
   "language": "python",
   "name": "python3"
  },
  "language_info": {
   "codemirror_mode": {
    "name": "ipython",
    "version": 3
   },
   "file_extension": ".py",
   "mimetype": "text/x-python",
   "name": "python",
   "nbconvert_exporter": "python",
   "pygments_lexer": "ipython3",
   "version": "3.6.6"
  },
  "toc": {
   "base_numbering": 1,
   "nav_menu": {},
   "number_sections": true,
   "sideBar": true,
   "skip_h1_title": false,
   "title_cell": "Table of Contents",
   "title_sidebar": "Contents",
   "toc_cell": false,
   "toc_position": {},
   "toc_section_display": true,
   "toc_window_display": true
  }
 },
 "nbformat": 4,
 "nbformat_minor": 1
}
