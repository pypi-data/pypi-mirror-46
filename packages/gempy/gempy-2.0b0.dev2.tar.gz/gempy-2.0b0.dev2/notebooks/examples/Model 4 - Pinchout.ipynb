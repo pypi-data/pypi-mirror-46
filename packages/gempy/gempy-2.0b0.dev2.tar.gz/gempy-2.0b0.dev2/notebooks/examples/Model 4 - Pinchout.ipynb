{
 "cells": [
  {
   "cell_type": "markdown",
   "metadata": {},
   "source": [
    "# Model 4 - Pinchout"
   ]
  },
  {
   "cell_type": "markdown",
   "metadata": {},
   "source": [
    "Forcing GemPy to create a layer of varying thickness. We start by importing the necessary dependencies:"
   ]
  },
  {
   "cell_type": "code",
   "execution_count": 1,
   "metadata": {},
   "outputs": [
    {
     "name": "stderr",
     "output_type": "stream",
     "text": [
      "../..\\gempy\\posterior_analysis.py:28: UserWarning: pymc (v3) package is not installed. No support for stochastic simulation posterior analysis.\n",
      "  warnings.warn(\"pymc (v3) package is not installed. No support for stochastic simulation posterior analysis.\")\n"
     ]
    }
   ],
   "source": [
    "# These two lines are necessary only if GemPy is not installed\n",
    "import sys, os\n",
    "sys.path.append(\"../..\")\n",
    "\n",
    "# Importing GemPy\n",
    "import gempy as gp\n",
    "\n",
    "# Embedding matplotlib figures in the notebooks\n",
    "%matplotlib inline\n",
    "\n",
    "# Importing auxiliary libraries\n",
    "import numpy as np\n",
    "import matplotlib.pyplot as plt"
   ]
  },
  {
   "cell_type": "markdown",
   "metadata": {},
   "source": [
    "Creating the model by importing the input data and displaying it:"
   ]
  },
  {
   "cell_type": "code",
   "execution_count": 2,
   "metadata": {},
   "outputs": [
    {
     "name": "stderr",
     "output_type": "stream",
     "text": [
      "../..\\gempy\\data_management.py:1267: FutureWarning: arrays to stack must be passed as a \"sequence\" type such as list or tuple. Support for non-sequence iterables such as generators is deprecated as of NumPy 1.16 and will raise an error in the future.\n",
      "  values = np.vstack(map(np.ravel, g)).T.astype(\"float32\")\n"
     ]
    }
   ],
   "source": [
    "geo_data = gp.create_data([0,1000,0,1000,0,1000],resolution=[50,50,50], \n",
    "                        path_o = os.pardir+\"/examples/input_data/model4_orientations.csv\",\n",
    "                        path_i = os.pardir+\"/examples/input_data/model4_surface_points.csv\") "
   ]
  },
  {
   "cell_type": "code",
   "execution_count": 3,
   "metadata": {},
   "outputs": [
    {
     "data": {
      "text/html": [
       "<div>\n",
       "<style scoped>\n",
       "    .dataframe tbody tr th:only-of-type {\n",
       "        vertical-align: middle;\n",
       "    }\n",
       "\n",
       "    .dataframe tbody tr th {\n",
       "        vertical-align: top;\n",
       "    }\n",
       "\n",
       "    .dataframe thead th {\n",
       "        text-align: right;\n",
       "    }\n",
       "</style>\n",
       "<table border=\"1\" class=\"dataframe\">\n",
       "  <thead>\n",
       "    <tr style=\"text-align: right;\">\n",
       "      <th></th>\n",
       "      <th></th>\n",
       "      <th>X</th>\n",
       "      <th>Y</th>\n",
       "      <th>Z</th>\n",
       "      <th>formation</th>\n",
       "      <th>series</th>\n",
       "      <th>formation_number</th>\n",
       "      <th>order_series</th>\n",
       "      <th>isFault</th>\n",
       "      <th>G_x</th>\n",
       "      <th>G_y</th>\n",
       "      <th>G_z</th>\n",
       "      <th>dip</th>\n",
       "      <th>azimuth</th>\n",
       "      <th>polarity</th>\n",
       "    </tr>\n",
       "  </thead>\n",
       "  <tbody>\n",
       "    <tr>\n",
       "      <th rowspan=\"13\" valign=\"top\">interfaces</th>\n",
       "      <th>0</th>\n",
       "      <td>0.0</td>\n",
       "      <td>200.0</td>\n",
       "      <td>300.0</td>\n",
       "      <td>rock1</td>\n",
       "      <td>Default series</td>\n",
       "      <td>1</td>\n",
       "      <td>1</td>\n",
       "      <td>False</td>\n",
       "      <td>NaN</td>\n",
       "      <td>NaN</td>\n",
       "      <td>NaN</td>\n",
       "      <td>NaN</td>\n",
       "      <td>NaN</td>\n",
       "      <td>NaN</td>\n",
       "    </tr>\n",
       "    <tr>\n",
       "      <th>1</th>\n",
       "      <td>0.0</td>\n",
       "      <td>800.0</td>\n",
       "      <td>300.0</td>\n",
       "      <td>rock1</td>\n",
       "      <td>Default series</td>\n",
       "      <td>1</td>\n",
       "      <td>1</td>\n",
       "      <td>False</td>\n",
       "      <td>NaN</td>\n",
       "      <td>NaN</td>\n",
       "      <td>NaN</td>\n",
       "      <td>NaN</td>\n",
       "      <td>NaN</td>\n",
       "      <td>NaN</td>\n",
       "    </tr>\n",
       "    <tr>\n",
       "      <th>2</th>\n",
       "      <td>500.0</td>\n",
       "      <td>200.0</td>\n",
       "      <td>375.0</td>\n",
       "      <td>rock1</td>\n",
       "      <td>Default series</td>\n",
       "      <td>1</td>\n",
       "      <td>1</td>\n",
       "      <td>False</td>\n",
       "      <td>NaN</td>\n",
       "      <td>NaN</td>\n",
       "      <td>NaN</td>\n",
       "      <td>NaN</td>\n",
       "      <td>NaN</td>\n",
       "      <td>NaN</td>\n",
       "    </tr>\n",
       "    <tr>\n",
       "      <th>3</th>\n",
       "      <td>500.0</td>\n",
       "      <td>800.0</td>\n",
       "      <td>375.0</td>\n",
       "      <td>rock1</td>\n",
       "      <td>Default series</td>\n",
       "      <td>1</td>\n",
       "      <td>1</td>\n",
       "      <td>False</td>\n",
       "      <td>NaN</td>\n",
       "      <td>NaN</td>\n",
       "      <td>NaN</td>\n",
       "      <td>NaN</td>\n",
       "      <td>NaN</td>\n",
       "      <td>NaN</td>\n",
       "    </tr>\n",
       "    <tr>\n",
       "      <th>4</th>\n",
       "      <td>1000.0</td>\n",
       "      <td>200.0</td>\n",
       "      <td>450.0</td>\n",
       "      <td>rock1</td>\n",
       "      <td>Default series</td>\n",
       "      <td>1</td>\n",
       "      <td>1</td>\n",
       "      <td>False</td>\n",
       "      <td>NaN</td>\n",
       "      <td>NaN</td>\n",
       "      <td>NaN</td>\n",
       "      <td>NaN</td>\n",
       "      <td>NaN</td>\n",
       "      <td>NaN</td>\n",
       "    </tr>\n",
       "    <tr>\n",
       "      <th>5</th>\n",
       "      <td>1000.0</td>\n",
       "      <td>800.0</td>\n",
       "      <td>450.0</td>\n",
       "      <td>rock1</td>\n",
       "      <td>Default series</td>\n",
       "      <td>1</td>\n",
       "      <td>1</td>\n",
       "      <td>False</td>\n",
       "      <td>NaN</td>\n",
       "      <td>NaN</td>\n",
       "      <td>NaN</td>\n",
       "      <td>NaN</td>\n",
       "      <td>NaN</td>\n",
       "      <td>NaN</td>\n",
       "    </tr>\n",
       "    <tr>\n",
       "      <th>6</th>\n",
       "      <td>0.0</td>\n",
       "      <td>200.0</td>\n",
       "      <td>700.0</td>\n",
       "      <td>rock2</td>\n",
       "      <td>Default series</td>\n",
       "      <td>2</td>\n",
       "      <td>1</td>\n",
       "      <td>False</td>\n",
       "      <td>NaN</td>\n",
       "      <td>NaN</td>\n",
       "      <td>NaN</td>\n",
       "      <td>NaN</td>\n",
       "      <td>NaN</td>\n",
       "      <td>NaN</td>\n",
       "    </tr>\n",
       "    <tr>\n",
       "      <th>7</th>\n",
       "      <td>0.0</td>\n",
       "      <td>800.0</td>\n",
       "      <td>700.0</td>\n",
       "      <td>rock2</td>\n",
       "      <td>Default series</td>\n",
       "      <td>2</td>\n",
       "      <td>1</td>\n",
       "      <td>False</td>\n",
       "      <td>NaN</td>\n",
       "      <td>NaN</td>\n",
       "      <td>NaN</td>\n",
       "      <td>NaN</td>\n",
       "      <td>NaN</td>\n",
       "      <td>NaN</td>\n",
       "    </tr>\n",
       "    <tr>\n",
       "      <th>8</th>\n",
       "      <td>500.0</td>\n",
       "      <td>200.0</td>\n",
       "      <td>625.0</td>\n",
       "      <td>rock2</td>\n",
       "      <td>Default series</td>\n",
       "      <td>2</td>\n",
       "      <td>1</td>\n",
       "      <td>False</td>\n",
       "      <td>NaN</td>\n",
       "      <td>NaN</td>\n",
       "      <td>NaN</td>\n",
       "      <td>NaN</td>\n",
       "      <td>NaN</td>\n",
       "      <td>NaN</td>\n",
       "    </tr>\n",
       "    <tr>\n",
       "      <th>9</th>\n",
       "      <td>500.0</td>\n",
       "      <td>800.0</td>\n",
       "      <td>625.0</td>\n",
       "      <td>rock2</td>\n",
       "      <td>Default series</td>\n",
       "      <td>2</td>\n",
       "      <td>1</td>\n",
       "      <td>False</td>\n",
       "      <td>NaN</td>\n",
       "      <td>NaN</td>\n",
       "      <td>NaN</td>\n",
       "      <td>NaN</td>\n",
       "      <td>NaN</td>\n",
       "      <td>NaN</td>\n",
       "    </tr>\n",
       "    <tr>\n",
       "      <th>10</th>\n",
       "      <td>1000.0</td>\n",
       "      <td>200.0</td>\n",
       "      <td>550.0</td>\n",
       "      <td>rock2</td>\n",
       "      <td>Default series</td>\n",
       "      <td>2</td>\n",
       "      <td>1</td>\n",
       "      <td>False</td>\n",
       "      <td>NaN</td>\n",
       "      <td>NaN</td>\n",
       "      <td>NaN</td>\n",
       "      <td>NaN</td>\n",
       "      <td>NaN</td>\n",
       "      <td>NaN</td>\n",
       "    </tr>\n",
       "    <tr>\n",
       "      <th>11</th>\n",
       "      <td>1000.0</td>\n",
       "      <td>800.0</td>\n",
       "      <td>550.0</td>\n",
       "      <td>rock2</td>\n",
       "      <td>Default series</td>\n",
       "      <td>2</td>\n",
       "      <td>1</td>\n",
       "      <td>False</td>\n",
       "      <td>NaN</td>\n",
       "      <td>NaN</td>\n",
       "      <td>NaN</td>\n",
       "      <td>NaN</td>\n",
       "      <td>NaN</td>\n",
       "      <td>NaN</td>\n",
       "    </tr>\n",
       "    <tr>\n",
       "      <th>12</th>\n",
       "      <td>0.0</td>\n",
       "      <td>0.0</td>\n",
       "      <td>0.0</td>\n",
       "      <td>basement</td>\n",
       "      <td>Default series</td>\n",
       "      <td>3</td>\n",
       "      <td>1</td>\n",
       "      <td>False</td>\n",
       "      <td>NaN</td>\n",
       "      <td>NaN</td>\n",
       "      <td>NaN</td>\n",
       "      <td>NaN</td>\n",
       "      <td>NaN</td>\n",
       "      <td>NaN</td>\n",
       "    </tr>\n",
       "    <tr>\n",
       "      <th rowspan=\"6\" valign=\"top\">orientations</th>\n",
       "      <th>3</th>\n",
       "      <td>500.0</td>\n",
       "      <td>500.0</td>\n",
       "      <td>375.0</td>\n",
       "      <td>rock1</td>\n",
       "      <td>Default series</td>\n",
       "      <td>1</td>\n",
       "      <td>1</td>\n",
       "      <td>False</td>\n",
       "      <td>-0.1485</td>\n",
       "      <td>9.999909e-13</td>\n",
       "      <td>0.988912</td>\n",
       "      <td>351.46</td>\n",
       "      <td>90.0</td>\n",
       "      <td>1.0</td>\n",
       "    </tr>\n",
       "    <tr>\n",
       "      <th>4</th>\n",
       "      <td>500.0</td>\n",
       "      <td>200.0</td>\n",
       "      <td>375.0</td>\n",
       "      <td>rock1</td>\n",
       "      <td>Default series</td>\n",
       "      <td>1</td>\n",
       "      <td>1</td>\n",
       "      <td>False</td>\n",
       "      <td>-0.1485</td>\n",
       "      <td>9.999909e-13</td>\n",
       "      <td>0.988912</td>\n",
       "      <td>351.46</td>\n",
       "      <td>90.0</td>\n",
       "      <td>1.0</td>\n",
       "    </tr>\n",
       "    <tr>\n",
       "      <th>5</th>\n",
       "      <td>500.0</td>\n",
       "      <td>800.0</td>\n",
       "      <td>375.0</td>\n",
       "      <td>rock1</td>\n",
       "      <td>Default series</td>\n",
       "      <td>1</td>\n",
       "      <td>1</td>\n",
       "      <td>False</td>\n",
       "      <td>-0.1485</td>\n",
       "      <td>9.999909e-13</td>\n",
       "      <td>0.988912</td>\n",
       "      <td>351.46</td>\n",
       "      <td>90.0</td>\n",
       "      <td>1.0</td>\n",
       "    </tr>\n",
       "    <tr>\n",
       "      <th>0</th>\n",
       "      <td>500.0</td>\n",
       "      <td>500.0</td>\n",
       "      <td>625.0</td>\n",
       "      <td>rock2</td>\n",
       "      <td>Default series</td>\n",
       "      <td>2</td>\n",
       "      <td>1</td>\n",
       "      <td>False</td>\n",
       "      <td>0.1485</td>\n",
       "      <td>1.000009e-12</td>\n",
       "      <td>0.988912</td>\n",
       "      <td>8.54</td>\n",
       "      <td>90.0</td>\n",
       "      <td>1.0</td>\n",
       "    </tr>\n",
       "    <tr>\n",
       "      <th>1</th>\n",
       "      <td>500.0</td>\n",
       "      <td>200.0</td>\n",
       "      <td>625.0</td>\n",
       "      <td>rock2</td>\n",
       "      <td>Default series</td>\n",
       "      <td>2</td>\n",
       "      <td>1</td>\n",
       "      <td>False</td>\n",
       "      <td>0.1485</td>\n",
       "      <td>1.000009e-12</td>\n",
       "      <td>0.988912</td>\n",
       "      <td>8.54</td>\n",
       "      <td>90.0</td>\n",
       "      <td>1.0</td>\n",
       "    </tr>\n",
       "    <tr>\n",
       "      <th>2</th>\n",
       "      <td>500.0</td>\n",
       "      <td>800.0</td>\n",
       "      <td>625.0</td>\n",
       "      <td>rock2</td>\n",
       "      <td>Default series</td>\n",
       "      <td>2</td>\n",
       "      <td>1</td>\n",
       "      <td>False</td>\n",
       "      <td>0.1485</td>\n",
       "      <td>1.000009e-12</td>\n",
       "      <td>0.988912</td>\n",
       "      <td>8.54</td>\n",
       "      <td>90.0</td>\n",
       "      <td>1.0</td>\n",
       "    </tr>\n",
       "  </tbody>\n",
       "</table>\n",
       "</div>"
      ],
      "text/plain": [
       "                      X      Y      Z formation          series  \\\n",
       "interfaces   0      0.0  200.0  300.0     rock1  Default series   \n",
       "             1      0.0  800.0  300.0     rock1  Default series   \n",
       "             2    500.0  200.0  375.0     rock1  Default series   \n",
       "             3    500.0  800.0  375.0     rock1  Default series   \n",
       "             4   1000.0  200.0  450.0     rock1  Default series   \n",
       "             5   1000.0  800.0  450.0     rock1  Default series   \n",
       "             6      0.0  200.0  700.0     rock2  Default series   \n",
       "             7      0.0  800.0  700.0     rock2  Default series   \n",
       "             8    500.0  200.0  625.0     rock2  Default series   \n",
       "             9    500.0  800.0  625.0     rock2  Default series   \n",
       "             10  1000.0  200.0  550.0     rock2  Default series   \n",
       "             11  1000.0  800.0  550.0     rock2  Default series   \n",
       "             12     0.0    0.0    0.0  basement  Default series   \n",
       "orientations 3    500.0  500.0  375.0     rock1  Default series   \n",
       "             4    500.0  200.0  375.0     rock1  Default series   \n",
       "             5    500.0  800.0  375.0     rock1  Default series   \n",
       "             0    500.0  500.0  625.0     rock2  Default series   \n",
       "             1    500.0  200.0  625.0     rock2  Default series   \n",
       "             2    500.0  800.0  625.0     rock2  Default series   \n",
       "\n",
       "                 formation_number  order_series  isFault     G_x  \\\n",
       "interfaces   0                  1             1    False     NaN   \n",
       "             1                  1             1    False     NaN   \n",
       "             2                  1             1    False     NaN   \n",
       "             3                  1             1    False     NaN   \n",
       "             4                  1             1    False     NaN   \n",
       "             5                  1             1    False     NaN   \n",
       "             6                  2             1    False     NaN   \n",
       "             7                  2             1    False     NaN   \n",
       "             8                  2             1    False     NaN   \n",
       "             9                  2             1    False     NaN   \n",
       "             10                 2             1    False     NaN   \n",
       "             11                 2             1    False     NaN   \n",
       "             12                 3             1    False     NaN   \n",
       "orientations 3                  1             1    False -0.1485   \n",
       "             4                  1             1    False -0.1485   \n",
       "             5                  1             1    False -0.1485   \n",
       "             0                  2             1    False  0.1485   \n",
       "             1                  2             1    False  0.1485   \n",
       "             2                  2             1    False  0.1485   \n",
       "\n",
       "                          G_y       G_z     dip  azimuth  polarity  \n",
       "interfaces   0            NaN       NaN     NaN      NaN       NaN  \n",
       "             1            NaN       NaN     NaN      NaN       NaN  \n",
       "             2            NaN       NaN     NaN      NaN       NaN  \n",
       "             3            NaN       NaN     NaN      NaN       NaN  \n",
       "             4            NaN       NaN     NaN      NaN       NaN  \n",
       "             5            NaN       NaN     NaN      NaN       NaN  \n",
       "             6            NaN       NaN     NaN      NaN       NaN  \n",
       "             7            NaN       NaN     NaN      NaN       NaN  \n",
       "             8            NaN       NaN     NaN      NaN       NaN  \n",
       "             9            NaN       NaN     NaN      NaN       NaN  \n",
       "             10           NaN       NaN     NaN      NaN       NaN  \n",
       "             11           NaN       NaN     NaN      NaN       NaN  \n",
       "             12           NaN       NaN     NaN      NaN       NaN  \n",
       "orientations 3   9.999909e-13  0.988912  351.46     90.0       1.0  \n",
       "             4   9.999909e-13  0.988912  351.46     90.0       1.0  \n",
       "             5   9.999909e-13  0.988912  351.46     90.0       1.0  \n",
       "             0   1.000009e-12  0.988912    8.54     90.0       1.0  \n",
       "             1   1.000009e-12  0.988912    8.54     90.0       1.0  \n",
       "             2   1.000009e-12  0.988912    8.54     90.0       1.0  "
      ]
     },
     "execution_count": 3,
     "metadata": {},
     "output_type": "execute_result"
    }
   ],
   "source": [
    "geo_data.get_data()"
   ]
  },
  {
   "cell_type": "markdown",
   "metadata": {},
   "source": [
    "Setting and ordering the units and series:"
   ]
  },
  {
   "cell_type": "code",
   "execution_count": 4,
   "metadata": {},
   "outputs": [],
   "source": [
    "gp.set_series(geo_data, {\"Strat_Series\": ('rock2','rock1'),\"Basement_Series\":('basement')},\n",
    "              order_series = ['Strat_Series','Basement_Series'],\n",
    "              order_formations=np.array(['rock2','rock1','basement']), verbose=0)"
   ]
  },
  {
   "cell_type": "code",
   "execution_count": 5,
   "metadata": {},
   "outputs": [
    {
     "data": {
      "text/plain": [
       "<gempy.plotting.sequential_pile.StratigraphicPile at 0x255617f1f98>"
      ]
     },
     "execution_count": 5,
     "metadata": {},
     "output_type": "execute_result"
    },
    {
     "data": {
      "image/png": "[encoded data removed]",
      "text/plain": [
       "<Figure size 432x288 with 1 Axes>"
      ]
     },
     "metadata": {
      "needs_background": "light"
     },
     "output_type": "display_data"
    }
   ],
   "source": [
    "#%matplotlib inline\n",
    "gp.get_sequential_pile(geo_data)"
   ]
  },
  {
   "cell_type": "code",
   "execution_count": 6,
   "metadata": {},
   "outputs": [],
   "source": [
    "%matplotlib inline\n",
    "#gp.plotting.plot_data(geo_data, direction='y')"
   ]
  },
  {
   "cell_type": "markdown",
   "metadata": {},
   "source": [
    "Calculating the model:"
   ]
  },
  {
   "cell_type": "code",
   "execution_count": 7,
   "metadata": {
    "scrolled": true
   },
   "outputs": [
    {
     "name": "stdout",
     "output_type": "stream",
     "text": [
      "Compiling theano function...\n",
      "Compilation Done!\n",
      "Level of Optimization:  fast_compile\n",
      "Device:  cpu\n",
      "Precision:  float32\n",
      "Number of faults:  0\n"
     ]
    }
   ],
   "source": [
    "interp_data = gp.InterpolatorData(geo_data, u_grade=[1], output='geology', compile_theano=True, theano_optimizer='fast_compile')"
   ]
  },
  {
   "cell_type": "code",
   "execution_count": 8,
   "metadata": {
    "scrolled": true
   },
   "outputs": [
    {
     "name": "stderr",
     "output_type": "stream",
     "text": [
      "C:\\Users\\Jan\\Anaconda3\\lib\\site-packages\\theano\\tensor\\subtensor.py:2339: FutureWarning: Using a non-tuple sequence for multidimensional indexing is deprecated; use `arr[tuple(seq)]` instead of `arr[seq]`. In the future this will be interpreted as an array index, `arr[np.array(seq)]`, which will result either in an error or a different result.\n",
      "  out[0][inputs[2:]] = inputs[1]\n"
     ]
    }
   ],
   "source": [
    "lith_block, fault_block = gp.compute_model(interp_data)"
   ]
  },
  {
   "cell_type": "markdown",
   "metadata": {},
   "source": [
    "Displaying the result in x and y direction:"
   ]
  },
  {
   "cell_type": "code",
   "execution_count": 9,
   "metadata": {
    "scrolled": false
   },
   "outputs": [
    {
     "data": {
      "image/png": "[encoded data removed]",
      "text/plain": [
       "<Figure size 360x360 with 1 Axes>"
      ]
     },
     "metadata": {},
     "output_type": "display_data"
    }
   ],
   "source": [
    "%matplotlib inline\n",
    "gp.plotting.plot_section(geo_data, lith_block[0], cell_number=25,\n",
    "                         direction='x', plot_data=True)"
   ]
  },
  {
   "cell_type": "code",
   "execution_count": 10,
   "metadata": {},
   "outputs": [
    {
     "data": {
      "image/png": "[encoded data removed]",
      "text/plain": [
       "<Figure size 360x360 with 1 Axes>"
      ]
     },
     "metadata": {},
     "output_type": "display_data"
    }
   ],
   "source": [
    "%matplotlib inline\n",
    "gp.plotting.plot_section(geo_data, lith_block[0], cell_number=25,\n",
    "                         direction='y', plot_data=True)"
   ]
  },
  {
   "cell_type": "code",
   "execution_count": null,
   "metadata": {},
   "outputs": [],
   "source": []
  }
 ],
 "metadata": {
  "kernelspec": {
   "display_name": "Python 3",
   "language": "python",
   "name": "python3"
  },
  "language_info": {
   "codemirror_mode": {
    "name": "ipython",
    "version": 3
   },
   "file_extension": ".py",
   "mimetype": "text/x-python",
   "name": "python",
   "nbconvert_exporter": "python",
   "pygments_lexer": "ipython3",
   "version": "3.6.4"
  }
 },
 "nbformat": 4,
 "nbformat_minor": 2
}
