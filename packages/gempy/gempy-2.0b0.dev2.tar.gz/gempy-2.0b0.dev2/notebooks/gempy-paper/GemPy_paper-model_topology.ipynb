{
 "cells": [
  {
   "cell_type": "markdown",
   "metadata": {},
   "source": [
    "# GemPy Paper Code: Model and Topology\n",
    "\n",
    "In this notebook you will be able to see and run the code utilized to create the figures of the paper *GemPy - an open-source library for implicit geological modeling and uncertainty quantification*"
   ]
  },
  {
   "cell_type": "code",
   "execution_count": 1,
   "metadata": {
    "code_folding": [],
    "slideshow": {
     "slide_type": "skip"
    }
   },
   "outputs": [
    {
     "name": "stderr",
     "output_type": "stream",
     "text": [
      "../../gempy/posterior_analysis.py:28: UserWarning: pymc (v3) package is not installed. No support for stochastic simulation posterior analysis.\n",
      "  warnings.warn(\"pymc (v3) package is not installed. No support for stochastic simulation posterior analysis.\")\n"
     ]
    }
   ],
   "source": [
    "# Importing dependencies\n",
    "\n",
    "# These two lines are necessary only if gempy is not installed\n",
    "import sys, os\n",
    "sys.path.append(\"../..\")\n",
    "\n",
    "import gempy as gp\n",
    "%matplotlib inline\n",
    "\n",
    "# Aux imports\n",
    "\n",
    "import numpy as np\n",
    "import pandas as pn\n",
    "import matplotlib.pyplot as plt"
   ]
  },
  {
   "cell_type": "code",
   "execution_count": 2,
   "metadata": {
    "code_folding": [
     0
    ],
    "slideshow": {
     "slide_type": "skip"
    }
   },
   "outputs": [],
   "source": [
    "# Funtion to plot labels of the input data in latex\n",
    "def annotate_plot(frame, label_col, x, y, **kwargs):\n",
    "    \"\"\"\n",
    "    Annotate the plot of a given DataFrame using one of its columns\n",
    "\n",
    "    Should be called right after a DataFrame or series plot method,\n",
    "    before telling matplotlib to show the plot.\n",
    "\n",
    "    Parameters\n",
    "    ----------\n",
    "    frame : pandas.DataFrame\n",
    "\n",
    "    plot_col : str\n",
    "        The string identifying the column of frame that was plotted\n",
    "\n",
    "    label_col : str\n",
    "        The string identifying the column of frame to be used as label\n",
    "\n",
    "    kwargs:\n",
    "        Other key-word args that should be passed to plt.annotate\n",
    "\n",
    "    Returns\n",
    "    -------\n",
    "    None\n",
    "\n",
    "    Notes\n",
    "    -----\n",
    "    After calling this function you should call plt.show() to get the\n",
    "    results. This function only adds the annotations, it doesn't show\n",
    "    them.\n",
    "    \"\"\"\n",
    "    import matplotlib.pyplot as plt  # Make sure we have pyplot as plt\n",
    "\n",
    "    for label, x, y in zip(frame[label_col], frame[x], frame[y]):\n",
    "        plt.annotate(label, xy=(x + 0.1, y + 0.15), **kwargs)"
   ]
  },
  {
   "cell_type": "markdown",
   "metadata": {},
   "source": [
    "## Building a geological model\n",
    "\n",
    "First we import the raw data and define model parameters such as resolution or extent"
   ]
  },
  {
   "cell_type": "code",
   "execution_count": 4,
   "metadata": {},
   "outputs": [],
   "source": [
    "geo_data = gp.create_data([0,20,0,10,-10,0],[100,10,100],\n",
    "                         path_o = \"input_data/paper_Orientations.csv\",\n",
    "                         path_i = \"input_data/paper_Points.csv\")\n",
    "\n",
    "# Example of method to add extra points directly in Python \n",
    "#geo_data.add_interface(X=10, Y=4, Z=-7, formation='fault1')"
   ]
  },
  {
   "cell_type": "markdown",
   "metadata": {},
   "source": [
    "Defining all different series that form the most complex model. In the paper you can find figures with different combination of these series to examplify the possible types of topolodies supported in GemPy"
   ]
  },
  {
   "cell_type": "code",
   "execution_count": 5,
   "metadata": {},
   "outputs": [
    {
     "data": {
      "image/png": "[encoded data removed]",
      "text/plain": [
       "<Figure size 432x288 with 1 Axes>"
      ]
     },
     "metadata": {},
     "output_type": "display_data"
    }
   ],
   "source": [
    "%matplotlib inline\n",
    "gp.set_series(geo_data, {'fault_serie1': 'fault1','younger_serie' : 'Unconformity', 'older_serie': ('Layer1', 'Layer2')},\n",
    "              order_formations= ['fault1', 'Unconformity', 'Layer2', 'Layer1'], verbose=2)\n",
    "\n",
    "geo_data.modify_interface(9, Z = -6.4)\n",
    "\n",
    "fig=plt.gcf()\n",
    "# fig.savefig('doc/figs/fault_pile.pdf')"
   ]
  },
  {
   "cell_type": "markdown",
   "metadata": {},
   "source": [
    "The next cell show how specific series can be selected"
   ]
  },
  {
   "cell_type": "code",
   "execution_count": 6,
   "metadata": {},
   "outputs": [],
   "source": [
    "#geo_data = gp.select_series(geo_data, ['older_serie'])"
   ]
  },
  {
   "cell_type": "markdown",
   "metadata": {},
   "source": [
    "Visualizing the final data"
   ]
  },
  {
   "cell_type": "code",
   "execution_count": 7,
   "metadata": {},
   "outputs": [
    {
     "name": "stderr",
     "output_type": "stream",
     "text": [
      "../../gempy/gempy_front.py:927: FutureWarning: gempy plotting functionality will be moved in version 1.2, use gempy.plotting module instead\n",
      "  warnings.warn(\"gempy plotting functionality will be moved in version 1.2, use gempy.plotting module instead\", FutureWarning)\n"
     ]
    },
    {
     "ename": "KeyError",
     "evalue": "nan",
     "output_type": "error",
     "traceback": [
      "\u001b[0;31m---------------------------------------------------------------------------\u001b[0m",
      "\u001b[0;31mKeyError\u001b[0m                                  Traceback (most recent call last)",
      "\u001b[0;32m<ipython-input-7-56b55006c2f9>\u001b[0m in \u001b[0;36m<module>\u001b[0;34m()\u001b[0m\n\u001b[0;32m----> 1\u001b[0;31m \u001b[0mgp\u001b[0m\u001b[0;34m.\u001b[0m\u001b[0mplot_data\u001b[0m\u001b[0;34m(\u001b[0m\u001b[0mgeo_data\u001b[0m\u001b[0;34m)\u001b[0m\u001b[0;34m\u001b[0m\u001b[0m\n\u001b[0m",
      "\u001b[0;32m~/PycharmProjects/gempy/gempy/gempy_front.py\u001b[0m in \u001b[0;36mplot_data\u001b[0;34m(geo_data, direction, data_type, series, legend_font_size, **kwargs)\u001b[0m\n\u001b[1;32m    930\u001b[0m \u001b[0;34m\u001b[0m\u001b[0m\n\u001b[1;32m    931\u001b[0m     \u001b[0;31m# TODO saving options\u001b[0m\u001b[0;34m\u001b[0m\u001b[0;34m\u001b[0m\u001b[0m\n\u001b[0;32m--> 932\u001b[0;31m     \u001b[0;32mreturn\u001b[0m \u001b[0mplot\u001b[0m\u001b[0;34m.\u001b[0m\u001b[0mplot_data\u001b[0m\u001b[0;34m(\u001b[0m\u001b[0mdirection\u001b[0m\u001b[0;34m=\u001b[0m\u001b[0mdirection\u001b[0m\u001b[0;34m,\u001b[0m \u001b[0mdata_type\u001b[0m\u001b[0;34m=\u001b[0m\u001b[0mdata_type\u001b[0m\u001b[0;34m,\u001b[0m \u001b[0mseries\u001b[0m\u001b[0;34m=\u001b[0m\u001b[0mseries\u001b[0m\u001b[0;34m,\u001b[0m \u001b[0mlegend_font_size\u001b[0m\u001b[0;34m=\u001b[0m\u001b[0mlegend_font_size\u001b[0m\u001b[0;34m,\u001b[0m \u001b[0;34m**\u001b[0m\u001b[0mkwargs\u001b[0m\u001b[0;34m)\u001b[0m\u001b[0;34m\u001b[0m\u001b[0m\n\u001b[0m\u001b[1;32m    933\u001b[0m \u001b[0;34m\u001b[0m\u001b[0m\n\u001b[1;32m    934\u001b[0m \u001b[0;34m\u001b[0m\u001b[0m\n",
      "\u001b[0;32m~/PycharmProjects/gempy/gempy/plotting/visualization.py\u001b[0m in \u001b[0;36mplot_data\u001b[0;34m(self, direction, data_type, series, legend_font_size, ve, **kwargs)\u001b[0m\n\u001b[1;32m    139\u001b[0m         \u001b[0;31m# Change dictionary keys numbers for formation names\u001b[0m\u001b[0;34m\u001b[0m\u001b[0;34m\u001b[0m\u001b[0m\n\u001b[1;32m    140\u001b[0m         \u001b[0;32mfor\u001b[0m \u001b[0mi\u001b[0m \u001b[0;32min\u001b[0m \u001b[0mzip\u001b[0m\u001b[0;34m(\u001b[0m\u001b[0mself\u001b[0m\u001b[0;34m.\u001b[0m\u001b[0mformation_names\u001b[0m\u001b[0;34m,\u001b[0m \u001b[0mself\u001b[0m\u001b[0;34m.\u001b[0m\u001b[0mformation_numbers\u001b[0m\u001b[0;34m)\u001b[0m\u001b[0;34m:\u001b[0m\u001b[0;34m\u001b[0m\u001b[0m\n\u001b[0;32m--> 141\u001b[0;31m             \u001b[0mself\u001b[0m\u001b[0;34m.\u001b[0m\u001b[0m_color_lot\u001b[0m\u001b[0;34m[\u001b[0m\u001b[0mi\u001b[0m\u001b[0;34m[\u001b[0m\u001b[0;36m0\u001b[0m\u001b[0;34m]\u001b[0m\u001b[0;34m]\u001b[0m \u001b[0;34m=\u001b[0m \u001b[0mself\u001b[0m\u001b[0;34m.\u001b[0m\u001b[0m_color_lot\u001b[0m\u001b[0;34m[\u001b[0m\u001b[0mi\u001b[0m\u001b[0;34m[\u001b[0m\u001b[0;36m1\u001b[0m\u001b[0;34m]\u001b[0m\u001b[0;34m]\u001b[0m\u001b[0;34m\u001b[0m\u001b[0m\n\u001b[0m\u001b[1;32m    142\u001b[0m \u001b[0;34m\u001b[0m\u001b[0m\n\u001b[1;32m    143\u001b[0m         \u001b[0;31m#fig, ax = plt.subplots()\u001b[0m\u001b[0;34m\u001b[0m\u001b[0;34m\u001b[0m\u001b[0m\n",
      "\u001b[0;31mKeyError\u001b[0m: nan"
     ]
    }
   ],
   "source": [
    "gp.plot_data(geo_data)"
   ]
  },
  {
   "cell_type": "code",
   "execution_count": 8,
   "metadata": {},
   "outputs": [
    {
     "data": {
      "text/html": [
       "<div>\n",
       "<style scoped>\n",
       "    .dataframe tbody tr th:only-of-type {\n",
       "        vertical-align: middle;\n",
       "    }\n",
       "\n",
       "    .dataframe tbody tr th {\n",
       "        vertical-align: top;\n",
       "    }\n",
       "\n",
       "    .dataframe thead th {\n",
       "        text-align: right;\n",
       "    }\n",
       "</style>\n",
       "<table border=\"1\" class=\"dataframe\">\n",
       "  <thead>\n",
       "    <tr style=\"text-align: right;\">\n",
       "      <th></th>\n",
       "      <th>X</th>\n",
       "      <th>Y</th>\n",
       "      <th>Z</th>\n",
       "      <th>formation</th>\n",
       "      <th>series</th>\n",
       "      <th>formation_number</th>\n",
       "      <th>order_series</th>\n",
       "      <th>isFault</th>\n",
       "    </tr>\n",
       "  </thead>\n",
       "  <tbody>\n",
       "    <tr>\n",
       "      <th>0</th>\n",
       "      <td>10.000000</td>\n",
       "      <td>4.0</td>\n",
       "      <td>-7.000000</td>\n",
       "      <td>NaN</td>\n",
       "      <td>fault_serie1</td>\n",
       "      <td>NaN</td>\n",
       "      <td>1</td>\n",
       "      <td>True</td>\n",
       "    </tr>\n",
       "    <tr>\n",
       "      <th>1</th>\n",
       "      <td>4.345153</td>\n",
       "      <td>5.0</td>\n",
       "      <td>-1.921564</td>\n",
       "      <td>NaN</td>\n",
       "      <td>fault_serie1</td>\n",
       "      <td>NaN</td>\n",
       "      <td>1</td>\n",
       "      <td>True</td>\n",
       "    </tr>\n",
       "    <tr>\n",
       "      <th>2</th>\n",
       "      <td>2.303022</td>\n",
       "      <td>5.0</td>\n",
       "      <td>-1.647248</td>\n",
       "      <td>Unconformity</td>\n",
       "      <td>younger_serie</td>\n",
       "      <td>2.0</td>\n",
       "      <td>2</td>\n",
       "      <td>False</td>\n",
       "    </tr>\n",
       "    <tr>\n",
       "      <th>3</th>\n",
       "      <td>1.083840</td>\n",
       "      <td>5.0</td>\n",
       "      <td>-1.738687</td>\n",
       "      <td>Unconformity</td>\n",
       "      <td>younger_serie</td>\n",
       "      <td>2.0</td>\n",
       "      <td>2</td>\n",
       "      <td>False</td>\n",
       "    </tr>\n",
       "    <tr>\n",
       "      <th>4</th>\n",
       "      <td>8.825648</td>\n",
       "      <td>5.0</td>\n",
       "      <td>-3.140747</td>\n",
       "      <td>Unconformity</td>\n",
       "      <td>younger_serie</td>\n",
       "      <td>2.0</td>\n",
       "      <td>2</td>\n",
       "      <td>False</td>\n",
       "    </tr>\n",
       "    <tr>\n",
       "      <th>5</th>\n",
       "      <td>15.561631</td>\n",
       "      <td>5.0</td>\n",
       "      <td>-3.232185</td>\n",
       "      <td>Unconformity</td>\n",
       "      <td>younger_serie</td>\n",
       "      <td>2.0</td>\n",
       "      <td>2</td>\n",
       "      <td>False</td>\n",
       "    </tr>\n",
       "    <tr>\n",
       "      <th>9</th>\n",
       "      <td>2.059186</td>\n",
       "      <td>5.0</td>\n",
       "      <td>-6.400000</td>\n",
       "      <td>Layer2</td>\n",
       "      <td>older_serie</td>\n",
       "      <td>3.0</td>\n",
       "      <td>3</td>\n",
       "      <td>False</td>\n",
       "    </tr>\n",
       "    <tr>\n",
       "      <th>10</th>\n",
       "      <td>11.843125</td>\n",
       "      <td>5.0</td>\n",
       "      <td>-5.761989</td>\n",
       "      <td>Layer2</td>\n",
       "      <td>older_serie</td>\n",
       "      <td>3.0</td>\n",
       "      <td>3</td>\n",
       "      <td>False</td>\n",
       "    </tr>\n",
       "    <tr>\n",
       "      <th>11</th>\n",
       "      <td>15.317795</td>\n",
       "      <td>5.0</td>\n",
       "      <td>-6.493498</td>\n",
       "      <td>Layer2</td>\n",
       "      <td>older_serie</td>\n",
       "      <td>3.0</td>\n",
       "      <td>3</td>\n",
       "      <td>False</td>\n",
       "    </tr>\n",
       "    <tr>\n",
       "      <th>6</th>\n",
       "      <td>2.211584</td>\n",
       "      <td>5.0</td>\n",
       "      <td>-6.400000</td>\n",
       "      <td>Layer1</td>\n",
       "      <td>older_serie</td>\n",
       "      <td>4.0</td>\n",
       "      <td>3</td>\n",
       "      <td>False</td>\n",
       "    </tr>\n",
       "    <tr>\n",
       "      <th>7</th>\n",
       "      <td>11.172574</td>\n",
       "      <td>5.0</td>\n",
       "      <td>-6.981171</td>\n",
       "      <td>Layer1</td>\n",
       "      <td>older_serie</td>\n",
       "      <td>4.0</td>\n",
       "      <td>3</td>\n",
       "      <td>False</td>\n",
       "    </tr>\n",
       "    <tr>\n",
       "      <th>8</th>\n",
       "      <td>15.104438</td>\n",
       "      <td>5.0</td>\n",
       "      <td>-8.108915</td>\n",
       "      <td>Layer1</td>\n",
       "      <td>older_serie</td>\n",
       "      <td>4.0</td>\n",
       "      <td>3</td>\n",
       "      <td>False</td>\n",
       "    </tr>\n",
       "    <tr>\n",
       "      <th>12</th>\n",
       "      <td>0.000000</td>\n",
       "      <td>0.0</td>\n",
       "      <td>-10.000000</td>\n",
       "      <td>basement</td>\n",
       "      <td>older_serie</td>\n",
       "      <td>5.0</td>\n",
       "      <td>3</td>\n",
       "      <td>False</td>\n",
       "    </tr>\n",
       "  </tbody>\n",
       "</table>\n",
       "</div>"
      ],
      "text/plain": [
       "            X    Y          Z     formation         series  formation_number  \\\n",
       "0   10.000000  4.0  -7.000000           NaN   fault_serie1               NaN   \n",
       "1    4.345153  5.0  -1.921564           NaN   fault_serie1               NaN   \n",
       "2    2.303022  5.0  -1.647248  Unconformity  younger_serie               2.0   \n",
       "3    1.083840  5.0  -1.738687  Unconformity  younger_serie               2.0   \n",
       "4    8.825648  5.0  -3.140747  Unconformity  younger_serie               2.0   \n",
       "5   15.561631  5.0  -3.232185  Unconformity  younger_serie               2.0   \n",
       "9    2.059186  5.0  -6.400000        Layer2    older_serie               3.0   \n",
       "10  11.843125  5.0  -5.761989        Layer2    older_serie               3.0   \n",
       "11  15.317795  5.0  -6.493498        Layer2    older_serie               3.0   \n",
       "6    2.211584  5.0  -6.400000        Layer1    older_serie               4.0   \n",
       "7   11.172574  5.0  -6.981171        Layer1    older_serie               4.0   \n",
       "8   15.104438  5.0  -8.108915        Layer1    older_serie               4.0   \n",
       "12   0.000000  0.0 -10.000000      basement    older_serie               5.0   \n",
       "\n",
       "    order_series  isFault  \n",
       "0              1     True  \n",
       "1              1     True  \n",
       "2              2    False  \n",
       "3              2    False  \n",
       "4              2    False  \n",
       "5              2    False  \n",
       "9              3    False  \n",
       "10             3    False  \n",
       "11             3    False  \n",
       "6              3    False  \n",
       "7              3    False  \n",
       "8              3    False  \n",
       "12             3    False  "
      ]
     },
     "execution_count": 8,
     "metadata": {},
     "output_type": "execute_result"
    }
   ],
   "source": [
    "gp.get_data(geo_data, 'interfaces')"
   ]
  },
  {
   "cell_type": "markdown",
   "metadata": {},
   "source": [
    "Compiling the theano funciton"
   ]
  },
  {
   "cell_type": "code",
   "execution_count": null,
   "metadata": {
    "scrolled": false
   },
   "outputs": [],
   "source": [
    "interp_data = gp.InterpolatorData(geo_data, u_grade=[1,0,1], dtype='float64', verbose=[], compile_theano=True)"
   ]
  },
  {
   "cell_type": "markdown",
   "metadata": {},
   "source": [
    "Computing the model"
   ]
  },
  {
   "cell_type": "code",
   "execution_count": null,
   "metadata": {
    "scrolled": true
   },
   "outputs": [],
   "source": [
    "lith, fault = gp.compute_model(interp_data)"
   ]
  },
  {
   "cell_type": "code",
   "execution_count": null,
   "metadata": {},
   "outputs": [],
   "source": [
    "# Plotting\n",
    "gp.plot_section(geo_data, lith[0], 5, plot_data=True)\n",
    "\n",
    "# plt.savefig(\"model_2.pdf\")"
   ]
  },
  {
   "cell_type": "code",
   "execution_count": null,
   "metadata": {},
   "outputs": [],
   "source": [
    "gp.plot_scalar_field(geo_data, lith[1], 5, cmap=\"viridis\", N = 500)\n",
    "annotate_plot(gp.get_data(geo_data, verbosity=2), 'annotations', 'X', 'Z', size = 20)\n",
    "\n",
    "# plt.savefig(\"doc/figs/scalar_field_simple.pdf\")"
   ]
  },
  {
   "cell_type": "code",
   "execution_count": null,
   "metadata": {},
   "outputs": [],
   "source": [
    "gp.plot_section(geo_data, lith[0], 5, direction='z',plot_data=True)\n",
    "annotate_plot(gp.get_data(geo_data, verbosity=2), 'annotations', 'X', 'Z', size = 20)\n",
    "\n",
    "#plt.savefig('doc/figs/FaultBlock.png')"
   ]
  },
  {
   "cell_type": "markdown",
   "metadata": {},
   "source": [
    "In 3D using vtk:"
   ]
  },
  {
   "cell_type": "code",
   "execution_count": null,
   "metadata": {},
   "outputs": [],
   "source": [
    "ver_s, sim_s = gp.get_surfaces(interp_data,lith[1],\n",
    "                               [fault[1]],\n",
    "                               original_scale=True)"
   ]
  },
  {
   "cell_type": "code",
   "execution_count": null,
   "metadata": {},
   "outputs": [],
   "source": [
    "gp.plot_surfaces_3D(geo_data, ver_s, sim_s)"
   ]
  },
  {
   "cell_type": "markdown",
   "metadata": {},
   "source": [
    "## Topology"
   ]
  },
  {
   "cell_type": "code",
   "execution_count": null,
   "metadata": {},
   "outputs": [],
   "source": [
    "G, centroids, labels_unique, lith_to_labels_lot, labels_to_lith_lot = gp.topology_compute(geo_data, lith[0], fault[0])\n",
    "gp.plot_section(geo_data, lith[0], 5)\n",
    "gp.topology_plot(geo_data, G, centroids)\n",
    "\n",
    "# plt.savefig('doc/figs/topology.png')"
   ]
  },
  {
   "cell_type": "markdown",
   "metadata": {},
   "source": [
    "The following code is simply to change the color of the layers for giving consistency in the publication"
   ]
  },
  {
   "cell_type": "code",
   "execution_count": null,
   "metadata": {},
   "outputs": [],
   "source": [
    "import copy\n",
    "a = copy.copy(lith[0])"
   ]
  },
  {
   "cell_type": "code",
   "execution_count": null,
   "metadata": {},
   "outputs": [],
   "source": [
    "# plot 1\n",
    "a[lith[0]==0]=0\n",
    "a[lith[0]==1]=2\n",
    "a[lith[0]==2]=3\n",
    "a[lith[0]==3]=4"
   ]
  }
 ],
 "metadata": {
  "kernelspec": {
   "display_name": "Python 3",
   "language": "python",
   "name": "python3"
  },
  "language_info": {
   "codemirror_mode": {
    "name": "ipython",
    "version": 3
   },
   "file_extension": ".py",
   "mimetype": "text/x-python",
   "name": "python",
   "nbconvert_exporter": "python",
   "pygments_lexer": "ipython3",
   "version": "3.6.8"
  },
  "latex_envs": {
   "LaTeX_envs_menu_present": true,
   "autocomplete": true,
   "bibliofile": "biblio.bib",
   "cite_by": "apalike",
   "current_citInitial": 1,
   "eqLabelWithNumbers": true,
   "eqNumInitial": 1,
   "hotkeys": {
    "equation": "Ctrl-E",
    "itemize": "Ctrl-I"
   },
   "labels_anchors": false,
   "latex_user_defs": false,
   "report_style_numbering": false,
   "user_envs_cfg": false
  },
  "toc": {
   "colors": {
    "hover_highlight": "#DAA520",
    "running_highlight": "#FF0000",
    "selected_highlight": "#FFD700"
   },
   "moveMenuLeft": true,
   "nav_menu": {
    "height": "12px",
    "width": "252px"
   },
   "navigate_menu": true,
   "number_sections": false,
   "sideBar": true,
   "threshold": 4,
   "toc_cell": false,
   "toc_section_display": "block",
   "toc_window_display": false,
   "widenNotebook": false
  }
 },
 "nbformat": 4,
 "nbformat_minor": 2
}
