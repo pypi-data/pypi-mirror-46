{
 "cells": [
  {
   "cell_type": "markdown",
   "metadata": {},
   "source": [
    "## Chapter 1.9b: Fault relations\n",
    "***\n",
    "In this scenario a fault is offsetting a younger fault in a setting of horzontally stacked layers.\n",
    "\n",
    "Let's start as always by importing the necessary dependencies:"
   ]
  },
  {
   "cell_type": "code",
   "execution_count": 1,
   "metadata": {},
   "outputs": [],
   "source": [
    "# These two lines are necessary only if gempy is not installed\n",
    "import sys, os\n",
    "sys.path.append(\"../..\")\n",
    "\n",
    "# Importing gempy\n",
    "import gempy as gp\n",
    "\n",
    "# Embedding matplotlib figures into the notebooks\n",
    "#%matplotlib inline\n",
    "\n",
    "# Aux imports\n",
    "import numpy as np\n",
    "import pandas as pn\n",
    "import matplotlib\n",
    "import theano\n",
    "import qgrid\n",
    "\n",
    "#%matplotlib widget"
   ]
  },
  {
   "cell_type": "markdown",
   "metadata": {},
   "source": [
    "We import a model from an existing folder."
   ]
  },
  {
   "cell_type": "code",
   "execution_count": 2,
   "metadata": {},
   "outputs": [],
   "source": [
    "geo_model = gp.load_model('Tutorial_ch1-9b_Fault_relations', path= '../data/gempy_models')"
   ]
  },
  {
   "cell_type": "code",
   "execution_count": 3,
   "metadata": {},
   "outputs": [
    {
     "data": {
      "text/html": [
       "<style  type=\"text/css\" >\n",
       "    #T_68f0496e_7728_11e9_b09d_acde48001122row0_col4 {\n",
       "            background-color:  #015482;\n",
       "        }    #T_68f0496e_7728_11e9_b09d_acde48001122row1_col4 {\n",
       "            background-color:  #9f0052;\n",
       "        }    #T_68f0496e_7728_11e9_b09d_acde48001122row2_col4 {\n",
       "            background-color:  #ffbe00;\n",
       "        }    #T_68f0496e_7728_11e9_b09d_acde48001122row3_col4 {\n",
       "            background-color:  #728f02;\n",
       "        }    #T_68f0496e_7728_11e9_b09d_acde48001122row4_col4 {\n",
       "            background-color:  #443988;\n",
       "        }    #T_68f0496e_7728_11e9_b09d_acde48001122row5_col4 {\n",
       "            background-color:  #ff3f20;\n",
       "        }    #T_68f0496e_7728_11e9_b09d_acde48001122row6_col4 {\n",
       "            background-color:  #325916;\n",
       "        }</style><table id=\"T_68f0496e_7728_11e9_b09d_acde48001122\" ><thead>    <tr>        <th class=\"blank level0\" ></th>        <th class=\"col_heading level0 col0\" >surface</th>        <th class=\"col_heading level0 col1\" >series</th>        <th class=\"col_heading level0 col2\" >order_surfaces</th>        <th class=\"col_heading level0 col3\" >isBasement</th>        <th class=\"col_heading level0 col4\" >color</th>        <th class=\"col_heading level0 col5\" >id</th>    </tr></thead><tbody>\n",
       "                <tr>\n",
       "                        <th id=\"T_68f0496e_7728_11e9_b09d_acde48001122level0_row0\" class=\"row_heading level0 row0\" >7</th>\n",
       "                        <td id=\"T_68f0496e_7728_11e9_b09d_acde48001122row0_col0\" class=\"data row0 col0\" >fault2</td>\n",
       "                        <td id=\"T_68f0496e_7728_11e9_b09d_acde48001122row0_col1\" class=\"data row0 col1\" >fault_series2</td>\n",
       "                        <td id=\"T_68f0496e_7728_11e9_b09d_acde48001122row0_col2\" class=\"data row0 col2\" >1</td>\n",
       "                        <td id=\"T_68f0496e_7728_11e9_b09d_acde48001122row0_col3\" class=\"data row0 col3\" >False</td>\n",
       "                        <td id=\"T_68f0496e_7728_11e9_b09d_acde48001122row0_col4\" class=\"data row0 col4\" >#015482</td>\n",
       "                        <td id=\"T_68f0496e_7728_11e9_b09d_acde48001122row0_col5\" class=\"data row0 col5\" >1</td>\n",
       "            </tr>\n",
       "            <tr>\n",
       "                        <th id=\"T_68f0496e_7728_11e9_b09d_acde48001122level0_row1\" class=\"row_heading level0 row1\" >5</th>\n",
       "                        <td id=\"T_68f0496e_7728_11e9_b09d_acde48001122row1_col0\" class=\"data row1 col0\" >fault1</td>\n",
       "                        <td id=\"T_68f0496e_7728_11e9_b09d_acde48001122row1_col1\" class=\"data row1 col1\" >fault_series1</td>\n",
       "                        <td id=\"T_68f0496e_7728_11e9_b09d_acde48001122row1_col2\" class=\"data row1 col2\" >1</td>\n",
       "                        <td id=\"T_68f0496e_7728_11e9_b09d_acde48001122row1_col3\" class=\"data row1 col3\" >False</td>\n",
       "                        <td id=\"T_68f0496e_7728_11e9_b09d_acde48001122row1_col4\" class=\"data row1 col4\" >#9f0052</td>\n",
       "                        <td id=\"T_68f0496e_7728_11e9_b09d_acde48001122row1_col5\" class=\"data row1 col5\" >2</td>\n",
       "            </tr>\n",
       "            <tr>\n",
       "                        <th id=\"T_68f0496e_7728_11e9_b09d_acde48001122level0_row2\" class=\"row_heading level0 row2\" >6</th>\n",
       "                        <td id=\"T_68f0496e_7728_11e9_b09d_acde48001122row2_col0\" class=\"data row2 col0\" >rock4</td>\n",
       "                        <td id=\"T_68f0496e_7728_11e9_b09d_acde48001122row2_col1\" class=\"data row2 col1\" >series1</td>\n",
       "                        <td id=\"T_68f0496e_7728_11e9_b09d_acde48001122row2_col2\" class=\"data row2 col2\" >1</td>\n",
       "                        <td id=\"T_68f0496e_7728_11e9_b09d_acde48001122row2_col3\" class=\"data row2 col3\" >False</td>\n",
       "                        <td id=\"T_68f0496e_7728_11e9_b09d_acde48001122row2_col4\" class=\"data row2 col4\" >#ffbe00</td>\n",
       "                        <td id=\"T_68f0496e_7728_11e9_b09d_acde48001122row2_col5\" class=\"data row2 col5\" >3</td>\n",
       "            </tr>\n",
       "            <tr>\n",
       "                        <th id=\"T_68f0496e_7728_11e9_b09d_acde48001122level0_row3\" class=\"row_heading level0 row3\" >0</th>\n",
       "                        <td id=\"T_68f0496e_7728_11e9_b09d_acde48001122row3_col0\" class=\"data row3 col0\" >rock3</td>\n",
       "                        <td id=\"T_68f0496e_7728_11e9_b09d_acde48001122row3_col1\" class=\"data row3 col1\" >series1</td>\n",
       "                        <td id=\"T_68f0496e_7728_11e9_b09d_acde48001122row3_col2\" class=\"data row3 col2\" >2</td>\n",
       "                        <td id=\"T_68f0496e_7728_11e9_b09d_acde48001122row3_col3\" class=\"data row3 col3\" >False</td>\n",
       "                        <td id=\"T_68f0496e_7728_11e9_b09d_acde48001122row3_col4\" class=\"data row3 col4\" >#728f02</td>\n",
       "                        <td id=\"T_68f0496e_7728_11e9_b09d_acde48001122row3_col5\" class=\"data row3 col5\" >4</td>\n",
       "            </tr>\n",
       "            <tr>\n",
       "                        <th id=\"T_68f0496e_7728_11e9_b09d_acde48001122level0_row4\" class=\"row_heading level0 row4\" >3</th>\n",
       "                        <td id=\"T_68f0496e_7728_11e9_b09d_acde48001122row4_col0\" class=\"data row4 col0\" >rock2</td>\n",
       "                        <td id=\"T_68f0496e_7728_11e9_b09d_acde48001122row4_col1\" class=\"data row4 col1\" >series1</td>\n",
       "                        <td id=\"T_68f0496e_7728_11e9_b09d_acde48001122row4_col2\" class=\"data row4 col2\" >3</td>\n",
       "                        <td id=\"T_68f0496e_7728_11e9_b09d_acde48001122row4_col3\" class=\"data row4 col3\" >False</td>\n",
       "                        <td id=\"T_68f0496e_7728_11e9_b09d_acde48001122row4_col4\" class=\"data row4 col4\" >#443988</td>\n",
       "                        <td id=\"T_68f0496e_7728_11e9_b09d_acde48001122row4_col5\" class=\"data row4 col5\" >5</td>\n",
       "            </tr>\n",
       "            <tr>\n",
       "                        <th id=\"T_68f0496e_7728_11e9_b09d_acde48001122level0_row5\" class=\"row_heading level0 row5\" >1</th>\n",
       "                        <td id=\"T_68f0496e_7728_11e9_b09d_acde48001122row5_col0\" class=\"data row5 col0\" >rock1</td>\n",
       "                        <td id=\"T_68f0496e_7728_11e9_b09d_acde48001122row5_col1\" class=\"data row5 col1\" >series1</td>\n",
       "                        <td id=\"T_68f0496e_7728_11e9_b09d_acde48001122row5_col2\" class=\"data row5 col2\" >4</td>\n",
       "                        <td id=\"T_68f0496e_7728_11e9_b09d_acde48001122row5_col3\" class=\"data row5 col3\" >False</td>\n",
       "                        <td id=\"T_68f0496e_7728_11e9_b09d_acde48001122row5_col4\" class=\"data row5 col4\" >#ff3f20</td>\n",
       "                        <td id=\"T_68f0496e_7728_11e9_b09d_acde48001122row5_col5\" class=\"data row5 col5\" >6</td>\n",
       "            </tr>\n",
       "            <tr>\n",
       "                        <th id=\"T_68f0496e_7728_11e9_b09d_acde48001122level0_row6\" class=\"row_heading level0 row6\" >4</th>\n",
       "                        <td id=\"T_68f0496e_7728_11e9_b09d_acde48001122row6_col0\" class=\"data row6 col0\" >basement</td>\n",
       "                        <td id=\"T_68f0496e_7728_11e9_b09d_acde48001122row6_col1\" class=\"data row6 col1\" >basement_series</td>\n",
       "                        <td id=\"T_68f0496e_7728_11e9_b09d_acde48001122row6_col2\" class=\"data row6 col2\" >1</td>\n",
       "                        <td id=\"T_68f0496e_7728_11e9_b09d_acde48001122row6_col3\" class=\"data row6 col3\" >True</td>\n",
       "                        <td id=\"T_68f0496e_7728_11e9_b09d_acde48001122row6_col4\" class=\"data row6 col4\" >#325916</td>\n",
       "                        <td id=\"T_68f0496e_7728_11e9_b09d_acde48001122row6_col5\" class=\"data row6 col5\" >7</td>\n",
       "            </tr>\n",
       "    </tbody></table>"
      ],
      "text/plain": [
       "    surface           series  order_surfaces  isBasement    color vertices edges  id\n",
       "7    fault2    fault_series2               1       False  #015482      NaN   NaN   1\n",
       "5    fault1    fault_series1               1       False  #9f0052      NaN   NaN   2\n",
       "6     rock4          series1               1       False  #ffbe00      NaN   NaN   3\n",
       "0     rock3          series1               2       False  #728f02      NaN   NaN   4\n",
       "3     rock2          series1               3       False  #443988      NaN   NaN   5\n",
       "1     rock1          series1               4       False  #ff3f20      NaN   NaN   6\n",
       "4  basement  basement_series               1        True  #325916      NaN   NaN   7"
      ]
     },
     "execution_count": 3,
     "metadata": {},
     "output_type": "execute_result"
    }
   ],
   "source": [
    "geo_model.surfaces"
   ]
  },
  {
   "cell_type": "code",
   "execution_count": 4,
   "metadata": {},
   "outputs": [
    {
     "data": {
      "text/html": [
       "<table border=\"1\" class=\"dataframe\">\n",
       "  <thead>\n",
       "    <tr style=\"text-align: right;\">\n",
       "      <th></th>\n",
       "      <th></th>\n",
       "      <th>values</th>\n",
       "    </tr>\n",
       "  </thead>\n",
       "  <tbody>\n",
       "    <tr>\n",
       "      <th rowspan=\"9\" valign=\"top\">Structure</th>\n",
       "      <th>isLith</th>\n",
       "      <td>True</td>\n",
       "    </tr>\n",
       "    <tr>\n",
       "      <th>isFault</th>\n",
       "      <td>True</td>\n",
       "    </tr>\n",
       "    <tr>\n",
       "      <th>number faults</th>\n",
       "      <td>2</td>\n",
       "    </tr>\n",
       "    <tr>\n",
       "      <th>number surfaces</th>\n",
       "      <td>6</td>\n",
       "    </tr>\n",
       "    <tr>\n",
       "      <th>number series</th>\n",
       "      <td>3</td>\n",
       "    </tr>\n",
       "    <tr>\n",
       "      <th>number surfaces per series</th>\n",
       "      <td>[1, 1, 4]</td>\n",
       "    </tr>\n",
       "    <tr>\n",
       "      <th>len surfaces surface_points</th>\n",
       "      <td>[9, 9, 15, 15, 12, 12]</td>\n",
       "    </tr>\n",
       "    <tr>\n",
       "      <th>len series surface_points</th>\n",
       "      <td>[9, 9, 54]</td>\n",
       "    </tr>\n",
       "    <tr>\n",
       "      <th>len series orientations</th>\n",
       "      <td>[1, 1, 10]</td>\n",
       "    </tr>\n",
       "    <tr>\n",
       "      <th rowspan=\"5\" valign=\"top\">Options</th>\n",
       "      <th>dtype</th>\n",
       "      <td>float64</td>\n",
       "    </tr>\n",
       "    <tr>\n",
       "      <th>output</th>\n",
       "      <td>geology</td>\n",
       "    </tr>\n",
       "    <tr>\n",
       "      <th>theano_optimizer</th>\n",
       "      <td>fast_compile</td>\n",
       "    </tr>\n",
       "    <tr>\n",
       "      <th>device</th>\n",
       "      <td>cpu</td>\n",
       "    </tr>\n",
       "    <tr>\n",
       "      <th>verbosity</th>\n",
       "      <td>[0]</td>\n",
       "    </tr>\n",
       "    <tr>\n",
       "      <th rowspan=\"5\" valign=\"top\">Kriging</th>\n",
       "      <th>range</th>\n",
       "      <td>1732.05</td>\n",
       "    </tr>\n",
       "    <tr>\n",
       "      <th>$C_o$</th>\n",
       "      <td>71428.6</td>\n",
       "    </tr>\n",
       "    <tr>\n",
       "      <th>drift equations</th>\n",
       "      <td>[3, 3, 3]</td>\n",
       "    </tr>\n",
       "    <tr>\n",
       "      <th>nugget grad</th>\n",
       "      <td>0.01</td>\n",
       "    </tr>\n",
       "    <tr>\n",
       "      <th>nugget scalar</th>\n",
       "      <td>1e-06</td>\n",
       "    </tr>\n",
       "    <tr>\n",
       "      <th rowspan=\"2\" valign=\"top\">Rescaling</th>\n",
       "      <th>rescaling factor</th>\n",
       "      <td>NaN</td>\n",
       "    </tr>\n",
       "    <tr>\n",
       "      <th>centers</th>\n",
       "      <td>[nan, nan, nan]</td>\n",
       "    </tr>\n",
       "  </tbody>\n",
       "</table>"
      ],
      "text/plain": [
       "                                                       values\n",
       "Structure isLith                                         True\n",
       "          isFault                                        True\n",
       "          number faults                                     2\n",
       "          number surfaces                                   6\n",
       "          number series                                     3\n",
       "          number surfaces per series                [1, 1, 4]\n",
       "          len surfaces surface_points  [9, 9, 15, 15, 12, 12]\n",
       "          len series surface_points                [9, 9, 54]\n",
       "          len series orientations                  [1, 1, 10]\n",
       "Options   dtype                                       float64\n",
       "          output                                      geology\n",
       "          theano_optimizer                       fast_compile\n",
       "          device                                          cpu\n",
       "          verbosity                                       [0]\n",
       "Kriging   range                                       1732.05\n",
       "          $C_o$                                       71428.6\n",
       "          drift equations                           [3, 3, 3]\n",
       "          nugget grad                                    0.01\n",
       "          nugget scalar                                 1e-06\n",
       "Rescaling rescaling factor                                NaN\n",
       "          centers                             [nan, nan, nan]"
      ]
     },
     "execution_count": 4,
     "metadata": {},
     "output_type": "execute_result"
    }
   ],
   "source": [
    "geo_model.additional_data"
   ]
  },
  {
   "cell_type": "markdown",
   "metadata": {},
   "source": [
    "Displaying the input data:"
   ]
  },
  {
   "cell_type": "code",
   "execution_count": 5,
   "metadata": {
    "scrolled": false
   },
   "outputs": [
    {
     "data": {
      "text/plain": [
       "<gempy.plot.visualization_2d.PlotData2D at 0x10381aa20>"
      ]
     },
     "execution_count": 5,
     "metadata": {},
     "output_type": "execute_result"
    },
    {
     "data": {
      "image/png": "[encoded data removed]",
      "text/plain": [
       "<Figure size 360x360 with 1 Axes>"
      ]
     },
     "metadata": {},
     "output_type": "display_data"
    }
   ],
   "source": [
    "gp.plot.plot_data(geo_model, direction='y')"
   ]
  },
  {
   "cell_type": "code",
   "execution_count": 6,
   "metadata": {},
   "outputs": [
    {
     "data": {
      "text/plain": [
       "<gempy.plot.visualization_2d.PlotData2D at 0x1037fb4e0>"
      ]
     },
     "execution_count": 6,
     "metadata": {},
     "output_type": "execute_result"
    },
    {
     "data": {
      "image/png": "[encoded data removed]",
      "text/plain": [
       "<Figure size 360x360 with 1 Axes>"
      ]
     },
     "metadata": {},
     "output_type": "display_data"
    }
   ],
   "source": [
    "gp.plot.plot_data(geo_model, direction='x')"
   ]
  },
  {
   "cell_type": "code",
   "execution_count": 7,
   "metadata": {},
   "outputs": [
    {
     "name": "stdout",
     "output_type": "stream",
     "text": [
      "Compiling theano function...\n",
      "Compilation Done!\n"
     ]
    },
    {
     "data": {
      "text/plain": [
       "<gempy.core.interpolator.InterpolatorModel at 0x1c24448f28>"
      ]
     },
     "execution_count": 7,
     "metadata": {},
     "output_type": "execute_result"
    }
   ],
   "source": [
    "gp.set_interpolation_data(geo_model)"
   ]
  },
  {
   "cell_type": "code",
   "execution_count": 8,
   "metadata": {},
   "outputs": [
    {
     "data": {
      "text/html": [
       "<table border=\"1\" class=\"dataframe\">\n",
       "  <thead>\n",
       "    <tr style=\"text-align: right;\">\n",
       "      <th></th>\n",
       "      <th>order_series</th>\n",
       "      <th>BottomRelation</th>\n",
       "    </tr>\n",
       "  </thead>\n",
       "  <tbody>\n",
       "    <tr>\n",
       "      <th>fault_series2</th>\n",
       "      <td>1</td>\n",
       "      <td>Fault</td>\n",
       "    </tr>\n",
       "    <tr>\n",
       "      <th>fault_series1</th>\n",
       "      <td>2</td>\n",
       "      <td>Fault</td>\n",
       "    </tr>\n",
       "    <tr>\n",
       "      <th>series1</th>\n",
       "      <td>3</td>\n",
       "      <td>Erosion</td>\n",
       "    </tr>\n",
       "    <tr>\n",
       "      <th>basement_series</th>\n",
       "      <td>4</td>\n",
       "      <td>Erosion</td>\n",
       "    </tr>\n",
       "  </tbody>\n",
       "</table>"
      ],
      "text/plain": [
       "                 order_series BottomRelation\n",
       "fault_series2               1          Fault\n",
       "fault_series1               2          Fault\n",
       "series1                     3        Erosion\n",
       "basement_series             4        Erosion"
      ]
     },
     "execution_count": 8,
     "metadata": {},
     "output_type": "execute_result"
    }
   ],
   "source": [
    "geo_model.series"
   ]
  },
  {
   "cell_type": "code",
   "execution_count": 9,
   "metadata": {},
   "outputs": [
    {
     "data": {
      "text/html": [
       "<table border=\"1\" class=\"dataframe\">\n",
       "  <thead>\n",
       "    <tr style=\"text-align: right;\">\n",
       "      <th></th>\n",
       "      <th>isFault</th>\n",
       "      <th>isFinite</th>\n",
       "    </tr>\n",
       "  </thead>\n",
       "  <tbody>\n",
       "    <tr>\n",
       "      <th>fault_series2</th>\n",
       "      <td>True</td>\n",
       "      <td>False</td>\n",
       "    </tr>\n",
       "    <tr>\n",
       "      <th>fault_series1</th>\n",
       "      <td>True</td>\n",
       "      <td>False</td>\n",
       "    </tr>\n",
       "    <tr>\n",
       "      <th>series1</th>\n",
       "      <td>False</td>\n",
       "      <td>False</td>\n",
       "    </tr>\n",
       "    <tr>\n",
       "      <th>basement_series</th>\n",
       "      <td>False</td>\n",
       "      <td>False</td>\n",
       "    </tr>\n",
       "  </tbody>\n",
       "</table>"
      ],
      "text/plain": [
       "                 isFault  isFinite\n",
       "fault_series2       True     False\n",
       "fault_series1       True     False\n",
       "series1            False     False\n",
       "basement_series    False     False"
      ]
     },
     "execution_count": 9,
     "metadata": {},
     "output_type": "execute_result"
    }
   ],
   "source": [
    "geo_model.faults"
   ]
  },
  {
   "cell_type": "code",
   "execution_count": 10,
   "metadata": {},
   "outputs": [
    {
     "data": {
      "text/html": [
       "<div>\n",
       "<style scoped>\n",
       "    .dataframe tbody tr th:only-of-type {\n",
       "        vertical-align: middle;\n",
       "    }\n",
       "\n",
       "    .dataframe tbody tr th {\n",
       "        vertical-align: top;\n",
       "    }\n",
       "\n",
       "    .dataframe thead th {\n",
       "        text-align: right;\n",
       "    }\n",
       "</style>\n",
       "<table border=\"1\" class=\"dataframe\">\n",
       "  <thead>\n",
       "    <tr style=\"text-align: right;\">\n",
       "      <th></th>\n",
       "      <th>fault_series2</th>\n",
       "      <th>fault_series1</th>\n",
       "      <th>series1</th>\n",
       "      <th>basement_series</th>\n",
       "    </tr>\n",
       "  </thead>\n",
       "  <tbody>\n",
       "    <tr>\n",
       "      <th>fault_series2</th>\n",
       "      <td>False</td>\n",
       "      <td>True</td>\n",
       "      <td>True</td>\n",
       "      <td>True</td>\n",
       "    </tr>\n",
       "    <tr>\n",
       "      <th>fault_series1</th>\n",
       "      <td>False</td>\n",
       "      <td>False</td>\n",
       "      <td>True</td>\n",
       "      <td>True</td>\n",
       "    </tr>\n",
       "    <tr>\n",
       "      <th>series1</th>\n",
       "      <td>False</td>\n",
       "      <td>False</td>\n",
       "      <td>False</td>\n",
       "      <td>False</td>\n",
       "    </tr>\n",
       "    <tr>\n",
       "      <th>basement_series</th>\n",
       "      <td>False</td>\n",
       "      <td>False</td>\n",
       "      <td>False</td>\n",
       "      <td>False</td>\n",
       "    </tr>\n",
       "  </tbody>\n",
       "</table>\n",
       "</div>"
      ],
      "text/plain": [
       "                 fault_series2  fault_series1  series1  basement_series\n",
       "fault_series2            False           True     True             True\n",
       "fault_series1            False          False     True             True\n",
       "series1                  False          False    False            False\n",
       "basement_series          False          False    False            False"
      ]
     },
     "execution_count": 10,
     "metadata": {},
     "output_type": "execute_result"
    }
   ],
   "source": [
    "geo_model.faults.faults_relations_df"
   ]
  },
  {
   "cell_type": "code",
   "execution_count": 11,
   "metadata": {
    "scrolled": false
   },
   "outputs": [
    {
     "data": {
      "text/plain": [
       "\n",
       "Lithology ids \n",
       "  [7. 7. 7. ... 3. 3. 3.] "
      ]
     },
     "execution_count": 11,
     "metadata": {},
     "output_type": "execute_result"
    }
   ],
   "source": [
    "gp.compute_model(geo_model, compute_mesh=False)"
   ]
  },
  {
   "cell_type": "code",
   "execution_count": 13,
   "metadata": {
    "scrolled": false
   },
   "outputs": [
    {
     "data": {
      "text/plain": [
       "<gempy.plot.visualization_2d.PlotData2D at 0x1c284cca90>"
      ]
     },
     "execution_count": 13,
     "metadata": {},
     "output_type": "execute_result"
    },
    {
     "data": {
      "image/png": "[encoded data removed]",
      "text/plain": [
       "<Figure size 360x360 with 1 Axes>"
      ]
     },
     "metadata": {},
     "output_type": "display_data"
    }
   ],
   "source": [
    "gp.plot.plot_section(geo_model, 25,  show_data=True)"
   ]
  },
  {
   "cell_type": "code",
   "execution_count": null,
   "metadata": {},
   "outputs": [],
   "source": [
    "gp.plot.plot_section(geo_model, 25,  show_data=True)"
   ]
  },
  {
   "cell_type": "code",
   "execution_count": null,
   "metadata": {},
   "outputs": [],
   "source": [
    "gp.plot.plot_scalar_field(geo_model, 25, series=2)"
   ]
  },
  {
   "cell_type": "markdown",
   "metadata": {},
   "source": [
    "### Offset parameter"
   ]
  },
  {
   "cell_type": "code",
   "execution_count": null,
   "metadata": {},
   "outputs": [],
   "source": [
    "geo_model.interpolator.theano_graph.offset.set_value(1)\n",
    "gp.compute_model(geo_model, compute_mesh=False)"
   ]
  },
  {
   "cell_type": "code",
   "execution_count": null,
   "metadata": {},
   "outputs": [],
   "source": [
    "gp.plot.plot_section(geo_model, 25, block=geo_model.solutions.block_matrix[1, 0, :125000], plot_data=True)"
   ]
  },
  {
   "cell_type": "code",
   "execution_count": null,
   "metadata": {},
   "outputs": [],
   "source": [
    "gp.plot.plot_scalar_field(geo_model, 25, series=2)"
   ]
  },
  {
   "cell_type": "code",
   "execution_count": null,
   "metadata": {},
   "outputs": [],
   "source": [
    "geo_model.save_model('Tutorial_ch1-9b_Fault_relations')"
   ]
  },
  {
   "cell_type": "code",
   "execution_count": null,
   "metadata": {},
   "outputs": [],
   "source": []
  }
 ],
 "metadata": {
  "kernelspec": {
   "display_name": "Python 3",
   "language": "python",
   "name": "python3"
  },
  "language_info": {
   "codemirror_mode": {
    "name": "ipython",
    "version": 3
   },
   "file_extension": ".py",
   "mimetype": "text/x-python",
   "name": "python",
   "nbconvert_exporter": "python",
   "pygments_lexer": "ipython3",
   "version": "3.7.3"
  },
  "latex_envs": {
   "LaTeX_envs_menu_present": true,
   "autocomplete": true,
   "bibliofile": "biblio.bib",
   "cite_by": "apalike",
   "current_citInitial": 1,
   "eqLabelWithNumbers": true,
   "eqNumInitial": 1,
   "hotkeys": {
    "equation": "Ctrl-E",
    "itemize": "Ctrl-I"
   },
   "labels_anchors": false,
   "latex_user_defs": false,
   "report_style_numbering": false,
   "user_envs_cfg": false
  },
  "toc": {
   "colors": {
    "hover_highlight": "#DAA520",
    "running_highlight": "#FF0000",
    "selected_highlight": "#FFD700"
   },
   "moveMenuLeft": true,
   "nav_menu": {
    "height": "11px",
    "width": "251px"
   },
   "navigate_menu": true,
   "number_sections": true,
   "sideBar": true,
   "threshold": 4,
   "toc_cell": false,
   "toc_section_display": "block",
   "toc_window_display": false,
   "widenNotebook": false
  }
 },
 "nbformat": 4,
 "nbformat_minor": 2
}
