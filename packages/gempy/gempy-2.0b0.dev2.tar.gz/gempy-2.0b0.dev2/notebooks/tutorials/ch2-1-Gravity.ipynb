{
 "cells": [
  {
   "cell_type": "markdown",
   "metadata": {},
   "source": [
    "## Chapter 2.1"
   ]
  },
  {
   "cell_type": "code",
   "execution_count": 1,
   "metadata": {},
   "outputs": [
    {
     "name": "stdout",
     "output_type": "stream",
     "text": [
      "no gdal\n"
     ]
    },
    {
     "name": "stderr",
     "output_type": "stream",
     "text": [
      "WARNING (theano.tensor.blas): Using NumPy C-API based implementation for BLAS functions.\n"
     ]
    }
   ],
   "source": [
    "# These two lines are necessary only if gempy is not installed\n",
    "import sys, os\n",
    "sys.path.append(\"../..\")\n",
    "\n",
    "# Importing gempy\n",
    "import gempy as gp\n",
    "\n",
    "# Embedding matplotlib figures into the notebooks\n",
    "#%matplotlib inline\n",
    "\n",
    "\n",
    "# Aux imports\n",
    "import numpy as np\n",
    "import pandas as pn\n",
    "import matplotlib.pyplot as plt\n",
    "import theano\n",
    "import qgrid\n",
    "\n",
    "#%matplotlib widget\n"
   ]
  },
  {
   "cell_type": "code",
   "execution_count": 2,
   "metadata": {},
   "outputs": [],
   "source": [
    "geo_model = gp.load_model('SandstoneGreenstone', path= '../data/gempy_models')"
   ]
  },
  {
   "cell_type": "code",
   "execution_count": 3,
   "metadata": {},
   "outputs": [
    {
     "data": {
      "text/html": [
       "<style  type=\"text/css\" >\n",
       "    #T_3288c0d6_6a8f_11e9_a0f9_0b872f8b15b6row0_col4 {\n",
       "            background-color:  #728f02;\n",
       "        }    #T_3288c0d6_6a8f_11e9_a0f9_0b872f8b15b6row1_col4 {\n",
       "            background-color:  #015482;\n",
       "        }    #T_3288c0d6_6a8f_11e9_a0f9_0b872f8b15b6row2_col4 {\n",
       "            background-color:  #9f0052;\n",
       "        }    #T_3288c0d6_6a8f_11e9_a0f9_0b872f8b15b6row3_col4 {\n",
       "            background-color:  #ffbe00;\n",
       "        }    #T_3288c0d6_6a8f_11e9_a0f9_0b872f8b15b6row4_col4 {\n",
       "            background-color:  #443988;\n",
       "        }</style>  \n",
       "<table id=\"T_3288c0d6_6a8f_11e9_a0f9_0b872f8b15b6\" > \n",
       "<thead>    <tr> \n",
       "        <th class=\"blank level0\" ></th> \n",
       "        <th class=\"col_heading level0 col0\" >surface</th> \n",
       "        <th class=\"col_heading level0 col1\" >series</th> \n",
       "        <th class=\"col_heading level0 col2\" >order_surfaces</th> \n",
       "        <th class=\"col_heading level0 col3\" >isBasement</th> \n",
       "        <th class=\"col_heading level0 col4\" >color</th> \n",
       "        <th class=\"col_heading level0 col5\" >id</th> \n",
       "        <th class=\"col_heading level0 col6\" >value_0</th> \n",
       "    </tr></thead> \n",
       "<tbody>    <tr> \n",
       "        <th id=\"T_3288c0d6_6a8f_11e9_a0f9_0b872f8b15b6level0_row0\" class=\"row_heading level0 row0\" >3</th> \n",
       "        <td id=\"T_3288c0d6_6a8f_11e9_a0f9_0b872f8b15b6row0_col0\" class=\"data row0 col0\" >EarlyGranite</td> \n",
       "        <td id=\"T_3288c0d6_6a8f_11e9_a0f9_0b872f8b15b6row0_col1\" class=\"data row0 col1\" >EarlyGranite_Series</td> \n",
       "        <td id=\"T_3288c0d6_6a8f_11e9_a0f9_0b872f8b15b6row0_col2\" class=\"data row0 col2\" >1</td> \n",
       "        <td id=\"T_3288c0d6_6a8f_11e9_a0f9_0b872f8b15b6row0_col3\" class=\"data row0 col3\" >False</td> \n",
       "        <td id=\"T_3288c0d6_6a8f_11e9_a0f9_0b872f8b15b6row0_col4\" class=\"data row0 col4\" >#728f02</td> \n",
       "        <td id=\"T_3288c0d6_6a8f_11e9_a0f9_0b872f8b15b6row0_col5\" class=\"data row0 col5\" >1</td> \n",
       "        <td id=\"T_3288c0d6_6a8f_11e9_a0f9_0b872f8b15b6row0_col6\" class=\"data row0 col6\" >2.61</td> \n",
       "    </tr>    <tr> \n",
       "        <th id=\"T_3288c0d6_6a8f_11e9_a0f9_0b872f8b15b6level0_row1\" class=\"row_heading level0 row1\" >0</th> \n",
       "        <td id=\"T_3288c0d6_6a8f_11e9_a0f9_0b872f8b15b6row1_col0\" class=\"data row1 col0\" >SimpleMafic2</td> \n",
       "        <td id=\"T_3288c0d6_6a8f_11e9_a0f9_0b872f8b15b6row1_col1\" class=\"data row1 col1\" >BIF_Series</td> \n",
       "        <td id=\"T_3288c0d6_6a8f_11e9_a0f9_0b872f8b15b6row1_col2\" class=\"data row1 col2\" >1</td> \n",
       "        <td id=\"T_3288c0d6_6a8f_11e9_a0f9_0b872f8b15b6row1_col3\" class=\"data row1 col3\" >False</td> \n",
       "        <td id=\"T_3288c0d6_6a8f_11e9_a0f9_0b872f8b15b6row1_col4\" class=\"data row1 col4\" >#015482</td> \n",
       "        <td id=\"T_3288c0d6_6a8f_11e9_a0f9_0b872f8b15b6row1_col5\" class=\"data row1 col5\" >2</td> \n",
       "        <td id=\"T_3288c0d6_6a8f_11e9_a0f9_0b872f8b15b6row1_col6\" class=\"data row1 col6\" >2.92</td> \n",
       "    </tr>    <tr> \n",
       "        <th id=\"T_3288c0d6_6a8f_11e9_a0f9_0b872f8b15b6level0_row2\" class=\"row_heading level0 row2\" >1</th> \n",
       "        <td id=\"T_3288c0d6_6a8f_11e9_a0f9_0b872f8b15b6row2_col0\" class=\"data row2 col0\" >SimpleBIF</td> \n",
       "        <td id=\"T_3288c0d6_6a8f_11e9_a0f9_0b872f8b15b6row2_col1\" class=\"data row2 col1\" >BIF_Series</td> \n",
       "        <td id=\"T_3288c0d6_6a8f_11e9_a0f9_0b872f8b15b6row2_col2\" class=\"data row2 col2\" >2</td> \n",
       "        <td id=\"T_3288c0d6_6a8f_11e9_a0f9_0b872f8b15b6row2_col3\" class=\"data row2 col3\" >False</td> \n",
       "        <td id=\"T_3288c0d6_6a8f_11e9_a0f9_0b872f8b15b6row2_col4\" class=\"data row2 col4\" >#9f0052</td> \n",
       "        <td id=\"T_3288c0d6_6a8f_11e9_a0f9_0b872f8b15b6row2_col5\" class=\"data row2 col5\" >3</td> \n",
       "        <td id=\"T_3288c0d6_6a8f_11e9_a0f9_0b872f8b15b6row2_col6\" class=\"data row2 col6\" >3.1</td> \n",
       "    </tr>    <tr> \n",
       "        <th id=\"T_3288c0d6_6a8f_11e9_a0f9_0b872f8b15b6level0_row3\" class=\"row_heading level0 row3\" >2</th> \n",
       "        <td id=\"T_3288c0d6_6a8f_11e9_a0f9_0b872f8b15b6row3_col0\" class=\"data row3 col0\" >SimpleMafic1</td> \n",
       "        <td id=\"T_3288c0d6_6a8f_11e9_a0f9_0b872f8b15b6row3_col1\" class=\"data row3 col1\" >SimpleMafic_Series</td> \n",
       "        <td id=\"T_3288c0d6_6a8f_11e9_a0f9_0b872f8b15b6row3_col2\" class=\"data row3 col2\" >1</td> \n",
       "        <td id=\"T_3288c0d6_6a8f_11e9_a0f9_0b872f8b15b6row3_col3\" class=\"data row3 col3\" >False</td> \n",
       "        <td id=\"T_3288c0d6_6a8f_11e9_a0f9_0b872f8b15b6row3_col4\" class=\"data row3 col4\" >#ffbe00</td> \n",
       "        <td id=\"T_3288c0d6_6a8f_11e9_a0f9_0b872f8b15b6row3_col5\" class=\"data row3 col5\" >4</td> \n",
       "        <td id=\"T_3288c0d6_6a8f_11e9_a0f9_0b872f8b15b6row3_col6\" class=\"data row3 col6\" >2.92</td> \n",
       "    </tr>    <tr> \n",
       "        <th id=\"T_3288c0d6_6a8f_11e9_a0f9_0b872f8b15b6level0_row4\" class=\"row_heading level0 row4\" >4</th> \n",
       "        <td id=\"T_3288c0d6_6a8f_11e9_a0f9_0b872f8b15b6row4_col0\" class=\"data row4 col0\" >basement</td> \n",
       "        <td id=\"T_3288c0d6_6a8f_11e9_a0f9_0b872f8b15b6row4_col1\" class=\"data row4 col1\" >Basement</td> \n",
       "        <td id=\"T_3288c0d6_6a8f_11e9_a0f9_0b872f8b15b6row4_col2\" class=\"data row4 col2\" >1</td> \n",
       "        <td id=\"T_3288c0d6_6a8f_11e9_a0f9_0b872f8b15b6row4_col3\" class=\"data row4 col3\" >True</td> \n",
       "        <td id=\"T_3288c0d6_6a8f_11e9_a0f9_0b872f8b15b6row4_col4\" class=\"data row4 col4\" >#443988</td> \n",
       "        <td id=\"T_3288c0d6_6a8f_11e9_a0f9_0b872f8b15b6row4_col5\" class=\"data row4 col5\" >5</td> \n",
       "        <td id=\"T_3288c0d6_6a8f_11e9_a0f9_0b872f8b15b6row4_col6\" class=\"data row4 col6\" >2.61</td> \n",
       "    </tr></tbody> \n",
       "</table> "
      ],
      "text/plain": [
       "        surface               series  order_surfaces  isBasement    color                                           vertices                                              edges  id  value_0\n",
       "3  EarlyGranite  EarlyGranite_Series               1       False  #728f02  [[ 6.96913328e+05  6.86300000e+06 -1.47480000e...  [[   2    1    0]\\n [   0    1    3]\\n [   3  ...   1     2.61\n",
       "0  SimpleMafic2           BIF_Series               1       False  #015482  [[ 7.17372388e+05  6.88444000e+06 -2.04000000e...  [[   2    1    0]\\n [   0    1    3]\\n [   3  ...   2     2.92\n",
       "1     SimpleBIF           BIF_Series               2       False  #9f0052  [[ 7.14839405e+05  6.88042000e+06 -2.04000000e...  [[   2    1    0]\\n [   0    1    3]\\n [   3  ...   3     3.10\n",
       "2  SimpleMafic1   SimpleMafic_Series               1       False  #ffbe00  [[ 6.96000000e+05  6.86300000e+06 -2.45178632e...  [[   2    1    0]\\n [   0    1    3]\\n [   4  ...   4     2.92\n",
       "4      basement             Basement               1        True  #443988                                                NaN                                                NaN   5     2.61"
      ]
     },
     "execution_count": 3,
     "metadata": {},
     "output_type": "execute_result"
    }
   ],
   "source": [
    "geo_model.surfaces"
   ]
  },
  {
   "cell_type": "code",
   "execution_count": 4,
   "metadata": {},
   "outputs": [
    {
     "data": {
      "text/plain": [
       "<gempy.plot.visualization_2d.PlotData2D at 0x7f990e4d9e48>"
      ]
     },
     "execution_count": 4,
     "metadata": {},
     "output_type": "execute_result"
    },
    {
     "data": {
      "image/png": "[encoded data removed]",
      "text/plain": [
       "<Figure size 908.911x360 with 1 Axes>"
      ]
     },
     "metadata": {},
     "output_type": "display_data"
    }
   ],
   "source": [
    "gp.plot.plot_data(geo_model)"
   ]
  },
  {
   "cell_type": "code",
   "execution_count": 5,
   "metadata": {},
   "outputs": [],
   "source": [
    "# Compute normal model:\n",
    "# gp.set_interpolation_data(geo_model,\n",
    "#                           compile_theano=True,\n",
    "#                           theano_optimizer='fast_compile',\n",
    "#                           verbose=[])\n",
    "# gp.compute_model(geo_model)"
   ]
  },
  {
   "cell_type": "markdown",
   "metadata": {},
   "source": [
    "### Creating grid"
   ]
  },
  {
   "cell_type": "markdown",
   "metadata": {},
   "source": [
    "First we need to define the location of the devices. For this example we can make a map:"
   ]
  },
  {
   "cell_type": "code",
   "execution_count": 6,
   "metadata": {},
   "outputs": [],
   "source": [
    "grav_res = 20\n",
    "X = np.linspace(7.050000e+05, 747000, grav_res)\n",
    "Y = np.linspace(6863000, 6925000, grav_res)\n",
    "Z= 300\n",
    "xyz= np.meshgrid(X, Y, Z)\n",
    "xy_ravel = np.vstack(map(np.ravel, xyz)).T"
   ]
  },
  {
   "cell_type": "code",
   "execution_count": 7,
   "metadata": {},
   "outputs": [],
   "source": [
    "geo_model.grid.set_gravity_grid()"
   ]
  },
  {
   "cell_type": "code",
   "execution_count": 8,
   "metadata": {},
   "outputs": [],
   "source": [
    "geo_model.grid.gravity_grid.set_irregular_grid(xy_ravel,  resolution = [10, 10, 15], radio=5000)"
   ]
  },
  {
   "cell_type": "code",
   "execution_count": 9,
   "metadata": {},
   "outputs": [
    {
     "data": {
      "text/plain": [
       "2323200"
      ]
     },
     "execution_count": 9,
     "metadata": {},
     "output_type": "execute_result"
    }
   ],
   "source": [
    "geo_model.grid.gravity_grid.values.size"
   ]
  },
  {
   "cell_type": "code",
   "execution_count": 10,
   "metadata": {},
   "outputs": [],
   "source": [
    "geo_model.grid.gravity_grid.set_tz_kernel();"
   ]
  },
  {
   "cell_type": "markdown",
   "metadata": {},
   "source": [
    "### Compiling the gravity graph"
   ]
  },
  {
   "cell_type": "code",
   "execution_count": 11,
   "metadata": {},
   "outputs": [
    {
     "name": "stdout",
     "output_type": "stream",
     "text": [
      "Compiling theano function...\n",
      "Compilation Done!\n"
     ]
    },
    {
     "data": {
      "text/html": [
       "<table border=\"1\" class=\"dataframe\">\n",
       "  <thead>\n",
       "    <tr style=\"text-align: right;\">\n",
       "      <th></th>\n",
       "      <th>values</th>\n",
       "    </tr>\n",
       "  </thead>\n",
       "  <tbody>\n",
       "    <tr>\n",
       "      <th>dtype</th>\n",
       "      <td>float64</td>\n",
       "    </tr>\n",
       "    <tr>\n",
       "      <th>output</th>\n",
       "      <td>geology</td>\n",
       "    </tr>\n",
       "    <tr>\n",
       "      <th>theano_optimizer</th>\n",
       "      <td>fast_compile</td>\n",
       "    </tr>\n",
       "    <tr>\n",
       "      <th>device</th>\n",
       "      <td>cpu</td>\n",
       "    </tr>\n",
       "    <tr>\n",
       "      <th>verbosity</th>\n",
       "      <td>[]</td>\n",
       "    </tr>\n",
       "  </tbody>\n",
       "</table>"
      ],
      "text/plain": [
       "                        values\n",
       "dtype                  float64\n",
       "output                 geology\n",
       "theano_optimizer  fast_compile\n",
       "device                     cpu\n",
       "verbosity                   []"
      ]
     },
     "execution_count": 11,
     "metadata": {},
     "output_type": "execute_result"
    }
   ],
   "source": [
    "geo_model.set_gravity_interpolator(pos_density=1)"
   ]
  },
  {
   "cell_type": "code",
   "execution_count": 12,
   "metadata": {},
   "outputs": [
    {
     "name": "stdout",
     "output_type": "stream",
     "text": [
      "Compiling theano function...\n",
      "Compilation Done!\n"
     ]
    },
    {
     "data": {
      "text/html": [
       "<table border=\"1\" class=\"dataframe\">\n",
       "  <thead>\n",
       "    <tr style=\"text-align: right;\">\n",
       "      <th></th>\n",
       "      <th>values</th>\n",
       "    </tr>\n",
       "  </thead>\n",
       "  <tbody>\n",
       "    <tr>\n",
       "      <th>dtype</th>\n",
       "      <td>float64</td>\n",
       "    </tr>\n",
       "    <tr>\n",
       "      <th>output</th>\n",
       "      <td>geology</td>\n",
       "    </tr>\n",
       "    <tr>\n",
       "      <th>theano_optimizer</th>\n",
       "      <td>fast_run</td>\n",
       "    </tr>\n",
       "    <tr>\n",
       "      <th>device</th>\n",
       "      <td>cpu</td>\n",
       "    </tr>\n",
       "    <tr>\n",
       "      <th>verbosity</th>\n",
       "      <td>[]</td>\n",
       "    </tr>\n",
       "  </tbody>\n",
       "</table>"
      ],
      "text/plain": [
       "                    values\n",
       "dtype              float64\n",
       "output             geology\n",
       "theano_optimizer  fast_run\n",
       "device                 cpu\n",
       "verbosity               []"
      ]
     },
     "execution_count": 12,
     "metadata": {},
     "output_type": "execute_result"
    }
   ],
   "source": [
    "gp.set_interpolation_data(geo_model,\n",
    "                          compile_theano=True,\n",
    "                          theano_optimizer='fast_run',\n",
    "                          verbose=[])"
   ]
  },
  {
   "cell_type": "code",
   "execution_count": 13,
   "metadata": {
    "scrolled": false
   },
   "outputs": [],
   "source": [
    "grav = gp.compute_model(geo_model, output='gravity')"
   ]
  },
  {
   "cell_type": "code",
   "execution_count": 14,
   "metadata": {},
   "outputs": [
    {
     "data": {
      "text/plain": [
       "<matplotlib.image.AxesImage at 0x7f1247b7a748>"
      ]
     },
     "execution_count": 14,
     "metadata": {},
     "output_type": "execute_result"
    },
    {
     "data": {
      "image/png": "[encoded data removed]",
      "text/plain": [
       "<Figure size 748.8x514.8 with 1 Axes>"
      ]
     },
     "metadata": {},
     "output_type": "display_data"
    }
   ],
   "source": [
    "plt.imshow(grav.reshape(grav_res, grav_res), cmap='viridis_r', origin='bottom')"
   ]
  },
  {
   "cell_type": "code",
   "execution_count": null,
   "metadata": {},
   "outputs": [],
   "source": []
  }
 ],
 "metadata": {
  "kernelspec": {
   "display_name": "Python 3",
   "language": "python",
   "name": "python3"
  },
  "language_info": {
   "codemirror_mode": {
    "name": "ipython",
    "version": 3
   },
   "file_extension": ".py",
   "mimetype": "text/x-python",
   "name": "python",
   "nbconvert_exporter": "python",
   "pygments_lexer": "ipython3",
   "version": "3.7.3"
  }
 },
 "nbformat": 4,
 "nbformat_minor": 2
}
