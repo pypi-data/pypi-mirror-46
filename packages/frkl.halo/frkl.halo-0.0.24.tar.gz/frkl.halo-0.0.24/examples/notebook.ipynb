{
 "cells": [
  {
   "cell_type": "code",
   "execution_count": null,
   "metadata": {},
   "outputs": [],
   "source": [
    "import os\n",
    "import time\n",
    "\n",
    "os.sys.path.append(os.path.dirname(os.path.abspath('./')))"
   ]
  },
  {
   "cell_type": "markdown",
   "metadata": {},
   "source": [
    "# HaloNotebook"
   ]
  },
  {
   "cell_type": "code",
   "execution_count": null,
   "metadata": {},
   "outputs": [],
   "source": [
    "from halo import HaloNotebook as Halo"
   ]
  },
  {
   "cell_type": "markdown",
   "metadata": {},
   "source": [
    "## Test example codes\n",
    "\n",
    "This frontend (for example, a static rendering on GitHub or <a href=\"https://nbviewer.jupyter.org/\">NBViewer</a>) doesn't currently support widgets. If you wonder results, run notebook manually.\n"
   ]
  },
  {
   "cell_type": "markdown",
   "metadata": {},
   "source": [
    "### `persist_spin.py`"
   ]
  },
  {
   "cell_type": "code",
   "execution_count": null,
   "metadata": {},
   "outputs": [],
   "source": [
    "success_message = 'Loading success'\n",
    "failed_message = 'Loading failed'\n",
    "unicorn_message = 'Loading unicorn'\n",
    "\n",
    "spinner = Halo(text=success_message, spinner='dots')\n",
    "\n",
    "try:\n",
    "    spinner.start()\n",
    "    time.sleep(1)\n",
    "    spinner.succeed()\n",
    "    spinner.start(failed_message)\n",
    "    time.sleep(1)\n",
    "    spinner.fail()\n",
    "    spinner.start(unicorn_message)\n",
    "    time.sleep(1)\n",
    "    spinner.stop_and_persist(symbol='🦄'.encode('utf-8'), text=unicorn_message)\n",
    "except (KeyboardInterrupt, SystemExit):\n",
    "    spinner.stop()"
   ]
  },
  {
   "cell_type": "markdown",
   "metadata": {},
   "source": [
    "### `long_text.py`"
   ]
  },
  {
   "cell_type": "code",
   "execution_count": null,
   "metadata": {},
   "outputs": [],
   "source": [
    "spinner = Halo(text='This is a text that it is too long. In fact, it exceeds the eighty column standard '\n",
    "                    'terminal width, which forces the text frame renderer to add an ellipse at the end of the '\n",
    "                    'text. This should definitely make it more than 180!', spinner='dots', animation='marquee')\n",
    "\n",
    "try:\n",
    "    spinner.start()\n",
    "    time.sleep(5)\n",
    "    spinner.succeed('End!')\n",
    "except (KeyboardInterrupt, SystemExit):\n",
    "    spinner.stop()"
   ]
  },
  {
   "cell_type": "markdown",
   "metadata": {},
   "source": [
    "### `loader_spin.py`"
   ]
  },
  {
   "cell_type": "code",
   "execution_count": null,
   "metadata": {
    "scrolled": true
   },
   "outputs": [],
   "source": [
    "spinner = Halo(text='Downloading dataset.zip', spinner='dots')\n",
    "\n",
    "try:\n",
    "    spinner.start()\n",
    "    for i in range(100):\n",
    "        spinner.text = '{0}% Downloaded dataset.zip'.format(i)\n",
    "        time.sleep(0.05)\n",
    "    spinner.succeed('Downloaded dataset.zip')\n",
    "except (KeyboardInterrupt, SystemExit):\n",
    "    spinner.stop()"
   ]
  },
  {
   "cell_type": "markdown",
   "metadata": {},
   "source": [
    "### `doge_spin.py`"
   ]
  },
  {
   "cell_type": "code",
   "execution_count": null,
   "metadata": {},
   "outputs": [],
   "source": [
    "spinner = Halo(text='Such Spins', spinner='dots')\n",
    "\n",
    "try:\n",
    "    spinner.start()\n",
    "    time.sleep(1)\n",
    "    spinner.text = 'Much Colors'\n",
    "    spinner.color = 'magenta'\n",
    "    time.sleep(1)\n",
    "    spinner.text = 'Very emojis'\n",
    "    spinner.spinner = 'hearts'\n",
    "    time.sleep(1)\n",
    "    spinner.stop_and_persist(symbol='🦄 '.encode('utf-8'), text='Wow!')\n",
    "except (KeyboardInterrupt, SystemExit):\n",
    "    spinner.stop()"
   ]
  },
  {
   "cell_type": "markdown",
   "metadata": {},
   "source": [
    "### `custom_spins.py`"
   ]
  },
  {
   "cell_type": "code",
   "execution_count": null,
   "metadata": {},
   "outputs": [],
   "source": [
    "spinner = Halo(\n",
    "    text='Custom Spins',\n",
    "    spinner={\n",
    "        'interval': 100,\n",
    "        'frames': ['-', '+', '*', '+', '-']\n",
    "    }\n",
    ")\n",
    "\n",
    "try:\n",
    "    spinner.start()\n",
    "    time.sleep(2)\n",
    "    spinner.succeed('It works!')\n",
    "except (KeyboardInterrupt, SystemExit):\n",
    "    spinner.stop()"
   ]
  },
  {
   "cell_type": "markdown",
   "metadata": {},
   "source": [
    "### `context_manager.py`"
   ]
  },
  {
   "cell_type": "code",
   "execution_count": null,
   "metadata": {},
   "outputs": [],
   "source": [
    "with Halo(text='Loading', spinner='dots'):\n",
    "    # Run time consuming work here\n",
    "    time.sleep(2)\n",
    "\n",
    "with Halo(text='Loading 2', spinner='dots') as spinner:\n",
    "    # Run time consuming work here\n",
    "    time.sleep(2)\n",
    "    spinner.succeed('Done!')"
   ]
  }
 ],
 "metadata": {
  "kernelspec": {
   "display_name": "Python 3",
   "language": "python",
   "name": "python3"
  },
  "language_info": {
   "codemirror_mode": {
    "name": "ipython",
    "version": 3
   },
   "file_extension": ".py",
   "mimetype": "text/x-python",
   "name": "python",
   "nbconvert_exporter": "python",
   "pygments_lexer": "ipython3",
   "version": "3.6.3"
  }
 },
 "nbformat": 4,
 "nbformat_minor": 2
}
