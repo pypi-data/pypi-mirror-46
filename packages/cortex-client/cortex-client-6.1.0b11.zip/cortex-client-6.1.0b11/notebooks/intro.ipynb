{
 "cells": [
  {
   "cell_type": "markdown",
   "metadata": {},
   "source": [
    "# Notebooks\n",
    "   \n",
    "This directory contains example notebooks and template notebooks. The `example` directory contains notebooks with examples of the used the Cortex SDK can be utilized based on task. The `template` directory provides notebooks that can be filled out with your configuration information and saved as new notebooks. Tasks that the Cortex SDK supports are:\n",
    "\n",
    "* Data cleaning\n",
    "* Feature identification and construction\n",
    "* Model training and selection\n",
    "* Model deployment to the Cortex environment\n",
    "\n",
    "## Examples\n",
    "\n",
    "Cortex provides a local mode for when connecting to the Cortex environment is undesirable or unavailable. See the [local-mode notebooks](./examples/local-mode/01_local_datasets.ipynb) for local mode examples.\n",
    "\n",
    "The [datasets notebook](./examples/dataset/dataset.ipynb) shows how to build a dataset and how to view its contents. Datasets support both data cleaning activities and model feature identification and construction\n",
    "\n",
    "Pipelines in the Cortex SDK are a way of associating functions with datasets so that data processes in the same well-defined way in both the model training and model deployment stages of machine learning development. There are [two pipeline examples](./examples/pipeline) that demonstrates these features.\n",
    "\n",
    "After the data has been cleaned and modified to make predictive features prominent, the Cortex SDK provides features supporting running experiments for model training and selection. Notebooks demonstrating how to use those features are [here](./example/experiment).\n",
    "\n",
    "After training and selecting a model, you can use the model to create an action and deploy the action as a skill in the Cortex infrastructure. This is shown in the [Deployment notebook](./examples/deployment/01-deployment.ipynb) demonstrates that.\n",
    "\n",
    "## Templates\n",
    "\n",
    "\"Template notebooks are designed as starting points for users developing and deploying machine learning models with the Cortex SDK. The templates included are:\n",
    "\n",
    "- [Data processing pipeline templates](./templates/pipeline)"
   ]
  },
  {
   "cell_type": "markdown",
   "metadata": {},
   "source": [
    " "
   ]
  }
 ],
 "metadata": {
  "kernelspec": {
   "display_name": "Python 3",
   "language": "python",
   "name": "python3"
  },
  "language_info": {
   "codemirror_mode": {
    "name": "ipython",
    "version": 3
   },
   "file_extension": ".py",
   "mimetype": "text/x-python",
   "name": "python",
   "nbconvert_exporter": "python",
   "pygments_lexer": "ipython3",
   "version": "3.6.7"
  }
 },
 "nbformat": 4,
 "nbformat_minor": 2
}
