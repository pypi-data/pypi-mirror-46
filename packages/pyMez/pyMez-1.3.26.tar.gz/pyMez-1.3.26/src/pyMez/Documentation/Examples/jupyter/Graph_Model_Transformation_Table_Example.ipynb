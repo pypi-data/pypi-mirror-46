{
 "cells": [
  {
   "cell_type": "markdown",
   "metadata": {},
   "source": [
    "# Graph Transformation Example\n",
    "Data in a table form can be transformed into numerous different formats using the class pyMez.Code.DataHandlers.GraphModels.TableGraph. The abstract data model is a table with column names."
   ]
  },
  {
   "cell_type": "markdown",
   "metadata": {},
   "source": [
    "## Examples of Formats\n",
    "<table>\n",
    "<tr>\n",
    "<td> <a href=\"./TableGraph_Files/test.xlsx\">Excel File</a></td>\n",
    "</tr>\n",
    "<tr>\n",
    "<td> <a href=\"./TableGraph_Files/test.csv\">Csv File</a></td>\n",
    "</tr>\n",
    "<tr>\n",
    "<td> <a href=\"./TableGraph_Files/test.hdf\">Hdf File</a></td>\n",
    "</tr>\n",
    "<tr>\n",
    "<td> <a href=\"./TableGraph_Files/test.html\">Html File</a></td>\n",
    "</tr>\n",
    "<tr>\n",
    "<td> <a href=\"./TableGraph_Files/test.json\">Json File</a></td>\n",
    "</tr>\n",
    "<tr>\n",
    "<td> <a href=\"./TableGraph_Files/test.mat\">Matlab File</a></td>\n",
    "</tr>\n",
    "<tr>\n",
    "<td> <a href=\"./TableGraph_Files/test.ods\">Open Office File</a></td>\n",
    "</tr>\n",
    "<tr>\n",
    "<td> <a href=\"./TableGraph_Files/test.xml\">XML File</a></td>\n",
    "</tr>\n",
    "</table>"
   ]
  },
  {
   "cell_type": "markdown",
   "metadata": {},
   "source": [
    "## Import needed modules"
   ]
  },
  {
   "cell_type": "code",
   "execution_count": 1,
   "metadata": {
    "collapsed": false
   },
   "outputs": [
    {
     "name": "stdout",
     "output_type": "stream",
     "text": [
      "Importing pyMez, this should take roughly 30 seconds\n",
      "Importing Code.DataHandlers.GeneralModels\n",
      "It took 1.013 s to import Code.DataHandlers.GeneralModels\n",
      "Importing Code.DataHandlers.HTMLModels\n",
      "It took 0.161 s to import Code.DataHandlers.HTMLModels\n",
      "Importing Code.DataHandlers.NISTModels\n",
      "It took 7.008 s to import Code.DataHandlers.NISTModels\n",
      "Importing Code.DataHandlers.TouchstoneModels\n",
      "It took 0.009 s to import Code.DataHandlers.TouchstoneModels\n",
      "Importing Code.DataHandlers.XMLModels\n",
      "It took 0.255 s to import Code.DataHandlers.XMLModels\n",
      "Importing Code.DataHandlers.ZipModels\n",
      "It took 0.039 s to import Code.DataHandlers.ZipModels\n",
      "Importing Code.InstrumentControl.Experiments\n",
      "It took 1.284 s to import Code.InstrumentControl.Experiments\n",
      "Importing Code.InstrumentControl.Instruments\n",
      "It took 0.014 s to import Code.InstrumentControl.Instruments\n",
      "Importing Code.Utils.Names\n",
      "It took 0.01 s to import Code.Utils.Names\n",
      "It took 9.794 s to import all of the active modules\n"
     ]
    }
   ],
   "source": [
    "from pyMez.Code.DataHandlers.GraphModels import *"
   ]
  },
  {
   "cell_type": "code",
   "execution_count": 2,
   "metadata": {
    "collapsed": true
   },
   "outputs": [],
   "source": [
    "# create the graph\n",
    "graph=TableGraph()"
   ]
  },
  {
   "cell_type": "code",
   "execution_count": 3,
   "metadata": {
    "collapsed": false,
    "scrolled": true
   },
   "outputs": [
    {
     "data": {
      "text/plain": [
       "['DataFrame',\n",
       " 'AsciiDataTable',\n",
       " 'HdfFile',\n",
       " 'XmlDataTable',\n",
       " 'ExcelFile',\n",
       " 'OdsFile',\n",
       " 'HtmlString',\n",
       " 'JsonFile',\n",
       " 'JsonString',\n",
       " 'CsvFile',\n",
       " 'MatFile',\n",
       " 'XmlFile',\n",
       " 'HtmlFile']"
      ]
     },
     "execution_count": 3,
     "metadata": {},
     "output_type": "execute_result"
    }
   ],
   "source": [
    "# now we have access to the folowing data formats\n",
    "graph.node_names"
   ]
  },
  {
   "cell_type": "code",
   "execution_count": 4,
   "metadata": {
    "collapsed": false
   },
   "outputs": [
    {
     "data": {
      "image/png": "[encoded data removed]",
      "text/plain": [
       "<matplotlib.figure.Figure at 0xf1eaf60>"
      ]
     },
     "metadata": {},
     "output_type": "display_data"
    },
    {
     "data": {
      "text/plain": [
       "<matplotlib.figure.Figure at 0xf40f710>"
      ]
     },
     "execution_count": 4,
     "metadata": {},
     "output_type": "execute_result"
    }
   ],
   "source": [
    "# to visualize the graph use the show method\n",
    "graph.show()"
   ]
  },
  {
   "cell_type": "code",
   "execution_count": 5,
   "metadata": {
    "collapsed": false
   },
   "outputs": [],
   "source": [
    "# if we want to open an ascii data table or subclass we open the schema and then open the file\n",
    "schema=read_schema(os.path.join(os.getcwd(),\"./TableGraph_Files/Line_4909_WR15_Wave_Parameters_20180313_003.schema\"))\n",
    "ascii_table=AsciiDataTable(os.path.join(os.getcwd(),\"./TableGraph_Files/Line_4909_WR15_Wave_Parameters_20180313_003.w2p\"),\n",
    "                           **schema)"
   ]
  },
  {
   "cell_type": "code",
   "execution_count": 6,
   "metadata": {
    "collapsed": true
   },
   "outputs": [],
   "source": [
    "graph.set_state(node_name=\"AsciiDataTable\",node_data=ascii_table)"
   ]
  },
  {
   "cell_type": "code",
   "execution_count": 7,
   "metadata": {
    "collapsed": true
   },
   "outputs": [],
   "source": [
    "# now if you want a pandas data frame just move to that node\n",
    "graph.move_to_node(\"DataFrame\")"
   ]
  },
  {
   "cell_type": "code",
   "execution_count": 8,
   "metadata": {
    "collapsed": true
   },
   "outputs": [],
   "source": [
    "#now dataframe is just\n",
    "pandas_dataframe=graph.data"
   ]
  },
  {
   "cell_type": "code",
   "execution_count": 9,
   "metadata": {
    "collapsed": false,
    "scrolled": true
   },
   "outputs": [
    {
     "data": {
      "text/html": [
       "<div>\n",
       "<table border=\"1\" class=\"dataframe\">\n",
       "  <thead>\n",
       "    <tr style=\"text-align: right;\">\n",
       "      <th></th>\n",
       "      <th>Frequency</th>\n",
       "      <th>reA1_D1</th>\n",
       "      <th>imA1_D1</th>\n",
       "      <th>reB1_D1</th>\n",
       "      <th>imB1_D1</th>\n",
       "      <th>reA2_D1</th>\n",
       "      <th>imA2_D1</th>\n",
       "      <th>reB2_D1</th>\n",
       "      <th>imB2_D1</th>\n",
       "      <th>reA1_D2</th>\n",
       "      <th>imA1_D2</th>\n",
       "      <th>reB1_D2</th>\n",
       "      <th>imB1_D2</th>\n",
       "      <th>reA2_D2</th>\n",
       "      <th>imA2_D2</th>\n",
       "      <th>reB2_D2</th>\n",
       "      <th>imB2_D2</th>\n",
       "    </tr>\n",
       "  </thead>\n",
       "  <tbody>\n",
       "    <tr>\n",
       "      <th>0</th>\n",
       "      <td>50.0</td>\n",
       "      <td>-0.067716</td>\n",
       "      <td>-0.018169</td>\n",
       "      <td>-0.002698</td>\n",
       "      <td>0.000736</td>\n",
       "      <td>0.002505</td>\n",
       "      <td>0.006582</td>\n",
       "      <td>0.004642</td>\n",
       "      <td>-0.024663</td>\n",
       "      <td>-0.002776</td>\n",
       "      <td>0.000737</td>\n",
       "      <td>-0.009040</td>\n",
       "      <td>-0.013720</td>\n",
       "      <td>-0.030438</td>\n",
       "      <td>0.039048</td>\n",
       "      <td>-0.000666</td>\n",
       "      <td>-0.001240</td>\n",
       "    </tr>\n",
       "    <tr>\n",
       "      <th>1</th>\n",
       "      <td>50.1</td>\n",
       "      <td>0.022439</td>\n",
       "      <td>0.066658</td>\n",
       "      <td>-0.002310</td>\n",
       "      <td>-0.001366</td>\n",
       "      <td>-0.007025</td>\n",
       "      <td>0.003140</td>\n",
       "      <td>0.003018</td>\n",
       "      <td>0.025235</td>\n",
       "      <td>0.002766</td>\n",
       "      <td>0.000807</td>\n",
       "      <td>-0.012986</td>\n",
       "      <td>0.009946</td>\n",
       "      <td>-0.006615</td>\n",
       "      <td>0.049959</td>\n",
       "      <td>0.000561</td>\n",
       "      <td>0.000726</td>\n",
       "    </tr>\n",
       "    <tr>\n",
       "      <th>2</th>\n",
       "      <td>50.2</td>\n",
       "      <td>0.045270</td>\n",
       "      <td>-0.052561</td>\n",
       "      <td>-0.001734</td>\n",
       "      <td>-0.001928</td>\n",
       "      <td>-0.002514</td>\n",
       "      <td>-0.007838</td>\n",
       "      <td>-0.007694</td>\n",
       "      <td>-0.024228</td>\n",
       "      <td>-0.000439</td>\n",
       "      <td>0.002662</td>\n",
       "      <td>0.002923</td>\n",
       "      <td>-0.015854</td>\n",
       "      <td>0.027449</td>\n",
       "      <td>-0.042675</td>\n",
       "      <td>0.000953</td>\n",
       "      <td>0.000268</td>\n",
       "    </tr>\n",
       "    <tr>\n",
       "      <th>3</th>\n",
       "      <td>50.3</td>\n",
       "      <td>-0.068064</td>\n",
       "      <td>-0.006680</td>\n",
       "      <td>-0.000584</td>\n",
       "      <td>-0.002533</td>\n",
       "      <td>0.008351</td>\n",
       "      <td>-0.001583</td>\n",
       "      <td>0.013007</td>\n",
       "      <td>0.021694</td>\n",
       "      <td>-0.002353</td>\n",
       "      <td>-0.000478</td>\n",
       "      <td>0.006114</td>\n",
       "      <td>0.014497</td>\n",
       "      <td>-0.046726</td>\n",
       "      <td>0.018792</td>\n",
       "      <td>0.000219</td>\n",
       "      <td>0.001005</td>\n",
       "    </tr>\n",
       "    <tr>\n",
       "      <th>4</th>\n",
       "      <td>50.4</td>\n",
       "      <td>0.019932</td>\n",
       "      <td>0.065229</td>\n",
       "      <td>0.001364</td>\n",
       "      <td>-0.002947</td>\n",
       "      <td>-0.000787</td>\n",
       "      <td>0.008783</td>\n",
       "      <td>-0.014357</td>\n",
       "      <td>-0.021132</td>\n",
       "      <td>0.001078</td>\n",
       "      <td>-0.001850</td>\n",
       "      <td>-0.010481</td>\n",
       "      <td>-0.011547</td>\n",
       "      <td>0.046113</td>\n",
       "      <td>0.021435</td>\n",
       "      <td>0.000240</td>\n",
       "      <td>0.000686</td>\n",
       "    </tr>\n",
       "    <tr>\n",
       "      <th>5</th>\n",
       "      <td>50.5</td>\n",
       "      <td>0.061203</td>\n",
       "      <td>-0.029331</td>\n",
       "      <td>0.002601</td>\n",
       "      <td>0.000242</td>\n",
       "      <td>-0.007656</td>\n",
       "      <td>-0.004735</td>\n",
       "      <td>0.011427</td>\n",
       "      <td>0.023315</td>\n",
       "      <td>0.000980</td>\n",
       "      <td>0.001591</td>\n",
       "      <td>0.013222</td>\n",
       "      <td>0.008356</td>\n",
       "      <td>-0.015426</td>\n",
       "      <td>-0.049494</td>\n",
       "      <td>-0.001176</td>\n",
       "      <td>0.000562</td>\n",
       "    </tr>\n",
       "    <tr>\n",
       "      <th>6</th>\n",
       "      <td>50.6</td>\n",
       "      <td>-0.045496</td>\n",
       "      <td>-0.050363</td>\n",
       "      <td>0.002401</td>\n",
       "      <td>0.001195</td>\n",
       "      <td>0.007171</td>\n",
       "      <td>-0.005577</td>\n",
       "      <td>-0.011494</td>\n",
       "      <td>-0.023691</td>\n",
       "      <td>-0.001749</td>\n",
       "      <td>-0.000151</td>\n",
       "      <td>-0.014867</td>\n",
       "      <td>-0.004185</td>\n",
       "      <td>-0.025840</td>\n",
       "      <td>0.044895</td>\n",
       "      <td>-0.000025</td>\n",
       "      <td>-0.000391</td>\n",
       "    </tr>\n",
       "    <tr>\n",
       "      <th>7</th>\n",
       "      <td>50.7</td>\n",
       "      <td>-0.036221</td>\n",
       "      <td>0.058172</td>\n",
       "      <td>-0.000036</td>\n",
       "      <td>0.003033</td>\n",
       "      <td>0.002033</td>\n",
       "      <td>0.008626</td>\n",
       "      <td>0.009857</td>\n",
       "      <td>0.024808</td>\n",
       "      <td>0.001344</td>\n",
       "      <td>-0.001364</td>\n",
       "      <td>0.015103</td>\n",
       "      <td>0.002441</td>\n",
       "      <td>0.051798</td>\n",
       "      <td>0.000304</td>\n",
       "      <td>-0.000797</td>\n",
       "      <td>-0.000757</td>\n",
       "    </tr>\n",
       "    <tr>\n",
       "      <th>8</th>\n",
       "      <td>50.8</td>\n",
       "      <td>0.063027</td>\n",
       "      <td>0.029029</td>\n",
       "      <td>-0.001881</td>\n",
       "      <td>0.001356</td>\n",
       "      <td>-0.007953</td>\n",
       "      <td>-0.003059</td>\n",
       "      <td>-0.003294</td>\n",
       "      <td>-0.027181</td>\n",
       "      <td>0.000194</td>\n",
       "      <td>0.002238</td>\n",
       "      <td>-0.015260</td>\n",
       "      <td>-0.001379</td>\n",
       "      <td>-0.022791</td>\n",
       "      <td>-0.047313</td>\n",
       "      <td>0.001282</td>\n",
       "      <td>-0.000510</td>\n",
       "    </tr>\n",
       "    <tr>\n",
       "      <th>9</th>\n",
       "      <td>50.9</td>\n",
       "      <td>0.020003</td>\n",
       "      <td>-0.066620</td>\n",
       "      <td>-0.002146</td>\n",
       "      <td>-0.000444</td>\n",
       "      <td>0.006057</td>\n",
       "      <td>-0.004937</td>\n",
       "      <td>-0.001895</td>\n",
       "      <td>0.027502</td>\n",
       "      <td>-0.002241</td>\n",
       "      <td>-0.001488</td>\n",
       "      <td>0.015140</td>\n",
       "      <td>-0.000094</td>\n",
       "      <td>-0.029189</td>\n",
       "      <td>0.043710</td>\n",
       "      <td>0.000713</td>\n",
       "      <td>0.000487</td>\n",
       "    </tr>\n",
       "  </tbody>\n",
       "</table>\n",
       "</div>"
      ],
      "text/plain": [
       "   Frequency   reA1_D1   imA1_D1   reB1_D1   imB1_D1   reA2_D1   imA2_D1  \\\n",
       "0       50.0 -0.067716 -0.018169 -0.002698  0.000736  0.002505  0.006582   \n",
       "1       50.1  0.022439  0.066658 -0.002310 -0.001366 -0.007025  0.003140   \n",
       "2       50.2  0.045270 -0.052561 -0.001734 -0.001928 -0.002514 -0.007838   \n",
       "3       50.3 -0.068064 -0.006680 -0.000584 -0.002533  0.008351 -0.001583   \n",
       "4       50.4  0.019932  0.065229  0.001364 -0.002947 -0.000787  0.008783   \n",
       "5       50.5  0.061203 -0.029331  0.002601  0.000242 -0.007656 -0.004735   \n",
       "6       50.6 -0.045496 -0.050363  0.002401  0.001195  0.007171 -0.005577   \n",
       "7       50.7 -0.036221  0.058172 -0.000036  0.003033  0.002033  0.008626   \n",
       "8       50.8  0.063027  0.029029 -0.001881  0.001356 -0.007953 -0.003059   \n",
       "9       50.9  0.020003 -0.066620 -0.002146 -0.000444  0.006057 -0.004937   \n",
       "\n",
       "    reB2_D1   imB2_D1   reA1_D2   imA1_D2   reB1_D2   imB1_D2   reA2_D2  \\\n",
       "0  0.004642 -0.024663 -0.002776  0.000737 -0.009040 -0.013720 -0.030438   \n",
       "1  0.003018  0.025235  0.002766  0.000807 -0.012986  0.009946 -0.006615   \n",
       "2 -0.007694 -0.024228 -0.000439  0.002662  0.002923 -0.015854  0.027449   \n",
       "3  0.013007  0.021694 -0.002353 -0.000478  0.006114  0.014497 -0.046726   \n",
       "4 -0.014357 -0.021132  0.001078 -0.001850 -0.010481 -0.011547  0.046113   \n",
       "5  0.011427  0.023315  0.000980  0.001591  0.013222  0.008356 -0.015426   \n",
       "6 -0.011494 -0.023691 -0.001749 -0.000151 -0.014867 -0.004185 -0.025840   \n",
       "7  0.009857  0.024808  0.001344 -0.001364  0.015103  0.002441  0.051798   \n",
       "8 -0.003294 -0.027181  0.000194  0.002238 -0.015260 -0.001379 -0.022791   \n",
       "9 -0.001895  0.027502 -0.002241 -0.001488  0.015140 -0.000094 -0.029189   \n",
       "\n",
       "    imA2_D2   reB2_D2   imB2_D2  \n",
       "0  0.039048 -0.000666 -0.001240  \n",
       "1  0.049959  0.000561  0.000726  \n",
       "2 -0.042675  0.000953  0.000268  \n",
       "3  0.018792  0.000219  0.001005  \n",
       "4  0.021435  0.000240  0.000686  \n",
       "5 -0.049494 -0.001176  0.000562  \n",
       "6  0.044895 -0.000025 -0.000391  \n",
       "7  0.000304 -0.000797 -0.000757  \n",
       "8 -0.047313  0.001282 -0.000510  \n",
       "9  0.043710  0.000713  0.000487  "
      ]
     },
     "execution_count": 9,
     "metadata": {},
     "output_type": "execute_result"
    }
   ],
   "source": [
    "pandas_dataframe[0:10]"
   ]
  },
  {
   "cell_type": "code",
   "execution_count": 10,
   "metadata": {
    "collapsed": true
   },
   "outputs": [],
   "source": [
    "# if we want to transform to json string\n",
    "graph.move_to_node(\"JsonString\")"
   ]
  },
  {
   "cell_type": "code",
   "execution_count": 11,
   "metadata": {
    "collapsed": true
   },
   "outputs": [],
   "source": [
    "json=graph.data"
   ]
  },
  {
   "cell_type": "code",
   "execution_count": 12,
   "metadata": {
    "collapsed": false
   },
   "outputs": [
    {
     "name": "stderr",
     "output_type": "stream",
     "text": [
      "C:\\ProgramData\\Anaconda2\\lib\\site-packages\\pandas\\io\\pytables.py:270: PerformanceWarning: \n",
      "your performance may suffer as PyTables will pickle object types that it cannot\n",
      "map directly to c-types [inferred_type->unicode,key->axis0] [items->None]\n",
      "\n",
      "  f(store)\n",
      "C:\\ProgramData\\Anaconda2\\lib\\site-packages\\pandas\\io\\pytables.py:270: PerformanceWarning: \n",
      "your performance may suffer as PyTables will pickle object types that it cannot\n",
      "map directly to c-types [inferred_type->unicode,key->block0_items] [items->None]\n",
      "\n",
      "  f(store)\n"
     ]
    }
   ],
   "source": [
    "# if we would like to transform it to all possible data types -the xslx and ods require a confirmation\n",
    "# first change the working directory and now all files will be put in the folder\n",
    "os.chdir(\"./TableGraph_Files\")\n",
    "visit_all_nodes(graph)"
   ]
  }
 ],
 "metadata": {
  "kernelspec": {
   "display_name": "Python 2",
   "language": "python",
   "name": "python2"
  },
  "language_info": {
   "codemirror_mode": {
    "name": "ipython",
    "version": 2
   },
   "file_extension": ".py",
   "mimetype": "text/x-python",
   "name": "python",
   "nbconvert_exporter": "python",
   "pygments_lexer": "ipython2",
   "version": "2.7.13"
  }
 },
 "nbformat": 4,
 "nbformat_minor": 2
}
