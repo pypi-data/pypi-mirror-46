{
 "cells": [
  {
   "cell_type": "markdown",
   "metadata": {},
   "source": [
    "# How to Structure Your Text and XML Data\n",
    "## Data management is about structure and not format!\n",
    "If your data follows well thought out rules it will be easier for others to use. Don't worry too much over which seperator you choose (comma or double space), worry more that the seperator meaning is preserved through out your data. Similarly, you might believe you have found the perfect data format (Ascii, XML, JSON, .mat) that meets everyone's needs, but in any scientific eniviornment it is almost guarenteed that the data will have to be put in another format at some point. Once the data format is set, write down a description (schema) somewhere. This is tedious but well worth it in the long run.\n",
    "\n",
    "## Name It Well\n",
    "1. Avoid Using Spaces as Delimiters in Names (__No__: My File.txt, __Yes__: MyFile.txt or My_File.txt)\n",
    "2. Put Date Codes in ISO Format (20161116 not 11162016)\n",
    "3. Choose a scheme with rules and stick to it, mine is Capitol Snake case with date code and iterator, the name starting with the most specific description and moving to the general followed by date (YYYYMMDD) and then a iterator, padded. An example is Two_Port_SParameters_20161116_001.txt\n",
    "4. Use extensions, choose general extensions like txt or xml over none. For example MyData.txt is better than MyData, at least .txt tells you it is ascii encoded.\n",
    "5. If you are using ascii, choose characters codes in the 0-126 range if at all possible. If you want to move to expanded character sets use utf-8 (same as ascii for 7bits) or html or something like that.\n",
    "\n",
    "## The Header\n",
    "1. The header should contain a series of facts that are true about the measurement or file, if it changes for each measurement then put it in the data.\n",
    "2. Long text descriptions __do__ belong in the header, just group it all in one place, and name it Notes or Comments\n",
    "3. To make the header more machine friendly name the facts. Best is to name the facts and the context.\n",
    "4. The best piece of metadata is always a timestamp. \n",
    "\n",
    "\n",
    "\n",
    "## The Data\n",
    "1. If the data can be written in a table with columns that are all the same type, do it that way. \n",
    "2. Provide column names some place close to the columns, preferably the line above\n",
    "\n"
   ]
  },
  {
   "cell_type": "markdown",
   "metadata": {},
   "source": [
    "<div style=\"border-style:solid;border-color:red;\">\n",
    "An example of a ill-formed header <br/>\n",
    "```\n",
    "#9/30/2015 5:10 PM DMM reading = 2.809244E+1; IFBW= 3.000000E+2 (Hz); Power= -2.000000E+1 (dBm);\n",
    "#Q26Ra_g5 and the Song wafer with the pdms roof and su8 microfluidics. NDO, 2015/II/pg111, -20db\n",
    "```\n",
    "</div>"
   ]
  },
  {
   "cell_type": "markdown",
   "metadata": {},
   "source": [
    "<div style=\"border-style:solid;border-color:green;\">\n",
    "How it should look <br/>\n",
    "```\n",
    "#Measurement_Timestamp = 2016-11-16 21:07:47.252000 ; DMM_reading = 2.809244E+1; IFBW = 3.000000E+2; \n",
    "#IFBW.units = Hz ; Power = -2.000000E+1; Power.units = dBm;\n",
    "#Comments = Q26Ra_g5 and the Song wafer with the pdms roof and su8 microfluidics. NDO, 2015/II/pg111, -20db\n",
    "```\n",
    "</div>"
   ]
  },
  {
   "cell_type": "markdown",
   "metadata": {},
   "source": [
    "<div style=\"border-style:solid;border-color:green;\">\n",
    "Also good <br/>\n",
    "```\n",
    "!Measurement_Timestamp = 2016-11-16 21:07:47.252000 \n",
    "!DMM_reading = 2.809244E+1\n",
    "!IFBW = 3.000000E+2 \n",
    "!IFBW.units = Hz\n",
    "!Power = -2.000000E+1\n",
    "!Power.units = dBm\n",
    "!Comments = Q26Ra_g5 and the Song wafer with the pdms roof and su8 microfluidics. NDO, 2015/II/pg111, -20db\n",
    "```\n",
    "</div>"
   ]
  },
  {
   "cell_type": "markdown",
   "metadata": {},
   "source": [
    "### Notes:\n",
    "1. It is better to use = instead of :, because timestamps frequently have : in them\n",
    "3. Better to avoid spaces in parameter names but not a must"
   ]
  },
  {
   "cell_type": "markdown",
   "metadata": {},
   "source": [
    "## Column Names\n",
    "1. Column names should be descriptive without spaces if possible, they should have a uniform delimiter\n",
    "\n",
    "<div style=\"border-style:solid;border-color:red;\">\n",
    "An example of poorly formed column names<br/>\n",
    "```\n",
    "! Freq ( Hz)  Real Part of S11  Imaginary Part of S11\n",
    "```\n",
    "</div>"
   ]
  },
  {
   "cell_type": "markdown",
   "metadata": {},
   "source": [
    "<div style=\"border-style:solid;border-color:green;\">\n",
    "How it should look <br/>\n",
    "```\n",
    "!Frequency, reS11, imS11\n",
    "```\n",
    "</div>"
   ]
  },
  {
   "cell_type": "markdown",
   "metadata": {},
   "source": [
    "### Notes:\n",
    "1. Put units in the header like column_units=[Hz, None, None] or Frequency_Units=Hz\n",
    "2. Better to avoid spaces in column names but not a must, just don't use the delimiter in the column name\n",
    "\n"
   ]
  },
  {
   "cell_type": "markdown",
   "metadata": {},
   "source": [
    "## Data (Tabular)\n",
    "1. Make the data a stand-alone section\n",
    "2. Avoid comments in data\n",
    "3. Use the same character to delimit the columns\n",
    "4. Make the columns mean a single thing and all rows the same length\n",
    "5. Truncate the numbers, don't write them as full double precision (causes issues down the road)"
   ]
  },
  {
   "cell_type": "markdown",
   "metadata": {},
   "source": [
    "<div style=\"border-style:solid;border-color:red;\">\n",
    "An example of poorly formed data<br/>\n",
    "```\n",
    "1  -.01 .01\n",
    "1.11    .014 .015000101010013038\n",
    "1.12 .015 \n",
    "```\n",
    "</div>"
   ]
  },
  {
   "cell_type": "markdown",
   "metadata": {},
   "source": [
    "<div style=\"border-style:solid;border-color:green;\">\n",
    "How it should look<br/>\n",
    "```\n",
    "1  -.012  .012\n",
    "1.11  .014 .015\n",
    "1.12  .015 .031\n",
    "```\n",
    "</div>"
   ]
  },
  {
   "cell_type": "markdown",
   "metadata": {},
   "source": [
    "## Putting these things together"
   ]
  },
  {
   "cell_type": "code",
   "execution_count": 138,
   "metadata": {
    "collapsed": false
   },
   "outputs": [],
   "source": [
    "# here is a code example\n",
    "from pyMez import *\n",
    "header=['Measurement_Timestamp = 2016-11-16 21:07:47.252000', \n",
    "'DMM_reading = 2.809244E+1',\n",
    "'IFBW = 3.000000E+2', \n",
    "'IFBW.units = Hz',\n",
    "'Power = -2.000000E+1',\n",
    "'Power.units = dBm',\n",
    "'column_units = [GHz,None,None]',        \n",
    "'Comments = Q26Ra_g5 and the Song wafer with the pdms roof and su8 microfluidics. NDO, 2015/II/pg111, -20db']\n",
    "column_names=['Frequency', 'reS11', 'imS11']\n",
    "data=[[1,-.012, .012],\n",
    "[1.11,  .014, .015],\n",
    "[1.12 , .015, .031]]\n",
    "table=AsciiDataTable(None,header=header,column_names=column_names,\n",
    "                     data=data,comment_begin='!',comment_end='\\n',column_names_delimiter=',',\n",
    "                    column_names_begin_token='!',column_names_end_token='\\n',data_delimiter='\\t',\n",
    "                     treat_header_as_comment=True,data_table_element_separator=None,\n",
    "                     specific_descriptor=\"Example\")"
   ]
  },
  {
   "cell_type": "code",
   "execution_count": 139,
   "metadata": {
    "collapsed": false
   },
   "outputs": [
    {
     "name": "stdout",
     "output_type": "stream",
     "text": [
      "The table name is Example_Table_20161117_001.txt \n",
      "\n",
      "********************************************************************************\n",
      "\n",
      "!Measurement_Timestamp = 2016-11-16 21:07:47.252000\n",
      "!DMM_reading = 2.809244E+1\n",
      "!IFBW = 3.000000E+2\n",
      "!IFBW.units = Hz\n",
      "!Power = -2.000000E+1\n",
      "!Power.units = dBm\n",
      "!column_units = [GHz,None,None]\n",
      "!Comments = Q26Ra_g5 and the Song wafer with the pdms roof and su8 microfluidics. NDO, 2015/II/pg111, -20db\n",
      "!Frequency,reS11,imS11\n",
      "1\t-0.012\t0.012\n",
      "1.11\t0.014\t0.015\n",
      "1.12\t0.015\t0.031\n"
     ]
    }
   ],
   "source": [
    "print(\"The table name is {0} \\n\".format(table.path))\n",
    "print(\"*\"*80+\"\\n\")\n",
    "print table"
   ]
  },
  {
   "cell_type": "markdown",
   "metadata": {},
   "source": [
    "## The exact choices matter less than the pattern\n",
    "For example this is equally as good"
   ]
  },
  {
   "cell_type": "code",
   "execution_count": 140,
   "metadata": {
    "collapsed": false
   },
   "outputs": [
    {
     "name": "stdout",
     "output_type": "stream",
     "text": [
      "The table name is One_Port_SParameter_Table_20161117_001.txt \n",
      "\n",
      "********************************************************************************\n",
      "\n",
      "#Measurement_Timestamp = 2016-11-16 21:07:47.252000\n",
      "#DMM_reading = 2.809244E+1\n",
      "#IFBW = 3.000000E+2\n",
      "#IFBW.units = Hz\n",
      "#Power = -2.000000E+1\n",
      "#Power.units = dBm\n",
      "#column_units = [GHz,None,None]\n",
      "#Comments = Q26Ra_g5 and the Song wafer with the pdms roof and su8 microfluidics. NDO, 2015/II/pg111, -20db\n",
      "!Frequency,reS11,imS11\n",
      "1,-0.012,0.012\n",
      "1.11,0.014,0.015\n",
      "1.12,0.015,0.031\n"
     ]
    }
   ],
   "source": [
    "table.options[\"data_delimiter\"]=\",\"\n",
    "table.options[\"comment_begin\"]=\"#\"\n",
    "table.path=table.path.replace(\"Example\",\"One_Port_SParameter\")\n",
    "print(\"The table name is {0} \\n\".format(table.path))\n",
    "print(\"*\"*80+\"\\n\")\n",
    "print table"
   ]
  },
  {
   "cell_type": "markdown",
   "metadata": {},
   "source": [
    "## In fact XML with a good pattern is great too!\n"
   ]
  },
  {
   "cell_type": "code",
   "execution_count": 141,
   "metadata": {
    "collapsed": false
   },
   "outputs": [
    {
     "name": "stdout",
     "output_type": "stream",
     "text": [
      "The table name is Example_Table_20161117_001.xml \n",
      "\n",
      "********************************************************************************\n",
      "\n",
      "<?xml version=\"1.0\" ?>\n",
      "<?xml-stylesheet type=\"text/xsl\" href=\"../XSL/ONE_PORT_STYLE.xsl\"?>\n",
      "<Data_Table>\n",
      "\t<Data_Description>\n",
      "\t\t<Header_004>Power = -2.000000E+1</Header_004>\n",
      "\t\t<Header_005>Power.units = dBm</Header_005>\n",
      "\t\t<Header_006>column_units = [GHz,None,None]</Header_006>\n",
      "\t\t<Header_007>Comments = Q26Ra_g5 and the Song wafer with the pdms roof and su8 microfluidics. NDO, 2015/II/pg111, -20db</Header_007>\n",
      "\t\t<Header_000>Measurement_Timestamp = 2016-11-16 21:07:47.252000</Header_000>\n",
      "\t\t<Header_001>DMM_reading = 2.809244E+1</Header_001>\n",
      "\t\t<Header_002>IFBW = 3.000000E+2</Header_002>\n",
      "\t\t<Header_003>IFBW.units = Hz</Header_003>\n",
      "\t</Data_Description>\n",
      "\t<Data>\n",
      "\t\t<Tuple Frequency=\"1\" imS11=\"0.012\" reS11=\"-0.012\"/>\n",
      "\t\t<Tuple Frequency=\"1.11\" imS11=\"0.015\" reS11=\"0.014\"/>\n",
      "\t\t<Tuple Frequency=\"1.12\" imS11=\"0.031\" reS11=\"0.015\"/>\n",
      "\t</Data>\n",
      "</Data_Table>\n",
      "\n"
     ]
    }
   ],
   "source": [
    "xml_table=AsciiDataTable_to_XMLDataTable(table)\n",
    "print(\"The table name is {0} \\n\".format(xml_table.path))\n",
    "print(\"*\"*80+\"\\n\")\n",
    "print xml_table"
   ]
  },
  {
   "cell_type": "markdown",
   "metadata": {},
   "source": [
    "## Or a little more descriptive version"
   ]
  },
  {
   "cell_type": "code",
   "execution_count": 147,
   "metadata": {
    "collapsed": false
   },
   "outputs": [
    {
     "name": "stdout",
     "output_type": "stream",
     "text": [
      "<?xml version=\"1.0\" ?>\n",
      "<?xml-stylesheet type=\"text/xsl\" href=\"../XSL/DEFAULT_MEASUREMENT_STYLE.xsl\"?>\n",
      "<Data_Table>\n",
      "\t<Data_Description>\n",
      "\t\t<Measurement_Timestamp>2016-11-16 21:07:47.252000</Measurement_Timestamp>\n",
      "\t\t<column_units>[GHz,None,None]</column_units>\n",
      "\t\t<Power>-2.000000E+1</Power>\n",
      "\t\t<DMM_reading>2.809244E+1</DMM_reading>\n",
      "\t\t<IFBW>3.000000E+2</IFBW>\n",
      "\t\t<IFBW_units>Hz</IFBW_units>\n",
      "\t\t<Comments>Q26Ra_g5 and the Song wafer with the pdms roof and su8 microfluidics. NDO, 2015/II/pg111, -20db</Comments>\n",
      "\t\t<Power_units>dBm</Power_units>\n",
      "\t</Data_Description>\n",
      "\t<Data>\n",
      "\t\t<Tuple Frequency=\"1\" imS11=\"0.012\" reS11=\"-0.012\"/>\n",
      "\t\t<Tuple Frequency=\"1.11\" imS11=\"0.015\" reS11=\"0.014\"/>\n",
      "\t\t<Tuple Frequency=\"1.12\" imS11=\"0.031\" reS11=\"0.015\"/>\n",
      "\t</Data>\n",
      "</Data_Table>\n",
      "\n"
     ]
    }
   ],
   "source": [
    "data={\"Data_Description\":structure_metadata(string_list_collapse(header)),\n",
    "      \"Data\":table.get_data_dictionary_list()}\n",
    "xml_table_2=DataTable(None,data_dictionary=data)\n",
    "print xml_table_2"
   ]
  },
  {
   "cell_type": "markdown",
   "metadata": {},
   "source": [
    "## And this gives us a good deal of formating options also"
   ]
  },
  {
   "cell_type": "code",
   "execution_count": 150,
   "metadata": {
    "collapsed": false
   },
   "outputs": [
    {
     "data": {
      "text/html": [
       "<!DOCTYPE html PUBLIC \"-//W3C//DTD HTML 4.0 Transitional//EN\" \"http://www.w3.org/TR/REC-html40/loose.dtd\">\n",
       "<h3>Data Description:</h3><table>\n",
       "<tr>\n",
       "<td><b>Measurement_Timestamp :</b></td>\n",
       "<td>2016-11-16 21:07:47.252000</td>\n",
       "</tr>\n",
       "<tr>\n",
       "<td><b>column_units :</b></td>\n",
       "<td>[GHz,None,None]</td>\n",
       "</tr>\n",
       "<tr>\n",
       "<td><b>Power :</b></td>\n",
       "<td>-2.000000E+1</td>\n",
       "</tr>\n",
       "<tr>\n",
       "<td><b>DMM_reading :</b></td>\n",
       "<td>2.809244E+1</td>\n",
       "</tr>\n",
       "<tr>\n",
       "<td><b>IFBW :</b></td>\n",
       "<td>3.000000E+2</td>\n",
       "</tr>\n",
       "<tr>\n",
       "<td><b>IFBW_units :</b></td>\n",
       "<td>Hz</td>\n",
       "</tr>\n",
       "<tr>\n",
       "<td><b>Comments :</b></td>\n",
       "<td>Q26Ra_g5 and the Song wafer with the pdms roof and su8 microfluidics. NDO, 2015/II/pg111, -20db</td>\n",
       "</tr>\n",
       "<tr>\n",
       "<td><b>Power_units :</b></td>\n",
       "<td>dBm</td>\n",
       "</tr>\n",
       "</table><h3>Data:</h3><table border=\"2\" bgcolor=\"white\" cellpadding=\"1\" bordercolor=\"black\" bordercolorlight=\"black\">\n",
       "<tr>\n",
       "<th bgcolor=\"silver\"><b>Frequency</b></th>\n",
       "<th bgcolor=\"silver\"><b>imS11</b></th>\n",
       "<th bgcolor=\"silver\"><b>reS11</b></th>\n",
       "</tr>\n",
       "<tr>\n",
       "<td>1</td>\n",
       "<td>0.012</td>\n",
       "<td>-0.012</td>\n",
       "</tr>\n",
       "<tr>\n",
       "<td>1.11</td>\n",
       "<td>0.015</td>\n",
       "<td>0.014</td>\n",
       "</tr>\n",
       "<tr>\n",
       "<td>1.12</td>\n",
       "<td>0.031</td>\n",
       "<td>0.015</td>\n",
       "</tr>\n",
       "</table>\n"
      ],
      "text/plain": [
       "<IPython.core.display.HTML object>"
      ]
     },
     "metadata": {},
     "output_type": "display_data"
    }
   ],
   "source": [
    "from IPython.display import HTML,display\n",
    "display(HTML(xml_table_2.to_HTML(os.path.join(TESTS_DIRECTORY,\"../XSL/DEFAULT_MEASUREMENT_STYLE.xsl\"))))"
   ]
  },
  {
   "cell_type": "markdown",
   "metadata": {},
   "source": [
    "## Some development work for those who are interseted in seeing how a header like this would be parsed"
   ]
  },
  {
   "cell_type": "code",
   "execution_count": 151,
   "metadata": {
    "collapsed": true
   },
   "outputs": [],
   "source": [
    "string=\"\"\"\n",
    "#Measurement_Timestamp = 2016-11-16 21:07:47.252000 ; DMM_Reading = 2.809244E+1; IFBW = 3.000000E+2; \n",
    "#IFBW.units = Hz ; Power = -2.000000E+1;Power.units = dBm;\n",
    "#Comments = Q26Ra_g5 and the Song wafer with the pdms roof and su8 microfluidics. NDO, 2015/II/pg111, -20db\"\"\""
   ]
  },
  {
   "cell_type": "code",
   "execution_count": 146,
   "metadata": {
    "collapsed": false
   },
   "outputs": [],
   "source": [
    "def structure_metadata(header_string,metadata_fact_delimiter=\";\",metadata_key_value_delimiter=\"=\",comment_character=\"#\"):\n",
    "    \"\"\"Strucutre Metadata returns a metadata string and returns a metadata dictionary\"\"\"\n",
    "    string_list=re.split(metadata_fact_delimiter+'|\\n',header_string.replace(comment_character,''))\n",
    "    metadata_dictionary={}\n",
    "    for string in string_list:\n",
    "        pair=string.split(metadata_key_value_delimiter)\n",
    "        #print pair\n",
    "        #print len(pair)\n",
    "        if len(pair)==2:\n",
    "            key=pair[0].rstrip().lstrip().replace(\".\",\"_\")\n",
    "            value=pair[1].rstrip().lstrip()\n",
    "            metadata_dictionary[key]=value\n",
    "    return metadata_dictionary"
   ]
  },
  {
   "cell_type": "code",
   "execution_count": 152,
   "metadata": {
    "collapsed": false
   },
   "outputs": [
    {
     "name": "stdout",
     "output_type": "stream",
     "text": [
      "{'Measurement_Timestamp': '2016-11-16 21:07:47.252000', 'Power': '-2.000000E+1', 'DMM_Reading': '2.809244E+1', 'IFBW': '3.000000E+2', 'IFBW_units': 'Hz', 'Comments': 'Q26Ra_g5 and the Song wafer with the pdms roof and su8 microfluidics. NDO, 2015/II/pg111, -20db', 'Power_units': 'dBm'}\n"
     ]
    }
   ],
   "source": [
    "print structure_metadata(string)"
   ]
  }
 ],
 "metadata": {
  "kernelspec": {
   "display_name": "Python 2",
   "language": "python",
   "name": "python2"
  },
  "language_info": {
   "codemirror_mode": {
    "name": "ipython",
    "version": 2
   },
   "file_extension": ".py",
   "mimetype": "text/x-python",
   "name": "python",
   "nbconvert_exporter": "python",
   "pygments_lexer": "ipython2",
   "version": "2.7.13"
  }
 },
 "nbformat": 4,
 "nbformat_minor": 0
}
