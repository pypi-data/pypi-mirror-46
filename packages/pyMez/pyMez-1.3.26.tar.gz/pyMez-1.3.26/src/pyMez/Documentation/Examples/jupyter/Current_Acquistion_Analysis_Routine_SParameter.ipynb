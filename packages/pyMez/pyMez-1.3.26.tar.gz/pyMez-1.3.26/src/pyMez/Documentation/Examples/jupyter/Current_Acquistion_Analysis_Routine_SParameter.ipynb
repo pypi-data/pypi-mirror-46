{
 "cells": [
  {
   "cell_type": "markdown",
   "metadata": {},
   "source": [
    "<a id=\"top\"></a>\n",
    "# Current Acquisition and Analysis Routine\n",
    "\n",
    "## Introduction\n",
    "The sparameter and impedance project currently supplies calibration services to outside customers. This document outlines the procedure for the data acquition and analysis for the one port and two port impedance services.\n",
    "\n",
    "## Overview\n",
    "<hr style=\"border-top: 3px double #8c8b8b;\"/>\n",
    "\n",
    "<ol style=\"list-style-type: upper-roman\">\n",
    "<li> <h3><a href=\"#setup\" style=\"color:black\">Instrument Setup</a> </h3></li>\n",
    "Requires user control of the VNA. No setup information is recorded except on paper.\n",
    "<li> <h3><a href=\"#vna-calibration\" style=\"color:black\">VNA Calibration</a> </h3></li>\n",
    "Uses a modified version of the HP Basic Program MultiCAL. No record of calibration coefficents is kept, the data is written to the VNA directly.\n",
    "<li> <h3><a href=\"#calibration-verification\" style=\"color:black\">Calibration Verification</a> </h3></li>\n",
    "Uses versions of the HP Basic Programs MeasLP and Calrep. Generates a series of BDAT files saved on a shared drive, does not normally record the analysis of these files. We typically print the plots that show the calibration is good. \n",
    "<li> <h3><a href=\"#dut-measurement\" style=\"color:black\">Acquiring DUT Data </a> </h3></li>\n",
    "Uses versions of the HP Basic Program MeasLP. Generates BDAT files that are also saved with the Check Standard raw files.\n",
    "<li> <h3><a href=\"#dut-analysis\" style=\"color:black\">DUT analysis</a> </h3></li>\n",
    "Uses a version of the HP Basic Program Calrep. Generates a series of tables in ascii format.\n",
    "<li> <h3><a href=\"#report-generation\" style=\"color:black\">Report Generation</a> </h3></li>\n",
    "Uses the data from Calrep, which is hand ported to a Microsoft Acess Database which in turns fills out a Microsoft Word document through mail-merge. The database also includes other information including BII.\n",
    "<li> <h3><a href=\"#summary\" style=\"color:black\">Summary of the improvements needed to the current method</a> </h3></li>\n",
    "</ol>"
   ]
  },
  {
   "cell_type": "markdown",
   "metadata": {},
   "source": [
    " <table>\n",
    " <td>\n",
    " <a href=\"#top\"><img src=\"./PNAGrabber_MUF_Example_Files/previous.png\" /></a>\n",
    " </td><td>\n",
    " <a href=\"#setup\"><img src=\"./PNAGrabber_MUF_Example_Files/next.png\" /></a>\n",
    " </td><td>\n",
    " <a href=\"#top\"> <em>back to top</em></a>\n",
    " </td>\n",
    " </table>\n",
    " <hr style=\"border-top: 2px double #8c8b8b;\"/>\n",
    " <h3><a id=\"setup\" style=\"color:black\">Instrument Setup</a> </h3>"
   ]
  },
  {
   "cell_type": "markdown",
   "metadata": {},
   "source": [
    "Current Method:\n",
    "<div style=\"border-style:solid;border-color:red;padding:5px\">\n",
    "The intstrument setup requires seting the frequency points on the front-panel of the VNA (or PNA). In addition, the IFBW and averaging should be chosen. These parameters are typically chosen by convention and not recorded in any manner.    \n",
    "</div>\n",
    "<br/>\n",
    "Desired Method:\n",
    "<div style=\"border-style:solid;border-color:green;padding:5px\">\n",
    "All parameters on the VNA (or PNA) should be setable with the software used to acquire data. The parameters should either be user entered (or modified from an earlier state) or loaded from a file saved locally or on a server.  \n",
    "</div>\n",
    "<p style=\"page-break-after:always;\"></p>"
   ]
  },
  {
   "cell_type": "markdown",
   "metadata": {},
   "source": [
    " <table>\n",
    " <td>\n",
    " <a href=\"#setup\"><img src=\"./PNAGrabber_MUF_Example_Files/previous.png\" /></a>\n",
    " </td><td>\n",
    " <a href=\"#vna-calibration\"><img src=\"./PNAGrabber_MUF_Example_Files/next.png\" /></a>\n",
    " </td><td>\n",
    " <a href=\"#top\"> <em>back to top</em></a>\n",
    " </td>\n",
    " </table>\n",
    " <hr style=\"border-top: 2px double #8c8b8b;\"/>\n",
    " <h3><a id=\"vna-calibration\" style=\"color:black\">VNA Calibration</a> </h3>"
   ]
  },
  {
   "cell_type": "markdown",
   "metadata": {},
   "source": [
    "Current Method:\n",
    "<div style=\"border-style:solid;border-color:red;padding:5px\">\n",
    "A calibration set for the connector type of the measurement is chosen. The calibration kit is normally a set of air-lines and a high reflect standard. The uncalibrated s-parameters of these standards are measured using a modified version of the HP Basic program MultiCAL. The data is saved to temp files that are overwritten each time. The setup is predefined by the internal software modifcations and the user is required to enter some data as to the line lengths. Once the calibration set is measured a series of correction coefficients is calculated and written to the VNA (or PNA) using MultiCAL. MultiCAL uses the LRL calibration method. Internal to MultiCAL are several checks to see if the calibration looks as expected. If the calibration looks strange to the user then the process is repeated or lines are dropped from the LRL calibration.     \n",
    "</div>\n",
    "<br/>\n",
    "Desired Method:\n",
    "<div style=\"border-style:solid;border-color:green;padding:5px\">\n",
    "We would prefer given a file that defines the standards to measured, the line lengths and calibration standards would be automatically filled out. In addition, the raw measurements should be stored in a recoverable manner so that the calibration could be calculated using different methods in post processing. The coefficents could be written to the VNA or kept for later application to raw data.  \n",
    "</div>\n",
    "<p style=\"page-break-after:always;\"></p>"
   ]
  },
  {
   "cell_type": "markdown",
   "metadata": {},
   "source": [
    " <table>\n",
    " <td>\n",
    " <a href=\"#vna-calibration\"><img src=\"./PNAGrabber_MUF_Example_Files/previous.png\" /></a>\n",
    " </td><td>\n",
    " <a href=\"#calibration-verification\"><img src=\"./PNAGrabber_MUF_Example_Files/next.png\" /></a>\n",
    " </td><td>\n",
    " <a href=\"#top\"> <em>back to top</em></a>\n",
    " </td>\n",
    " </table>\n",
    " <hr style=\"border-top: 2px double #8c8b8b;\"/>\n",
    " <h3><a id=\"calibration-verification\" style=\"color:black\">Calibration Verification</a> </h3>"
   ]
  },
  {
   "cell_type": "markdown",
   "metadata": {},
   "source": [
    "Current Method:\n",
    "<div style=\"border-style:solid;border-color:red;padding:5px\">\n",
    "A set of internally maintained check standards that are normally composed of a attenuator, high reflect, and/or a load are chosen and measured using repeated connects (typically 3 by convention) and potentially a reversal of device direction. These are measured using the HP Basic Program MeasLP (or a modified version) with the VNA in a calibrated state. The data from each of these measurements are stored in the HP Binary format known as BDAT with file extensions that represent the date, system used and an itterator. Currently the files are written to common location that is chosen in the MeasLP program. The data is then loaded to the HP Basic Program Calrep. Calrep assigns errors and given a file directory compares the data to a previously calculated standard curve saved as a result file (Ascii) in common folder. This comparision along with some of the calculated errors are then used as a series of graphical comparisions for the user to determine if the calibration and machine state is sufficently good to procede to the DUT. The raw data in BDAT format is retained, but it is atypical to output the analyzed results to a file at this point.       \n",
    "</div>\n",
    "<br/>\n",
    "Desired Method:\n",
    "<div style=\"border-style:solid;border-color:green;padding:5px\">\n",
    "We would prefer given a file that defines the check standards to be measured, the check standard defintions would be automatically filled out and measured with a single program. In addition, the raw measurements should be stored in a recoverable manner so that the check standard could be calculated using different methods in post processing (the raw measurements should be stored without the calibration correction). The comparision of the check standard s-parameters with the accepted curve should be achieved through calculation using the previous history of the device and/or a single definition file. In addition, the measurement history of each of the check standards should be findable to determine if the check standards have changed through time. This is the step that the Chech Standard Database project was desgined to streamline and assist. Currently, we have ~20-30 years of measurements of these check standard measurements in BDAT format and the Standard Curve for comparision was calculated using a SAS program in the early 2000's. The standard curve is saved in a folder on a shared drive and accessed with the Calrep program.   \n",
    "</div>\n",
    "<p style=\"page-break-after:always;\"></p>"
   ]
  },
  {
   "cell_type": "markdown",
   "metadata": {},
   "source": [
    " <table>\n",
    " <td>\n",
    " <a href=\"#calibration-verification\"><img src=\"./PNAGrabber_MUF_Example_Files/previous.png\" /></a>\n",
    " </td><td>\n",
    " <a href=\"#dut-measurement\"><img src=\"./PNAGrabber_MUF_Example_Files/next.png\" /></a>\n",
    " </td><td>\n",
    " <a href=\"#top\"> <em>back to top</em></a>\n",
    " </td>\n",
    " </table>\n",
    " <hr style=\"border-top: 2px double #8c8b8b;\"/>\n",
    " <h3><a id=\"dut-measurement\" style=\"color:black\">DUT Measurement</a> </h3>"
   ]
  },
  {
   "cell_type": "markdown",
   "metadata": {},
   "source": [
    "Current Method:\n",
    "<div style=\"border-style:solid;border-color:red;padding:5px\">\n",
    "Once the calibration has been verified, the DUT is measured using the HP Basic Program MeasLP. The DUT is measured using repeated connects and potential reversal of direction of measurement. This data is stored as BDAT on a shared drive using a device id in the file name to identify the file.        \n",
    "</div>\n",
    "<br/>\n",
    "Desired Method:\n",
    "<div style=\"border-style:solid;border-color:green;padding:5px\">\n",
    "Since this method is no different in concept to the check standard measurement method we would want it to work the same including the possiblity to compare the measurement with device history. \n",
    "</div>\n",
    "<p style=\"page-break-after:always;\"></p>"
   ]
  },
  {
   "cell_type": "markdown",
   "metadata": {},
   "source": [
    " <table>\n",
    " <td>\n",
    " <a href=\"#dut-measurement\"><img src=\"./PNAGrabber_MUF_Example_Files/previous.png\" /></a>\n",
    " </td><td>\n",
    " <a href=\"#dut-analysis\"><img src=\"./PNAGrabber_MUF_Example_Files/next.png\" /></a>\n",
    " </td><td>\n",
    " <a href=\"#top\"> <em>back to top</em></a>\n",
    " </td>\n",
    " </table>\n",
    " <hr style=\"border-top: 2px double #8c8b8b;\"/>\n",
    " <h3><a id=\"dut-analysis\" style=\"color:black\">DUT Analysis</a> </h3>"
   ]
  },
  {
   "cell_type": "markdown",
   "metadata": {},
   "source": [
    "Current Method:\n",
    "<div style=\"border-style:solid;border-color:red;padding:5px\">\n",
    " The raw data from the DUT measurement step is loaded into the Calrep program and analyzed. The analysis addeds uncertainty to the files, but removes all the metadata fromt the raw files. This data is saved as a series of Ascii formated tables (currently there are several different types). These tables are saved to a shared drive.       \n",
    "</div>\n",
    "<br/>\n",
    "Desired Method:\n",
    "<div style=\"border-style:solid;border-color:green;padding:5px\">\n",
    "We would like these files to retain the metadata so that we can look at historical records including their uncertainty. In addition, if we change the analysis from the calibration step, we would like this analysis to be recalculated. \n",
    "</div>\n",
    "<p style=\"page-break-after:always;\"></p>"
   ]
  },
  {
   "cell_type": "markdown",
   "metadata": {},
   "source": [
    " <table>\n",
    " <td>\n",
    " <a href=\"#dut-analysis\"><img src=\"./PNAGrabber_MUF_Example_Files/previous.png\" /></a>\n",
    " </td><td>\n",
    " <a href=\"#report-generation\"><img src=\"./PNAGrabber_MUF_Example_Files/next.png\" /></a>\n",
    " </td><td>\n",
    " <a href=\"#top\"> <em>back to top</em></a>\n",
    " </td>\n",
    " </table>\n",
    " <hr style=\"border-top: 2px double #8c8b8b;\"/>\n",
    " <h3><a id=\"report-generation\" style=\"color:black\">Report Generation</a> </h3>"
   ]
  },
  {
   "cell_type": "markdown",
   "metadata": {},
   "source": [
    "Current Method:\n",
    "<div style=\"border-style:solid;border-color:red;padding:5px\">\n",
    " Currently the table created by Calrep is imported into a Microsoft Acess database by hand. This database has other data including BII in it. The database is then used to populate a Microsoft Word template through mail-merge. This report is the final product that is returned to the customer.\n",
    "</div>\n",
    "<br/>\n",
    "Desired Method:\n",
    "<div style=\"border-style:solid;border-color:green;padding:5px\">\n",
    "We would want the report to be automatically generated from the results in the previous steps. It is desirable to have the report web compliant and searchable. \n",
    "</div>\n",
    "<p style=\"page-break-after:always;\"></p>"
   ]
  },
  {
   "cell_type": "markdown",
   "metadata": {},
   "source": [
    " <table>\n",
    " <td>\n",
    " <a href=\"#report-generation\"><img src=\"./PNAGrabber_MUF_Example_Files/previous.png\" /></a>\n",
    " </td><td>\n",
    " <a href=\"#summary\"><img src=\"./PNAGrabber_MUF_Example_Files/next.png\" /></a>\n",
    " </td><td>\n",
    " <a href=\"#top\"> <em>back to top</em></a>\n",
    " </td>\n",
    " </table>\n",
    " <hr style=\"border-top: 2px double #8c8b8b;\"/>\n",
    " <h3><a id=\"summary\" style=\"color:black\">Summary of the improvements needed to the current method</a> </h3>"
   ]
  },
  {
   "cell_type": "markdown",
   "metadata": {},
   "source": [
    "<table>\n",
    "<tr>\n",
    "<th>Current Method </th> \n",
    "<th>Issues</th>\n",
    "<th>Replacement Strategy</th>\n",
    "<tr>\n",
    "<tr>\n",
    "<td> Calibration of the instrument using MultiCAL </td>\n",
    "<td> HP Basic is obsolete. The data used to correct the raw measurements is lost. New methods of calibration cannot be added easily. The lack of transfer standards to make calibration easier (requires correlated uncertainties) </td>\n",
    "<td> The replacement of this step requires a program capable of acquiring data, calculating a correction, and storing data persitently in a searchable manner. Currently StatistiCAL and the MUF can calculate the correction, PNA grabber can acquire the data in some cases (does not have all possible VNA and PNAs) and there is no data management software option. Our approach is to create data management tools in Python (not obsolete) use the MUF or StatistiCAL through Python wrappers to calculate the correction and then integrate this with a Python based web frontend. Data acquisition can either be accomplished by using PNA grabber wrapper or a new Python acquistion program. </td>\n",
    "<tr/>\n",
    "<tr>\n",
    "<td> Tracking and comparison of check standard data </td>\n",
    "<td> HP Basic is obsolete. The measurement data is stored in an obsolete binary format. There is no central repository that is updated. History is not tracked or analyzed. The analysis of the check standard data is not typically saved, and when it is saved important metadata is lost. No user control or web compliance. </td>\n",
    "<td>Intially convert the data to a non-obsolete format, create an analysis routine in Python that saves the metadata. Create a central database of previous measurements that is managed and analyzed through a web based frontend. Currently we have the basics of this process are finished. By rewritting the analysis routines in Python we have made the code modern and provided both a web based frontend and the ability to link this analysis with data acquistion and data management.</td>\n",
    "<tr/>\n",
    "<tr>\n",
    "<td> Report Generation </td>\n",
    "<td> Requires a human to connect the measurement data with the final report, also requires understading in at least 3 different programs. Not tied to a central database, no ability to provide real-time report generation for staff or customers.  </td>\n",
    "<td>Create a path to fill html templates with measurement data using Python library. These html reports can be tied to history and analysis for internal use.</td>\n",
    "<tr/>\n",
    "</table>\n",
    "<br/>\n",
    "<h4> Obsolete or non-existing data that needs to be replaced</h4>\n",
    "<ol>\n",
    "<li> All flavors of MultiCAL </li>\n",
    "<li> All flavors of MeasLP </li>\n",
    "<li> All flavors of Calrep </li>\n",
    "<li> Check standard database </li>\n",
    "<li> Automatic Report Generation  </li>\n",
    "</ol>\n",
    "\n",
    "This document was edited in Jupyter, transformed to html using pyMez.Code.Utils.HelpUtils.create_example_page(jupyter_file_name) and converted to pdf using the to_pdf method of  pyMez.Code.DataHandlers.HTMLModels.HTMLBase class on January 13th, 2017."
   ]
  }
 ],
 "metadata": {
  "kernelspec": {
   "display_name": "Python 2",
   "language": "python",
   "name": "python2"
  },
  "language_info": {
   "codemirror_mode": {
    "name": "ipython",
    "version": 2
   },
   "file_extension": ".py",
   "mimetype": "text/x-python",
   "name": "python",
   "nbconvert_exporter": "python",
   "pygments_lexer": "ipython2",
   "version": "2.7.13"
  }
 },
 "nbformat": 4,
 "nbformat_minor": 0
}
