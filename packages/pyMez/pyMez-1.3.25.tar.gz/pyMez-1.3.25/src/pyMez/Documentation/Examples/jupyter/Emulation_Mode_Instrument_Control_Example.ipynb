{
 "cells": [
  {
   "cell_type": "markdown",
   "metadata": {},
   "source": [
    "# Example of Emulated Instrument\n",
    "When an instrument is loaded but it can be found the class moves to a emulated instrument mode that logs write and read commands"
   ]
  },
  {
   "cell_type": "code",
   "execution_count": 1,
   "metadata": {
    "collapsed": false
   },
   "outputs": [
    {
     "name": "stdout",
     "output_type": "stream",
     "text": [
      "Importing pyMez, this should take roughly 30 seconds\n",
      "Importing Code.DataHandlers.GeneralModels\n",
      "It took 3.793 s to import Code.DataHandlers.GeneralModels\n",
      "Importing Code.DataHandlers.HTMLModels\n",
      "It took 0.466 s to import Code.DataHandlers.HTMLModels\n",
      "Importing Code.DataHandlers.NISTModels\n",
      "It took 13.808 s to import Code.DataHandlers.NISTModels\n",
      "Importing Code.DataHandlers.TouchstoneModels\n",
      "It took 0.008 s to import Code.DataHandlers.TouchstoneModels\n",
      "Importing Code.DataHandlers.XMLModels\n",
      "It took 0.316 s to import Code.DataHandlers.XMLModels\n",
      "Importing Code.DataHandlers.ZipModels\n",
      "It took 0.049 s to import Code.DataHandlers.ZipModels\n",
      "Importing Code.InstrumentControl.Experiments\n",
      "It took 3.144 s to import Code.InstrumentControl.Experiments\n",
      "Importing Code.InstrumentControl.Instruments\n",
      "It took 0.078 s to import Code.InstrumentControl.Instruments\n",
      "Importing Code.Utils.Names\n",
      "It took 0.011 s to import Code.Utils.Names\n",
      "It took 21.674 s to import all of the active modules\n"
     ]
    }
   ],
   "source": [
    "from pyMez import *"
   ]
  },
  {
   "cell_type": "code",
   "execution_count": 2,
   "metadata": {
    "collapsed": false,
    "scrolled": true
   },
   "outputs": [
    {
     "name": "stdout",
     "output_type": "stream",
     "text": [
      "Unable to load resource entering emulation mode ...\n"
     ]
    }
   ],
   "source": [
    "# This loads the sheet that has GPIB::16 address\n",
    "emulated_instrument=VisaInstrument(\"GPIB::16\")"
   ]
  },
  {
   "cell_type": "code",
   "execution_count": 3,
   "metadata": {
    "collapsed": false
   },
   "outputs": [
    {
     "data": {
      "text/plain": [
       "'Agilent Technologies,E8361A,US43140754,A.07.50.67'"
      ]
     },
     "execution_count": 3,
     "metadata": {},
     "output_type": "execute_result"
    }
   ],
   "source": [
    "# This is the idn established on the xml description sheet\n",
    "emulated_instrument.idn"
   ]
  },
  {
   "cell_type": "code",
   "execution_count": 4,
   "metadata": {
    "collapsed": false
   },
   "outputs": [
    {
     "data": {
      "text/plain": [
       "{'SENS:AVER': 'Buffer Read at 2019-01-25T00:30:15.559000',\n",
       " 'SENS:BAND': 'Buffer Read at 2019-01-25T00:30:15.560000',\n",
       " 'SENS:CORR:STAT': 'Buffer Read at 2019-01-25T00:30:15.562000',\n",
       " 'SENS:SWE:TYPE': 'Buffer Read at 2019-01-25T00:30:15.561000',\n",
       " 'SOUR:POW': 'Buffer Read at 2019-01-25T00:30:15.563000',\n",
       " 'SOUR:POW:CORR:STAT': 'Buffer Read at 2019-01-25T00:30:15.564000',\n",
       " 'SOUR:POW:SLOP': 'Buffer Read at 2019-01-25T00:30:15.565000'}"
      ]
     },
     "execution_count": 4,
     "metadata": {},
     "output_type": "execute_result"
    }
   ],
   "source": [
    "# This gets the default state defined in the xml sheet\n",
    "# instead of returning values it returns a buffer read and time stamp\n",
    "emulated_instrument.get_state()"
   ]
  },
  {
   "cell_type": "code",
   "execution_count": 5,
   "metadata": {
    "collapsed": true
   },
   "outputs": [],
   "source": [
    "# This is a fake write command\n",
    "emulated_instrument.write(\"MyFake:GPIB:COMMAND\")"
   ]
  },
  {
   "cell_type": "code",
   "execution_count": 6,
   "metadata": {
    "collapsed": false
   },
   "outputs": [
    {
     "data": {
      "text/plain": [
       "[{'Action': 'self.write',\n",
       "  'Argument': 'SENS:AVER?',\n",
       "  'Response': None,\n",
       "  'Timestamp': '2019-01-25T00:30:09.223000'},\n",
       " {'Action': 'self.read',\n",
       "  'Argument': None,\n",
       "  'Response': 'Buffer Read at 2019-01-25T00:30:09.224000',\n",
       "  'Timestamp': '2019-01-25T00:30:09.224000'},\n",
       " {'Action': 'self.write',\n",
       "  'Argument': 'SENS:BAND?',\n",
       "  'Response': None,\n",
       "  'Timestamp': '2019-01-25T00:30:09.225000'},\n",
       " {'Action': 'self.read',\n",
       "  'Argument': None,\n",
       "  'Response': 'Buffer Read at 2019-01-25T00:30:09.225000',\n",
       "  'Timestamp': '2019-01-25T00:30:09.225000'},\n",
       " {'Action': 'self.write',\n",
       "  'Argument': 'SENS:SWE:TYPE?',\n",
       "  'Response': None,\n",
       "  'Timestamp': '2019-01-25T00:30:09.226000'},\n",
       " {'Action': 'self.read',\n",
       "  'Argument': None,\n",
       "  'Response': 'Buffer Read at 2019-01-25T00:30:09.226000',\n",
       "  'Timestamp': '2019-01-25T00:30:09.226000'},\n",
       " {'Action': 'self.write',\n",
       "  'Argument': 'SENS:CORR:STAT?',\n",
       "  'Response': None,\n",
       "  'Timestamp': '2019-01-25T00:30:09.227000'},\n",
       " {'Action': 'self.read',\n",
       "  'Argument': None,\n",
       "  'Response': 'Buffer Read at 2019-01-25T00:30:09.227000',\n",
       "  'Timestamp': '2019-01-25T00:30:09.227000'},\n",
       " {'Action': 'self.write',\n",
       "  'Argument': 'SOUR:POW?',\n",
       "  'Response': None,\n",
       "  'Timestamp': '2019-01-25T00:30:09.228000'},\n",
       " {'Action': 'self.read',\n",
       "  'Argument': None,\n",
       "  'Response': 'Buffer Read at 2019-01-25T00:30:09.228000',\n",
       "  'Timestamp': '2019-01-25T00:30:09.228000'},\n",
       " {'Action': 'self.write',\n",
       "  'Argument': 'SOUR:POW:CORR:STAT?',\n",
       "  'Response': None,\n",
       "  'Timestamp': '2019-01-25T00:30:09.229000'},\n",
       " {'Action': 'self.read',\n",
       "  'Argument': None,\n",
       "  'Response': 'Buffer Read at 2019-01-25T00:30:09.229000',\n",
       "  'Timestamp': '2019-01-25T00:30:09.229000'},\n",
       " {'Action': 'self.write',\n",
       "  'Argument': 'SOUR:POW:SLOP?',\n",
       "  'Response': None,\n",
       "  'Timestamp': '2019-01-25T00:30:09.230000'},\n",
       " {'Action': 'self.read',\n",
       "  'Argument': None,\n",
       "  'Response': 'Buffer Read at 2019-01-25T00:30:09.230000',\n",
       "  'Timestamp': '2019-01-25T00:30:09.230000'},\n",
       " {'Action': 'self.write',\n",
       "  'Argument': 'SENS:AVER?',\n",
       "  'Response': None,\n",
       "  'Timestamp': '2019-01-25T00:30:09.231000'},\n",
       " {'Action': 'self.read',\n",
       "  'Argument': None,\n",
       "  'Response': 'Buffer Read at 2019-01-25T00:30:09.231000',\n",
       "  'Timestamp': '2019-01-25T00:30:09.231000'},\n",
       " {'Action': 'self.write',\n",
       "  'Argument': 'SENS:BAND?',\n",
       "  'Response': None,\n",
       "  'Timestamp': '2019-01-25T00:30:09.232000'},\n",
       " {'Action': 'self.read',\n",
       "  'Argument': None,\n",
       "  'Response': 'Buffer Read at 2019-01-25T00:30:09.232000',\n",
       "  'Timestamp': '2019-01-25T00:30:09.232000'},\n",
       " {'Action': 'self.write',\n",
       "  'Argument': 'SENS:SWE:TYPE?',\n",
       "  'Response': None,\n",
       "  'Timestamp': '2019-01-25T00:30:09.233000'},\n",
       " {'Action': 'self.read',\n",
       "  'Argument': None,\n",
       "  'Response': 'Buffer Read at 2019-01-25T00:30:09.233000',\n",
       "  'Timestamp': '2019-01-25T00:30:09.233000'},\n",
       " {'Action': 'self.write',\n",
       "  'Argument': 'SENS:CORR:STAT?',\n",
       "  'Response': None,\n",
       "  'Timestamp': '2019-01-25T00:30:09.234000'},\n",
       " {'Action': 'self.read',\n",
       "  'Argument': None,\n",
       "  'Response': 'Buffer Read at 2019-01-25T00:30:09.234000',\n",
       "  'Timestamp': '2019-01-25T00:30:09.234000'},\n",
       " {'Action': 'self.write',\n",
       "  'Argument': 'SOUR:POW?',\n",
       "  'Response': None,\n",
       "  'Timestamp': '2019-01-25T00:30:09.235000'},\n",
       " {'Action': 'self.read',\n",
       "  'Argument': None,\n",
       "  'Response': 'Buffer Read at 2019-01-25T00:30:09.235000',\n",
       "  'Timestamp': '2019-01-25T00:30:09.235000'},\n",
       " {'Action': 'self.write',\n",
       "  'Argument': 'SOUR:POW:CORR:STAT?',\n",
       "  'Response': None,\n",
       "  'Timestamp': '2019-01-25T00:30:09.236000'},\n",
       " {'Action': 'self.read',\n",
       "  'Argument': None,\n",
       "  'Response': 'Buffer Read at 2019-01-25T00:30:09.236000',\n",
       "  'Timestamp': '2019-01-25T00:30:09.236000'},\n",
       " {'Action': 'self.write',\n",
       "  'Argument': 'SOUR:POW:SLOP?',\n",
       "  'Response': None,\n",
       "  'Timestamp': '2019-01-25T00:30:09.237000'},\n",
       " {'Action': 'self.read',\n",
       "  'Argument': None,\n",
       "  'Response': 'Buffer Read at 2019-01-25T00:30:09.237000',\n",
       "  'Timestamp': '2019-01-25T00:30:09.237000'},\n",
       " {'Action': 'self.write',\n",
       "  'Argument': 'SENS:AVER?',\n",
       "  'Response': None,\n",
       "  'Timestamp': '2019-01-25T00:30:15.559000'},\n",
       " {'Action': 'self.read',\n",
       "  'Argument': None,\n",
       "  'Response': 'Buffer Read at 2019-01-25T00:30:15.559000',\n",
       "  'Timestamp': '2019-01-25T00:30:15.559000'},\n",
       " {'Action': 'self.write',\n",
       "  'Argument': 'SENS:BAND?',\n",
       "  'Response': None,\n",
       "  'Timestamp': '2019-01-25T00:30:15.560000'},\n",
       " {'Action': 'self.read',\n",
       "  'Argument': None,\n",
       "  'Response': 'Buffer Read at 2019-01-25T00:30:15.560000',\n",
       "  'Timestamp': '2019-01-25T00:30:15.560000'},\n",
       " {'Action': 'self.write',\n",
       "  'Argument': 'SENS:SWE:TYPE?',\n",
       "  'Response': None,\n",
       "  'Timestamp': '2019-01-25T00:30:15.561000'},\n",
       " {'Action': 'self.read',\n",
       "  'Argument': None,\n",
       "  'Response': 'Buffer Read at 2019-01-25T00:30:15.561000',\n",
       "  'Timestamp': '2019-01-25T00:30:15.561000'},\n",
       " {'Action': 'self.write',\n",
       "  'Argument': 'SENS:CORR:STAT?',\n",
       "  'Response': None,\n",
       "  'Timestamp': '2019-01-25T00:30:15.562000'},\n",
       " {'Action': 'self.read',\n",
       "  'Argument': None,\n",
       "  'Response': 'Buffer Read at 2019-01-25T00:30:15.562000',\n",
       "  'Timestamp': '2019-01-25T00:30:15.562000'},\n",
       " {'Action': 'self.write',\n",
       "  'Argument': 'SOUR:POW?',\n",
       "  'Response': None,\n",
       "  'Timestamp': '2019-01-25T00:30:15.563000'},\n",
       " {'Action': 'self.read',\n",
       "  'Argument': None,\n",
       "  'Response': 'Buffer Read at 2019-01-25T00:30:15.563000',\n",
       "  'Timestamp': '2019-01-25T00:30:15.563000'},\n",
       " {'Action': 'self.write',\n",
       "  'Argument': 'SOUR:POW:CORR:STAT?',\n",
       "  'Response': None,\n",
       "  'Timestamp': '2019-01-25T00:30:15.564000'},\n",
       " {'Action': 'self.read',\n",
       "  'Argument': None,\n",
       "  'Response': 'Buffer Read at 2019-01-25T00:30:15.564000',\n",
       "  'Timestamp': '2019-01-25T00:30:15.564000'},\n",
       " {'Action': 'self.write',\n",
       "  'Argument': 'SOUR:POW:SLOP?',\n",
       "  'Response': None,\n",
       "  'Timestamp': '2019-01-25T00:30:15.565000'},\n",
       " {'Action': 'self.read',\n",
       "  'Argument': None,\n",
       "  'Response': 'Buffer Read at 2019-01-25T00:30:15.565000',\n",
       "  'Timestamp': '2019-01-25T00:30:15.565000'},\n",
       " {'Action': 'self.write',\n",
       "  'Argument': 'MyFake:GPIB:COMMAND',\n",
       "  'Response': None,\n",
       "  'Timestamp': '2019-01-25T00:30:19.553000'}]"
      ]
     },
     "execution_count": 6,
     "metadata": {},
     "output_type": "execute_result"
    }
   ],
   "source": [
    "# The history attribute saves a log of all communication\n",
    "emulated_instrument.history"
   ]
  },
  {
   "cell_type": "code",
   "execution_count": 7,
   "metadata": {
    "collapsed": false
   },
   "outputs": [
    {
     "data": {
      "text/plain": [
       "True"
      ]
     },
     "execution_count": 7,
     "metadata": {},
     "output_type": "execute_result"
    }
   ],
   "source": [
    "# the emulation mode attribute is set to true so that derived classes can integrate it\n",
    "emulated_instrument.emulation_mode"
   ]
  }
 ],
 "metadata": {
  "kernelspec": {
   "display_name": "Python 2",
   "language": "python",
   "name": "python2"
  },
  "language_info": {
   "codemirror_mode": {
    "name": "ipython",
    "version": 2
   },
   "file_extension": ".py",
   "mimetype": "text/x-python",
   "name": "python",
   "nbconvert_exporter": "python",
   "pygments_lexer": "ipython2",
   "version": "2.7.13"
  }
 },
 "nbformat": 4,
 "nbformat_minor": 2
}
