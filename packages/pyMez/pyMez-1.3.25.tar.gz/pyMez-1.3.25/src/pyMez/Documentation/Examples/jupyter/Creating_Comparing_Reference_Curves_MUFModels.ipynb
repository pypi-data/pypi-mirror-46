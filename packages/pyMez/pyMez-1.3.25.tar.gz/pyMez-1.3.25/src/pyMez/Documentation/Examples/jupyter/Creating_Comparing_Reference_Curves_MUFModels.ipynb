{
 "cells": [
  {
   "cell_type": "markdown",
   "metadata": {},
   "source": [
    "# Creating and Comparing Reference Curves Using MUFModels\n",
    "The [Microwave Uncertainty Framework][MUF] (MUF) is a program developed at the National Institute of Standards and Technology (NIST) to deal with uncertainty propagation in high frequency electronics measurements. It has the ability to calculate uncertainties based on sensitivity analysis and Monte Carlo analysis. The package pyMez has many tools to deal independently with the MUF and data types associated with it. The majority of these are in the modules pyMez.Code.DataHandlers.MUFModels and pyMez.Code.Analysis.Sparameter. This notebook is an example of how to create a set of reference curves from the result of a MUF calculation. \n",
    "These results are typically organized as follows:\n",
    "1. A file with the .meas extension that acts as a table of contents, it is a XML file that points to the files in directories that are normally directly below the .meas file with the naming scheme  `<file_name>_Support` . \n",
    "2. A nominal solution, located in the top directory `<file_name>_Support`. This is the solution where each parameter of the model describing the process is taken to be the mean. This is what is traditionally used as the \"answer\".\n",
    "3. A directory for sensitivity results directly under the top directory `<file_name>_Support`. It follows the naming convention `<file_name>_Support\\Covariance`. Inside of the directory there will be a file for every mechanism of uncertainty in the process. Each of these files is the result of assuming all but one of the mechanisms is the mean. One mechanism is assumed to be the mean + the standard uncertainty. The only way to associate the number of the file to the mechanism is via the .meas file.   \n",
    "4. A directory for Monte Carlo results directly under the top directory `<file_name>_Support`.It follows the naming convention `<file_name>_Support\\MonteCarlo`. Inside of the directory there will be a file for each Monte Carlo trial. Each of these files is the result randomly selecting each parameter of the model describing the process from a distribution set by the user. All values change for every trial, there is currently no way to extract the chosen parameter values from the saved files. \n",
    "5. A directory containing any needed presolution. \n",
    "\n",
    "\n",
    "[MUF]:https://www.nist.gov/services-resources/software/wafer-calibration-software"
   ]
  },
  {
   "cell_type": "code",
   "execution_count": 1,
   "metadata": {
    "collapsed": false
   },
   "outputs": [
    {
     "name": "stdout",
     "output_type": "stream",
     "text": [
      "Importing pyMez, this should take roughly 30 seconds\n",
      "Importing Code.DataHandlers.GeneralModels\n",
      "It took 3.21 s to import Code.DataHandlers.GeneralModels\n",
      "Importing Code.DataHandlers.HTMLModels\n",
      "It took 0.45 s to import Code.DataHandlers.HTMLModels\n",
      "Importing Code.DataHandlers.NISTModels\n",
      "It took 6.371 s to import Code.DataHandlers.NISTModels\n",
      "Importing Code.DataHandlers.TouchstoneModels\n",
      "It took 0.006 s to import Code.DataHandlers.TouchstoneModels\n",
      "Importing Code.DataHandlers.XMLModels\n",
      "It took 0.205 s to import Code.DataHandlers.XMLModels\n",
      "Importing Code.DataHandlers.ZipModels\n",
      "It took 0.018 s to import Code.DataHandlers.ZipModels\n",
      "Importing Code.InstrumentControl.Experiments\n",
      "It took 1.026 s to import Code.InstrumentControl.Experiments\n",
      "Importing Code.InstrumentControl.Instruments\n",
      "It took 0.009 s to import Code.InstrumentControl.Instruments\n",
      "Importing Code.Utils.Names\n",
      "It took 0.007 s to import Code.Utils.Names\n",
      "It took 11.302 s to import all of the active modules\n"
     ]
    }
   ],
   "source": [
    "# First we import pyMez\n",
    "from pyMez import *"
   ]
  },
  {
   "cell_type": "code",
   "execution_count": null,
   "metadata": {
    "collapsed": false
   },
   "outputs": [
    {
     "name": "stdout",
     "output_type": "stream",
     "text": [
      "Code.Analysis.Fitting import is set to False\n",
      "Code.Analysis.GeneralAnalysis import is set to False\n",
      "Code.Analysis.Interpolation import is set to False\n",
      "Code.Analysis.NISTUncertainty import is set to False\n",
      "Code.Analysis.Reports import is set to False\n",
      "Code.Analysis.SParameter import is set to False\n",
      "Code.Analysis.Transformations import is set to False\n",
      "Code.Analysis.Uncertainty import is set to False\n",
      "Code.DataHandlers.AbstractDjangoModels import is set to False\n",
      "Code.DataHandlers.GeneralModels import is set to True\n",
      "Code.DataHandlers.GraphModels import is set to False\n",
      "Code.DataHandlers.HTMLModels import is set to True\n",
      "Code.DataHandlers.MUFModels import is set to False\n",
      "Code.DataHandlers.NISTModels import is set to True\n",
      "Code.DataHandlers.RadiCALModels import is set to False\n",
      "Code.DataHandlers.StatistiCALModels import is set to False\n",
      "Code.DataHandlers.TouchstoneModels import is set to True\n",
      "Code.DataHandlers.Translations import is set to False\n",
      "Code.DataHandlers.XMLModels import is set to True\n",
      "Code.DataHandlers.ZipModels import is set to True\n",
      "Code.FrontEnds.AdvancedInterfaceFrame import is set to False\n",
      "Code.FrontEnds.BasicInterfaceFrame import is set to False\n",
      "Code.FrontEnds.EndOfDayDialog import is set to False\n",
      "Code.FrontEnds.GeneralInterfaceFrame import is set to False\n",
      "Code.FrontEnds.HTMLPanel import is set to False\n",
      "Code.FrontEnds.IEPanel import is set to False\n",
      "Code.FrontEnds.IPythonPanel import is set to False\n",
      "Code.FrontEnds.KeithleyIVPanel import is set to False\n",
      "Code.FrontEnds.MatplotlibWxPanel import is set to False\n",
      "Code.FrontEnds.ShellPanel import is set to False\n",
      "Code.FrontEnds.SimpleArbDBLowerInterfacePanel import is set to False\n",
      "Code.FrontEnds.SimpleLogLowerInterfacePanel import is set to False\n",
      "Code.FrontEnds.StyledTextCtrlPanel import is set to False\n",
      "Code.FrontEnds.VisaDialog import is set to False\n",
      "Code.FrontEnds.WxDialogFunctions import is set to False\n",
      "Code.FrontEnds.WxHTML2Panel import is set to False\n",
      "Code.FrontEnds.XMLEditPanel import is set to False\n",
      "Code.FrontEnds.XMLGeneral import is set to False\n",
      "Code.InstrumentControl.Experiments import is set to True\n",
      "Code.InstrumentControl.Instruments import is set to True\n",
      "Code.Utils.Alias import is set to False\n",
      "Code.Utils.DjangoUtils import is set to False\n",
      "Code.Utils.GetMetadata import is set to False\n",
      "Code.Utils.HPBasicUtils import is set to False\n",
      "Code.Utils.HelpUtils import is set to False\n",
      "Code.Utils.Names import is set to True\n",
      "Code.Utils.PerformanceUtils import is set to False\n",
      "Code.Utils.pyMezUnitTest import is set to False\n"
     ]
    }
   ],
   "source": [
    "# above there is a list of modules imported all of the modules are listed in the API_MODULES constant\n",
    "for module in sorted(API_MODULES.keys()):\n",
    "    print(\"{0} import is set to {1}\".format(module,API_MODULES[module]))"
   ]
  },
  {
   "cell_type": "code",
   "execution_count": null,
   "metadata": {
    "collapsed": false
   },
   "outputs": [],
   "source": [
    "# now we want to import pyMez.Code.DataHandlers.MUFModels, and pyMez.Code.Analysis.Sparameter\n",
    "# Because pyMez.Code.Analysis.SParameter contains a lot of references to other code it takes a bit to import\n",
    "from pyMez.Code.DataHandlers.MUFModels import *\n",
    "from pyMez.Code.Analysis.SParameter import *"
   ]
  },
  {
   "cell_type": "code",
   "execution_count": null,
   "metadata": {
    "collapsed": true
   },
   "outputs": [],
   "source": [
    "# to import the nominal file we use the SNP data type \n",
    "# in module pyMez.Code.DataHandlers.TouchstoneModels, because it is an s2p file\n",
    "nominal_path=os.path.join(os.getcwd(),\n",
    "                          \"MUFModels_Example_Files/WR15_Line_5079_WR15_20180223_002_Support\",\n",
    "                          \"WR15_Line_5079_WR15_20180223_002_0.s2p\")\n",
    "nominal=SNP(nominal_path)"
   ]
  },
  {
   "cell_type": "code",
   "execution_count": null,
   "metadata": {
    "collapsed": false
   },
   "outputs": [],
   "source": [
    "# to see a basic plot use the method .show()\n",
    "nominal.show();"
   ]
  },
  {
   "cell_type": "code",
   "execution_count": null,
   "metadata": {
    "collapsed": true
   },
   "outputs": [],
   "source": [
    "# if we want a curve with uncertanties we can use \n",
    "covariance_directory=os.path.join(os.getcwd(),\"MUFModels_Example_Files\\WR15_Line_5079_WR15_20180223_002_Support\\Covariance\")\n",
    "sensitivity=create_sensitivity_reference_curve(nominal_file_path=nominal_path,\n",
    "                                               sensitivity_directory=covariance_directory)\n"
   ]
  },
  {
   "cell_type": "code",
   "execution_count": null,
   "metadata": {
    "collapsed": false
   },
   "outputs": [],
   "source": [
    "# now to plot the curve we use plot_reference_curve\n",
    "# note we use this instead of a built in show because the class of the reference curve is a general AsciiDataTable\n",
    "plot_reference_curve(sensitivity);"
   ]
  },
  {
   "cell_type": "code",
   "execution_count": null,
   "metadata": {
    "collapsed": true
   },
   "outputs": [],
   "source": [
    "# to create a curve of the statistically biased mean and the montecarlo uncertainties, \n",
    "#this tends to be slow for large montecarlo sets \n",
    "montecarlo_directory=os.path.join(os.getcwd(),r\"MUFModels_Example_Files\\WR15_Line_5079_WR15_20180223_002_Support\\MonteCarlo\")\n",
    "montecarlo=create_monte_carlo_reference_curve(monte_carlo_directory=montecarlo_directory)"
   ]
  },
  {
   "cell_type": "code",
   "execution_count": null,
   "metadata": {
    "collapsed": false
   },
   "outputs": [],
   "source": [
    "plot_reference_curve(montecarlo);"
   ]
  },
  {
   "cell_type": "code",
   "execution_count": null,
   "metadata": {
    "collapsed": false
   },
   "outputs": [],
   "source": [
    "# each of these commands also has a format option that allows you to plot it in MA, DB, or RI\n",
    "sensitivity_MA=create_sensitivity_reference_curve(nominal_file_path=nominal_path,\n",
    "                                               sensitivity_directory=covariance_directory,\n",
    "                                                 format=\"MA\")\n",
    "montecarlo_MA=create_monte_carlo_reference_curve(monte_carlo_directory=montecarlo_directory,\n",
    "                                                format=\"MA\")\n",
    "plot_reference_curve(sensitivity_MA);\n",
    "plot_reference_curve(montecarlo_MA);"
   ]
  },
  {
   "cell_type": "code",
   "execution_count": null,
   "metadata": {
    "collapsed": false
   },
   "outputs": [],
   "source": [
    "# now it is typicall to compare one of the curves say the mean amplitude of magS21 with the statistical bias one\n",
    "plt.plot(montecarlo_MA[\"Frequency\"],np.array(montecarlo_MA[\"magS21\"])-np.array(sensitivity_MA[\"magS21\"]))\n",
    "plt.show();"
   ]
  },
  {
   "cell_type": "code",
   "execution_count": null,
   "metadata": {
    "collapsed": false
   },
   "outputs": [],
   "source": [
    "# Each of the reference tables is a AsciiDataTable, effectively a csv type class. You can retrieve \n",
    "# a list of values by using the column name as an  index\n",
    "montecarlo_MA.column_names"
   ]
  },
  {
   "cell_type": "code",
   "execution_count": null,
   "metadata": {
    "collapsed": false
   },
   "outputs": [],
   "source": [
    "# to add error bars you can use plt.errorbar\n",
    "plt.errorbar(x=montecarlo_MA[\"Frequency\"],y=montecarlo_MA[\"magS21\"],yerr=montecarlo_MA[\"umagS21\"],label=\"MonteCarlo\")\n",
    "plt.errorbar(x=sensitivity_MA[\"Frequency\"],y=sensitivity_MA[\"magS21\"],yerr=sensitivity_MA[\"umagS21\"],label=\"Sensitivity\")\n",
    "plt.ylabel(\"S21\")\n",
    "plt.xlabel(\"Frequency (GHz)\")\n",
    "plt.legend()\n",
    "plt.show()"
   ]
  },
  {
   "cell_type": "code",
   "execution_count": null,
   "metadata": {
    "collapsed": false
   },
   "outputs": [],
   "source": [
    "#fill_between is also useful\n",
    "sensitivity_y=np.array( sensitivity_MA[\"magS21\"])\n",
    "sensitivity_err=np.array( sensitivity_MA[\"umagS21\"])\n",
    "plt.plot(sensitivity_MA[\"Frequency\"],sensitivity_y, label=\"Sensitivity\")\n",
    "plt.fill_between(sensitivity_MA[\"Frequency\"], sensitivity_y - sensitivity_err, sensitivity_y + sensitivity_err,\n",
    "                        color='blue',\n",
    "                        alpha=.25,\n",
    "                        edgecolor='black')\n",
    "\n",
    "montecarlo_y=np.array( montecarlo_MA[\"magS21\"])\n",
    "montecarlo_err=np.array( montecarlo_MA[\"umagS21\"])\n",
    "plt.plot(montecarlo_MA[\"Frequency\"],montecarlo_y, label=\"MonteCarlo\")\n",
    "plt.fill_between(montecarlo_MA[\"Frequency\"], montecarlo_y - montecarlo_err, montecarlo_y + montecarlo_err,\n",
    "                        color='red',\n",
    "                        alpha=.25,\n",
    "                        edgecolor='black')\n",
    "plt.ylabel(\"S21\")\n",
    "plt.xlabel(\"Frequency (GHz)\")\n",
    "plt.legend()\n",
    "plt.show()\n"
   ]
  },
  {
   "cell_type": "code",
   "execution_count": null,
   "metadata": {
    "collapsed": false
   },
   "outputs": [],
   "source": [
    "# to inspect the .meas (xml) file directly we can use\n",
    "measurement_path=os.path.join(os.getcwd(),r\"MUFModels_Example_Files\\WR15_Line_5079_WR15_20180223_002.meas\")\n",
    "measurement=MUFMeasurement(measurement_path)"
   ]
  },
  {
   "cell_type": "code",
   "execution_count": null,
   "metadata": {
    "collapsed": false
   },
   "outputs": [],
   "source": [
    "# to look at the mechanism names versus sensitivity names\n",
    "measurement.get_name_parameter_dictionary()"
   ]
  },
  {
   "cell_type": "code",
   "execution_count": null,
   "metadata": {
    "collapsed": false
   },
   "outputs": [],
   "source": [
    "# to look at the pointers for the sensitivty\n",
    "measurement.get_covariance_dictionary()"
   ]
  },
  {
   "cell_type": "code",
   "execution_count": null,
   "metadata": {
    "collapsed": false
   },
   "outputs": [],
   "source": [
    "# to look at the pointers for the montecarlo\n",
    "measurement.get_montecarlo_dictionary()"
   ]
  }
 ],
 "metadata": {
  "kernelspec": {
   "display_name": "Python 2",
   "language": "python",
   "name": "python2"
  },
  "language_info": {
   "codemirror_mode": {
    "name": "ipython",
    "version": 2
   },
   "file_extension": ".py",
   "mimetype": "text/x-python",
   "name": "python",
   "nbconvert_exporter": "python",
   "pygments_lexer": "ipython2",
   "version": "2.7.13"
  }
 },
 "nbformat": 4,
 "nbformat_minor": 2
}
