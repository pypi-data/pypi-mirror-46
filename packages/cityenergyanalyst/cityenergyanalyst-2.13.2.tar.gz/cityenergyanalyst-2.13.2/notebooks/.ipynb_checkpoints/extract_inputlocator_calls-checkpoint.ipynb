{
 "cells": [
  {
   "cell_type": "markdown",
   "metadata": {
    "collapsed": true
   },
   "source": [
    "# Extract InputLocator calls"
   ]
  },
  {
   "cell_type": "markdown",
   "metadata": {},
   "source": [
    "#### Author : Daren Thomas\n",
    "#### Intent : To use this information to figure out what input/output files are used by each module\n",
    "#### Date : January, 2017"
   ]
  },
  {
   "cell_type": "markdown",
   "metadata": {},
   "source": [
    "## Operation emissions"
   ]
  },
  {
   "cell_type": "code",
   "execution_count": 4,
   "metadata": {
    "collapsed": false
   },
   "outputs": [
    {
     "name": "stdout",
     "output_type": "stream",
     "text": [
      "(cea.analysis.operation.lca_operation, cea.inputlocator.InputLocator.get_total_demand)\n",
      "(cea.inputlocator.InputLocator.get_total_demand, cea.inputlocator.InputLocator.get_demand_results_folder)\n",
      "(cea.inputlocator.InputLocator.get_demand_results_folder, cea.inputlocator._ensure_folder)\n",
      "(cea.analysis.operation.lca_operation, cea.inputlocator.InputLocator.get_building_supply)\n",
      "(cea.analysis.operation.lca_operation, cea.inputlocator.InputLocator.get_life_cycle_inventory_supply_systems)\n",
      "(cea.analysis.operation.lca_operation, cea.inputlocator.InputLocator.get_lca_emissions_results_folder)\n",
      "(cea.analysis.operation.lca_operation, cea.inputlocator.InputLocator.get_lca_operation)\n",
      "(cea.inputlocator.InputLocator.get_lca_operation, cea.inputlocator.InputLocator.get_lca_emissions_results_folder)\n"
     ]
    }
   ],
   "source": [
    "run bin/create_function_graph.py -f emissions -s docs/scenario_folder/emissions.trace.pickle"
   ]
  },
  {
   "cell_type": "code",
   "execution_count": 5,
   "metadata": {
    "collapsed": true
   },
   "outputs": [],
   "source": [
    "import pickle\n",
    "import cea.inputlocator\n",
    "import pandas as pd\n",
    "\n",
    "trace_data = pickle.load(file=open('docs/scenario_folder/emissions.trace.pickle', 'r'))\n",
    "all_nodes = set(td[1].fqname for td in trace_data if not td[0].fqname.startswith('cea.inputlocator.InputLocator'))\n",
    "locator_funcs = [n for n in all_nodes if n.startswith('cea.inputlocator.InputLocator')]\n",
    "file_names = [eval(f).__doc__ for f in locator_funcs]"
   ]
  },
  {
   "cell_type": "code",
   "execution_count": 6,
   "metadata": {
    "collapsed": false
   },
   "outputs": [
    {
     "data": {
      "text/plain": [
       "['scenario/outputs/data/emissions',\n",
       " 'scenario/outputs/data/emissions/Total_LCA_operation.csv',\n",
       " 'scenario/outputs/data/demand/Total_demand.csv',\n",
       " 'scenario/inputs/building-properties/building_supply.shp',\n",
       " 'db/Systems/supply_systems.csv']"
      ]
     },
     "execution_count": 6,
     "metadata": {},
     "output_type": "execute_result"
    }
   ],
   "source": [
    "file_names"
   ]
  },
  {
   "cell_type": "code",
   "execution_count": 7,
   "metadata": {
    "collapsed": false
   },
   "outputs": [
    {
     "data": {
      "text/plain": [
       "['cea.inputlocator.InputLocator.get_lca_emissions_results_folder',\n",
       " 'cea.inputlocator.InputLocator.get_lca_operation',\n",
       " 'cea.inputlocator.InputLocator.get_total_demand',\n",
       " 'cea.inputlocator.InputLocator.get_building_supply',\n",
       " 'cea.inputlocator.InputLocator.get_life_cycle_inventory_supply_systems']"
      ]
     },
     "execution_count": 7,
     "metadata": {},
     "output_type": "execute_result"
    }
   ],
   "source": [
    "locator_funcs"
   ]
  },
  {
   "cell_type": "markdown",
   "metadata": {},
   "source": [
    "## Embodied energy"
   ]
  },
  {
   "cell_type": "code",
   "execution_count": 11,
   "metadata": {
    "collapsed": false
   },
   "outputs": [
    {
     "name": "stdout",
     "output_type": "stream",
     "text": [
      "(cea.analysis.embodied.lca_embodied, cea.inputlocator.InputLocator.get_building_architecture)\n",
      "(cea.analysis.embodied.lca_embodied, cea.inputlocator.InputLocator.get_building_occupancy)\n",
      "(cea.analysis.embodied.lca_embodied, cea.inputlocator.InputLocator.get_building_age)\n",
      "(cea.analysis.embodied.lca_embodied, cea.inputlocator.InputLocator.get_building_geometry)\n",
      "(cea.analysis.embodied.lca_embodied, cea.analysis.embodied.calc_mainuse)\n",
      "(cea.analysis.embodied.calc_mainuse, cea.analysis.embodied.calc_comparison)\n",
      "(cea.analysis.embodied.lca_embodied, cea.analysis.embodied.<lambda>)\n",
      "(cea.analysis.embodied.<lambda>, cea.analysis.embodied.calc_category_construction)\n",
      "(cea.analysis.embodied.<lambda>, cea.analysis.embodied.calc_category_retrofit)\n",
      "(cea.analysis.embodied.lca_embodied, cea.analysis.embodied.calculate_contributions)\n",
      "(cea.analysis.embodied.calculate_contributions, cea.inputlocator.InputLocator.get_archetypes_properties)\n",
      "(cea.analysis.embodied.calculate_contributions, cea.analysis.embodied.<lambda>)\n",
      "(cea.analysis.embodied.<lambda>, cea.analysis.embodied.calc_if_existing)\n",
      "(cea.analysis.embodied.lca_embodied, cea.inputlocator.InputLocator.get_lca_embodied)\n",
      "(cea.inputlocator.InputLocator.get_lca_embodied, cea.inputlocator.InputLocator.get_lca_emissions_results_folder)\n",
      "done!\n"
     ]
    }
   ],
   "source": [
    "run bin/create_function_graph.py -f embodied_energy -s docs/scenario_folder/embodied_energy.trace.pickle"
   ]
  },
  {
   "cell_type": "code",
   "execution_count": 14,
   "metadata": {
    "collapsed": false
   },
   "outputs": [
    {
     "data": {
      "text/plain": [
       "['scenario/inputs/building-properties/building_occupancy.shp',\n",
       " 'scenario/inputs/building-properties/architecture.shp\\n        This file is generated by the properties script.\\n        This file is used in the embodied energy script (cea/embodied.py)\\n        and the demand script (cea/demand_main.py)',\n",
       " 'scenario/inputs/building-properties/age.shp',\n",
       " 'scenario/inputs/building-geometry/zone.shp',\n",
       " 'db/Archetypes/Archetypes_properties.xlsx\\n        path to database of archetypes file Archetypes_properties.xlsx',\n",
       " 'scenario/outputs/data/emissions/Total_LCA_embodied.csv']"
      ]
     },
     "execution_count": 14,
     "metadata": {},
     "output_type": "execute_result"
    }
   ],
   "source": [
    "trace_data = pickle.load(file=open('docs/scenario_folder/embodied_energy.trace.pickle', 'r'))\n",
    "all_nodes = set(td[1].fqname for td in trace_data if not td[0].fqname.startswith('cea.inputlocator.InputLocator'))\n",
    "locator_funcs = [n for n in all_nodes if n.startswith('cea.inputlocator.InputLocator')]\n",
    "file_names = [eval(f).__doc__ for f in locator_funcs]\n",
    "file_names"
   ]
  },
  {
   "cell_type": "code",
   "execution_count": 25,
   "metadata": {
    "collapsed": false
   },
   "outputs": [
    {
     "name": "stdout",
     "output_type": "stream",
     "text": [
      "* `scenario/inputs/building-properties/building_occupancy.shp` -> `cea.inputlocator.InputLocator.get_building_occupancy`\n",
      "* `scenario/inputs/building-properties/architecture.shp\n",
      "        This file is generated by the properties script.\n",
      "        This file is used in the embodied energy script (cea/embodied.py)\n",
      "        and the demand script (cea/demand_main.py)` -> `cea.inputlocator.InputLocator.get_building_architecture`\n",
      "* `scenario/inputs/building-properties/age.shp` -> `cea.inputlocator.InputLocator.get_building_age`\n",
      "* `scenario/inputs/building-geometry/zone.shp` -> `cea.inputlocator.InputLocator.get_building_geometry`\n",
      "* `db/Archetypes/Archetypes_properties.xlsx\n",
      "        path to database of archetypes file Archetypes_properties.xlsx` -> `cea.inputlocator.InputLocator.get_archetypes_properties`\n",
      "* `scenario/outputs/data/emissions/Total_LCA_embodied.csv` -> `cea.inputlocator.InputLocator.get_lca_embodied`\n"
     ]
    }
   ],
   "source": [
    "print '\\n'.join('* `%s` -> `%s`' % (f, l)  for f, l in zip(file_names, locator_funcs))"
   ]
  },
  {
   "cell_type": "heading",
   "level": 2,
   "metadata": {},
   "source": []
  },
  {
   "cell_type": "markdown",
   "metadata": {},
   "source": [
    "## Benchmark graphs"
   ]
  },
  {
   "cell_type": "code",
   "execution_count": 27,
   "metadata": {
    "collapsed": false
   },
   "outputs": [
    {
     "name": "stdout",
     "output_type": "stream",
     "text": [
      "(cea.analysis.benchmark.benchmark, cea.analysis.benchmark.calc_benchmark_targets)\n",
      "(cea.analysis.benchmark.calc_benchmark_targets, cea.inputlocator.InputLocator.get_total_demand)\n",
      "(cea.inputlocator.InputLocator.get_total_demand, cea.inputlocator.InputLocator.get_demand_results_folder)\n",
      "(cea.inputlocator.InputLocator.get_demand_results_folder, cea.inputlocator._ensure_folder)\n",
      "(cea.analysis.benchmark.calc_benchmark_targets, cea.inputlocator.InputLocator.get_building_occupancy)\n",
      "(cea.analysis.benchmark.calc_benchmark_targets, cea.inputlocator.InputLocator.get_data_benchmark)\n",
      "(cea.analysis.benchmark.benchmark, cea.analysis.benchmark.calc_benchmark_today)\n",
      "(cea.analysis.benchmark.calc_benchmark_today, cea.inputlocator.InputLocator.get_total_demand)\n",
      "(cea.analysis.benchmark.calc_benchmark_today, cea.inputlocator.InputLocator.get_building_occupancy)\n",
      "(cea.analysis.benchmark.calc_benchmark_today, cea.inputlocator.InputLocator.get_data_benchmark_today)\n",
      "(cea.analysis.benchmark.benchmark, cea.inputlocator.InputLocator.get_total_demand)\n",
      "(cea.analysis.benchmark.benchmark, cea.inputlocator.InputLocator.get_lca_embodied)\n",
      "(cea.inputlocator.InputLocator.get_lca_embodied, cea.inputlocator.InputLocator.get_lca_emissions_results_folder)\n",
      "(cea.analysis.benchmark.benchmark, cea.inputlocator.InputLocator.get_lca_operation)\n",
      "(cea.inputlocator.InputLocator.get_lca_operation, cea.inputlocator.InputLocator.get_lca_emissions_results_folder)\n",
      "(cea.analysis.benchmark.benchmark, cea.inputlocator.InputLocator.get_lca_mobility)\n",
      "(cea.inputlocator.InputLocator.get_lca_mobility, cea.inputlocator.InputLocator.get_lca_emissions_results_folder)\n"
     ]
    }
   ],
   "source": [
    "run bin/create_function_graph.py -f benchmark_graphs -s docs/scenario_folder/benchmark_graphs.trace.pickle"
   ]
  },
  {
   "cell_type": "code",
   "execution_count": 33,
   "metadata": {
    "collapsed": false
   },
   "outputs": [
    {
     "name": "stdout",
     "output_type": "stream",
     "text": [
      "* `scenario/outputs/data/emissions/Total_LCA_mobility.csv` -> `cea.inputlocator.InputLocator.get_lca_mobility`\n",
      "* `db/Benchmarks/benchmark_targets.xls` -> `cea.inputlocator.InputLocator.get_data_benchmark`\n",
      "* `scenario/outputs/data/demand/Total_demand.csv` -> `cea.inputlocator.InputLocator.get_total_demand`\n",
      "* `scenario/inputs/building-properties/building_occupancy.shp` -> `cea.inputlocator.InputLocator.get_building_occupancy`\n",
      "* `db/Benchmarks/benchmark_today.xls` -> `cea.inputlocator.InputLocator.get_data_benchmark_today`\n",
      "* `scenario/outputs/data/emissions/Total_LCA_operation.csv` -> `cea.inputlocator.InputLocator.get_lca_operation`\n",
      "* `scenario/outputs/data/emissions/Total_LCA_embodied.csv` -> `cea.inputlocator.InputLocator.get_lca_embodied`\n"
     ]
    }
   ],
   "source": [
    "trace_data = pickle.load(file=open('docs/scenario_folder/benchmark_graphs.trace.pickle', 'r'))\n",
    "all_nodes = set(td[1].fqname for td in trace_data if not td[0].fqname.startswith('cea.inputlocator.InputLocator'))\n",
    "locator_funcs = [n for n in all_nodes if n.startswith('cea.inputlocator.InputLocator')]\n",
    "file_names = [eval(f).__doc__ for f in locator_funcs]\n",
    "print '\\n'.join('* `%s` -> `%s`' % (f, l) for f, l in zip(file_names, locator_funcs))"
   ]
  },
  {
   "cell_type": "markdown",
   "metadata": {},
   "source": [
    "## Data helper"
   ]
  },
  {
   "cell_type": "code",
   "execution_count": 29,
   "metadata": {
    "collapsed": false
   },
   "outputs": [
    {
     "name": "stdout",
     "output_type": "stream",
     "text": [
      "(cea.demand.preprocessing.properties.properties, cea.inputlocator.InputLocator.get_building_occupancy)\n",
      "(cea.demand.preprocessing.properties.properties, cea.inputlocator.InputLocator.get_building_age)\n",
      "(cea.demand.preprocessing.properties.properties, cea.demand.preprocessing.properties.calc_mainuse)\n",
      "(cea.demand.preprocessing.properties.calc_mainuse, cea.demand.preprocessing.properties.calc_comparison)\n",
      "(cea.demand.preprocessing.properties.properties, cea.inputlocator.InputLocator.get_archetypes_properties)\n",
      "(cea.demand.preprocessing.properties.properties, cea.demand.preprocessing.properties.get_database)\n",
      "(cea.demand.preprocessing.properties.properties, cea.demand.preprocessing.properties.<lambda>)\n",
      "(cea.demand.preprocessing.properties.<lambda>, cea.demand.preprocessing.properties.calc_category)\n",
      "(cea.demand.preprocessing.properties.properties, cea.inputlocator.InputLocator.get_building_thermal)\n",
      "(cea.demand.preprocessing.properties.properties, cea.inputlocator.InputLocator.get_building_architecture)\n",
      "(cea.demand.preprocessing.properties.properties, cea.inputlocator.InputLocator.get_building_hvac)\n",
      "(cea.demand.preprocessing.properties.properties, cea.inputlocator.InputLocator.get_building_comfort)\n",
      "(cea.demand.preprocessing.properties.properties, cea.inputlocator.InputLocator.get_building_internal)\n"
     ]
    }
   ],
   "source": [
    "run bin/create_function_graph.py -f data_helper -s docs/scenario_folder/data_helper.trace.pickle"
   ]
  },
  {
   "cell_type": "code",
   "execution_count": 34,
   "metadata": {
    "collapsed": false
   },
   "outputs": [
    {
     "name": "stdout",
     "output_type": "stream",
     "text": [
      "* `scenario/inputs/building-properties/internal_loads.shp` -> `cea.inputlocator.InputLocator.get_building_internal`\n",
      "* `scenario/inputs/building-properties/architecture.shp\n",
      "        This file is generated by the properties script.\n",
      "        This file is used in the embodied energy script (cea/embodied.py)\n",
      "        and the demand script (cea/demand_main.py)` -> `cea.inputlocator.InputLocator.get_building_architecture`\n",
      "* `scenario/inputs/building-properties/building_occupancy.shp` -> `cea.inputlocator.InputLocator.get_building_occupancy`\n",
      "* `scenario/inputs/building-properties/age.shp` -> `cea.inputlocator.InputLocator.get_building_age`\n",
      "* `db/Archetypes/Archetypes_properties.xlsx\n",
      "        path to database of archetypes file Archetypes_properties.xlsx` -> `cea.inputlocator.InputLocator.get_archetypes_properties`\n",
      "* `scenario/inputs/building-properties/thermal_properties.shp` -> `cea.inputlocator.InputLocator.get_building_thermal`\n",
      "* `scenario/inputs/building-properties/technical_systems.shp` -> `cea.inputlocator.InputLocator.get_building_hvac`\n",
      "* `scenario/inputs/building-properties/indoor_comfort.shp'` -> `cea.inputlocator.InputLocator.get_building_comfort`\n"
     ]
    }
   ],
   "source": [
    "trace_data = pickle.load(file=open('docs/scenario_folder/data_helper.trace.pickle', 'r'))\n",
    "all_nodes = set(td[1].fqname for td in trace_data if not td[0].fqname.startswith('cea.inputlocator.InputLocator'))\n",
    "locator_funcs = [n for n in all_nodes if n.startswith('cea.inputlocator.InputLocator')]\n",
    "file_names = [eval(f).__doc__ for f in locator_funcs]\n",
    "print '\\n'.join('* `%s` -> `%s`' % (f, l) for f, l in zip(file_names, locator_funcs))"
   ]
  },
  {
   "cell_type": "markdown",
   "metadata": {},
   "source": [
    "## Demand graphs"
   ]
  },
  {
   "cell_type": "code",
   "execution_count": 37,
   "metadata": {
    "collapsed": false
   },
   "outputs": [
    {
     "name": "stdout",
     "output_type": "stream",
     "text": [
      "(cea.plots.graphs_demand.graphs_demand, cea.inputlocator.InputLocator.get_total_demand)\n",
      "(cea.inputlocator.InputLocator.get_total_demand, cea.inputlocator.InputLocator.get_demand_results_folder)\n",
      "(cea.inputlocator.InputLocator.get_demand_results_folder, cea.inputlocator._ensure_folder)\n",
      "(cea.plots.graphs_demand.graphs_demand, cea.plots.graphs_demand.create_demand_graph_for_building)\n",
      "(cea.plots.graphs_demand.create_demand_graph_for_building, cea.inputlocator.InputLocator.get_demand_plots_file)\n",
      "(cea.inputlocator.InputLocator.get_demand_plots_file, cea.inputlocator.InputLocator.get_demand_plots_folder)\n",
      "(cea.inputlocator.InputLocator.get_demand_plots_folder, cea.inputlocator._ensure_folder)\n",
      "(cea.plots.graphs_demand.create_demand_graph_for_building, cea.inputlocator.InputLocator.get_demand_results_file)\n",
      "(cea.inputlocator.InputLocator.get_demand_results_file, cea.inputlocator.InputLocator.get_demand_results_folder)\n",
      "(cea.plots.graphs_demand.graphs_demand, cea.globalvar.GlobalVariables.log)\n",
      "Building No. 1 completed out of 9\n",
      "Building No. 2 completed out of 9\n",
      "Building No. 3 completed out of 9\n",
      "Building No. 4 completed out of 9\n",
      "Building No. 5 completed out of 9\n",
      "Building No. 6 completed out of 9\n",
      "Building No. 7 completed out of 9\n",
      "Building No. 8 completed out of 9\n",
      "Building No. 9 completed out of 9\n"
     ]
    }
   ],
   "source": [
    "run bin/create_function_graph.py -f demand_graphs -s docs/scenario_folder/demand_graphs.trace.pickle"
   ]
  },
  {
   "cell_type": "code",
   "execution_count": 38,
   "metadata": {
    "collapsed": false
   },
   "outputs": [
    {
     "name": "stdout",
     "output_type": "stream",
     "text": [
      "* `scenario/outputs/data/demand/{building_name}.csv` -> `cea.inputlocator.InputLocator.get_demand_results_file`\n",
      "* `scenario/outputs/plots/timeseries/{building_name}.pdf` -> `cea.inputlocator.InputLocator.get_demand_plots_file`\n",
      "* `scenario/outputs/data/demand/Total_demand.csv` -> `cea.inputlocator.InputLocator.get_total_demand`\n"
     ]
    }
   ],
   "source": [
    "trace_data = pickle.load(file=open('docs/scenario_folder/demand_graphs.trace.pickle', 'r'))\n",
    "all_nodes = set(td[1].fqname for td in trace_data if not td[0].fqname.startswith('cea.inputlocator.InputLocator'))\n",
    "locator_funcs = [n for n in all_nodes if n.startswith('cea.inputlocator.InputLocator')]\n",
    "file_names = [eval(f).__doc__ for f in locator_funcs]\n",
    "print '\\n'.join('* `%s` -> `%s`' % (f, l) for f, l in zip(file_names, locator_funcs))"
   ]
  },
  {
   "cell_type": "markdown",
   "metadata": {},
   "source": [
    "## Demand"
   ]
  },
  {
   "cell_type": "code",
   "execution_count": 42,
   "metadata": {
    "collapsed": false
   },
   "outputs": [
    {
     "name": "stdout",
     "output_type": "stream",
     "text": [
      "(cea.demand.demand_main.<module>, cea.utilities.epwreader.<module>)\n",
      "(cea.utilities.epwreader.<module>, cea.globalvar.GlobalVariables.__init__)\n",
      "(cea.globalvar.GlobalVariables.__init__, cea.demand.demand_writers.HourlyDemandWriter.__init__)\n",
      "(cea.demand.demand_writers.HourlyDemandWriter.__init__, cea.demand.demand_writers.HourlyDemandWriter.__init__)\n",
      "(cea.demand.demand_main.demand_calculation, cea.inputlocator.InputLocator.get_radiation)\n",
      "(cea.inputlocator.InputLocator.get_radiation, cea.inputlocator.InputLocator.get_solar_radiation_folder)\n",
      "(cea.inputlocator.InputLocator.get_solar_radiation_folder, cea.inputlocator._ensure_folder)\n",
      "(cea.demand.demand_main.demand_calculation, cea.inputlocator.InputLocator.get_surface_properties)\n",
      "(cea.inputlocator.InputLocator.get_surface_properties, cea.inputlocator.InputLocator.get_solar_radiation_folder)\n",
      "(cea.demand.demand_main.demand_calculation, cea.utilities.epwreader.epw_reader)\n",
      "(cea.utilities.epwreader.epw_reader, cea.utilities.epwreader.calc_skytemp)\n",
      "(cea.demand.demand_main.demand_calculation, cea.demand.thermal_loads.BuildingProperties.__init__)\n",
      "(cea.demand.thermal_loads.BuildingProperties.__init__, cea.globalvar.GlobalVariables.log)\n",
      "read input files\n",
      "(cea.demand.thermal_loads.BuildingProperties.__init__, cea.inputlocator.InputLocator.get_surface_properties)\n",
      "(cea.demand.thermal_loads.BuildingProperties.__init__, cea.inputlocator.InputLocator.get_building_geometry)\n",
      "(cea.demand.thermal_loads.BuildingProperties.__init__, cea.inputlocator.InputLocator.get_building_hvac)\n",
      "(cea.demand.thermal_loads.BuildingProperties.__init__, cea.inputlocator.InputLocator.get_building_thermal)\n",
      "(cea.demand.thermal_loads.BuildingProperties.__init__, cea.inputlocator.InputLocator.get_building_occupancy)\n",
      "(cea.demand.thermal_loads.BuildingProperties.__init__, cea.inputlocator.InputLocator.get_building_architecture)\n",
      "(cea.demand.thermal_loads.BuildingProperties.__init__, cea.inputlocator.InputLocator.get_building_age)\n",
      "(cea.demand.thermal_loads.BuildingProperties.__init__, cea.inputlocator.InputLocator.get_building_comfort)\n",
      "(cea.demand.thermal_loads.BuildingProperties.__init__, cea.inputlocator.InputLocator.get_building_internal)\n",
      "(cea.demand.thermal_loads.BuildingProperties.__init__, cea.demand.thermal_loads.get_prop_solar)\n",
      "(cea.demand.thermal_loads.get_prop_solar, cea.inputlocator.InputLocator.get_radiation)\n",
      "(cea.demand.thermal_loads.get_prop_solar, cea.inputlocator.InputLocator.get_surface_properties)\n",
      "(cea.demand.thermal_loads.BuildingProperties.__init__, cea.demand.thermal_loads.get_temperatures)\n",
      "(cea.demand.thermal_loads.get_temperatures, cea.inputlocator.InputLocator.get_technical_emission_systems)\n",
      "(cea.demand.thermal_loads.BuildingProperties.__init__, cea.demand.thermal_loads.get_envelope_properties)\n",
      "(cea.demand.thermal_loads.get_envelope_properties, cea.inputlocator.InputLocator.get_envelope_systems)\n",
      "(cea.demand.thermal_loads.BuildingProperties.__init__, cea.inputlocator.InputLocator.get_building_overrides)\n",
      "(cea.demand.thermal_loads.BuildingProperties.__init__, cea.demand.thermal_loads.BuildingProperties.calc_prop_rc_model)\n",
      "(cea.demand.thermal_loads.BuildingProperties.calc_prop_rc_model, cea.demand.thermal_loads.BuildingProperties.get_overrides_columns)\n",
      "(cea.demand.thermal_loads.BuildingProperties.calc_prop_rc_model, cea.demand.thermal_loads.BuildingProperties.lookup_specific_heat_capacity)\n",
      "(cea.demand.thermal_loads.BuildingProperties.calc_prop_rc_model, cea.demand.thermal_loads.BuildingProperties.lookup_effective_mass_area_factor)\n",
      "(cea.demand.thermal_loads.BuildingProperties.__init__, cea.geometry.geometry_reader.create_windows)\n",
      "done\n",
      "(cea.demand.demand_main.demand_calculation, cea.demand.occupancy_model.schedule_maker)\n",
      "(cea.demand.occupancy_model.schedule_maker, cea.inputlocator.InputLocator.get_archetypes_schedules)\n",
      "(cea.demand.occupancy_model.schedule_maker, cea.demand.occupancy_model.read_schedules)\n",
      "(cea.demand.occupancy_model.schedule_maker, cea.demand.occupancy_model.get_yearly_vectors)\n",
      "(cea.demand.demand_main.demand_calculation, cea.demand.thermal_loads.BuildingProperties.list_building_names)\n",
      "(cea.demand.demand_main.demand_calculation, cea.demand.demand_main.thermal_loads_all_buildings)\n",
      "(cea.demand.demand_main.thermal_loads_all_buildings, cea.demand.thermal_loads.BuildingProperties.__getitem__)\n",
      "(cea.demand.thermal_loads.BuildingProperties.__getitem__, cea.demand.thermal_loads.BuildingProperties.get_prop_geometry)\n",
      "(cea.demand.thermal_loads.BuildingProperties.__getitem__, cea.demand.thermal_loads.BuildingProperties.get_prop_architecture)\n",
      "(cea.demand.thermal_loads.BuildingProperties.__getitem__, cea.demand.thermal_loads.BuildingProperties.get_prop_occupancy)\n",
      "(cea.demand.thermal_loads.BuildingProperties.__getitem__, cea.demand.thermal_loads.BuildingProperties.get_prop_hvac)\n",
      "(cea.demand.thermal_loads.BuildingProperties.__getitem__, cea.demand.thermal_loads.BuildingProperties.get_prop_rc_model)\n",
      "(cea.demand.thermal_loads.BuildingProperties.__getitem__, cea.demand.thermal_loads.BuildingProperties.get_prop_comfort)\n",
      "(cea.demand.thermal_loads.BuildingProperties.__getitem__, cea.demand.thermal_loads.BuildingProperties.get_prop_internal_loads)\n",
      "(cea.demand.thermal_loads.BuildingProperties.__getitem__, cea.demand.thermal_loads.BuildingProperties.get_prop_age)\n",
      "(cea.demand.thermal_loads.BuildingProperties.__getitem__, cea.demand.thermal_loads.BuildingProperties.get_solar)\n",
      "(cea.demand.thermal_loads.BuildingProperties.__getitem__, cea.demand.thermal_loads.BuildingProperties.get_prop_windows)\n",
      "(cea.demand.thermal_loads.BuildingProperties.__getitem__, cea.demand.thermal_loads.BuildingPropertiesRow.__init__)\n",
      "(cea.demand.thermal_loads.BuildingPropertiesRow.__init__, cea.demand.thermal_loads.BuildingPropertiesRow._get_properties_building_systems)\n",
      "(cea.demand.thermal_loads.BuildingPropertiesRow._get_properties_building_systems, cea.demand.thermal_loads.BuildingPropertiesRow._calculate_pipe_transmittance_values)\n",
      "(cea.demand.thermal_loads.BuildingPropertiesRow._get_properties_building_systems, cea.demand.thermal_loads.BuildingPropertiesRow._calc_form)\n",
      "(cea.demand.demand_main.thermal_loads_all_buildings, cea.demand.thermal_loads.calc_thermal_loads)\n",
      "(cea.demand.thermal_loads.calc_thermal_loads, cea.demand.thermal_loads.initialize_timestep_data)\n",
      "(cea.demand.thermal_loads.initialize_timestep_data, cea.demand.thermal_loads.<genexpr>)\n",
      "(cea.demand.thermal_loads.calc_thermal_loads, cea.demand.occupancy_model.calc_occ)\n",
      "(cea.demand.occupancy_model.calc_occ, cea.demand.occupancy_model.calc_occ_schedule)\n",
      "(cea.demand.occupancy_model.calc_occ_schedule, cea.demand.occupancy_model.calc_average)\n",
      "(cea.demand.thermal_loads.calc_thermal_loads, cea.demand.electrical_loads.calc_Eint)\n",
      "(cea.demand.electrical_loads.calc_Eint, cea.demand.electrical_loads.average_appliances_lighting_schedule)\n",
      "(cea.demand.electrical_loads.average_appliances_lighting_schedule, cea.demand.electrical_loads.calc_average)\n",
      "(cea.demand.thermal_loads.calc_thermal_loads, cea.demand.refrigeration_loads.calc_Qcref)\n",
      "(cea.demand.thermal_loads.calc_thermal_loads, cea.demand.datacenter_loads.calc_Qcdataf)\n",
      "(cea.demand.thermal_loads.calc_thermal_loads, cea.technologies.controllers.calc_simple_temp_control)\n",
      "(cea.technologies.controllers.calc_simple_temp_control, cea.technologies.controllers.get_hsetpoint)\n",
      "(cea.technologies.controllers.calc_simple_temp_control, cea.technologies.controllers.get_csetpoint)\n",
      "(cea.demand.thermal_loads.calc_thermal_loads, cea.technologies.controllers.calc_simple_ventilation_control)\n",
      "(cea.technologies.controllers.calc_simple_ventilation_control, cea.globalvar.GlobalVariables.is_heating_season)\n",
      "(cea.demand.thermal_loads.calc_thermal_loads, cea.demand.sensible_loads.calc_Qgain_lat)\n",
      "(cea.demand.thermal_loads.calc_thermal_loads, cea.demand.ventilation_model.get_properties_natural_ventilation)\n",
      "(cea.demand.ventilation_model.get_properties_natural_ventilation, cea.demand.ventilation_model.calc_qv_delta_p_ref)\n",
      "(cea.demand.ventilation_model.get_properties_natural_ventilation, cea.geometry.geometry_reader.get_building_geometry_ventilation)\n",
      "(cea.demand.ventilation_model.get_properties_natural_ventilation, cea.demand.ventilation_model.calc_coeff_lea_zone)\n",
      "(cea.demand.ventilation_model.get_properties_natural_ventilation, cea.demand.ventilation_model.allocate_default_leakage_paths)\n",
      "(cea.demand.ventilation_model.get_properties_natural_ventilation, cea.demand.ventilation_model.lookup_coeff_wind_pressure)\n",
      "(cea.demand.ventilation_model.get_properties_natural_ventilation, cea.demand.ventilation_model.calc_coeff_vent_zone)\n",
      "(cea.demand.ventilation_model.get_properties_natural_ventilation, cea.demand.ventilation_model.allocate_default_ventilation_openings)\n",
      "(cea.demand.thermal_loads.calc_thermal_loads, cea.utilities.helpers.seasonhour_2_hoy)\n",
      "(cea.utilities.helpers.seasonhour_2_hoy, cea.utilities.helpers.check_hoy)\n",
      "(cea.demand.thermal_loads.calc_thermal_loads, cea.demand.sensible_loads.calc_Qgain_sen)\n",
      "(cea.demand.sensible_loads.calc_Qgain_sen, cea.demand.sensible_loads.calc_I_sol)\n",
      "(cea.demand.sensible_loads.calc_I_sol, cea.demand.sensible_loads.calc_Asol)\n",
      "(cea.demand.sensible_loads.calc_Asol, cea.technologies.blinds.<module>)\n",
      "(cea.demand.sensible_loads.calc_Asol, cea.technologies.blinds.calc_blinds_activation)\n",
      "(cea.demand.sensible_loads.calc_I_sol, cea.demand.sensible_loads.calc_I_rad)\n",
      "(cea.demand.sensible_loads.calc_I_rad, cea.demand.sensible_loads.calc_hr)\n",
      "(cea.demand.thermal_loads.calc_thermal_loads, cea.globalvar.GlobalVariables.is_heating_season)\n",
      "(cea.demand.thermal_loads.calc_thermal_loads, cea.demand.thermal_loads.calc_thermal_load_hvac)\n",
      "(cea.demand.thermal_loads.calc_thermal_load_hvac, cea.demand.sensible_loads.setpoint_correction_for_space_emission_systems)\n",
      "(cea.demand.thermal_loads.calc_thermal_load_hvac, cea.demand.sensible_loads.calc_Qhs_Qcs_sys_max)\n",
      "(cea.demand.thermal_loads.calc_thermal_load_hvac, cea.demand.airconditioning_model.calc_hex)\n",
      "(cea.demand.airconditioning_model.calc_hex, cea.utilities.physics.calc_w)\n",
      "(cea.demand.thermal_loads.calc_thermal_load_hvac, cea.demand.sensible_loads.calc_h_ve_adj)\n",
      "(cea.demand.thermal_loads.calc_thermal_load_hvac, cea.demand.sensible_loads.calc_Htr)\n",
      "(cea.demand.thermal_loads.calc_thermal_load_hvac, cea.demand.sensible_loads.calc_Qhs_Qcs)\n",
      "(cea.demand.thermal_loads.calc_thermal_load_hvac, cea.demand.airconditioning_model.calc_hvac)\n",
      "(cea.demand.airconditioning_model.calc_hvac, cea.demand.airconditioning_model.calc_hex)\n",
      "(cea.demand.airconditioning_model.calc_hex, cea.globalvar.GlobalVariables.is_heating_season)\n",
      "(cea.demand.airconditioning_model.calc_hvac, cea.utilities.physics.calc_h)\n",
      "(cea.demand.airconditioning_model.calc_hvac, cea.utilities.physics.calc_t_from_h)\n",
      "(cea.demand.airconditioning_model.calc_hvac, cea.demand.airconditioning_model.calc_w3_cooling_case)\n",
      "(cea.demand.airconditioning_model.calc_w3_cooling_case, cea.utilities.physics.calc_w)\n",
      "(cea.demand.thermal_loads.calc_thermal_loads, cea.demand.thermal_loads.calc_thermal_load_mechanical_and_natural_ventilation_timestep)\n",
      "(cea.demand.thermal_loads.calc_thermal_load_mechanical_and_natural_ventilation_timestep, cea.demand.sensible_loads.setpoint_correction_for_space_emission_systems)\n",
      "(cea.demand.thermal_loads.calc_thermal_load_mechanical_and_natural_ventilation_timestep, cea.demand.sensible_loads.calc_Qhs_Qcs_sys_max)\n",
      "(cea.demand.thermal_loads.calc_thermal_load_mechanical_and_natural_ventilation_timestep, cea.demand.sensible_loads.calc_h_ve_adj)\n",
      "(cea.demand.thermal_loads.calc_thermal_load_mechanical_and_natural_ventilation_timestep, cea.demand.sensible_loads.calc_Htr)\n",
      "(cea.demand.thermal_loads.calc_thermal_load_mechanical_and_natural_ventilation_timestep, cea.demand.sensible_loads.calc_Qhs_Qcs)\n",
      "(cea.demand.thermal_loads.calc_thermal_loads, cea.demand.sensible_loads.calc_Qhs_Qcs_dis_ls)\n",
      "(cea.demand.thermal_loads.calc_thermal_loads, cea.demand.sensible_loads.calc_temperatures_emission_systems)\n",
      "(cea.demand.sensible_loads.calc_temperatures_emission_systems, cea.technologies.radiators.<module>)\n",
      "(cea.demand.sensible_loads.calc_temperatures_emission_systems, cea.technologies.heating_coils.<module>)\n",
      "(cea.demand.sensible_loads.calc_temperatures_emission_systems, cea.technologies.tabs.<module>)\n",
      "(cea.demand.sensible_loads.calc_temperatures_emission_systems, cea.technologies.radiators.calc_radiator)\n",
      "(cea.demand.sensible_loads.calc_temperatures_emission_systems, cea.technologies.heating_coils.calc_cooling_coil)\n",
      "(cea.technologies.heating_coils.calc_cooling_coil, cea.technologies.heating_coils.fh)\n",
      "(cea.demand.thermal_loads.calc_thermal_loads, cea.demand.hotwater_loads.calc_Qwwf)\n",
      "(cea.demand.hotwater_loads.calc_Qwwf, cea.demand.hotwater_loads.calc_Qww_schedule)\n",
      "(cea.demand.hotwater_loads.calc_Qww_schedule, cea.demand.hotwater_loads.calc_average)\n",
      "(cea.demand.hotwater_loads.calc_Qwwf, cea.demand.hotwater_loads.calc_mww)\n",
      "(cea.demand.hotwater_loads.calc_Qwwf, cea.demand.hotwater_loads.calc_Qww)\n",
      "(cea.demand.hotwater_loads.calc_Qwwf, cea.demand.hotwater_loads.calc_Qww_dis_ls_r)\n",
      "(cea.demand.hotwater_loads.calc_Qww_dis_ls_r, cea.demand.hotwater_loads.calc_disls)\n",
      "(cea.demand.hotwater_loads.calc_Qwwf, cea.demand.hotwater_loads.calc_Qww_dis_ls_nr)\n",
      "(cea.demand.hotwater_loads.calc_Qww_dis_ls_nr, cea.demand.hotwater_loads.calc_disls)\n",
      "(cea.demand.hotwater_loads.calc_Qwwf, cea.demand.hotwater_loads.calc_Qww_st_ls)\n",
      "(cea.demand.hotwater_loads.calc_Qww_st_ls, cea.technologies.storagetank.calc_Qww_ls_st)\n",
      "(cea.demand.hotwater_loads.calc_Qww_st_ls, cea.technologies.storagetank.solve_ode_storage)\n",
      "(cea.technologies.storagetank.solve_ode_storage, cea.technologies.storagetank.ode)\n",
      "(cea.demand.thermal_loads.calc_thermal_loads, cea.demand.electrical_loads.calc_Eauxf)\n",
      "(cea.demand.electrical_loads.calc_Eauxf, cea.demand.electrical_loads.calc_Eauxf_ww)\n",
      "(cea.demand.electrical_loads.calc_Eauxf, cea.demand.electrical_loads.calc_Eauxf_hs_dis)\n",
      "(cea.demand.electrical_loads.calc_Eauxf, cea.demand.electrical_loads.calc_Eauxf_cs_dis)\n",
      "(cea.demand.electrical_loads.calc_Eauxf, cea.demand.electrical_loads.calc_Eauxf_fw)\n",
      "(cea.demand.electrical_loads.calc_Eauxf, cea.demand.electrical_loads.calc_Eauxf_ve)\n",
      "(cea.demand.thermal_loads.calc_thermal_loads, cea.demand.demand_writers.HourlyDemandWriter.results_to_csv)\n",
      "(cea.demand.demand_writers.HourlyDemandWriter.results_to_csv, cea.demand.demand_writers.<genexpr>)\n",
      "(cea.demand.demand_writers.HourlyDemandWriter.results_to_csv, cea.demand.demand_writers.HourlyDemandWriter.write_to_csv)\n",
      "(cea.demand.demand_writers.HourlyDemandWriter.write_to_csv, cea.inputlocator.InputLocator.get_demand_results_file)\n",
      "(cea.inputlocator.InputLocator.get_demand_results_file, cea.inputlocator.InputLocator.get_demand_results_folder)\n",
      "(cea.inputlocator.InputLocator.get_demand_results_folder, cea.inputlocator._ensure_folder)\n",
      "(cea.demand.demand_writers.HourlyDemandWriter.results_to_csv, cea.inputlocator.InputLocator.get_temporary_file)\n",
      "(cea.inputlocator.InputLocator.get_temporary_file, cea.inputlocator.InputLocator.get_temporary_folder)\n",
      "(cea.demand.thermal_loads.calc_thermal_loads, cea.inputlocator.InputLocator.get_demand_results_folder)\n",
      "(cea.demand.thermal_loads.calc_thermal_loads, cea.globalvar.GlobalVariables.report)\n",
      "(cea.demand.demand_main.thermal_loads_all_buildings, cea.globalvar.GlobalVariables.log)\n",
      "Building No. 1 completed out of 9: B01\n",
      "Building No. 2 completed out of 9: B02\n",
      "Building No. 3 completed out of 9: B03\n",
      "Building No. 4 completed out of 9: B04\n",
      "Building No. 5 completed out of 9: B05\n",
      "Building No. 6 completed out of 9: B07\n",
      "Building No. 7 completed out of 9: B08\n",
      "Building No. 8 completed out of 9: B09\n",
      "(cea.demand.thermal_loads.calc_thermal_loads, cea.demand.thermal_loads.<genexpr>)\n",
      "Building No. 9 completed out of 9: B06\n",
      "(cea.demand.demand_main.demand_calculation, cea.demand.demand_writers.HourlyDemandWriter.write_totals_csv)\n",
      "(cea.demand.demand_writers.HourlyDemandWriter.write_totals_csv, cea.demand.thermal_loads.BuildingProperties.list_building_names)\n",
      "(cea.demand.demand_writers.HourlyDemandWriter.write_totals_csv, cea.inputlocator.InputLocator.get_temporary_file)\n",
      "(cea.demand.demand_writers.HourlyDemandWriter.write_totals_csv, cea.inputlocator.InputLocator.get_total_demand)\n",
      "(cea.inputlocator.InputLocator.get_total_demand, cea.inputlocator.InputLocator.get_demand_results_folder)\n",
      "Index([u'B01', u'B02', u'B03', u'B04', u'B05', u'B07', u'B08', u'B09', u'B06'], dtype='object', name=u'Name')\n",
      "(cea.demand.demand_writers.HourlyDemandWriter.write_totals_csv, cea.inputlocator.InputLocator.get_demand_results_file)\n",
      "(cea.demand.demand_main.demand_calculation, cea.globalvar.GlobalVariables.log)\n",
      "done - time elapsed: 1473.43 seconds\n"
     ]
    }
   ],
   "source": [
    "run bin/create_function_graph.py -f demand -s docs/scenario_folder/demand.trace.pickle"
   ]
  },
  {
   "cell_type": "code",
   "execution_count": 43,
   "metadata": {
    "collapsed": false
   },
   "outputs": [
    {
     "name": "stdout",
     "output_type": "stream",
     "text": [
      "* `scenario/outputs/data/solar-radiation/properties_surfaces.csv` -> `cea.inputlocator.InputLocator.get_surface_properties`\n",
      "* `scenario/inputs/building-properties/overrides.csv\n",
      "        This file contains overrides to the building properties input files. They are applied after reading\n",
      "        those files and are matched by column name.\n",
      "        ` -> `cea.inputlocator.InputLocator.get_building_overrides`\n",
      "* `scenario/inputs/building-properties/thermal_properties.shp` -> `cea.inputlocator.InputLocator.get_building_thermal`\n",
      "* `scenario/outputs/data/demand/Total_demand.csv` -> `cea.inputlocator.InputLocator.get_total_demand`\n",
      "* `scenario/inputs/building-geometry/zone.shp` -> `cea.inputlocator.InputLocator.get_building_geometry`\n",
      "* `scenario/inputs/building-properties/building_occupancy.shp` -> `cea.inputlocator.InputLocator.get_building_occupancy`\n",
      "* `scenario/outputs/data/demand` -> `cea.inputlocator.InputLocator.get_demand_results_folder`\n",
      "* `scenario/outputs/data/solar-radiation/radiation.csv` -> `cea.inputlocator.InputLocator.get_radiation`\n",
      "* `scenario/inputs/building-properties/age.shp` -> `cea.inputlocator.InputLocator.get_building_age`\n",
      "* `db/Systems/emission_systems.csv` -> `cea.inputlocator.InputLocator.get_technical_emission_systems`\n",
      "* `db/Systems/emission_systems.csv` -> `cea.inputlocator.InputLocator.get_envelope_systems`\n",
      "* `scenario/outputs/data/demand/{building_name}.csv` -> `cea.inputlocator.InputLocator.get_demand_results_file`\n",
      "* `scenario/inputs/building-properties/internal_loads.shp` -> `cea.inputlocator.InputLocator.get_building_internal`\n",
      "* `db/Archetypes/Archetypes_schedules.xlsx\n",
      "        path to database of archetypes file Archetypes_HVAC_properties.xlsx` -> `cea.inputlocator.InputLocator.get_archetypes_schedules`\n",
      "* `scenario/inputs/building-properties/indoor_comfort.shp'` -> `cea.inputlocator.InputLocator.get_building_comfort`\n",
      "* `scenario/inputs/building-properties/architecture.shp\n",
      "        This file is generated by the properties script.\n",
      "        This file is used in the embodied energy script (cea/embodied.py)\n",
      "        and the demand script (cea/demand_main.py)` -> `cea.inputlocator.InputLocator.get_building_architecture`\n",
      "* `Returns the path to a file in the temporary folder with the name `filename`` -> `cea.inputlocator.InputLocator.get_temporary_file`\n",
      "* `scenario/inputs/building-properties/technical_systems.shp` -> `cea.inputlocator.InputLocator.get_building_hvac`\n"
     ]
    }
   ],
   "source": [
    "trace_data = pickle.load(file=open('docs/scenario_folder/demand.trace.pickle', 'r'))\n",
    "all_nodes = set(td[1].fqname for td in trace_data if not td[0].fqname.startswith('cea.inputlocator.InputLocator'))\n",
    "locator_funcs = [n for n in all_nodes if n.startswith('cea.inputlocator.InputLocator')]\n",
    "file_names = [eval(f).__doc__ for f in locator_funcs]\n",
    "print '\\n'.join('* `%s` -> `%s`' % (f, l) for f, l in zip(file_names, locator_funcs))"
   ]
  },
  {
   "cell_type": "markdown",
   "metadata": {},
   "source": [
    "## Mobility"
   ]
  },
  {
   "cell_type": "code",
   "execution_count": 46,
   "metadata": {
    "collapsed": false
   },
   "outputs": [
    {
     "name": "stdout",
     "output_type": "stream",
     "text": [
      "(cea.analysis.mobility.lca_mobility, cea.inputlocator.InputLocator.get_total_demand)\n",
      "(cea.inputlocator.InputLocator.get_total_demand, cea.inputlocator.InputLocator.get_demand_results_folder)\n",
      "(cea.inputlocator.InputLocator.get_demand_results_folder, cea.inputlocator._ensure_folder)\n",
      "(cea.analysis.mobility.lca_mobility, cea.inputlocator.InputLocator.get_building_occupancy)\n",
      "(cea.analysis.mobility.lca_mobility, cea.inputlocator.InputLocator.get_data_mobility)\n",
      "(cea.analysis.mobility.lca_mobility, cea.inputlocator.InputLocator.get_lca_emissions_results_folder)\n",
      "(cea.analysis.mobility.lca_mobility, cea.inputlocator.InputLocator.get_lca_mobility)\n",
      "(cea.inputlocator.InputLocator.get_lca_mobility, cea.inputlocator.InputLocator.get_lca_emissions_results_folder)\n"
     ]
    }
   ],
   "source": [
    "run bin/create_function_graph.py -f mobility -s docs/scenario_folder/mobility.trace.pickle"
   ]
  },
  {
   "cell_type": "code",
   "execution_count": 47,
   "metadata": {
    "collapsed": false
   },
   "outputs": [
    {
     "name": "stdout",
     "output_type": "stream",
     "text": [
      "* `scenario/inputs/building-properties/building_occupancy.shp` -> `cea.inputlocator.InputLocator.get_building_occupancy`\n",
      "* `scenario/outputs/data/emissions` -> `cea.inputlocator.InputLocator.get_lca_emissions_results_folder`\n",
      "* `scenario/outputs/data/emissions/Total_LCA_mobility.csv` -> `cea.inputlocator.InputLocator.get_lca_mobility`\n",
      "* `scenario/outputs/data/demand/Total_demand.csv` -> `cea.inputlocator.InputLocator.get_total_demand`\n",
      "* `db/Benchmarks/mobility.xls` -> `cea.inputlocator.InputLocator.get_data_mobility`\n"
     ]
    }
   ],
   "source": [
    "trace_data = pickle.load(file=open('docs/scenario_folder/mobility.trace.pickle', 'r'))\n",
    "all_nodes = set(td[1].fqname for td in trace_data if not td[0].fqname.startswith('cea.inputlocator.InputLocator'))\n",
    "locator_funcs = [n for n in all_nodes if n.startswith('cea.inputlocator.InputLocator')]\n",
    "file_names = [eval(f).__doc__ for f in locator_funcs]\n",
    "print '\\n'.join('* `%s` -> `%s`' % (f, l) for f, l in zip(file_names, locator_funcs))"
   ]
  },
  {
   "cell_type": "markdown",
   "metadata": {},
   "source": [
    "## Heatmaps"
   ]
  },
  {
   "cell_type": "code",
   "execution_count": 51,
   "metadata": {
    "collapsed": false
   },
   "outputs": [
    {
     "name": "stdout",
     "output_type": "stream",
     "text": [
      "(cea.inputlocator.InputLocator.get_total_demand, cea.inputlocator.InputLocator.get_demand_results_folder)\n",
      "(cea.inputlocator.InputLocator.get_demand_results_folder, cea.inputlocator._ensure_folder)\n",
      "(cea.inputlocator.InputLocator.get_heatmaps_demand_folder, cea.inputlocator._ensure_folder)\n",
      "(cea.plots.heatmaps.heatmaps, cea.inputlocator.InputLocator.get_temporary_file)\n",
      "(cea.inputlocator.InputLocator.get_temporary_file, cea.inputlocator.InputLocator.get_temporary_folder)\n",
      "(cea.plots.heatmaps.heatmaps, cea.inputlocator.InputLocator.get_building_geometry)\n",
      "(cea.plots.heatmaps.heatmaps, cea.plots.heatmaps.get_gis_field)\n"
     ]
    }
   ],
   "source": [
    "run bin/create_function_graph.py -f heatmaps -s docs/scenario_folder/heatmaps.trace.pickle"
   ]
  },
  {
   "cell_type": "code",
   "execution_count": 52,
   "metadata": {
    "collapsed": false
   },
   "outputs": [
    {
     "name": "stdout",
     "output_type": "stream",
     "text": [
      "* `Returns the path to a file in the temporary folder with the name `filename`` -> `cea.inputlocator.InputLocator.get_temporary_file`\n",
      "* `scenario/inputs/building-geometry/zone.shp` -> `cea.inputlocator.InputLocator.get_building_geometry`\n"
     ]
    }
   ],
   "source": [
    "trace_data = pickle.load(file=open('docs/scenario_folder/heatmaps.trace.pickle', 'r'))\n",
    "all_nodes = set(td[1].fqname for td in trace_data if not td[0].fqname.startswith('cea.inputlocator.InputLocator'))\n",
    "locator_funcs = [n for n in all_nodes if n.startswith('cea.inputlocator.InputLocator')]\n",
    "file_names = [eval(f).__doc__ for f in locator_funcs]\n",
    "print '\\n'.join('* `%s` -> `%s`' % (f, l) for f, l in zip(file_names, locator_funcs))"
   ]
  },
  {
   "cell_type": "code",
   "execution_count": null,
   "metadata": {
    "collapsed": true
   },
   "outputs": [],
   "source": []
  }
 ],
 "metadata": {
  "anaconda-cloud": {},
  "kernelspec": {
   "display_name": "Python [default]",
   "language": "python",
   "name": "python2"
  },
  "language_info": {
   "codemirror_mode": {
    "name": "ipython",
    "version": 2
   },
   "file_extension": ".py",
   "mimetype": "text/x-python",
   "name": "python",
   "nbconvert_exporter": "python",
   "pygments_lexer": "ipython2",
   "version": "2.7.12"
  }
 },
 "nbformat": 4,
 "nbformat_minor": 0
}
