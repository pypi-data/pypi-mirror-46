{
 "cells": [
  {
   "cell_type": "markdown",
   "metadata": {
    "collapsed": true
   },
   "source": [
    "# Create a graph of just the calc_rc_model_temperatures sub-graph"
   ]
  },
  {
   "cell_type": "markdown",
   "metadata": {},
   "source": [
    "#### Author : Daren Thomas\n",
    "#### Intent : To use this information to figure out how to optimize `calc_rc_model_temperatures`\n",
    "#### Date : January, 2017"
   ]
  },
  {
   "cell_type": "markdown",
   "metadata": {},
   "source": [
    "## Read in pre-computed data\n",
    "\n",
    "requires a full run of the `demand_main` to be pickled to `docs/demand/demand_main.trace.pickle` first using the `create_function_graph.py` script."
   ]
  },
  {
   "cell_type": "code",
   "execution_count": 3,
   "metadata": {
    "collapsed": true
   },
   "outputs": [],
   "source": [
    "from bin.create_function_graph import TraceDataInfo, print_digraph\n",
    "import pickle\n",
    "trace_data = pickle.load(open(r'docs/demand/demand_main.trace.pickle', 'r'))"
   ]
  },
  {
   "cell_type": "markdown",
   "metadata": {},
   "source": [
    "## Prune the tree to anything not called by `calc_rc_model_temperatures`\n",
    "\n",
    "This assumes the ordering of `trace_data` follows the invocation ordering..."
   ]
  },
  {
   "cell_type": "code",
   "execution_count": 4,
   "metadata": {
    "collapsed": false
   },
   "outputs": [],
   "source": [
    "keep_fqnames = set()\n",
    "keep_fqnames.add('cea.demand.rc_model_SIA.calc_rc_model_temperatures')\n",
    "result = []\n",
    "for src, dst in trace_data:\n",
    "    if src.fqname in keep_fqnames:\n",
    "        keep_fqnames.add(dst.fqname)\n",
    "        result.append((src, dst))"
   ]
  },
  {
   "cell_type": "code",
   "execution_count": 5,
   "metadata": {
    "collapsed": false
   },
   "outputs": [],
   "source": [
    "print_digraph(result, open(r'docs/demand/rc_model_temperatures.gv', 'w'))"
   ]
  },
  {
   "cell_type": "code",
   "execution_count": 11,
   "metadata": {
    "collapsed": true
   },
   "outputs": [],
   "source": [
    "! dot -Tpdf -O docs\\demand\\demand-function-graph.gv"
   ]
  },
  {
   "cell_type": "code",
   "execution_count": null,
   "metadata": {
    "collapsed": true
   },
   "outputs": [],
   "source": [
    ""
   ]
  }
 ],
 "metadata": {
  "kernelspec": {
   "display_name": "Python [default]",
   "language": "python",
   "name": "python2"
  },
  "language_info": {
   "codemirror_mode": {
    "name": "ipython",
    "version": 2.0
   },
   "file_extension": ".py",
   "mimetype": "text/x-python",
   "name": "python",
   "nbconvert_exporter": "python",
   "pygments_lexer": "ipython2",
   "version": "2.7.12"
  }
 },
 "nbformat": 4,
 "nbformat_minor": 0
}