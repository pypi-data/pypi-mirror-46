{
 "cells": [
  {
   "cell_type": "code",
   "execution_count": 23,
   "metadata": {},
   "outputs": [],
   "source": [
    "import ConfigParser\n",
    "import cea.scripts"
   ]
  },
  {
   "cell_type": "code",
   "execution_count": 24,
   "metadata": {},
   "outputs": [],
   "source": [
    "CLI_CONFIG = r\"C:\\Users\\darthoma\\Documents\\GitHub\\CityEnergyAnalyst\\cea\\interfaces\\cli\\cli.config\""
   ]
  },
  {
   "cell_type": "code",
   "execution_count": 32,
   "metadata": {},
   "outputs": [
    {
     "data": {
      "text/plain": [
       "['C:\\\\Users\\\\darthoma\\\\Documents\\\\GitHub\\\\CityEnergyAnalyst\\\\cea\\\\interfaces\\\\cli\\\\cli.config']"
      ]
     },
     "execution_count": 32,
     "metadata": {},
     "output_type": "execute_result"
    }
   ],
   "source": [
    "cli_config = ConfigParser.ConfigParser()\n",
    "cli_config.read(CLI_CONFIG)"
   ]
  },
  {
   "cell_type": "code",
   "execution_count": 30,
   "metadata": {},
   "outputs": [],
   "source": [
    "# make sure each script in cli.config is in the scripts.yml\n",
    "reload(cea.scripts)\n",
    "for script, module_path in cli_config.items('scripts'):\n",
    "    cea_script = cea.scripts.by_name(script)    \n",
    "    assert cea_script.module == module_path, 'Module paths differ: %s != %s' % (module_path, cea_script.module)"
   ]
  },
  {
   "cell_type": "code",
   "execution_count": 37,
   "metadata": {},
   "outputs": [],
   "source": [
    "# make sure each script in cli.config has the same parameters as in scripts.yml\n",
    "reload(cea.scripts)\n",
    "for script, parameters in cli_config.items('config'):\n",
    "    cea_script = cea.scripts.by_name(script)\n",
    "    old_parameters = set(parameters.split())\n",
    "    new_parameters = set(cea_script.parameters)\n",
    "    assert old_parameters == new_parameters, 'Parameters for %s differ: %s != %s' % (script, old_parameters, new_parameters)"
   ]
  },
  {
   "cell_type": "code",
   "execution_count": 11,
   "metadata": {},
   "outputs": [],
   "source": [
    "# make sure the inputs.yml file contains the proper columns\n",
    "import yaml\n",
    "\n",
    "import cea.config\n",
    "import cea.inputlocator\n",
    "import cea.utilities.dbf\n",
    "\n",
    "INPUTS_YML = r\"C:\\Users\\darthoma\\Documents\\GitHub\\cea-dashboard\\dashboard\\inputs\\inputs.yml\"\n",
    "\n",
    "config = cea.config.Configuration()\n",
    "locator = cea.inputlocator.InputLocator(config.scenario)"
   ]
  },
  {
   "cell_type": "code",
   "execution_count": 21,
   "metadata": {},
   "outputs": [
    {
     "name": "stdout",
     "output_type": "stream",
     "text": [
      "processing input: restrictions\n",
      "location: C:\\reference-case-WTP-reduced\\WTP_RES_l\\inputs\\building-properties\\restrictions.dbf\n",
      "processing input: occupancy\n",
      "location: C:\\reference-case-WTP-reduced\\WTP_RES_l\\inputs\\building-properties\\occupancy.dbf\n",
      "processing input: district\n",
      "skipping shapefile...\n",
      "processing input: zone\n",
      "skipping shapefile...\n",
      "processing input: age\n",
      "location: C:\\reference-case-WTP-reduced\\WTP_RES_l\\inputs\\building-properties\\age.dbf\n",
      "processing input: supply-systems\n",
      "location: C:\\reference-case-WTP-reduced\\WTP_RES_l\\inputs\\building-properties\\supply_systems.dbf\n",
      "processing input: architecture\n",
      "location: C:\\reference-case-WTP-reduced\\WTP_RES_l\\inputs\\building-properties\\architecture.dbf\n",
      "processing input: internal-loads\n",
      "location: C:\\reference-case-WTP-reduced\\WTP_RES_l\\inputs\\building-properties\\internal_loads.dbf\n",
      "done\n"
     ]
    }
   ],
   "source": [
    "inputs_yml = yaml.load(open(INPUTS_YML))\n",
    "\n",
    "for input_name, properties in inputs_yml.items():\n",
    "    print('processing input: %s' % input_name)\n",
    "    location = getattr(locator, properties['location'])()\n",
    "    if location.endswith('.shp'):\n",
    "        print('skipping shapefile...')\n",
    "        continue\n",
    "    print('location: %s' % location)\n",
    "    dbf = cea.utilities.dbf.dbf_to_dataframe(location)\n",
    "    dbf_columns = set(dbf.columns)\n",
    "    yml_columns = set(f['name'] for f in properties['fields'])\n",
    "    assert dbf_columns == yml_columns, 'Columns differ: %s != %s' % (dbf_columns, yml_columns)\n",
    "print('done')"
   ]
  },
  {
   "cell_type": "code",
   "execution_count": null,
   "metadata": {},
   "outputs": [],
   "source": []
  }
 ],
 "metadata": {
  "kernelspec": {
   "display_name": "Python 2",
   "language": "python",
   "name": "python2"
  },
  "language_info": {
   "codemirror_mode": {
    "name": "ipython",
    "version": 2
   },
   "file_extension": ".py",
   "mimetype": "text/x-python",
   "name": "python",
   "nbconvert_exporter": "python",
   "pygments_lexer": "ipython2",
   "version": "2.7.13"
  }
 },
 "nbformat": 4,
 "nbformat_minor": 2
}
