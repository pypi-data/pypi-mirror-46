{
 "cells": [
  {
   "cell_type": "markdown",
   "metadata": {},
   "source": [
    "# Workflow for a multi-regional energy system\n",
    "\n",
    "In this application of the FINE framework, a multi-regional energy system is modeled and optimized.\n",
    "\n",
    "All classes which are available to the user are utilized and examples of the selection of different parameters within these classes are given.\n",
    "\n",
    "The workflow is structures as follows:\n",
    "1. Required packages are imported and the input data path is set\n",
    "2. An energy system model instance is created\n",
    "3. Commodity sources are added to the energy system model\n",
    "4. Commodity conversion components are added to the energy system model\n",
    "5. Commodity storages are added to the energy system model\n",
    "6. Commodity transmission components are added to the energy system model\n",
    "7. Commodity sinks are added to the energy system model\n",
    "8. The energy system model is optimized\n",
    "9. Selected optimization results are presented\n"
   ]
  },
  {
   "cell_type": "markdown",
   "metadata": {},
   "source": [
    "# 1. Import required packages and set input data path\n",
    "\n",
    "The FINE framework is imported which provides the required classes and functions for modeling the energy system."
   ]
  },
  {
   "cell_type": "code",
   "execution_count": 1,
   "metadata": {},
   "outputs": [
    {
     "name": "stderr",
     "output_type": "stream",
     "text": [
      "c:\\users\\l.kotzur\\sciebo\\fzj\\04_public\\fine\\FINE\\IOManagement\\standardIO.py:12: UserWarning: The GeoPandas python package could not be imported.\n",
      "  warnings.warn('The GeoPandas python package could not be imported.')\n"
     ]
    }
   ],
   "source": [
    "import FINE as fn\n",
    "from getData import getData\n",
    "import os\n",
    "import pandas as pd\n",
    "import numpy as np\n",
    "cwd = os.getcwd()\n",
    "data = getData()\n",
    "\n",
    "%matplotlib inline  \n",
    "%load_ext autoreload\n",
    "%autoreload 2"
   ]
  },
  {
   "cell_type": "markdown",
   "metadata": {},
   "source": [
    "# 2. Create an energy system model instance \n",
    "\n",
    "The structure of the energy system model is given by the considered locations, commodities, the number of time steps as well as the hours per time step.\n",
    "\n",
    "The commodities are specified by a unit (i.e. 'GW_electric', 'GW_H2lowerHeatingValue', 'Mio. t CO2/h') which can be given as an energy or mass unit per hour. Furthermore, the cost unit and length unit are specified."
   ]
  },
  {
   "cell_type": "code",
   "execution_count": 2,
   "metadata": {},
   "outputs": [],
   "source": [
    "locations = {'cluster_0', 'cluster_1', 'cluster_2', 'cluster_3', 'cluster_4', 'cluster_5', 'cluster_6', 'cluster_7'}\n",
    "commodityUnitDict = {'electricity': r'GW$_{el}$', 'methane': r'GW$_{CH_{4},LHV}$', 'biogas': r'GW$_{biogas,LHV}$',\n",
    "                     'CO2': r'Mio. t$_{CO_2}$/h', 'hydrogen': r'GW$_{H_{2},LHV}$'}\n",
    "commodities = {'electricity', 'hydrogen', 'methane', 'biogas', 'CO2'}\n",
    "numberOfTimeSteps=8760\n",
    "hoursPerTimeStep=1"
   ]
  },
  {
   "cell_type": "code",
   "execution_count": 3,
   "metadata": {},
   "outputs": [],
   "source": [
    "esM = fn.EnergySystemModel(locations=locations, commodities=commodities, numberOfTimeSteps=numberOfTimeSteps,\n",
    "                           commodityUnitsDict=commodityUnitDict,\n",
    "                           hoursPerTimeStep=1, costUnit='1e9 Euro', lengthUnit='km', verboseLogLevel=0)"
   ]
  },
  {
   "cell_type": "code",
   "execution_count": 4,
   "metadata": {},
   "outputs": [],
   "source": [
    "CO2_reductionTarget = 1"
   ]
  },
  {
   "cell_type": "markdown",
   "metadata": {},
   "source": [
    "# 3. Add commodity sources to the energy system model"
   ]
  },
  {
   "cell_type": "markdown",
   "metadata": {},
   "source": [
    "## 3.1. Electricity sources"
   ]
  },
  {
   "cell_type": "markdown",
   "metadata": {},
   "source": [
    "### Wind onshore"
   ]
  },
  {
   "cell_type": "code",
   "execution_count": 5,
   "metadata": {},
   "outputs": [],
   "source": [
    "esM.add(fn.Source(esM=esM, name='Wind (onshore)', commodity='electricity', hasCapacityVariable=True,\n",
    "                  operationRateMax=data['Wind (onshore), operationRateMax'],\n",
    "                  capacityMax=data['Wind (onshore), capacityMax'],\n",
    "                  investPerCapacity=1.1, opexPerCapacity=1.1*0.02, interestRate=0.08,\n",
    "                  economicLifetime=20))"
   ]
  },
  {
   "cell_type": "markdown",
   "metadata": {},
   "source": [
    "Full load hours:"
   ]
  },
  {
   "cell_type": "code",
   "execution_count": 6,
   "metadata": {},
   "outputs": [
    {
     "data": {
      "text/plain": [
       "cluster_0    2300.406907\n",
       "cluster_1    1082.032187\n",
       "cluster_2    1447.812026\n",
       "cluster_3    1448.827987\n",
       "cluster_4    1935.618218\n",
       "cluster_5    1757.696047\n",
       "cluster_6    1286.944636\n",
       "cluster_7    1199.380071\n",
       "dtype: float64"
      ]
     },
     "execution_count": 6,
     "metadata": {},
     "output_type": "execute_result"
    }
   ],
   "source": [
    "data['Wind (onshore), operationRateMax'].sum()"
   ]
  },
  {
   "cell_type": "markdown",
   "metadata": {},
   "source": [
    "### Wind offshore"
   ]
  },
  {
   "cell_type": "code",
   "execution_count": 7,
   "metadata": {},
   "outputs": [],
   "source": [
    "esM.add(fn.Source(esM=esM, name='Wind (offshore)', commodity='electricity', hasCapacityVariable=True,\n",
    "                  operationRateMax=data['Wind (offshore), operationRateMax'],\n",
    "                  capacityMax=data['Wind (offshore), capacityMax'],\n",
    "                  investPerCapacity=2.3, opexPerCapacity=2.3*0.02, interestRate=0.08,\n",
    "                  economicLifetime=20))"
   ]
  },
  {
   "cell_type": "markdown",
   "metadata": {},
   "source": [
    "Full load hours:"
   ]
  },
  {
   "cell_type": "code",
   "execution_count": 8,
   "metadata": {},
   "outputs": [
    {
     "data": {
      "text/plain": [
       "index\n",
       "cluster_0    16.107011\n",
       "cluster_1     0.000000\n",
       "cluster_2     0.000000\n",
       "cluster_3     0.000000\n",
       "cluster_4    28.616236\n",
       "cluster_5    15.276753\n",
       "cluster_6     0.000000\n",
       "cluster_7     0.000000\n",
       "Name: maxCap_GW, dtype: float64"
      ]
     },
     "execution_count": 8,
     "metadata": {},
     "output_type": "execute_result"
    }
   ],
   "source": [
    "data['Wind (offshore), capacityMax']"
   ]
  },
  {
   "cell_type": "markdown",
   "metadata": {},
   "source": [
    "### PV"
   ]
  },
  {
   "cell_type": "code",
   "execution_count": 9,
   "metadata": {},
   "outputs": [],
   "source": [
    "esM.add(fn.Source(esM=esM, name='PV', commodity='electricity', hasCapacityVariable=True,\n",
    "                  operationRateMax=data['PV, operationRateMax'], capacityMax=data['PV, capacityMax'],\n",
    "                  investPerCapacity=0.65, opexPerCapacity=0.65*0.02, interestRate=0.08,\n",
    "                  economicLifetime=25))"
   ]
  },
  {
   "cell_type": "markdown",
   "metadata": {},
   "source": [
    "Full load hours:"
   ]
  },
  {
   "cell_type": "code",
   "execution_count": 10,
   "metadata": {},
   "outputs": [
    {
     "data": {
      "text/plain": [
       "cluster_0    859.175855\n",
       "cluster_1    970.535848\n",
       "cluster_2    913.049274\n",
       "cluster_3    917.880212\n",
       "cluster_4    875.448945\n",
       "cluster_5    904.590003\n",
       "cluster_6    984.223517\n",
       "cluster_7    992.311727\n",
       "dtype: float64"
      ]
     },
     "execution_count": 10,
     "metadata": {},
     "output_type": "execute_result"
    }
   ],
   "source": [
    "data['PV, operationRateMax'].sum()"
   ]
  },
  {
   "cell_type": "markdown",
   "metadata": {},
   "source": [
    "### Exisisting run-of-river hydroelectricity plants"
   ]
  },
  {
   "cell_type": "code",
   "execution_count": 11,
   "metadata": {},
   "outputs": [],
   "source": [
    "esM.add(fn.Source(esM=esM, name='Existing run-of-river plants', commodity='electricity',\n",
    "                  hasCapacityVariable=True,\n",
    "                  operationRateFix=data['Existing run-of-river plants, operationRateFix'], tsaWeight=0.01,\n",
    "                  capacityFix=data['Existing run-of-river plants, capacityFix'],\n",
    "                  investPerCapacity=0, opexPerCapacity=0.208))"
   ]
  },
  {
   "cell_type": "markdown",
   "metadata": {},
   "source": [
    "## 3.2. Methane (natural gas and biogas)"
   ]
  },
  {
   "cell_type": "markdown",
   "metadata": {},
   "source": [
    "### Natural gas"
   ]
  },
  {
   "cell_type": "code",
   "execution_count": 12,
   "metadata": {},
   "outputs": [
    {
     "name": "stdout",
     "output_type": "stream",
     "text": [
      "      cluster_0  cluster_3  cluster_1  cluster_4  cluster_2  cluster_5  \\\n",
      "0      0.000027   0.000032   0.000038   0.000034   0.000035   0.000033   \n",
      "1      0.000039   0.000043   0.000049   0.000046   0.000046   0.000037   \n",
      "2      0.000031   0.000037   0.000039   0.000048   0.000030   0.000045   \n",
      "3      0.000035   0.000038   0.000030   0.000037   0.000038   0.000040   \n",
      "4      0.000032   0.000044   0.000043   0.000034   0.000029   0.000047   \n",
      "5      0.000036   0.000033   0.000040   0.000048   0.000046   0.000034   \n",
      "6      0.000035   0.000045   0.000046   0.000035   0.000048   0.000037   \n",
      "7      0.000040   0.000030   0.000031   0.000034   0.000049   0.000035   \n",
      "8      0.000042   0.000035   0.000038   0.000044   0.000038   0.000043   \n",
      "9      0.000046   0.000049   0.000044   0.000031   0.000044   0.000044   \n",
      "10     0.000038   0.000043   0.000033   0.000049   0.000027   0.000042   \n",
      "11     0.000044   0.000030   0.000043   0.000043   0.000033   0.000039   \n",
      "12     0.000041   0.000042   0.000030   0.000030   0.000047   0.000041   \n",
      "13     0.000031   0.000040   0.000039   0.000037   0.000048   0.000030   \n",
      "14     0.000042   0.000047   0.000040   0.000042   0.000032   0.000049   \n",
      "15     0.000034   0.000035   0.000038   0.000041   0.000031   0.000028   \n",
      "16     0.000048   0.000030   0.000037   0.000038   0.000030   0.000041   \n",
      "17     0.000046   0.000037   0.000036   0.000037   0.000044   0.000046   \n",
      "18     0.000033   0.000047   0.000050   0.000046   0.000027   0.000029   \n",
      "19     0.000041   0.000036   0.000028   0.000044   0.000044   0.000049   \n",
      "20     0.000030   0.000043   0.000030   0.000036   0.000028   0.000044   \n",
      "21     0.000040   0.000032   0.000046   0.000035   0.000042   0.000048   \n",
      "22     0.000027   0.000035   0.000050   0.000029   0.000029   0.000042   \n",
      "23     0.000035   0.000046   0.000033   0.000040   0.000043   0.000032   \n",
      "24     0.000037   0.000044   0.000030   0.000035   0.000033   0.000035   \n",
      "25     0.000039   0.000048   0.000034   0.000049   0.000044   0.000048   \n",
      "26     0.000031   0.000036   0.000027   0.000027   0.000039   0.000035   \n",
      "27     0.000041   0.000045   0.000034   0.000028   0.000032   0.000035   \n",
      "28     0.000030   0.000036   0.000045   0.000035   0.000049   0.000044   \n",
      "29     0.000030   0.000029   0.000036   0.000042   0.000036   0.000035   \n",
      "...         ...        ...        ...        ...        ...        ...   \n",
      "8730   0.000029   0.000030   0.000028   0.000042   0.000042   0.000042   \n",
      "8731   0.000042   0.000045   0.000032   0.000033   0.000032   0.000037   \n",
      "8732   0.000047   0.000036   0.000042   0.000041   0.000034   0.000035   \n",
      "8733   0.000029   0.000044   0.000040   0.000043   0.000028   0.000037   \n",
      "8734   0.000045   0.000027   0.000046   0.000038   0.000039   0.000038   \n",
      "8735   0.000043   0.000048   0.000049   0.000028   0.000039   0.000035   \n",
      "8736   0.000042   0.000046   0.000044   0.000030   0.000032   0.000043   \n",
      "8737   0.000038   0.000038   0.000045   0.000034   0.000032   0.000048   \n",
      "8738   0.000030   0.000049   0.000044   0.000048   0.000039   0.000033   \n",
      "8739   0.000040   0.000048   0.000046   0.000030   0.000035   0.000027   \n",
      "8740   0.000039   0.000035   0.000030   0.000044   0.000031   0.000036   \n",
      "8741   0.000033   0.000034   0.000031   0.000039   0.000050   0.000040   \n",
      "8742   0.000031   0.000049   0.000043   0.000028   0.000048   0.000042   \n",
      "8743   0.000038   0.000045   0.000043   0.000040   0.000042   0.000037   \n",
      "8744   0.000047   0.000042   0.000032   0.000032   0.000043   0.000027   \n",
      "8745   0.000038   0.000041   0.000047   0.000044   0.000040   0.000033   \n",
      "8746   0.000042   0.000027   0.000035   0.000047   0.000048   0.000034   \n",
      "8747   0.000042   0.000040   0.000029   0.000045   0.000036   0.000031   \n",
      "8748   0.000028   0.000032   0.000030   0.000044   0.000031   0.000047   \n",
      "8749   0.000040   0.000038   0.000041   0.000029   0.000029   0.000033   \n",
      "8750   0.000042   0.000048   0.000048   0.000028   0.000031   0.000044   \n",
      "8751   0.000048   0.000027   0.000040   0.000029   0.000030   0.000032   \n",
      "8752   0.000029   0.000036   0.000040   0.000045   0.000048   0.000029   \n",
      "8753   0.000045   0.000044   0.000044   0.000036   0.000049   0.000033   \n",
      "8754   0.000041   0.000033   0.000042   0.000045   0.000047   0.000028   \n",
      "8755   0.000034   0.000039   0.000028   0.000028   0.000046   0.000041   \n",
      "8756   0.000047   0.000046   0.000032   0.000031   0.000049   0.000041   \n",
      "8757   0.000035   0.000043   0.000048   0.000032   0.000031   0.000045   \n",
      "8758   0.000036   0.000047   0.000048   0.000037   0.000041   0.000031   \n",
      "8759   0.000044   0.000044   0.000043   0.000028   0.000039   0.000041   \n",
      "\n",
      "      cluster_7  cluster_6  \n",
      "0      0.000042   0.000039  \n",
      "1      0.000033   0.000046  \n",
      "2      0.000034   0.000030  \n",
      "3      0.000044   0.000042  \n",
      "4      0.000042   0.000038  \n",
      "5      0.000030   0.000036  \n",
      "6      0.000029   0.000032  \n",
      "7      0.000043   0.000028  \n",
      "8      0.000038   0.000035  \n",
      "9      0.000027   0.000049  \n",
      "10     0.000034   0.000030  \n",
      "11     0.000037   0.000045  \n",
      "12     0.000045   0.000031  \n",
      "13     0.000034   0.000038  \n",
      "14     0.000046   0.000046  \n",
      "15     0.000031   0.000035  \n",
      "16     0.000039   0.000035  \n",
      "17     0.000034   0.000036  \n",
      "18     0.000029   0.000044  \n",
      "19     0.000040   0.000039  \n",
      "20     0.000043   0.000033  \n",
      "21     0.000041   0.000049  \n",
      "22     0.000027   0.000031  \n",
      "23     0.000032   0.000029  \n",
      "24     0.000038   0.000039  \n",
      "25     0.000050   0.000045  \n",
      "26     0.000048   0.000045  \n",
      "27     0.000049   0.000034  \n",
      "28     0.000035   0.000041  \n",
      "29     0.000043   0.000041  \n",
      "...         ...        ...  \n",
      "8730   0.000039   0.000045  \n",
      "8731   0.000039   0.000030  \n",
      "8732   0.000036   0.000047  \n",
      "8733   0.000046   0.000044  \n",
      "8734   0.000039   0.000030  \n",
      "8735   0.000049   0.000030  \n",
      "8736   0.000027   0.000034  \n",
      "8737   0.000028   0.000041  \n",
      "8738   0.000046   0.000027  \n",
      "8739   0.000045   0.000043  \n",
      "8740   0.000049   0.000045  \n",
      "8741   0.000036   0.000028  \n",
      "8742   0.000037   0.000039  \n",
      "8743   0.000034   0.000029  \n",
      "8744   0.000031   0.000030  \n",
      "8745   0.000041   0.000038  \n",
      "8746   0.000032   0.000048  \n",
      "8747   0.000039   0.000048  \n",
      "8748   0.000028   0.000044  \n",
      "8749   0.000045   0.000034  \n",
      "8750   0.000043   0.000036  \n",
      "8751   0.000039   0.000029  \n",
      "8752   0.000048   0.000030  \n",
      "8753   0.000046   0.000046  \n",
      "8754   0.000040   0.000043  \n",
      "8755   0.000042   0.000048  \n",
      "8756   0.000037   0.000042  \n",
      "8757   0.000027   0.000045  \n",
      "8758   0.000049   0.000039  \n",
      "8759   0.000037   0.000041  \n",
      "\n",
      "[8760 rows x 8 columns]\n"
     ]
    }
   ],
   "source": [
    "esM.add(fn.Source(esM=esM, name='Natural gas purchase', commodity='methane',\n",
    "                  hasCapacityVariable=False, commodityCostTimeSeries=data['Natural Gas, commodityCostTimeSeries']))\n",
    "\n",
    "print(data['Natural Gas, commodityCostTimeSeries'])"
   ]
  },
  {
   "cell_type": "markdown",
   "metadata": {},
   "source": [
    "### Biogas"
   ]
  },
  {
   "cell_type": "code",
   "execution_count": 13,
   "metadata": {},
   "outputs": [
    {
     "name": "stdout",
     "output_type": "stream",
     "text": [
      "      cluster_0  cluster_3  cluster_1  cluster_4  cluster_2  cluster_5  \\\n",
      "0      0.000066   0.000073   0.000077   0.000071   0.000072   0.000071   \n",
      "1      0.000066   0.000051   0.000044   0.000051   0.000061   0.000066   \n",
      "2      0.000057   0.000062   0.000051   0.000068   0.000067   0.000070   \n",
      "3      0.000066   0.000052   0.000070   0.000077   0.000081   0.000047   \n",
      "4      0.000054   0.000068   0.000053   0.000079   0.000044   0.000068   \n",
      "5      0.000050   0.000078   0.000067   0.000066   0.000056   0.000047   \n",
      "6      0.000057   0.000067   0.000066   0.000046   0.000059   0.000066   \n",
      "7      0.000050   0.000071   0.000049   0.000080   0.000065   0.000049   \n",
      "8      0.000070   0.000072   0.000054   0.000062   0.000075   0.000044   \n",
      "9      0.000079   0.000046   0.000077   0.000051   0.000050   0.000067   \n",
      "10     0.000047   0.000052   0.000081   0.000063   0.000055   0.000062   \n",
      "11     0.000081   0.000056   0.000070   0.000070   0.000051   0.000071   \n",
      "12     0.000053   0.000044   0.000044   0.000065   0.000064   0.000057   \n",
      "13     0.000049   0.000057   0.000065   0.000057   0.000058   0.000073   \n",
      "14     0.000063   0.000051   0.000070   0.000069   0.000060   0.000055   \n",
      "15     0.000078   0.000073   0.000050   0.000044   0.000068   0.000053   \n",
      "16     0.000058   0.000064   0.000069   0.000072   0.000069   0.000058   \n",
      "17     0.000046   0.000052   0.000064   0.000058   0.000052   0.000063   \n",
      "18     0.000071   0.000056   0.000076   0.000079   0.000074   0.000054   \n",
      "19     0.000075   0.000048   0.000054   0.000076   0.000078   0.000074   \n",
      "20     0.000052   0.000072   0.000045   0.000056   0.000074   0.000065   \n",
      "21     0.000046   0.000066   0.000053   0.000052   0.000062   0.000071   \n",
      "22     0.000044   0.000076   0.000058   0.000073   0.000056   0.000051   \n",
      "23     0.000052   0.000052   0.000046   0.000065   0.000069   0.000076   \n",
      "24     0.000072   0.000043   0.000080   0.000059   0.000055   0.000056   \n",
      "25     0.000047   0.000067   0.000077   0.000043   0.000077   0.000050   \n",
      "26     0.000045   0.000063   0.000076   0.000051   0.000071   0.000047   \n",
      "27     0.000079   0.000050   0.000048   0.000080   0.000071   0.000069   \n",
      "28     0.000077   0.000069   0.000081   0.000058   0.000067   0.000078   \n",
      "29     0.000066   0.000046   0.000073   0.000051   0.000069   0.000049   \n",
      "...         ...        ...        ...        ...        ...        ...   \n",
      "8730   0.000070   0.000044   0.000069   0.000052   0.000060   0.000069   \n",
      "8731   0.000075   0.000069   0.000052   0.000051   0.000061   0.000080   \n",
      "8732   0.000078   0.000054   0.000080   0.000081   0.000063   0.000051   \n",
      "8733   0.000066   0.000070   0.000063   0.000065   0.000052   0.000056   \n",
      "8734   0.000080   0.000073   0.000063   0.000048   0.000053   0.000061   \n",
      "8735   0.000064   0.000078   0.000059   0.000075   0.000056   0.000074   \n",
      "8736   0.000071   0.000045   0.000080   0.000072   0.000072   0.000061   \n",
      "8737   0.000051   0.000047   0.000068   0.000059   0.000063   0.000056   \n",
      "8738   0.000065   0.000065   0.000066   0.000049   0.000080   0.000055   \n",
      "8739   0.000044   0.000047   0.000056   0.000045   0.000071   0.000045   \n",
      "8740   0.000044   0.000077   0.000057   0.000078   0.000047   0.000044   \n",
      "8741   0.000076   0.000059   0.000078   0.000069   0.000076   0.000066   \n",
      "8742   0.000047   0.000051   0.000080   0.000073   0.000071   0.000051   \n",
      "8743   0.000046   0.000046   0.000078   0.000078   0.000072   0.000077   \n",
      "8744   0.000066   0.000075   0.000079   0.000075   0.000077   0.000078   \n",
      "8745   0.000073   0.000047   0.000054   0.000053   0.000069   0.000063   \n",
      "8746   0.000079   0.000060   0.000047   0.000076   0.000076   0.000072   \n",
      "8747   0.000077   0.000061   0.000077   0.000045   0.000045   0.000072   \n",
      "8748   0.000045   0.000049   0.000047   0.000065   0.000045   0.000079   \n",
      "8749   0.000055   0.000051   0.000063   0.000064   0.000052   0.000063   \n",
      "8750   0.000051   0.000052   0.000048   0.000067   0.000074   0.000051   \n",
      "8751   0.000069   0.000059   0.000064   0.000066   0.000058   0.000067   \n",
      "8752   0.000064   0.000074   0.000046   0.000060   0.000051   0.000052   \n",
      "8753   0.000049   0.000046   0.000052   0.000045   0.000073   0.000060   \n",
      "8754   0.000052   0.000055   0.000077   0.000046   0.000052   0.000073   \n",
      "8755   0.000060   0.000049   0.000078   0.000045   0.000071   0.000067   \n",
      "8756   0.000056   0.000071   0.000069   0.000076   0.000052   0.000052   \n",
      "8757   0.000045   0.000058   0.000057   0.000081   0.000063   0.000069   \n",
      "8758   0.000079   0.000053   0.000045   0.000064   0.000045   0.000066   \n",
      "8759   0.000056   0.000048   0.000067   0.000064   0.000080   0.000075   \n",
      "\n",
      "      cluster_7  cluster_6  \n",
      "0      0.000077   0.000080  \n",
      "1      0.000055   0.000050  \n",
      "2      0.000059   0.000079  \n",
      "3      0.000043   0.000054  \n",
      "4      0.000080   0.000049  \n",
      "5      0.000057   0.000061  \n",
      "6      0.000048   0.000056  \n",
      "7      0.000064   0.000063  \n",
      "8      0.000056   0.000076  \n",
      "9      0.000068   0.000076  \n",
      "10     0.000071   0.000065  \n",
      "11     0.000051   0.000080  \n",
      "12     0.000053   0.000067  \n",
      "13     0.000059   0.000058  \n",
      "14     0.000066   0.000061  \n",
      "15     0.000077   0.000077  \n",
      "16     0.000081   0.000072  \n",
      "17     0.000071   0.000053  \n",
      "18     0.000061   0.000054  \n",
      "19     0.000049   0.000069  \n",
      "20     0.000053   0.000079  \n",
      "21     0.000047   0.000053  \n",
      "22     0.000072   0.000065  \n",
      "23     0.000079   0.000044  \n",
      "24     0.000052   0.000060  \n",
      "25     0.000077   0.000076  \n",
      "26     0.000069   0.000058  \n",
      "27     0.000064   0.000057  \n",
      "28     0.000070   0.000054  \n",
      "29     0.000051   0.000052  \n",
      "...         ...        ...  \n",
      "8730   0.000072   0.000066  \n",
      "8731   0.000068   0.000050  \n",
      "8732   0.000059   0.000073  \n",
      "8733   0.000045   0.000067  \n",
      "8734   0.000055   0.000076  \n",
      "8735   0.000048   0.000079  \n",
      "8736   0.000051   0.000078  \n",
      "8737   0.000077   0.000079  \n",
      "8738   0.000065   0.000043  \n",
      "8739   0.000053   0.000071  \n",
      "8740   0.000061   0.000057  \n",
      "8741   0.000058   0.000061  \n",
      "8742   0.000054   0.000049  \n",
      "8743   0.000048   0.000072  \n",
      "8744   0.000068   0.000059  \n",
      "8745   0.000078   0.000054  \n",
      "8746   0.000072   0.000057  \n",
      "8747   0.000075   0.000069  \n",
      "8748   0.000058   0.000072  \n",
      "8749   0.000068   0.000080  \n",
      "8750   0.000072   0.000075  \n",
      "8751   0.000063   0.000060  \n",
      "8752   0.000072   0.000063  \n",
      "8753   0.000051   0.000061  \n",
      "8754   0.000074   0.000057  \n",
      "8755   0.000078   0.000061  \n",
      "8756   0.000047   0.000075  \n",
      "8757   0.000062   0.000053  \n",
      "8758   0.000057   0.000080  \n",
      "8759   0.000071   0.000059  \n",
      "\n",
      "[8760 rows x 8 columns]\n"
     ]
    }
   ],
   "source": [
    "esM.add(fn.Source(esM=esM, name='Biogas purchase', commodity='biogas',\n",
    "                  operationRateMax=data['Biogas, operationRateMax'], hasCapacityVariable=False,\n",
    "                  commodityCostTimeSeries=data['Biogas, commodityCostTimeSeries']))\n",
    "\n",
    "print(data['Biogas, commodityCostTimeSeries'])"
   ]
  },
  {
   "cell_type": "markdown",
   "metadata": {},
   "source": [
    "## 3.3 CO2"
   ]
  },
  {
   "cell_type": "markdown",
   "metadata": {},
   "source": [
    "### CO2\n",
    "\n",
    "The CO2 source is required for the case in which it can be mixed with conventional natural gas."
   ]
  },
  {
   "cell_type": "code",
   "execution_count": 14,
   "metadata": {},
   "outputs": [],
   "source": [
    "esM.add(fn.Source(esM=esM, name='CO2 from enviroment', commodity='CO2',\n",
    "                  hasCapacityVariable=False, commodityLimitID='CO2 limit', yearlyLimit=366*(1-CO2_reductionTarget)))"
   ]
  },
  {
   "cell_type": "markdown",
   "metadata": {},
   "source": [
    "# 4. Add conversion components to the energy system model"
   ]
  },
  {
   "cell_type": "markdown",
   "metadata": {},
   "source": [
    "### Combined cycle gas turbine plants"
   ]
  },
  {
   "cell_type": "code",
   "execution_count": 15,
   "metadata": {},
   "outputs": [],
   "source": [
    "esM.add(fn.Conversion(esM=esM, name='CCGT plants (methane)', physicalUnit=r'GW$_{el}$',\n",
    "                      commodityConversionFactors={'electricity':1, 'methane':-1/0.625, 'CO2':201*1e-6/0.625},\n",
    "                      hasCapacityVariable=True,\n",
    "                      investPerCapacity=0.65, opexPerCapacity=0.021, interestRate=0.08,\n",
    "                      economicLifetime=33))"
   ]
  },
  {
   "cell_type": "markdown",
   "metadata": {},
   "source": [
    "### New combined cycle gas turbine plants for biogas"
   ]
  },
  {
   "cell_type": "code",
   "execution_count": 16,
   "metadata": {},
   "outputs": [],
   "source": [
    "esM.add(fn.Conversion(esM=esM, name='New CCGT plants (biogas)', physicalUnit=r'GW$_{el}$',\n",
    "                      commodityConversionFactors={'electricity':1, 'biogas':-1/0.635},\n",
    "                      hasCapacityVariable=True, \n",
    "                      investPerCapacity=0.7, opexPerCapacity=0.021, interestRate=0.08,\n",
    "                      economicLifetime=33))"
   ]
  },
  {
   "cell_type": "markdown",
   "metadata": {},
   "source": [
    "### New combined cycly gas turbines for hydrogen"
   ]
  },
  {
   "cell_type": "code",
   "execution_count": 17,
   "metadata": {},
   "outputs": [],
   "source": [
    "esM.add(fn.Conversion(esM=esM, name='New CCGT plants (hydrogen)', physicalUnit=r'GW$_{el}$',\n",
    "                      commodityConversionFactors={'electricity':1, 'hydrogen':-1/0.6},\n",
    "                      hasCapacityVariable=True, \n",
    "                      investPerCapacity=0.7, opexPerCapacity=0.021, interestRate=0.08,\n",
    "                      economicLifetime=33))"
   ]
  },
  {
   "cell_type": "markdown",
   "metadata": {},
   "source": [
    "### Electrolyzers"
   ]
  },
  {
   "cell_type": "code",
   "execution_count": 18,
   "metadata": {},
   "outputs": [],
   "source": [
    "esM.add(fn.Conversion(esM=esM, name='Electroylzers', physicalUnit=r'GW$_{el}$',\n",
    "                      commodityConversionFactors={'electricity':-1, 'hydrogen':0.7},\n",
    "                      hasCapacityVariable=True, \n",
    "                      investPerCapacity=0.5, opexPerCapacity=0.5*0.025, interestRate=0.08,\n",
    "                      economicLifetime=10))"
   ]
  },
  {
   "cell_type": "markdown",
   "metadata": {},
   "source": [
    "### rSOC"
   ]
  },
  {
   "cell_type": "code",
   "execution_count": 19,
   "metadata": {},
   "outputs": [],
   "source": [
    "capexRSOC=1.5\n",
    "\n",
    "esM.add(fn.Conversion(esM=esM, name='rSOEC', physicalUnit=r'GW$_{el}$', linkedConversionCapacityID='rSOC',\n",
    "                      commodityConversionFactors={'electricity':-1, 'hydrogen':0.6},\n",
    "                      hasCapacityVariable=True, \n",
    "                      investPerCapacity=capexRSOC/2, opexPerCapacity=capexRSOC*0.02/2, interestRate=0.08,\n",
    "                      economicLifetime=10))\n",
    "\n",
    "esM.add(fn.Conversion(esM=esM, name='rSOFC', physicalUnit=r'GW$_{el}$', linkedConversionCapacityID='rSOC',\n",
    "                      commodityConversionFactors={'electricity':1, 'hydrogen':-1/0.6},\n",
    "                      hasCapacityVariable=True, \n",
    "                      investPerCapacity=capexRSOC/2, opexPerCapacity=capexRSOC*0.02/2, interestRate=0.08,\n",
    "                      economicLifetime=10))"
   ]
  },
  {
   "cell_type": "markdown",
   "metadata": {},
   "source": [
    "# 5. Add commodity storages to the energy system model"
   ]
  },
  {
   "cell_type": "markdown",
   "metadata": {},
   "source": [
    "## 5.1. Electricity storage"
   ]
  },
  {
   "cell_type": "markdown",
   "metadata": {},
   "source": [
    "### Lithium ion batteries\n",
    "\n",
    "The self discharge of a lithium ion battery is here described as 3% per month. The self discharge per hours is obtained using the equation (1-$\\text{selfDischarge}_\\text{hour})^{30*24\\text{h}} = 1-\\text{selfDischarge}_\\text{month}$."
   ]
  },
  {
   "cell_type": "code",
   "execution_count": 20,
   "metadata": {},
   "outputs": [],
   "source": [
    "esM.add(fn.Storage(esM=esM, name='Li-ion batteries', commodity='electricity',\n",
    "                   hasCapacityVariable=True, chargeEfficiency=0.95,\n",
    "                   cyclicLifetime=10000, dischargeEfficiency=0.95, selfDischarge=1-(1-0.03)**(1/(30*24)),\n",
    "                   chargeRate=1, dischargeRate=1, doPreciseTsaModeling=False,\n",
    "                   investPerCapacity=0.151, opexPerCapacity=0.002, interestRate=0.08,\n",
    "                   economicLifetime=22))"
   ]
  },
  {
   "cell_type": "markdown",
   "metadata": {},
   "source": [
    "## 5.2. Hydrogen storage"
   ]
  },
  {
   "cell_type": "markdown",
   "metadata": {},
   "source": [
    "### Hydrogen filled salt caverns\n",
    "The maximum capacity is here obtained by: dividing the given capacity (which is given for methane) by the lower heating value of methane and then multiplying it with the lower heating value of hydrogen."
   ]
  },
  {
   "cell_type": "code",
   "execution_count": 21,
   "metadata": {},
   "outputs": [],
   "source": [
    "esM.add(fn.Storage(esM=esM, name='Salt caverns (hydrogen)', commodity='hydrogen',\n",
    "                   hasCapacityVariable=True, capacityVariableDomain='continuous',\n",
    "                   capacityPerPlantUnit=133,\n",
    "                   chargeRate=1/470.37, dischargeRate=1/470.37, sharedPotentialID='Existing salt caverns',\n",
    "                   stateOfChargeMin=0.33, stateOfChargeMax=1, capacityMax=data['Salt caverns (hydrogen), capacityMax'],\n",
    "                   investPerCapacity=0.00011, opexPerCapacity=0.00057, interestRate=0.08,\n",
    "                   economicLifetime=30))"
   ]
  },
  {
   "cell_type": "markdown",
   "metadata": {},
   "source": [
    "## 5.3. Methane storage"
   ]
  },
  {
   "cell_type": "markdown",
   "metadata": {},
   "source": [
    "### Methane filled salt caverns"
   ]
  },
  {
   "cell_type": "code",
   "execution_count": 22,
   "metadata": {},
   "outputs": [],
   "source": [
    "esM.add(fn.Storage(esM=esM, name='Salt caverns (biogas)', commodity='biogas',\n",
    "                   hasCapacityVariable=True, capacityVariableDomain='continuous',\n",
    "                   capacityPerPlantUnit=443,\n",
    "                   chargeRate=1/470.37, dischargeRate=1/470.37, sharedPotentialID='Existing salt caverns',\n",
    "                   stateOfChargeMin=0.33, stateOfChargeMax=1, capacityMax=data['Salt caverns (methane), capacityMax'],\n",
    "                   investPerCapacity=0.00004, opexPerCapacity=0.00001, interestRate=0.08,\n",
    "                   economicLifetime=30))"
   ]
  },
  {
   "cell_type": "markdown",
   "metadata": {},
   "source": [
    "## 5.4 Pumped hydro storage"
   ]
  },
  {
   "cell_type": "markdown",
   "metadata": {},
   "source": [
    "### Pumped hydro storage"
   ]
  },
  {
   "cell_type": "code",
   "execution_count": 23,
   "metadata": {},
   "outputs": [],
   "source": [
    "esM.add(fn.Storage(esM=esM, name='Pumped hydro storage', commodity='electricity',\n",
    "                   chargeEfficiency=0.88, dischargeEfficiency=0.88,\n",
    "                   hasCapacityVariable=True, selfDischarge=1-(1-0.00375)**(1/(30*24)),\n",
    "                   chargeRate=0.16, dischargeRate=0.12, capacityFix=data['Pumped hydro storage, capacityFix'],\n",
    "                   investPerCapacity=0, opexPerCapacity=0.000153))"
   ]
  },
  {
   "cell_type": "markdown",
   "metadata": {},
   "source": [
    "# 6. Add commodity transmission components to the energy system model"
   ]
  },
  {
   "cell_type": "markdown",
   "metadata": {},
   "source": [
    "## 6.1. Electricity transmission"
   ]
  },
  {
   "cell_type": "markdown",
   "metadata": {},
   "source": [
    "### AC cables"
   ]
  },
  {
   "cell_type": "code",
   "execution_count": 24,
   "metadata": {},
   "outputs": [
    {
     "name": "stdout",
     "output_type": "stream",
     "text": [
      "The distances of a component are set to a normalized value of 1.\n"
     ]
    }
   ],
   "source": [
    "esM.add(fn.LinearOptimalPowerFlow(esM=esM, name='AC cables', commodity='electricity',\n",
    "                                  hasCapacityVariable=True, capacityFix=data['AC cables, capacityFix'],\n",
    "                                  reactances=data['AC cables, reactances']))"
   ]
  },
  {
   "cell_type": "markdown",
   "metadata": {},
   "source": [
    "esM.add(fn.Transmission(esM=esM, name='AC cables', commodity='electricity',\n",
    "                                  hasCapacityVariable=True, capacityFix=data['AC cables, capacityFix']))"
   ]
  },
  {
   "cell_type": "markdown",
   "metadata": {},
   "source": [
    "### DC cables"
   ]
  },
  {
   "cell_type": "code",
   "execution_count": 25,
   "metadata": {},
   "outputs": [],
   "source": [
    "esM.add(fn.Transmission(esM=esM, name='DC cables', commodity='electricity', losses=data['DC cables, losses'],\n",
    "                        distances=data['DC cables, distances'],\n",
    "                        hasCapacityVariable=True, capacityFix=data['DC cables, capacityFix']))"
   ]
  },
  {
   "cell_type": "markdown",
   "metadata": {},
   "source": [
    "## 6.2 Methane transmission"
   ]
  },
  {
   "cell_type": "markdown",
   "metadata": {},
   "source": [
    "### Methane pipeline"
   ]
  },
  {
   "cell_type": "code",
   "execution_count": 26,
   "metadata": {
    "scrolled": true
   },
   "outputs": [
    {
     "name": "stderr",
     "output_type": "stream",
     "text": [
      "c:\\users\\l.kotzur\\sciebo\\fzj\\04_public\\fine\\FINE\\utils.py:430: UserWarning: A declaration of bigM is not necessary if hasIsBuiltBinaryVariable is set to false. The value of bigM will be ignored in the optimization.\n",
      "  warnings.warn('A declaration of bigM is not necessary if hasIsBuiltBinaryVariable is set to false. '\n"
     ]
    }
   ],
   "source": [
    "esM.add(fn.Transmission(esM=esM, name='Pipelines (biogas)', commodity='biogas', \n",
    "                        distances=data['Pipelines, distances'],\n",
    "                        hasCapacityVariable=True, hasIsBuiltBinaryVariable=False, bigM=300,\n",
    "                        locationalEligibility=data['Pipelines, eligibility'],\n",
    "                        capacityMax=data['Pipelines, eligibility']*15, sharedPotentialID='pipelines',\n",
    "                        investPerCapacity=0.000037, investIfBuilt=0.000314,\n",
    "                        interestRate=0.08, economicLifetime=40))"
   ]
  },
  {
   "cell_type": "markdown",
   "metadata": {},
   "source": [
    "esM.getComponent('Pipelines (methane)')._mapC['cluster_0_cluster_4'][1]"
   ]
  },
  {
   "cell_type": "markdown",
   "metadata": {},
   "source": [
    "## 6.3 Hydrogen transmission"
   ]
  },
  {
   "cell_type": "markdown",
   "metadata": {},
   "source": [
    "### Hydrogen pipelines"
   ]
  },
  {
   "cell_type": "code",
   "execution_count": 27,
   "metadata": {
    "scrolled": true
   },
   "outputs": [],
   "source": [
    "esM.add(fn.Transmission(esM=esM, name='Pipelines (hydrogen)', commodity='hydrogen',\n",
    "                        distances=data['Pipelines, distances'],\n",
    "                        hasCapacityVariable=True, hasIsBuiltBinaryVariable=False, bigM=300,\n",
    "                        locationalEligibility=data['Pipelines, eligibility'],\n",
    "                        capacityMax=data['Pipelines, eligibility']*15, sharedPotentialID='pipelines',\n",
    "                        investPerCapacity=0.000177, investIfBuilt=0.00033,\n",
    "                        interestRate=0.08, economicLifetime=40))"
   ]
  },
  {
   "cell_type": "markdown",
   "metadata": {},
   "source": [
    "esM.getComponent('Pipeline (hydrogen)')._mapC"
   ]
  },
  {
   "cell_type": "markdown",
   "metadata": {},
   "source": [
    "# 7. Add commodity sinks to the energy system model"
   ]
  },
  {
   "cell_type": "markdown",
   "metadata": {},
   "source": [
    "## 7.1. Electricity sinks"
   ]
  },
  {
   "cell_type": "markdown",
   "metadata": {},
   "source": [
    "### Electricity demand"
   ]
  },
  {
   "cell_type": "code",
   "execution_count": 28,
   "metadata": {},
   "outputs": [],
   "source": [
    "esM.add(fn.Sink(esM=esM, name='Electricity demand', commodity='electricity',\n",
    "                hasCapacityVariable=False, operationRateFix=data['Electricity demand, operationRateFix']))"
   ]
  },
  {
   "cell_type": "markdown",
   "metadata": {},
   "source": [
    "## 7.2. Hydrogen sinks"
   ]
  },
  {
   "cell_type": "markdown",
   "metadata": {},
   "source": [
    "### Fuel cell electric vehicle (FCEV) demand"
   ]
  },
  {
   "cell_type": "code",
   "execution_count": 29,
   "metadata": {},
   "outputs": [],
   "source": [
    "FCEV_penetration=0.5\n",
    "esM.add(fn.Sink(esM=esM, name='Hydrogen demand', commodity='hydrogen', hasCapacityVariable=False,\n",
    "                operationRateFix=data['Hydrogen demand, operationRateFix']*FCEV_penetration))"
   ]
  },
  {
   "cell_type": "markdown",
   "metadata": {},
   "source": [
    "## 7.3. CO2 sinks"
   ]
  },
  {
   "cell_type": "markdown",
   "metadata": {},
   "source": [
    "### CO2 exiting the system's boundary"
   ]
  },
  {
   "cell_type": "code",
   "execution_count": 30,
   "metadata": {},
   "outputs": [],
   "source": [
    "esM.add(fn.Sink(esM=esM, name='CO2 to enviroment', commodity='CO2',\n",
    "                hasCapacityVariable=False, commodityLimitID='CO2 limit', yearlyLimit=366*(1-CO2_reductionTarget)))"
   ]
  },
  {
   "cell_type": "markdown",
   "metadata": {},
   "source": [
    "# 8. Optimize energy system model"
   ]
  },
  {
   "cell_type": "markdown",
   "metadata": {},
   "source": [
    "All components are now added to the model and the model can be optimized. If the computational complexity of the optimization should be reduced, the time series data of the specified components can be clustered before the optimization and the parameter timeSeriesAggregation is set to True in the optimize call."
   ]
  },
  {
   "cell_type": "code",
   "execution_count": 31,
   "metadata": {},
   "outputs": [
    {
     "name": "stdout",
     "output_type": "stream",
     "text": [
      "\n",
      "Clustering time series data with 3 typical periods and 24 time steps per period...\n",
      "\t\t(6.1073 sec)\n",
      "\n"
     ]
    }
   ],
   "source": [
    "esM.cluster(numberOfTypicalPeriods=3)"
   ]
  },
  {
   "cell_type": "code",
   "execution_count": 32,
   "metadata": {
    "scrolled": true
   },
   "outputs": [
    {
     "name": "stdout",
     "output_type": "stream",
     "text": [
      "Time series aggregation specifications:\n",
      "Number of typical periods:3, number of time steps per periods:24\n",
      "\n",
      "Declaring sets, variables and constraints for SourceSinkModel\n",
      "\tdeclaring sets... \n",
      "\tdeclaring variables... \n",
      "\tdeclaring constraints... \n",
      "\t\t(0.2102 sec)\n",
      "\n",
      "Declaring sets, variables and constraints for ConversionModel\n",
      "\tdeclaring sets... \n",
      "\tdeclaring variables... \n",
      "\tdeclaring constraints... \n",
      "\t\t(0.0698 sec)\n",
      "\n",
      "Declaring sets, variables and constraints for StorageModel\n",
      "\tdeclaring sets... \n",
      "\tdeclaring variables... \n",
      "\tdeclaring constraints... \n",
      "\t\t(1.5841 sec)\n",
      "\n",
      "Declaring sets, variables and constraints for LOPFModel\n",
      "\tdeclaring sets... \n",
      "\tdeclaring variables... \n",
      "\tdeclaring constraints... \n",
      "\t\t(0.1460 sec)\n",
      "\n",
      "Declaring sets, variables and constraints for TransmissionModel\n",
      "\tdeclaring sets... \n",
      "\tdeclaring variables... \n",
      "\tdeclaring constraints... \n",
      "\t\t(0.1498 sec)\n",
      "\n",
      "Declaring shared potential constraint...\n",
      "\t\t(0.0000 sec)\n",
      "\n",
      "Declaring commodity balances...\n",
      "\t\t(0.3502 sec)\n",
      "\n",
      "Declaring objective function...\n",
      "Natural gas purchase\n",
      "3.798900142448809e-05\n",
      "Biogas purchase\n",
      "6.17407107028958e-05\n",
      "Natural gas purchase\n",
      "3.8482291744986915e-05\n",
      "Biogas purchase\n",
      "6.326251160758426e-05\n",
      "Natural gas purchase\n",
      "3.800749021371403e-05\n",
      "Biogas purchase\n",
      "6.208031642681875e-05\n",
      "Natural gas purchase\n",
      "3.841793709258257e-05\n",
      "Biogas purchase\n",
      "6.22011184765757e-05\n",
      "Natural gas purchase\n",
      "3.819542315302232e-05\n",
      "Biogas purchase\n",
      "6.283744971177575e-05\n",
      "Natural gas purchase\n",
      "3.848736022391836e-05\n",
      "Biogas purchase\n",
      "6.398155848182477e-05\n",
      "Natural gas purchase\n",
      "3.7951122987523455e-05\n",
      "Biogas purchase\n",
      "6.15501291614033e-05\n",
      "Natural gas purchase\n",
      "3.819058813270782e-05\n",
      "Biogas purchase\n",
      "6.122651632231498e-05\n",
      "\t\t(0.3000 sec)\n",
      "\n",
      "Academic license - for non-commercial use only\n",
      "Read LP format model from file C:\\Users\\l.kotzur\\sciebo\\FZJ\\04_Public\\FINE\\examples\\Multi-regional Energy System Workflow\\tmpfdshixeu.pyomo.lp\n",
      "Reading time = 0.28 seconds\n",
      "x28996: 53203 rows, 28996 columns, 159574 nonzeros\n",
      "Changed value of parameter QCPDual to 1\n",
      "   Prev: 0  Min: 0  Max: 1  Default: 0\n",
      "Changed value of parameter logfile to \n",
      "   Prev: gurobi.log  Default: \n",
      "Changed value of parameter Threads to 3\n",
      "   Prev: 0  Min: 0  Max: 1024  Default: 0\n",
      "Changed value of parameter method to 2\n",
      "   Prev: -1  Min: -1  Max: 5  Default: -1\n",
      "Changed value of parameter OptimalityTol to 0.001\n",
      "   Prev: 1e-06  Min: 1e-09  Max: 0.01  Default: 1e-06\n",
      "Changed value of parameter cuts to 0\n",
      "   Prev: -1  Min: -1  Max: 3  Default: -1\n",
      "Optimize a model with 53203 rows, 28996 columns and 159574 nonzeros\n",
      "Coefficient statistics:\n",
      "  Matrix range     [1e-06, 5e+02]\n",
      "  Objective range  [2e-06, 3e-01]\n",
      "  Bounds range     [2e+01, 6e+04]\n",
      "  RHS range        [4e-02, 2e+01]\n",
      "Presolve removed 18931 rows and 14483 columns\n",
      "Presolve time: 0.12s\n",
      "Presolved: 34272 rows, 14513 columns, 139519 nonzeros\n",
      "\n",
      "Ordering time: 0.00s\n",
      "\n",
      "Barrier statistics:\n",
      " Dense cols : 201\n",
      " Free vars  : 240\n",
      " AA' NZ     : 5.247e+05\n",
      " Factor NZ  : 1.895e+06 (roughly 35 MBytes of memory)\n",
      " Factor Ops : 4.217e+08 (less than 1 second per iteration)\n",
      " Threads    : 3\n",
      "\n",
      "                  Objective                Residual\n",
      "Iter       Primal          Dual         Primal    Dual     Compl     Time\n",
      "   0   1.74908094e+06 -2.45016729e+02  5.60e+06 3.15e-02  1.95e+04     1s\n",
      "   1   1.75119739e+06 -1.26308450e+06  5.58e+06 1.97e+02  1.95e+04     1s\n",
      "   2   1.75126726e+06 -3.44781441e+05  5.58e+06 2.14e+02  1.95e+04     1s\n",
      "   3   1.77482497e+06  2.98278880e+05  5.39e+06 5.62e+02  1.86e+04     1s\n",
      "   4   1.77590618e+06  1.36613490e+06  5.38e+06 5.61e+02  1.85e+04     1s\n",
      "   5   1.87854803e+06  3.49448572e+06  4.54e+06 4.97e+02  1.58e+04     1s\n",
      "   6   1.80968870e+06  2.86340324e+06  4.05e+06 4.84e+02  1.43e+04     1s\n",
      "   7   1.80171737e+06  2.83283020e+06  4.00e+06 4.61e+02  1.41e+04     1s\n",
      "   8   1.76137148e+06  2.46255340e+06  3.68e+06 7.22e+02  1.31e+04     1s\n",
      "   9   1.72271482e+06  3.51439975e+06  3.44e+06 7.16e+02  1.22e+04     1s\n",
      "  10   1.63144578e+06  3.25590229e+06  2.97e+06 6.79e+02  1.08e+04     1s\n",
      "  11   1.46917438e+06  3.08206024e+06  2.41e+06 6.12e+02  9.09e+03     1s\n",
      "  12   1.42971015e+06  3.02999407e+06  2.25e+06 6.03e+02  8.62e+03     2s\n",
      "  13   1.42376233e+06  2.84347605e+06  2.23e+06 5.68e+02  8.53e+03     2s\n",
      "  14   1.27448677e+06  1.37079096e+06  1.76e+06 5.63e+02  6.63e+03     2s\n",
      "  15   1.25977724e+06  1.55468809e+06  1.72e+06 5.46e+02  6.27e+03     2s\n",
      "  16   1.25804213e+06  1.52271970e+06  1.71e+06 5.44e+02  6.23e+03     2s\n",
      "  17   1.23065616e+06  1.53060966e+06  1.63e+06 5.39e+02  5.98e+03     2s\n",
      "  18   1.18034419e+06  1.38682669e+06  1.47e+06 5.10e+02  5.46e+03     2s\n",
      "  19   1.13907689e+06  1.10207849e+06  1.36e+06 5.05e+02  5.12e+03     2s\n",
      "  20   1.07801175e+06  1.05470187e+06  1.18e+06 4.79e+02  4.58e+03     2s\n",
      "  21   1.05372475e+06  9.81297830e+05  1.12e+06 4.98e+02  4.33e+03     2s\n",
      "  22   1.04408915e+06  9.41265043e+05  1.09e+06 4.87e+02  4.23e+03     2s\n",
      "  23   9.71567799e+05 -1.10287591e+05  8.96e+05 5.27e+02  3.40e+03     2s\n",
      "  24   8.69068922e+05 -1.35929314e+05  6.39e+05 3.95e+02  2.59e+03     2s\n",
      "  25   7.45706914e+05  1.17983264e+06  3.61e+05 1.51e+03  1.40e+03     2s\n",
      "  26   6.65420747e+05  5.91644586e+05  2.40e+05 1.25e+03  1.00e+03     2s\n",
      "  27   6.44864254e+05  3.26838665e+05  2.16e+05 8.30e+02  9.14e+02     2s\n",
      "  28   5.04461484e+05 -2.48924258e+06  9.43e+04 1.04e+03  4.17e+02     2s\n",
      "  29   4.81400281e+05 -2.02567605e+06  8.48e+04 9.58e+02  3.88e+02     2s\n",
      "  30   1.59376680e+05 -6.63882771e+05  3.26e+03 4.47e+02  9.22e+01     2s\n",
      "  31   6.59449161e+04 -5.92561765e+05  7.92e+02 3.42e+02  3.16e+01     2s\n",
      "  32   4.02068859e+04 -1.53070184e+05  3.36e+02 1.67e+02  1.35e+01     2s\n",
      "  33   1.87657624e+04 -9.71837570e+04  5.39e+01 2.34e+01  3.12e+00     2s\n",
      "  34   6.63865896e+03 -4.35730952e+04  7.51e+00 3.15e+01  9.33e-01     2s\n",
      "  35   1.60598943e+03 -1.45569907e+04  8.11e-01 1.09e+01  2.45e-01     2s\n",
      "  36   3.55515910e+02 -1.17283902e+03  5.96e-02 7.72e-01  2.45e-02     2s\n",
      "  37   2.40408881e+02 -6.73331619e+02  2.84e-02 4.47e-01  1.47e-02     3s\n",
      "  38   2.02503654e+02 -5.62396445e+02  2.32e-02 3.74e-01  1.23e-02     3s\n",
      "  39   1.23036372e+02 -1.66056071e+02  7.99e-03 1.31e-01  4.76e-03     3s\n",
      "  40   9.86751847e+01 -4.07045622e+01  4.17e-03 5.75e-02  2.35e-03     3s\n",
      "  41   8.29663841e+01  2.23156974e+01  2.02e-03 2.22e-02  1.05e-03     3s\n",
      "  42   7.58813288e+01  3.84772449e+01  1.27e-03 1.32e-02  6.47e-04     3s\n",
      "  43   6.97839671e+01  4.83124899e+01  6.61e-04 7.97e-03  3.76e-04     3s\n",
      "  44   6.79365083e+01  4.95214465e+01  5.05e-04 5.71e-03  3.29e-04     3s\n",
      "  45   6.71169495e+01  5.10074068e+01  4.25e-04 5.06e-03  2.86e-04     3s\n",
      "  46   6.59481672e+01  5.28586786e+01  3.22e-04 4.18e-03  2.32e-04     3s\n",
      "  47   6.51561799e+01  5.32149870e+01  2.56e-04 3.98e-03  2.09e-04     3s\n",
      "  48   6.48052985e+01  5.58492599e+01  2.24e-04 2.76e-03  1.58e-04     3s\n",
      "  49   6.40459545e+01  5.61841493e+01  1.64e-04 2.57e-03  1.37e-04     3s\n",
      "  50   6.38119025e+01  5.70255296e+01  1.39e-04 2.19e-03  1.18e-04     3s\n",
      "  51   6.31158557e+01  5.75643376e+01  8.67e-05 1.93e-03  9.50e-05     3s\n",
      "  52   6.27716115e+01  5.96121035e+01  6.34e-05 9.74e-04  5.47e-05     3s\n",
      "  53   6.24719735e+01  5.99261772e+01  4.47e-05 8.23e-04  4.35e-05     3s\n",
      "  54   6.23012242e+01  6.04746340e+01  3.35e-05 5.76e-04  3.20e-05     3s\n",
      "  55   6.21215347e+01  6.06560305e+01  2.27e-05 4.92e-04  2.52e-05     3s\n",
      "  56   6.20199247e+01  6.09088751e+01  1.63e-05 3.77e-04  1.90e-05     3s\n",
      "  57   6.19524369e+01  6.12988706e+01  1.09e-05 2.07e-04  1.12e-05     3s\n",
      "  58   6.19298061e+01  6.13595969e+01  8.88e-06 1.81e-04  9.68e-06     3s\n",
      "  59   6.18993423e+01  6.15242431e+01  6.44e-06 1.18e-04  6.41e-06     3s\n",
      "  60   6.18775709e+01  6.16428438e+01  4.10e-06 7.16e-05  4.04e-06     3s\n",
      "  61   6.18624811e+01  6.17419669e+01  2.62e-06 3.40e-05  2.12e-06     4s\n",
      "  62   6.18506546e+01  6.17746186e+01  1.51e-06 2.16e-05  1.34e-06     4s\n",
      "  63   6.18453732e+01  6.18010287e+01  1.05e-06 1.18e-05  8.00e-07     4s\n",
      "  64   6.18394758e+01  6.18157598e+01  5.21e-07 6.12e-06  4.27e-07     4s\n",
      "  65   6.18368590e+01  6.18195661e+01  2.86e-07 4.76e-06  3.07e-07     4s\n",
      "  66   6.18363235e+01  6.18240514e+01  2.44e-07 3.33e-06  2.30e-07     4s\n",
      "  67   6.18357574e+01  6.18270646e+01  1.98e-07 2.23e-06  1.65e-07     4s\n",
      "  68   6.18350509e+01  6.18289081e+01  1.44e-07 1.55e-06  1.15e-07     4s\n",
      "  69   6.18342119e+01  6.18302136e+01  7.40e-08 1.11e-06  7.51e-08     4s\n",
      "  70   6.18339238e+01  6.18311315e+01  5.14e-08 7.59e-07  5.23e-08     4s\n"
     ]
    },
    {
     "name": "stdout",
     "output_type": "stream",
     "text": [
      "  71   6.18336291e+01  6.18326196e+01  2.83e-08 2.79e-07  2.32e-08     4s\n",
      "  72   6.18334307e+01  6.18328236e+01  1.45e-08 2.02e-07  1.33e-08     4s\n",
      "  73   6.18332869e+01  6.18330224e+01  3.76e-09 1.39e-07  6.23e-09     4s\n",
      "  74   6.18332704e+01  6.18330717e+01  2.74e-09 1.01e-07  4.45e-09     4s\n",
      "  75   6.18332608e+01  6.18331245e+01  2.08e-09 6.97e-08  3.20e-09     4s\n",
      "  76   6.18332512e+01  6.18331459e+01  1.89e-09 6.23e-08  2.73e-09     4s\n",
      "  77   6.18332435e+01  6.18331788e+01  4.40e-09 4.40e-08  1.72e-09     4s\n",
      "  78   6.18332353e+01  6.18333849e+01  9.80e-09 3.65e-08  1.09e-09     4s\n",
      "  79   6.18332296e+01  6.18333103e+01  5.31e-09 5.31e-08  2.26e-10     5s\n",
      "  80   6.18332289e+01  6.18338872e+01  1.07e-08 8.80e-08  1.86e-10     5s\n",
      "  81   6.18332253e+01  6.18334194e+01  5.00e-09 2.83e-08  7.41e-11     5s\n",
      "  82   6.18332239e+01  6.18333740e+01  3.13e-09 1.87e-08  4.93e-11     5s\n",
      "  83   6.18332209e+01  6.18333216e+01  2.94e-09 2.14e-08  3.65e-12     5s\n",
      "\n",
      "Barrier solved model in 83 iterations and 4.81 seconds\n",
      "Optimal objective 6.18332209e+01\n",
      "\n",
      "Crossover log...\n",
      "\n",
      "       0 DPushes remaining with DInf 1.3520587e+01                 5s\n",
      "\n",
      "    4812 PPushes remaining with PInf 4.8785496e-03                 5s\n",
      "    2210 PPushes remaining with PInf 2.4371734e-03                 5s\n",
      "       0 PPushes remaining with PInf 1.0029887e-01                 5s\n",
      "\n",
      "  Push phase complete: Pinf 1.0029887e-01, Dinf 1.3614428e+00      5s\n",
      "\n",
      "Iteration    Objective       Primal Inf.    Dual Inf.      Time\n",
      "    5290    6.1833260e+01   0.000000e+00   1.105483e+00      5s\n",
      "Extra 5 simplex iterations after uncrush\n",
      "    5347    6.1833230e+01   0.000000e+00   0.000000e+00      5s\n",
      "\n",
      "Solved in 5347 iterations and 5.43 seconds\n",
      "Optimal objective  6.183322965e+01\n",
      "\n",
      "Status: ok\n",
      "Return code: 0\n",
      "Message: Model was solved to optimality (subject to tolerances), and an optimal solution is available.\n",
      "Termination condition: optimal\n",
      "Termination message: Model was solved to optimality (subject to tolerances), and an optimal solution is available.\n",
      "Wall time: 5.4262752533\n",
      "Error rc: 0\n",
      "Time: 6.283091306686401\n",
      "\n",
      "\n",
      "Name: x28996\n",
      "Lower bound: 61.8332296478\n",
      "Upper bound: 61.8332296478\n",
      "Number of objectives: 1\n",
      "Number of constraints: 53203\n",
      "Number of variables: 28996\n",
      "Number of binary variables: 0\n",
      "Number of integer variables: 0\n",
      "Number of continuous variables: 28996\n",
      "Number of nonzeros: 159574\n",
      "Sense: minimize\n",
      "\n",
      "Solve time: 9.420942306518555 sec.\n",
      "\n",
      "Processing optimization output...\n",
      "for SourceSinkModel ...    (0.7108sec)\n",
      "for ConversionModel ...    (0.5532sec)\n",
      "for StorageModel ...       (2.2091sec)\n",
      "for LOPFModel ...          (1.6559sec)\n",
      "for TransmissionModel ...  (1.1917sec)\n",
      "\t\t(6.3207 sec)\n",
      "\n"
     ]
    }
   ],
   "source": [
    "esM.optimize(timeSeriesAggregation=True, optimizationSpecs='OptimalityTol=1e-3 cuts=0 method=2')"
   ]
  },
  {
   "cell_type": "code",
   "execution_count": 33,
   "metadata": {},
   "outputs": [
    {
     "data": {
      "text/plain": [
       "{'SourceSinkModel': <FINE.sourceSink.SourceSinkModel at 0x1fb355400f0>,\n",
       " 'ConversionModel': <FINE.conversion.ConversionModel at 0x1fb34fd3278>,\n",
       " 'StorageModel': <FINE.storage.StorageModel at 0x1fb3500b518>,\n",
       " 'LOPFModel': <FINE.subclasses.lopf.LOPFModel at 0x1fb355d7c18>,\n",
       " 'TransmissionModel': <FINE.transmission.TransmissionModel at 0x1fb356089e8>}"
      ]
     },
     "execution_count": 33,
     "metadata": {},
     "output_type": "execute_result"
    }
   ],
   "source": [
    "esM.componentModelingDict"
   ]
  },
  {
   "cell_type": "code",
   "execution_count": 34,
   "metadata": {},
   "outputs": [],
   "source": [
    "esM.componentModelingDict[\"SourceSinkModel\"].operationVariablesOptimum.xs('Biogas purchase').sum(axis=1).to_csv('totalBiogasPurchase.csv')"
   ]
  }
 ],
 "metadata": {
  "anaconda-cloud": {},
  "kernelspec": {
   "display_name": "Python 3",
   "language": "python",
   "name": "python3"
  },
  "language_info": {
   "codemirror_mode": {
    "name": "ipython",
    "version": 3
   },
   "file_extension": ".py",
   "mimetype": "text/x-python",
   "name": "python",
   "nbconvert_exporter": "python",
   "pygments_lexer": "ipython3",
   "version": "3.6.7"
  }
 },
 "nbformat": 4,
 "nbformat_minor": 1
}
